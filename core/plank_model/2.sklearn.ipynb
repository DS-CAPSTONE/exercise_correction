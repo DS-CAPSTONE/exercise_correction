{
 "cells": [
  {
   "cell_type": "code",
   "metadata": {
    "ExecuteTime": {
     "end_time": "2024-09-12T04:07:32.119062Z",
     "start_time": "2024-09-12T04:07:31.778330Z"
    }
   },
   "source": [
    "import mediapipe as mp\n",
    "import cv2\n",
    "import pandas as pd\n",
    "import pickle\n",
    "\n",
    "from sklearn.model_selection import train_test_split\n",
    "from sklearn.preprocessing import StandardScaler\n",
    "from sklearn.calibration import CalibratedClassifierCV\n",
    "from sklearn.linear_model import LogisticRegression, SGDClassifier\n",
    "from sklearn.svm import SVC\n",
    "from sklearn.neighbors import KNeighborsClassifier\n",
    "from sklearn.tree import DecisionTreeClassifier\n",
    "from sklearn.ensemble import RandomForestClassifier\n",
    "from sklearn.naive_bayes import GaussianNB\n",
    "\n",
    "from sklearn.metrics import precision_score, accuracy_score, f1_score, recall_score, confusion_matrix\n",
    "\n",
    "import warnings\n",
    "warnings.filterwarnings('ignore')\n",
    "\n",
    "# Drawing helpers\n",
    "mp_drawing = mp.solutions.drawing_utils\n",
    "mp_pose = mp.solutions.pose"
   ],
   "outputs": [
    {
     "name": "stderr",
     "output_type": "stream",
     "text": [
      "objc[47048]: Class CaptureDelegate is implemented in both /Users/jainilpatel/PycharmProjects/Exercise-Correction/.venv/lib/python3.9/site-packages/mediapipe/.dylibs/libopencv_videoio.3.4.16.dylib (0x31f248860) and /Users/jainilpatel/PycharmProjects/Exercise-Correction/.venv/lib/python3.9/site-packages/cv2/cv2.abi3.so (0x34955a480). One of the two will be used. Which one is undefined.\n",
      "objc[47048]: Class CVWindow is implemented in both /Users/jainilpatel/PycharmProjects/Exercise-Correction/.venv/lib/python3.9/site-packages/mediapipe/.dylibs/libopencv_highgui.3.4.16.dylib (0x31ef90a68) and /Users/jainilpatel/PycharmProjects/Exercise-Correction/.venv/lib/python3.9/site-packages/cv2/cv2.abi3.so (0x34955a4d0). One of the two will be used. Which one is undefined.\n",
      "objc[47048]: Class CVView is implemented in both /Users/jainilpatel/PycharmProjects/Exercise-Correction/.venv/lib/python3.9/site-packages/mediapipe/.dylibs/libopencv_highgui.3.4.16.dylib (0x31ef90a90) and /Users/jainilpatel/PycharmProjects/Exercise-Correction/.venv/lib/python3.9/site-packages/cv2/cv2.abi3.so (0x34955a4f8). One of the two will be used. Which one is undefined.\n",
      "objc[47048]: Class CVSlider is implemented in both /Users/jainilpatel/PycharmProjects/Exercise-Correction/.venv/lib/python3.9/site-packages/mediapipe/.dylibs/libopencv_highgui.3.4.16.dylib (0x31ef90ab8) and /Users/jainilpatel/PycharmProjects/Exercise-Correction/.venv/lib/python3.9/site-packages/cv2/cv2.abi3.so (0x34955a520). One of the two will be used. Which one is undefined.\n"
     ]
    }
   ],
   "execution_count": 1
  },
  {
   "cell_type": "markdown",
   "metadata": {},
   "source": [
    "### 1. Train Model"
   ]
  },
  {
   "cell_type": "markdown",
   "metadata": {},
   "source": [
    "#### 1.1. Describe data and split dataset"
   ]
  },
  {
   "cell_type": "code",
   "metadata": {
    "ExecuteTime": {
     "end_time": "2024-09-12T04:07:58.972767Z",
     "start_time": "2024-09-12T04:07:58.968531Z"
    }
   },
   "source": [
    "def rescale_frame(frame, percent=50):\n",
    "    '''\n",
    "    Rescale a frame to a certain percentage compare to its original frame\n",
    "    '''\n",
    "    width = int(frame.shape[1] * percent/ 100)\n",
    "    height = int(frame.shape[0] * percent/ 100)\n",
    "    dim = (width, height)\n",
    "    return cv2.resize(frame, dim, interpolation = cv2.INTER_AREA)\n",
    "\n",
    "\n",
    "def describe_dataset(dataset_path: str):\n",
    "    '''\n",
    "    Describe dataset\n",
    "    '''\n",
    "\n",
    "    data = pd.read_csv(dataset_path)\n",
    "    print(f\"Headers: {list(data.columns.values)}\")\n",
    "    print(f'Number of rows: {data.shape[0]} \\nNumber of columns: {data.shape[1]}\\n')\n",
    "    print(f\"Labels: \\n{data['label'].value_counts()}\\n\")\n",
    "    print(f\"Missing values: {data.isnull().values.any()}\\n\")\n",
    "    \n",
    "    duplicate = data[data.duplicated()]\n",
    "    print(f\"Duplicate Rows : {len(duplicate.sum(axis=1))}\")\n",
    "\n",
    "    return data\n",
    "\n",
    "\n",
    "def round_up_metric_results(results) -> list:\n",
    "    '''Round up metrics results such as precision score, recall score, ...'''\n",
    "    return list(map(lambda el: round(el, 3), results))"
   ],
   "outputs": [],
   "execution_count": 2
  },
  {
   "cell_type": "code",
   "metadata": {
    "ExecuteTime": {
     "end_time": "2024-09-12T04:08:00.355302Z",
     "start_time": "2024-09-12T04:08:00.113727Z"
    }
   },
   "source": [
    "df = describe_dataset(\"./train.csv\")\n",
    "df.loc[df[\"label\"] == \"C\", \"label\"] = 0\n",
    "df.loc[df[\"label\"] == \"H\", \"label\"] = 1\n",
    "df.loc[df[\"label\"] == \"L\", \"label\"] = 2\n",
    "df.tail(3)"
   ],
   "outputs": [
    {
     "name": "stdout",
     "output_type": "stream",
     "text": [
      "Headers: ['label', 'nose_x', 'nose_y', 'nose_z', 'nose_v', 'left_shoulder_x', 'left_shoulder_y', 'left_shoulder_z', 'left_shoulder_v', 'right_shoulder_x', 'right_shoulder_y', 'right_shoulder_z', 'right_shoulder_v', 'left_elbow_x', 'left_elbow_y', 'left_elbow_z', 'left_elbow_v', 'right_elbow_x', 'right_elbow_y', 'right_elbow_z', 'right_elbow_v', 'left_wrist_x', 'left_wrist_y', 'left_wrist_z', 'left_wrist_v', 'right_wrist_x', 'right_wrist_y', 'right_wrist_z', 'right_wrist_v', 'left_hip_x', 'left_hip_y', 'left_hip_z', 'left_hip_v', 'right_hip_x', 'right_hip_y', 'right_hip_z', 'right_hip_v', 'left_knee_x', 'left_knee_y', 'left_knee_z', 'left_knee_v', 'right_knee_x', 'right_knee_y', 'right_knee_z', 'right_knee_v', 'left_ankle_x', 'left_ankle_y', 'left_ankle_z', 'left_ankle_v', 'right_ankle_x', 'right_ankle_y', 'right_ankle_z', 'right_ankle_v', 'left_heel_x', 'left_heel_y', 'left_heel_z', 'left_heel_v', 'right_heel_x', 'right_heel_y', 'right_heel_z', 'right_heel_v', 'left_foot_index_x', 'left_foot_index_y', 'left_foot_index_z', 'left_foot_index_v', 'right_foot_index_x', 'right_foot_index_y', 'right_foot_index_z', 'right_foot_index_v']\n",
      "Number of rows: 28628 \n",
      "Number of columns: 69\n",
      "\n",
      "Labels: \n",
      "C    9962\n",
      "L    9596\n",
      "H    9070\n",
      "Name: label, dtype: int64\n",
      "\n",
      "Missing values: False\n",
      "\n",
      "Duplicate Rows : 0\n"
     ]
    },
    {
     "data": {
      "text/plain": [
       "      label    nose_x    nose_y    nose_z    nose_v  left_shoulder_x  \\\n",
       "28625     0  0.358292  0.814457 -0.114346  0.999731         0.426534   \n",
       "28626     0  0.358111  0.814594 -0.119521  0.999727         0.426460   \n",
       "28627     0  0.357921  0.814615 -0.117429  0.999731         0.425952   \n",
       "\n",
       "       left_shoulder_y  left_shoulder_z  left_shoulder_v  right_shoulder_x  \\\n",
       "28625         0.752245        -0.265804         0.999718          0.427563   \n",
       "28626         0.751355        -0.269261         0.999717          0.427519   \n",
       "28627         0.751812        -0.265476         0.999726          0.427602   \n",
       "\n",
       "       ...  right_heel_z  right_heel_v  left_foot_index_x  left_foot_index_y  \\\n",
       "28625  ...      0.344237      0.648843           0.855987           0.943825   \n",
       "28626  ...      0.337748      0.647176           0.856293           0.943910   \n",
       "28627  ...      0.348348      0.649861           0.856048           0.944072   \n",
       "\n",
       "       left_foot_index_z  left_foot_index_v  right_foot_index_x  \\\n",
       "28625          -0.025909           0.894483            0.816161   \n",
       "28626          -0.038278           0.895176            0.816513   \n",
       "28627          -0.039961           0.900096            0.812432   \n",
       "\n",
       "       right_foot_index_y  right_foot_index_z  right_foot_index_v  \n",
       "28625            0.913611            0.311469            0.693028  \n",
       "28626            0.913366            0.305406            0.692788  \n",
       "28627            0.909268            0.319851            0.700159  \n",
       "\n",
       "[3 rows x 69 columns]"
      ],
      "text/html": [
       "<div>\n",
       "<style scoped>\n",
       "    .dataframe tbody tr th:only-of-type {\n",
       "        vertical-align: middle;\n",
       "    }\n",
       "\n",
       "    .dataframe tbody tr th {\n",
       "        vertical-align: top;\n",
       "    }\n",
       "\n",
       "    .dataframe thead th {\n",
       "        text-align: right;\n",
       "    }\n",
       "</style>\n",
       "<table border=\"1\" class=\"dataframe\">\n",
       "  <thead>\n",
       "    <tr style=\"text-align: right;\">\n",
       "      <th></th>\n",
       "      <th>label</th>\n",
       "      <th>nose_x</th>\n",
       "      <th>nose_y</th>\n",
       "      <th>nose_z</th>\n",
       "      <th>nose_v</th>\n",
       "      <th>left_shoulder_x</th>\n",
       "      <th>left_shoulder_y</th>\n",
       "      <th>left_shoulder_z</th>\n",
       "      <th>left_shoulder_v</th>\n",
       "      <th>right_shoulder_x</th>\n",
       "      <th>...</th>\n",
       "      <th>right_heel_z</th>\n",
       "      <th>right_heel_v</th>\n",
       "      <th>left_foot_index_x</th>\n",
       "      <th>left_foot_index_y</th>\n",
       "      <th>left_foot_index_z</th>\n",
       "      <th>left_foot_index_v</th>\n",
       "      <th>right_foot_index_x</th>\n",
       "      <th>right_foot_index_y</th>\n",
       "      <th>right_foot_index_z</th>\n",
       "      <th>right_foot_index_v</th>\n",
       "    </tr>\n",
       "  </thead>\n",
       "  <tbody>\n",
       "    <tr>\n",
       "      <th>28625</th>\n",
       "      <td>0</td>\n",
       "      <td>0.358292</td>\n",
       "      <td>0.814457</td>\n",
       "      <td>-0.114346</td>\n",
       "      <td>0.999731</td>\n",
       "      <td>0.426534</td>\n",
       "      <td>0.752245</td>\n",
       "      <td>-0.265804</td>\n",
       "      <td>0.999718</td>\n",
       "      <td>0.427563</td>\n",
       "      <td>...</td>\n",
       "      <td>0.344237</td>\n",
       "      <td>0.648843</td>\n",
       "      <td>0.855987</td>\n",
       "      <td>0.943825</td>\n",
       "      <td>-0.025909</td>\n",
       "      <td>0.894483</td>\n",
       "      <td>0.816161</td>\n",
       "      <td>0.913611</td>\n",
       "      <td>0.311469</td>\n",
       "      <td>0.693028</td>\n",
       "    </tr>\n",
       "    <tr>\n",
       "      <th>28626</th>\n",
       "      <td>0</td>\n",
       "      <td>0.358111</td>\n",
       "      <td>0.814594</td>\n",
       "      <td>-0.119521</td>\n",
       "      <td>0.999727</td>\n",
       "      <td>0.426460</td>\n",
       "      <td>0.751355</td>\n",
       "      <td>-0.269261</td>\n",
       "      <td>0.999717</td>\n",
       "      <td>0.427519</td>\n",
       "      <td>...</td>\n",
       "      <td>0.337748</td>\n",
       "      <td>0.647176</td>\n",
       "      <td>0.856293</td>\n",
       "      <td>0.943910</td>\n",
       "      <td>-0.038278</td>\n",
       "      <td>0.895176</td>\n",
       "      <td>0.816513</td>\n",
       "      <td>0.913366</td>\n",
       "      <td>0.305406</td>\n",
       "      <td>0.692788</td>\n",
       "    </tr>\n",
       "    <tr>\n",
       "      <th>28627</th>\n",
       "      <td>0</td>\n",
       "      <td>0.357921</td>\n",
       "      <td>0.814615</td>\n",
       "      <td>-0.117429</td>\n",
       "      <td>0.999731</td>\n",
       "      <td>0.425952</td>\n",
       "      <td>0.751812</td>\n",
       "      <td>-0.265476</td>\n",
       "      <td>0.999726</td>\n",
       "      <td>0.427602</td>\n",
       "      <td>...</td>\n",
       "      <td>0.348348</td>\n",
       "      <td>0.649861</td>\n",
       "      <td>0.856048</td>\n",
       "      <td>0.944072</td>\n",
       "      <td>-0.039961</td>\n",
       "      <td>0.900096</td>\n",
       "      <td>0.812432</td>\n",
       "      <td>0.909268</td>\n",
       "      <td>0.319851</td>\n",
       "      <td>0.700159</td>\n",
       "    </tr>\n",
       "  </tbody>\n",
       "</table>\n",
       "<p>3 rows × 69 columns</p>\n",
       "</div>"
      ]
     },
     "execution_count": 3,
     "metadata": {},
     "output_type": "execute_result"
    }
   ],
   "execution_count": 3
  },
  {
   "cell_type": "code",
   "metadata": {
    "ExecuteTime": {
     "end_time": "2024-09-12T04:08:53.639543Z",
     "start_time": "2024-09-12T04:08:53.630198Z"
    }
   },
   "source": [
    "# Extract features and class\n",
    "X = df.drop(\"label\", axis=1)\n",
    "y = df[\"label\"].astype(\"int\")"
   ],
   "outputs": [],
   "execution_count": 4
  },
  {
   "cell_type": "code",
   "metadata": {
    "ExecuteTime": {
     "end_time": "2024-09-12T04:08:53.934834Z",
     "start_time": "2024-09-12T04:08:53.915191Z"
    }
   },
   "source": [
    "sc = StandardScaler()\n",
    "X = pd.DataFrame(sc.fit_transform(X))"
   ],
   "outputs": [],
   "execution_count": 5
  },
  {
   "cell_type": "code",
   "metadata": {
    "ExecuteTime": {
     "end_time": "2024-09-12T04:08:54.420734Z",
     "start_time": "2024-09-12T04:08:54.412204Z"
    }
   },
   "source": [
    "X_train, X_test, y_train, y_test = train_test_split(X, y, test_size=0.2, random_state=1234)\n",
    "y_test.head(3)"
   ],
   "outputs": [
    {
     "data": {
      "text/plain": [
       "17257    0\n",
       "7466     2\n",
       "23509    2\n",
       "Name: label, dtype: int64"
      ]
     },
     "execution_count": 6,
     "metadata": {},
     "output_type": "execute_result"
    }
   ],
   "execution_count": 6
  },
  {
   "cell_type": "markdown",
   "metadata": {},
   "source": [
    "#### 1.2. Train model using Scikit-Learn and train set evaluation"
   ]
  },
  {
   "cell_type": "code",
   "metadata": {
    "ExecuteTime": {
     "end_time": "2024-09-12T04:09:10.347047Z",
     "start_time": "2024-09-12T04:08:55.768361Z"
    }
   },
   "source": [
    "algorithms =[(\"LR\", LogisticRegression()),\n",
    "         (\"SVC\", SVC(probability=True)),\n",
    "         ('KNN',KNeighborsClassifier()),\n",
    "         (\"DTC\", DecisionTreeClassifier()),\n",
    "         (\"SGDC\", CalibratedClassifierCV(SGDClassifier())),\n",
    "         (\"NB\", GaussianNB()),\n",
    "         ('RF', RandomForestClassifier()),]\n",
    "\n",
    "models = {}\n",
    "final_results = []\n",
    "\n",
    "for name, model in algorithms:\n",
    "    trained_model = model.fit(X_train, y_train)\n",
    "    models[name] = trained_model\n",
    "\n",
    "    # Evaluate model\n",
    "    model_results = model.predict(X_test)\n",
    "\n",
    "    p_score = precision_score(y_test, model_results, average=None, labels=[0, 1, 2])\n",
    "    a_score = accuracy_score(y_test, model_results)\n",
    "    r_score = recall_score(y_test, model_results, average=None, labels=[0, 1, 2])\n",
    "    f1_score_result = f1_score(y_test, model_results, average=None, labels=[0, 1, 2])\n",
    "    cm = confusion_matrix(y_test, model_results, labels=[0, 1, 2])\n",
    "    final_results.append(( name,  round_up_metric_results(p_score), a_score, round_up_metric_results(r_score), round_up_metric_results(f1_score_result), cm))\n"
   ],
   "outputs": [],
   "execution_count": 7
  },
  {
   "cell_type": "code",
   "metadata": {
    "ExecuteTime": {
     "end_time": "2024-09-12T04:09:10.358179Z",
     "start_time": "2024-09-12T04:09:10.348188Z"
    }
   },
   "source": [
    "# Sort results by F1 score\n",
    "final_results.sort(key=lambda k: sum(k[4]), reverse=True)\n",
    "\n",
    "pd.DataFrame(final_results, columns=[\"Model\", \"Precision Score\", \"Accuracy score\", \"Recall Score\", \"F1 score\", \"Confusion Matrix\"])"
   ],
   "outputs": [
    {
     "data": {
      "text/plain": [
       "  Model        Precision Score  Accuracy score           Recall Score  \\\n",
       "0    RF    [0.998, 1.0, 0.999]        0.999127    [0.999, 1.0, 0.998]   \n",
       "1   KNN    [0.998, 1.0, 0.998]        0.998778  [0.998, 0.999, 0.998]   \n",
       "2   SVC    [0.996, 1.0, 0.995]        0.997031  [0.995, 0.999, 0.996]   \n",
       "3   DTC  [0.996, 0.999, 0.997]        0.997555  [0.998, 0.999, 0.995]   \n",
       "4    LR    [0.993, 1.0, 0.994]        0.995634  [0.994, 0.999, 0.994]   \n",
       "5  SGDC  [0.994, 0.997, 0.993]        0.994761  [0.991, 0.999, 0.994]   \n",
       "6    NB  [0.817, 0.917, 0.941]        0.887531  [0.872, 0.958, 0.837]   \n",
       "\n",
       "                F1 score                                   Confusion Matrix  \n",
       "0    [0.999, 1.0, 0.999]         [[1963, 0, 1], [0, 1825, 0], [4, 0, 1933]]  \n",
       "1    [0.998, 1.0, 0.998]         [[1961, 0, 3], [1, 1824, 0], [3, 0, 1934]]  \n",
       "2    [0.996, 1.0, 0.996]         [[1955, 0, 9], [1, 1824, 0], [7, 0, 1930]]  \n",
       "3  [0.997, 0.999, 0.996]         [[1960, 0, 4], [0, 1824, 1], [8, 1, 1928]]  \n",
       "4  [0.994, 0.999, 0.994]       [[1953, 0, 11], [1, 1823, 1], [12, 0, 1925]]  \n",
       "5  [0.993, 0.998, 0.994]       [[1946, 5, 13], [1, 1824, 0], [10, 1, 1926]]  \n",
       "6  [0.843, 0.937, 0.886]  [[1712, 151, 101], [77, 1748, 0], [307, 8, 1622]]  "
      ],
      "text/html": [
       "<div>\n",
       "<style scoped>\n",
       "    .dataframe tbody tr th:only-of-type {\n",
       "        vertical-align: middle;\n",
       "    }\n",
       "\n",
       "    .dataframe tbody tr th {\n",
       "        vertical-align: top;\n",
       "    }\n",
       "\n",
       "    .dataframe thead th {\n",
       "        text-align: right;\n",
       "    }\n",
       "</style>\n",
       "<table border=\"1\" class=\"dataframe\">\n",
       "  <thead>\n",
       "    <tr style=\"text-align: right;\">\n",
       "      <th></th>\n",
       "      <th>Model</th>\n",
       "      <th>Precision Score</th>\n",
       "      <th>Accuracy score</th>\n",
       "      <th>Recall Score</th>\n",
       "      <th>F1 score</th>\n",
       "      <th>Confusion Matrix</th>\n",
       "    </tr>\n",
       "  </thead>\n",
       "  <tbody>\n",
       "    <tr>\n",
       "      <th>0</th>\n",
       "      <td>RF</td>\n",
       "      <td>[0.998, 1.0, 0.999]</td>\n",
       "      <td>0.999127</td>\n",
       "      <td>[0.999, 1.0, 0.998]</td>\n",
       "      <td>[0.999, 1.0, 0.999]</td>\n",
       "      <td>[[1963, 0, 1], [0, 1825, 0], [4, 0, 1933]]</td>\n",
       "    </tr>\n",
       "    <tr>\n",
       "      <th>1</th>\n",
       "      <td>KNN</td>\n",
       "      <td>[0.998, 1.0, 0.998]</td>\n",
       "      <td>0.998778</td>\n",
       "      <td>[0.998, 0.999, 0.998]</td>\n",
       "      <td>[0.998, 1.0, 0.998]</td>\n",
       "      <td>[[1961, 0, 3], [1, 1824, 0], [3, 0, 1934]]</td>\n",
       "    </tr>\n",
       "    <tr>\n",
       "      <th>2</th>\n",
       "      <td>SVC</td>\n",
       "      <td>[0.996, 1.0, 0.995]</td>\n",
       "      <td>0.997031</td>\n",
       "      <td>[0.995, 0.999, 0.996]</td>\n",
       "      <td>[0.996, 1.0, 0.996]</td>\n",
       "      <td>[[1955, 0, 9], [1, 1824, 0], [7, 0, 1930]]</td>\n",
       "    </tr>\n",
       "    <tr>\n",
       "      <th>3</th>\n",
       "      <td>DTC</td>\n",
       "      <td>[0.996, 0.999, 0.997]</td>\n",
       "      <td>0.997555</td>\n",
       "      <td>[0.998, 0.999, 0.995]</td>\n",
       "      <td>[0.997, 0.999, 0.996]</td>\n",
       "      <td>[[1960, 0, 4], [0, 1824, 1], [8, 1, 1928]]</td>\n",
       "    </tr>\n",
       "    <tr>\n",
       "      <th>4</th>\n",
       "      <td>LR</td>\n",
       "      <td>[0.993, 1.0, 0.994]</td>\n",
       "      <td>0.995634</td>\n",
       "      <td>[0.994, 0.999, 0.994]</td>\n",
       "      <td>[0.994, 0.999, 0.994]</td>\n",
       "      <td>[[1953, 0, 11], [1, 1823, 1], [12, 0, 1925]]</td>\n",
       "    </tr>\n",
       "    <tr>\n",
       "      <th>5</th>\n",
       "      <td>SGDC</td>\n",
       "      <td>[0.994, 0.997, 0.993]</td>\n",
       "      <td>0.994761</td>\n",
       "      <td>[0.991, 0.999, 0.994]</td>\n",
       "      <td>[0.993, 0.998, 0.994]</td>\n",
       "      <td>[[1946, 5, 13], [1, 1824, 0], [10, 1, 1926]]</td>\n",
       "    </tr>\n",
       "    <tr>\n",
       "      <th>6</th>\n",
       "      <td>NB</td>\n",
       "      <td>[0.817, 0.917, 0.941]</td>\n",
       "      <td>0.887531</td>\n",
       "      <td>[0.872, 0.958, 0.837]</td>\n",
       "      <td>[0.843, 0.937, 0.886]</td>\n",
       "      <td>[[1712, 151, 101], [77, 1748, 0], [307, 8, 1622]]</td>\n",
       "    </tr>\n",
       "  </tbody>\n",
       "</table>\n",
       "</div>"
      ]
     },
     "execution_count": 8,
     "metadata": {},
     "output_type": "execute_result"
    }
   ],
   "execution_count": 8
  },
  {
   "cell_type": "markdown",
   "metadata": {},
   "source": [
    "#### 1.3. Test set evaluation"
   ]
  },
  {
   "cell_type": "code",
   "metadata": {
    "ExecuteTime": {
     "end_time": "2024-09-12T04:09:13.219408Z",
     "start_time": "2024-09-12T04:09:13.203993Z"
    }
   },
   "source": [
    "test_df = describe_dataset(\"./test.csv\")\n",
    "test_df = test_df.sample(frac=1).reset_index(drop=True)\n",
    "\n",
    "test_df.loc[test_df[\"label\"] == \"C\", \"label\"] = 0\n",
    "test_df.loc[test_df[\"label\"] == \"H\", \"label\"] = 1\n",
    "test_df.loc[test_df[\"label\"] == \"L\", \"label\"] = 2\n",
    "\n",
    "test_x = test_df.drop(\"label\", axis=1)\n",
    "test_y = test_df[\"label\"].astype(\"int\")\n",
    "\n",
    "test_x = pd.DataFrame(sc.transform(test_x))"
   ],
   "outputs": [
    {
     "name": "stdout",
     "output_type": "stream",
     "text": [
      "Headers: ['label', 'nose_x', 'nose_y', 'nose_z', 'nose_v', 'left_shoulder_x', 'left_shoulder_y', 'left_shoulder_z', 'left_shoulder_v', 'right_shoulder_x', 'right_shoulder_y', 'right_shoulder_z', 'right_shoulder_v', 'left_elbow_x', 'left_elbow_y', 'left_elbow_z', 'left_elbow_v', 'right_elbow_x', 'right_elbow_y', 'right_elbow_z', 'right_elbow_v', 'left_wrist_x', 'left_wrist_y', 'left_wrist_z', 'left_wrist_v', 'right_wrist_x', 'right_wrist_y', 'right_wrist_z', 'right_wrist_v', 'left_hip_x', 'left_hip_y', 'left_hip_z', 'left_hip_v', 'right_hip_x', 'right_hip_y', 'right_hip_z', 'right_hip_v', 'left_knee_x', 'left_knee_y', 'left_knee_z', 'left_knee_v', 'right_knee_x', 'right_knee_y', 'right_knee_z', 'right_knee_v', 'left_ankle_x', 'left_ankle_y', 'left_ankle_z', 'left_ankle_v', 'right_ankle_x', 'right_ankle_y', 'right_ankle_z', 'right_ankle_v', 'left_heel_x', 'left_heel_y', 'left_heel_z', 'left_heel_v', 'right_heel_x', 'right_heel_y', 'right_heel_z', 'right_heel_v', 'left_foot_index_x', 'left_foot_index_y', 'left_foot_index_z', 'left_foot_index_v', 'right_foot_index_x', 'right_foot_index_y', 'right_foot_index_z', 'right_foot_index_v']\n",
      "Number of rows: 710 \n",
      "Number of columns: 69\n",
      "\n",
      "Labels: \n",
      "H    241\n",
      "L    235\n",
      "C    234\n",
      "Name: label, dtype: int64\n",
      "\n",
      "Missing values: False\n",
      "\n",
      "Duplicate Rows : 0\n"
     ]
    }
   ],
   "execution_count": 9
  },
  {
   "cell_type": "code",
   "metadata": {
    "ExecuteTime": {
     "end_time": "2024-09-12T04:09:17.167306Z",
     "start_time": "2024-09-12T04:09:17.042413Z"
    }
   },
   "source": [
    "testset_final_results = []\n",
    "\n",
    "for name, model in models.items():\n",
    "    # Evaluate model\n",
    "    model_results = model.predict(test_x)\n",
    "\n",
    "    p_score = precision_score(test_y, model_results, average=None, labels=[0, 1, 2])\n",
    "    a_score = accuracy_score(test_y, model_results)\n",
    "    r_score = recall_score(test_y, model_results, average=None, labels=[0, 1, 2])\n",
    "    f1_score_result = f1_score(test_y, model_results, average=None, labels=[0, 1, 2])\n",
    "    cm = confusion_matrix(test_y, model_results, labels=[0, 1, 2])\n",
    "    testset_final_results.append(( name,  round_up_metric_results(p_score), a_score, round_up_metric_results(r_score), round_up_metric_results(f1_score_result), cm ))\n",
    "\n",
    "\n",
    "testset_final_results.sort(key=lambda k: sum(k[4]), reverse=True)\n",
    "pd.DataFrame(testset_final_results, columns=[\"Model\", \"Precision Score\", \"Accuracy score\", \"Recall Score\", \"F1 score\", \"Confusion Matrix\"])"
   ],
   "outputs": [
    {
     "data": {
      "text/plain": [
       "  Model        Precision Score  Accuracy score           Recall Score  \\\n",
       "0    LR      [0.959, 1.0, 1.0]        0.985915    [1.0, 0.975, 0.983]   \n",
       "1  SGDC     [0.966, 0.96, 1.0]        0.974648  [0.957, 0.983, 0.983]   \n",
       "2   SVC      [0.914, 1.0, 1.0]        0.969014    [1.0, 0.929, 0.979]   \n",
       "3    RF      [0.788, 1.0, 1.0]        0.911268    [1.0, 0.988, 0.745]   \n",
       "4   KNN    [0.699, 1.0, 0.965]        0.853521  [0.974, 0.888, 0.698]   \n",
       "5    NB  [0.902, 0.736, 0.946]        0.845070  [0.632, 0.938, 0.962]   \n",
       "6   DTC    [0.722, 1.0, 0.738]        0.815493  [0.722, 0.929, 0.791]   \n",
       "\n",
       "                F1 score                            Confusion Matrix  \n",
       "0  [0.979, 0.987, 0.991]     [[234, 0, 0], [6, 235, 0], [4, 0, 231]]  \n",
       "1  [0.961, 0.971, 0.991]    [[224, 10, 0], [4, 237, 0], [4, 0, 231]]  \n",
       "2  [0.955, 0.963, 0.989]    [[234, 0, 0], [17, 224, 0], [5, 0, 230]]  \n",
       "3  [0.881, 0.994, 0.854]    [[234, 0, 0], [3, 238, 0], [60, 0, 175]]  \n",
       "4   [0.814, 0.941, 0.81]   [[228, 0, 6], [27, 214, 0], [71, 0, 164]]  \n",
       "5  [0.744, 0.825, 0.954]  [[148, 73, 13], [15, 226, 0], [1, 8, 226]]  \n",
       "6  [0.722, 0.963, 0.764]  [[169, 0, 65], [16, 224, 1], [49, 0, 186]]  "
      ],
      "text/html": [
       "<div>\n",
       "<style scoped>\n",
       "    .dataframe tbody tr th:only-of-type {\n",
       "        vertical-align: middle;\n",
       "    }\n",
       "\n",
       "    .dataframe tbody tr th {\n",
       "        vertical-align: top;\n",
       "    }\n",
       "\n",
       "    .dataframe thead th {\n",
       "        text-align: right;\n",
       "    }\n",
       "</style>\n",
       "<table border=\"1\" class=\"dataframe\">\n",
       "  <thead>\n",
       "    <tr style=\"text-align: right;\">\n",
       "      <th></th>\n",
       "      <th>Model</th>\n",
       "      <th>Precision Score</th>\n",
       "      <th>Accuracy score</th>\n",
       "      <th>Recall Score</th>\n",
       "      <th>F1 score</th>\n",
       "      <th>Confusion Matrix</th>\n",
       "    </tr>\n",
       "  </thead>\n",
       "  <tbody>\n",
       "    <tr>\n",
       "      <th>0</th>\n",
       "      <td>LR</td>\n",
       "      <td>[0.959, 1.0, 1.0]</td>\n",
       "      <td>0.985915</td>\n",
       "      <td>[1.0, 0.975, 0.983]</td>\n",
       "      <td>[0.979, 0.987, 0.991]</td>\n",
       "      <td>[[234, 0, 0], [6, 235, 0], [4, 0, 231]]</td>\n",
       "    </tr>\n",
       "    <tr>\n",
       "      <th>1</th>\n",
       "      <td>SGDC</td>\n",
       "      <td>[0.966, 0.96, 1.0]</td>\n",
       "      <td>0.974648</td>\n",
       "      <td>[0.957, 0.983, 0.983]</td>\n",
       "      <td>[0.961, 0.971, 0.991]</td>\n",
       "      <td>[[224, 10, 0], [4, 237, 0], [4, 0, 231]]</td>\n",
       "    </tr>\n",
       "    <tr>\n",
       "      <th>2</th>\n",
       "      <td>SVC</td>\n",
       "      <td>[0.914, 1.0, 1.0]</td>\n",
       "      <td>0.969014</td>\n",
       "      <td>[1.0, 0.929, 0.979]</td>\n",
       "      <td>[0.955, 0.963, 0.989]</td>\n",
       "      <td>[[234, 0, 0], [17, 224, 0], [5, 0, 230]]</td>\n",
       "    </tr>\n",
       "    <tr>\n",
       "      <th>3</th>\n",
       "      <td>RF</td>\n",
       "      <td>[0.788, 1.0, 1.0]</td>\n",
       "      <td>0.911268</td>\n",
       "      <td>[1.0, 0.988, 0.745]</td>\n",
       "      <td>[0.881, 0.994, 0.854]</td>\n",
       "      <td>[[234, 0, 0], [3, 238, 0], [60, 0, 175]]</td>\n",
       "    </tr>\n",
       "    <tr>\n",
       "      <th>4</th>\n",
       "      <td>KNN</td>\n",
       "      <td>[0.699, 1.0, 0.965]</td>\n",
       "      <td>0.853521</td>\n",
       "      <td>[0.974, 0.888, 0.698]</td>\n",
       "      <td>[0.814, 0.941, 0.81]</td>\n",
       "      <td>[[228, 0, 6], [27, 214, 0], [71, 0, 164]]</td>\n",
       "    </tr>\n",
       "    <tr>\n",
       "      <th>5</th>\n",
       "      <td>NB</td>\n",
       "      <td>[0.902, 0.736, 0.946]</td>\n",
       "      <td>0.845070</td>\n",
       "      <td>[0.632, 0.938, 0.962]</td>\n",
       "      <td>[0.744, 0.825, 0.954]</td>\n",
       "      <td>[[148, 73, 13], [15, 226, 0], [1, 8, 226]]</td>\n",
       "    </tr>\n",
       "    <tr>\n",
       "      <th>6</th>\n",
       "      <td>DTC</td>\n",
       "      <td>[0.722, 1.0, 0.738]</td>\n",
       "      <td>0.815493</td>\n",
       "      <td>[0.722, 0.929, 0.791]</td>\n",
       "      <td>[0.722, 0.963, 0.764]</td>\n",
       "      <td>[[169, 0, 65], [16, 224, 1], [49, 0, 186]]</td>\n",
       "    </tr>\n",
       "  </tbody>\n",
       "</table>\n",
       "</div>"
      ]
     },
     "execution_count": 10,
     "metadata": {},
     "output_type": "execute_result"
    }
   ],
   "execution_count": 10
  },
  {
   "cell_type": "markdown",
   "metadata": {},
   "source": [
    "#### 1.4. Dumped model and input scaler using pickle\n",
    "\n",
    "According to the evaluations, there are multiple good models at the moment, therefore, the best models are LR and Ridge."
   ]
  },
  {
   "cell_type": "code",
   "metadata": {
    "ExecuteTime": {
     "end_time": "2024-09-12T04:09:35.931417Z",
     "start_time": "2024-09-12T04:09:35.919405Z"
    }
   },
   "source": [
    "with open(\"./model/all_sklearn_jainil.pkl\", \"wb\") as f:\n",
    "    pickle.dump(models, f)"
   ],
   "outputs": [],
   "execution_count": 11
  },
  {
   "cell_type": "code",
   "metadata": {
    "ExecuteTime": {
     "end_time": "2024-09-12T04:09:36.132273Z",
     "start_time": "2024-09-12T04:09:36.129230Z"
    }
   },
   "source": [
    "with open(\"./model/LR_model_jainil.pkl\", \"wb\") as f:\n",
    "    pickle.dump(models[\"LR\"], f)"
   ],
   "outputs": [],
   "execution_count": 12
  },
  {
   "cell_type": "code",
   "metadata": {
    "ExecuteTime": {
     "end_time": "2024-09-12T04:09:36.293919Z",
     "start_time": "2024-09-12T04:09:36.291276Z"
    }
   },
   "source": [
    "with open(\"./model/SVC_model_jainil.pkl\", \"wb\") as f:\n",
    "    pickle.dump(models[\"SVC\"], f)"
   ],
   "outputs": [],
   "execution_count": 13
  },
  {
   "cell_type": "code",
   "metadata": {
    "ExecuteTime": {
     "end_time": "2024-09-12T04:09:36.895645Z",
     "start_time": "2024-09-12T04:09:36.892504Z"
    }
   },
   "source": [
    "# Dump input scaler\n",
    "with open(\"./model/input_scaler_jainil.pkl\", \"wb\") as f:\n",
    "    pickle.dump(sc, f)"
   ],
   "outputs": [],
   "execution_count": 14
  },
  {
   "metadata": {},
   "cell_type": "code",
   "outputs": [],
   "execution_count": null,
   "source": ""
  }
 ],
 "metadata": {
  "kernelspec": {
   "display_name": "Python 3.8.13 (conda)",
   "language": "python",
   "name": "python3"
  },
  "language_info": {
   "codemirror_mode": {
    "name": "ipython",
    "version": 3
   },
   "file_extension": ".py",
   "mimetype": "text/x-python",
   "name": "python",
   "nbconvert_exporter": "python",
   "pygments_lexer": "ipython3",
   "version": "3.8.13"
  },
  "orig_nbformat": 4,
  "vscode": {
   "interpreter": {
    "hash": "9260f401923fb5c4108c543a7d176de9733d378b3752e49535ad7c43c2271b65"
   }
  }
 },
 "nbformat": 4,
 "nbformat_minor": 2
}
