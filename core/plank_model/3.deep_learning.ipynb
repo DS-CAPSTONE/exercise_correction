{
 "cells": [
  {
   "cell_type": "code",
   "metadata": {
    "ExecuteTime": {
     "end_time": "2024-09-12T04:06:57.816679Z",
     "start_time": "2024-09-12T04:06:55.620782Z"
    }
   },
   "source": [
    "# Data visualization\n",
    "import numpy as np\n",
    "import pandas as pd \n",
    "\n",
    "# Keras\n",
    "from keras.models import Sequential\n",
    "from keras.layers import Dense\n",
    "from keras.layers import Dropout\n",
    "from keras.optimizers import Adam\n",
    "from keras.utils.np_utils import to_categorical\n",
    "from keras.callbacks import EarlyStopping\n",
    "import keras_tuner as kt\n",
    "\n",
    "# Train-Test\n",
    "from sklearn.model_selection import train_test_split\n",
    "# Classification Report\n",
    "from sklearn.metrics import confusion_matrix, precision_recall_fscore_support\n",
    "\n",
    "import pickle\n",
    "\n",
    "import warnings\n",
    "warnings.filterwarnings('ignore')"
   ],
   "outputs": [
    {
     "name": "stderr",
     "output_type": "stream",
     "text": [
      "/Users/jainilpatel/PycharmProjects/Exercise-Correction/.venv/lib/python3.9/site-packages/urllib3/__init__.py:35: NotOpenSSLWarning: urllib3 v2 only supports OpenSSL 1.1.1+, currently the 'ssl' module is compiled with 'LibreSSL 2.8.3'. See: https://github.com/urllib3/urllib3/issues/3020\n",
      "  warnings.warn(\n"
     ]
    }
   ],
   "execution_count": 1
  },
  {
   "cell_type": "markdown",
   "metadata": {},
   "source": [
    "## 1. Describe Dataset"
   ]
  },
  {
   "cell_type": "code",
   "metadata": {
    "ExecuteTime": {
     "end_time": "2024-09-12T04:06:57.820082Z",
     "start_time": "2024-09-12T04:06:57.817660Z"
    }
   },
   "source": [
    "# Determine important landmarks for plank\n",
    "IMPORTANT_LMS = [\n",
    "    \"NOSE\",\n",
    "    \"LEFT_SHOULDER\",\n",
    "    \"RIGHT_SHOULDER\",\n",
    "    \"LEFT_ELBOW\",\n",
    "    \"RIGHT_ELBOW\",\n",
    "    \"LEFT_WRIST\",\n",
    "    \"RIGHT_WRIST\",\n",
    "    \"LEFT_HIP\",\n",
    "    \"RIGHT_HIP\",\n",
    "    \"LEFT_KNEE\",\n",
    "    \"RIGHT_KNEE\",\n",
    "    \"LEFT_ANKLE\",\n",
    "    \"RIGHT_ANKLE\",\n",
    "    \"LEFT_HEEL\",\n",
    "    \"RIGHT_HEEL\",\n",
    "    \"LEFT_FOOT_INDEX\",\n",
    "    \"RIGHT_FOOT_INDEX\",\n",
    "]\n",
    "\n",
    "# Generate all columns of the data frame\n",
    "\n",
    "HEADERS = [\"label\"] # Label column\n",
    "\n",
    "for lm in IMPORTANT_LMS:\n",
    "    HEADERS += [f\"{lm.lower()}_x\", f\"{lm.lower()}_y\", f\"{lm.lower()}_z\", f\"{lm.lower()}_v\"]"
   ],
   "outputs": [],
   "execution_count": 2
  },
  {
   "cell_type": "code",
   "metadata": {
    "ExecuteTime": {
     "end_time": "2024-09-12T04:06:58.016521Z",
     "start_time": "2024-09-12T04:06:57.820685Z"
    }
   },
   "source": [
    "def describe_dataset(dataset_path: str):\n",
    "    '''\n",
    "    Describe dataset\n",
    "    '''\n",
    "\n",
    "    data = pd.read_csv(dataset_path)\n",
    "    print(f\"Headers: {list(data.columns.values)}\")\n",
    "    print(f'Number of rows: {data.shape[0]} \\nNumber of columns: {data.shape[1]}\\n')\n",
    "    print(f\"Labels: \\n{data['label'].value_counts()}\\n\")\n",
    "    print(f\"Missing values: {data.isnull().values.any()}\\n\")\n",
    "    \n",
    "    duplicate = data[data.duplicated()]\n",
    "    print(f\"Duplicate Rows : {len(duplicate.sum(axis=1))}\")\n",
    "\n",
    "    return data\n",
    "\n",
    "\n",
    "# Remove duplicate rows (optional)\n",
    "def remove_duplicate_rows(dataset_path: str):\n",
    "    '''\n",
    "    Remove duplicated data from the dataset then save it to another files\n",
    "    '''\n",
    "    \n",
    "    df = pd.read_csv(dataset_path)\n",
    "    df.drop_duplicates(keep=\"first\", inplace=True)\n",
    "    df.to_csv(f\"cleaned_train.csv\", sep=',', encoding='utf-8', index=False)\n",
    "\n",
    "\n",
    "def round_up_metric_results(results) -> list:\n",
    "    '''Round up metrics results such as precision score, recall score, ...'''\n",
    "    return list(map(lambda el: round(el, 3), results))\n",
    "\n",
    "\n",
    "df = describe_dataset(\"./train.csv\")"
   ],
   "outputs": [
    {
     "name": "stdout",
     "output_type": "stream",
     "text": [
      "Headers: ['label', 'nose_x', 'nose_y', 'nose_z', 'nose_v', 'left_shoulder_x', 'left_shoulder_y', 'left_shoulder_z', 'left_shoulder_v', 'right_shoulder_x', 'right_shoulder_y', 'right_shoulder_z', 'right_shoulder_v', 'left_elbow_x', 'left_elbow_y', 'left_elbow_z', 'left_elbow_v', 'right_elbow_x', 'right_elbow_y', 'right_elbow_z', 'right_elbow_v', 'left_wrist_x', 'left_wrist_y', 'left_wrist_z', 'left_wrist_v', 'right_wrist_x', 'right_wrist_y', 'right_wrist_z', 'right_wrist_v', 'left_hip_x', 'left_hip_y', 'left_hip_z', 'left_hip_v', 'right_hip_x', 'right_hip_y', 'right_hip_z', 'right_hip_v', 'left_knee_x', 'left_knee_y', 'left_knee_z', 'left_knee_v', 'right_knee_x', 'right_knee_y', 'right_knee_z', 'right_knee_v', 'left_ankle_x', 'left_ankle_y', 'left_ankle_z', 'left_ankle_v', 'right_ankle_x', 'right_ankle_y', 'right_ankle_z', 'right_ankle_v', 'left_heel_x', 'left_heel_y', 'left_heel_z', 'left_heel_v', 'right_heel_x', 'right_heel_y', 'right_heel_z', 'right_heel_v', 'left_foot_index_x', 'left_foot_index_y', 'left_foot_index_z', 'left_foot_index_v', 'right_foot_index_x', 'right_foot_index_y', 'right_foot_index_z', 'right_foot_index_v']\n",
      "Number of rows: 28628 \n",
      "Number of columns: 69\n",
      "\n",
      "Labels: \n",
      "C    9962\n",
      "L    9596\n",
      "H    9070\n",
      "Name: label, dtype: int64\n",
      "\n",
      "Missing values: False\n",
      "\n",
      "Duplicate Rows : 0\n"
     ]
    }
   ],
   "execution_count": 3
  },
  {
   "cell_type": "markdown",
   "metadata": {},
   "source": [
    "## 2. Preprocess Dataset"
   ]
  },
  {
   "cell_type": "code",
   "metadata": {
    "ExecuteTime": {
     "end_time": "2024-09-12T04:06:58.171700Z",
     "start_time": "2024-09-12T04:06:58.017936Z"
    }
   },
   "source": [
    "# load dataset\n",
    "df = pd.read_csv(\"./train.csv\")\n",
    "\n",
    "# Categorizing label\n",
    "df.loc[df[\"label\"] == \"C\", \"label\"] = 0\n",
    "df.loc[df[\"label\"] == \"H\", \"label\"] = 1\n",
    "df.loc[df[\"label\"] == \"L\", \"label\"] = 2\n",
    "\n",
    "print(f'Number of rows: {df.shape[0]} \\nNumber of columns: {df.shape[1]}\\n')\n",
    "print(f\"Labels: \\n{df['label'].value_counts()}\\n\")"
   ],
   "outputs": [
    {
     "name": "stdout",
     "output_type": "stream",
     "text": [
      "Number of rows: 28628 \n",
      "Number of columns: 69\n",
      "\n",
      "Labels: \n",
      "0    9962\n",
      "2    9596\n",
      "1    9070\n",
      "Name: label, dtype: int64\n",
      "\n"
     ]
    }
   ],
   "execution_count": 4
  },
  {
   "cell_type": "code",
   "metadata": {
    "ExecuteTime": {
     "end_time": "2024-09-12T04:06:58.181391Z",
     "start_time": "2024-09-12T04:06:58.172442Z"
    }
   },
   "source": [
    "# Standard Scaling of features\n",
    "# Dump input scaler\n",
    "with open(\"./model/input_scaler.pkl\", \"rb\") as f2:\n",
    "    sc = pickle.load(f2)\n",
    "\n",
    "x = df.drop(\"label\", axis = 1)\n",
    "x = pd.DataFrame(sc.transform(x))\n",
    "\n",
    "y = df[\"label\"]\n",
    "\n",
    "# # Converting prediction to categorical\n",
    "y_cat = to_categorical(y)"
   ],
   "outputs": [],
   "execution_count": 5
  },
  {
   "cell_type": "code",
   "metadata": {
    "ExecuteTime": {
     "end_time": "2024-09-12T04:06:58.188536Z",
     "start_time": "2024-09-12T04:06:58.182056Z"
    }
   },
   "source": "x_train, x_test, y_train, y_test = train_test_split(x.values, y_cat, test_size=0.2, random_state=1235)",
   "outputs": [],
   "execution_count": 6
  },
  {
   "cell_type": "markdown",
   "metadata": {},
   "source": [
    "## 3. Build Model"
   ]
  },
  {
   "cell_type": "markdown",
   "metadata": {},
   "source": [
    "### 3.1. Set up"
   ]
  },
  {
   "cell_type": "code",
   "metadata": {
    "ExecuteTime": {
     "end_time": "2024-09-12T04:06:58.190918Z",
     "start_time": "2024-09-12T04:06:58.189353Z"
    }
   },
   "source": [
    "stop_early = EarlyStopping(monitor='loss', patience=3)\n",
    "\n",
    "# Final Results\n",
    "final_models = {}"
   ],
   "outputs": [],
   "execution_count": 7
  },
  {
   "cell_type": "code",
   "metadata": {
    "ExecuteTime": {
     "end_time": "2024-09-12T04:06:58.194447Z",
     "start_time": "2024-09-12T04:06:58.191467Z"
    }
   },
   "source": [
    "def describe_model(model):\n",
    "    '''\n",
    "    Describe Model architecture\n",
    "    '''\n",
    "    print(f\"Describe models architecture\")\n",
    "    for i, layer in enumerate(model.layers):\n",
    "        number_of_units = layer.units if hasattr(layer, 'units') else 0\n",
    "\n",
    "        if hasattr(layer, \"activation\"):\n",
    "            print(f\"Layer-{i + 1}: {number_of_units} units, func: \", layer.activation)\n",
    "        else:\n",
    "            print(f\"Layer-{i + 1}: {number_of_units} units, func: None\")\n",
    "            \n",
    "\n",
    "def get_best_model(tuner):\n",
    "    '''\n",
    "    Describe and return the best model found from keras tuner\n",
    "    '''\n",
    "    best_hps = tuner.get_best_hyperparameters(num_trials=1)[0]\n",
    "    best_model = tuner.hypermodel.build(best_hps)\n",
    "\n",
    "    describe_model(best_model)\n",
    "\n",
    "    print(\"\\nOther params:\")\n",
    "    ignore_params = [\"tuner\", \"activation\", \"layer\"]\n",
    "    for param, value in best_hps.values.items():\n",
    "        if not any(word in param for word in ignore_params):\n",
    "            print(f\"{param}: {value}\")\n",
    "\n",
    "    return best_model"
   ],
   "outputs": [],
   "execution_count": 8
  },
  {
   "metadata": {},
   "cell_type": "markdown",
   "source": "### 3.4. Model with 7 layers (along with Dropout)"
  },
  {
   "cell_type": "code",
   "metadata": {
    "ExecuteTime": {
     "end_time": "2024-09-12T04:06:58.198647Z",
     "start_time": "2024-09-12T04:06:58.195184Z"
    }
   },
   "source": [
    "def model_7lD_builder(hp):\n",
    "    model = Sequential()\n",
    "    model.add(Dense(68, input_dim = 68, activation = \"relu\"))\n",
    "\n",
    "    hp_activation = hp.Choice('activation', values=['relu', 'tanh'])\n",
    "    hp_layer_1 = hp.Int('layer_1', min_value=32, max_value=512, step=32)\n",
    "    hp_layer_2 = hp.Int('layer_2', min_value=32, max_value=512, step=32)\n",
    "    hp_layer_3 = hp.Int('layer_3', min_value=32, max_value=512, step=32)\n",
    "    hp_dropout_1 = hp.Float('dropout_1', min_value=0.1, max_value=0.5, step=0.1)\n",
    "    hp_dropout_2 = hp.Float('dropout_2', min_value=0.1, max_value=0.5, step=0.1)\n",
    "    hp_learning_rate = hp.Choice('learning_rate', values=[1e-2, 1e-3, 1e-4])\n",
    "\n",
    "    model.add(Dense(units=hp_layer_1, activation=hp_activation))\n",
    "    model.add(Dropout(rate=hp_dropout_1))\n",
    "    model.add(Dense(units=hp_layer_2, activation=hp_activation))\n",
    "    model.add(Dropout(rate=hp_dropout_2))\n",
    "    model.add(Dense(units=hp_layer_3, activation=hp_activation))\n",
    "    model.add(Dense(3, activation = \"softmax\"))\n",
    "\n",
    "    model.compile(optimizer=Adam(learning_rate=hp_learning_rate), loss=\"categorical_crossentropy\", metrics = [\"accuracy\"])\n",
    "    \n",
    "    return model"
   ],
   "outputs": [],
   "execution_count": 9
  },
  {
   "cell_type": "code",
   "metadata": {},
   "source": [
    "tuner_7lD = kt.Hyperband(\n",
    "    model_7lD_builder,\n",
    "    objective='accuracy',\n",
    "    max_epochs=10,\n",
    "    directory='keras_tuner_dir',\n",
    "    project_name='keras_tuner_demo_4'\n",
    ")\n",
    "tuner_7lD.search(x_train, y_train, epochs=10, callbacks=[stop_early])"
   ],
   "execution_count": 10,
   "outputs": [
    {
     "name": "stdout",
     "output_type": "stream",
     "text": [
      "Trial 30 Complete [00h 00m 05s]\n",
      "accuracy: 0.9973801374435425\n",
      "\n",
      "Best accuracy So Far: 0.9973801374435425\n",
      "Total elapsed time: 00h 01m 08s\n",
      "INFO:tensorflow:Oracle triggered exit\n"
     ]
    }
   ]
  },
  {
   "cell_type": "code",
   "metadata": {
    "ExecuteTime": {
     "end_time": "2024-09-12T04:08:37.952976Z",
     "start_time": "2024-09-12T04:08:06.643454Z"
    }
   },
   "source": [
    "model_7lD = get_best_model(tuner_7lD)\n",
    "model_7lD.fit(x_train, y_train, epochs=100, batch_size=10, validation_data=(x_test, y_test), callbacks=[stop_early])"
   ],
   "outputs": [
    {
     "name": "stdout",
     "output_type": "stream",
     "text": [
      "Describe models architecture\n",
      "Layer-1: 68 units, func:  <function relu at 0x3258ace50>\n",
      "Layer-2: 96 units, func:  <function tanh at 0x3258af1f0>\n",
      "Layer-3: 0 units, func: None\n",
      "Layer-4: 128 units, func:  <function tanh at 0x3258af1f0>\n",
      "Layer-5: 0 units, func: None\n",
      "Layer-6: 64 units, func:  <function tanh at 0x3258af1f0>\n",
      "Layer-7: 3 units, func:  <function softmax at 0x3258ac430>\n",
      "\n",
      "Other params:\n",
      "dropout_1: 0.1\n",
      "dropout_2: 0.1\n",
      "learning_rate: 0.0001\n",
      "Epoch 1/100\n",
      "2291/2291 [==============================] - 2s 638us/step - loss: 0.1322 - accuracy: 0.9664 - val_loss: 0.0254 - val_accuracy: 0.9921\n",
      "Epoch 2/100\n",
      "2291/2291 [==============================] - 1s 627us/step - loss: 0.0179 - accuracy: 0.9954 - val_loss: 0.0113 - val_accuracy: 0.9963\n",
      "Epoch 3/100\n",
      "2291/2291 [==============================] - 1s 612us/step - loss: 0.0131 - accuracy: 0.9959 - val_loss: 0.0084 - val_accuracy: 0.9967\n",
      "Epoch 4/100\n",
      "2291/2291 [==============================] - 1s 608us/step - loss: 0.0107 - accuracy: 0.9969 - val_loss: 0.0068 - val_accuracy: 0.9979\n",
      "Epoch 5/100\n",
      "2291/2291 [==============================] - 1s 612us/step - loss: 0.0087 - accuracy: 0.9975 - val_loss: 0.0084 - val_accuracy: 0.9974\n",
      "Epoch 6/100\n",
      "2291/2291 [==============================] - 1s 616us/step - loss: 0.0080 - accuracy: 0.9976 - val_loss: 0.0048 - val_accuracy: 0.9983\n",
      "Epoch 7/100\n",
      "2291/2291 [==============================] - 1s 614us/step - loss: 0.0075 - accuracy: 0.9976 - val_loss: 0.0046 - val_accuracy: 0.9984\n",
      "Epoch 8/100\n",
      "2291/2291 [==============================] - 1s 611us/step - loss: 0.0067 - accuracy: 0.9979 - val_loss: 0.0058 - val_accuracy: 0.9976\n",
      "Epoch 9/100\n",
      "2291/2291 [==============================] - 1s 608us/step - loss: 0.0061 - accuracy: 0.9978 - val_loss: 0.0038 - val_accuracy: 0.9988\n",
      "Epoch 10/100\n",
      "2291/2291 [==============================] - 1s 608us/step - loss: 0.0062 - accuracy: 0.9978 - val_loss: 0.0040 - val_accuracy: 0.9986\n",
      "Epoch 11/100\n",
      "2291/2291 [==============================] - 1s 612us/step - loss: 0.0057 - accuracy: 0.9981 - val_loss: 0.0056 - val_accuracy: 0.9983\n",
      "Epoch 12/100\n",
      "2291/2291 [==============================] - 1s 609us/step - loss: 0.0050 - accuracy: 0.9983 - val_loss: 0.0042 - val_accuracy: 0.9983\n",
      "Epoch 13/100\n",
      "2291/2291 [==============================] - 1s 608us/step - loss: 0.0057 - accuracy: 0.9980 - val_loss: 0.0057 - val_accuracy: 0.9986\n",
      "Epoch 14/100\n",
      "2291/2291 [==============================] - 1s 611us/step - loss: 0.0045 - accuracy: 0.9985 - val_loss: 0.0038 - val_accuracy: 0.9988\n",
      "Epoch 15/100\n",
      "2291/2291 [==============================] - 1s 607us/step - loss: 0.0046 - accuracy: 0.9986 - val_loss: 0.0035 - val_accuracy: 0.9990\n",
      "Epoch 16/100\n",
      "2291/2291 [==============================] - 1s 608us/step - loss: 0.0044 - accuracy: 0.9986 - val_loss: 0.0034 - val_accuracy: 0.9993\n",
      "Epoch 17/100\n",
      "2291/2291 [==============================] - 1s 609us/step - loss: 0.0044 - accuracy: 0.9986 - val_loss: 0.0030 - val_accuracy: 0.9990\n",
      "Epoch 18/100\n",
      "2291/2291 [==============================] - 1s 612us/step - loss: 0.0046 - accuracy: 0.9986 - val_loss: 0.0050 - val_accuracy: 0.9990\n",
      "Epoch 19/100\n",
      "2291/2291 [==============================] - 1s 608us/step - loss: 0.0036 - accuracy: 0.9986 - val_loss: 0.0043 - val_accuracy: 0.9990\n",
      "Epoch 20/100\n",
      "2291/2291 [==============================] - 1s 615us/step - loss: 0.0041 - accuracy: 0.9988 - val_loss: 0.0043 - val_accuracy: 0.9986\n",
      "Epoch 21/100\n",
      "2291/2291 [==============================] - 1s 613us/step - loss: 0.0043 - accuracy: 0.9986 - val_loss: 0.0050 - val_accuracy: 0.9979\n",
      "Epoch 22/100\n",
      "2291/2291 [==============================] - 2s 695us/step - loss: 0.0039 - accuracy: 0.9987 - val_loss: 0.0051 - val_accuracy: 0.9981\n"
     ]
    },
    {
     "data": {
      "text/plain": [
       "<keras.callbacks.History at 0x357ede220>"
      ]
     },
     "execution_count": 11,
     "metadata": {},
     "output_type": "execute_result"
    }
   ],
   "execution_count": 11
  },
  {
   "cell_type": "code",
   "metadata": {
    "ExecuteTime": {
     "end_time": "2024-09-12T04:08:37.955751Z",
     "start_time": "2024-09-12T04:08:37.953880Z"
    }
   },
   "source": [
    "final_models[\"7_layers_with_dropout\"] = model_7lD"
   ],
   "outputs": [],
   "execution_count": 12
  },
  {
   "cell_type": "markdown",
   "metadata": {},
   "source": [
    "### 3.6. Describe Final Models"
   ]
  },
  {
   "cell_type": "code",
   "metadata": {
    "ExecuteTime": {
     "end_time": "2024-09-12T04:08:37.959014Z",
     "start_time": "2024-09-12T04:08:37.957232Z"
    }
   },
   "source": [
    "for name, model in final_models.items():\n",
    "    print(f\"{name}: \", end=\"\")\n",
    "    describe_model(model)\n",
    "    print()"
   ],
   "outputs": [
    {
     "name": "stdout",
     "output_type": "stream",
     "text": [
      "7_layers_with_dropout: Describe models architecture\n",
      "Layer-1: 68 units, func:  <function relu at 0x3258ace50>\n",
      "Layer-2: 96 units, func:  <function tanh at 0x3258af1f0>\n",
      "Layer-3: 0 units, func: None\n",
      "Layer-4: 128 units, func:  <function tanh at 0x3258af1f0>\n",
      "Layer-5: 0 units, func: None\n",
      "Layer-6: 64 units, func:  <function tanh at 0x3258af1f0>\n",
      "Layer-7: 3 units, func:  <function softmax at 0x3258ac430>\n",
      "\n"
     ]
    }
   ],
   "execution_count": 13
  },
  {
   "cell_type": "markdown",
   "metadata": {},
   "source": [
    "## 4. Evaluate model with Train set"
   ]
  },
  {
   "cell_type": "code",
   "metadata": {
    "ExecuteTime": {
     "end_time": "2024-09-12T04:08:38.063530Z",
     "start_time": "2024-09-12T04:08:37.959591Z"
    }
   },
   "source": [
    "train_set_results = []\n",
    "\n",
    "for name, model in final_models.items():\n",
    "    # Evaluate model\n",
    "    predict_x = model.predict(x_test, verbose=False) \n",
    "    y_pred_class = np.argmax(predict_x, axis=1)\n",
    "    y_test_class = np.argmax(y_test, axis=1)\n",
    "\n",
    "    cm = confusion_matrix(y_test_class, y_pred_class, labels=[0, 1, 2])\n",
    "    (p_score, r_score, f_score, _) = precision_recall_fscore_support(y_test_class, y_pred_class, labels=[0, 1, 2])\n",
    "    \n",
    "    train_set_results.append(( name, round_up_metric_results(p_score), round_up_metric_results(r_score), round_up_metric_results(f_score), cm ))\n",
    "\n",
    "train_set_results.sort(key=lambda k: sum(k[3]), reverse=True)\n",
    "pd.DataFrame(train_set_results, columns=[\"Model\", \"Precision Score\", \"Recall Score\", \"F1 score\", \"Confusion Matrix\"])"
   ],
   "outputs": [
    {
     "data": {
      "text/plain": [
       "                   Model      Precision Score           Recall Score  \\\n",
       "0  7_layers_with_dropout  [0.997, 1.0, 0.997]  [0.998, 0.999, 0.997]   \n",
       "\n",
       "              F1 score                            Confusion Matrix  \n",
       "0  [0.997, 1.0, 0.997]  [[1999, 0, 5], [1, 1810, 0], [5, 0, 1906]]  "
      ],
      "text/html": [
       "<div>\n",
       "<style scoped>\n",
       "    .dataframe tbody tr th:only-of-type {\n",
       "        vertical-align: middle;\n",
       "    }\n",
       "\n",
       "    .dataframe tbody tr th {\n",
       "        vertical-align: top;\n",
       "    }\n",
       "\n",
       "    .dataframe thead th {\n",
       "        text-align: right;\n",
       "    }\n",
       "</style>\n",
       "<table border=\"1\" class=\"dataframe\">\n",
       "  <thead>\n",
       "    <tr style=\"text-align: right;\">\n",
       "      <th></th>\n",
       "      <th>Model</th>\n",
       "      <th>Precision Score</th>\n",
       "      <th>Recall Score</th>\n",
       "      <th>F1 score</th>\n",
       "      <th>Confusion Matrix</th>\n",
       "    </tr>\n",
       "  </thead>\n",
       "  <tbody>\n",
       "    <tr>\n",
       "      <th>0</th>\n",
       "      <td>7_layers_with_dropout</td>\n",
       "      <td>[0.997, 1.0, 0.997]</td>\n",
       "      <td>[0.998, 0.999, 0.997]</td>\n",
       "      <td>[0.997, 1.0, 0.997]</td>\n",
       "      <td>[[1999, 0, 5], [1, 1810, 0], [5, 0, 1906]]</td>\n",
       "    </tr>\n",
       "  </tbody>\n",
       "</table>\n",
       "</div>"
      ]
     },
     "execution_count": 14,
     "metadata": {},
     "output_type": "execute_result"
    }
   ],
   "execution_count": 14
  },
  {
   "cell_type": "markdown",
   "metadata": {},
   "source": [
    "## 5. Evaluation with test set"
   ]
  },
  {
   "cell_type": "code",
   "metadata": {
    "ExecuteTime": {
     "end_time": "2024-09-12T04:08:38.074238Z",
     "start_time": "2024-09-12T04:08:38.064219Z"
    }
   },
   "source": [
    "# load dataset\n",
    "test_df = pd.read_csv(\"./test.csv\")\n",
    "\n",
    "# Categorizing label\n",
    "test_df.loc[test_df[\"label\"] == \"C\", \"label\"] = 0\n",
    "test_df.loc[test_df[\"label\"] == \"H\", \"label\"] = 1\n",
    "test_df.loc[test_df[\"label\"] == \"L\", \"label\"] = 2\n",
    "\n",
    "print(f'Number of rows: {test_df.shape[0]} \\nNumber of columns: {test_df.shape[1]}\\n')\n",
    "print(f\"Labels: \\n{test_df['label'].value_counts()}\\n\")"
   ],
   "outputs": [
    {
     "name": "stdout",
     "output_type": "stream",
     "text": [
      "Number of rows: 710 \n",
      "Number of columns: 69\n",
      "\n",
      "Labels: \n",
      "1    241\n",
      "2    235\n",
      "0    234\n",
      "Name: label, dtype: int64\n",
      "\n"
     ]
    }
   ],
   "execution_count": 15
  },
  {
   "cell_type": "code",
   "metadata": {
    "ExecuteTime": {
     "end_time": "2024-09-12T04:08:38.077915Z",
     "start_time": "2024-09-12T04:08:38.074900Z"
    }
   },
   "source": [
    "# Standard Scaling of features\n",
    "test_x = test_df.drop(\"label\", axis = 1)\n",
    "test_x = pd.DataFrame(sc.transform(test_x))\n",
    "\n",
    "test_y = test_df[\"label\"]\n",
    "\n",
    "# # Converting prediction to categorical\n",
    "test_y_cat = to_categorical(test_y)"
   ],
   "outputs": [],
   "execution_count": 16
  },
  {
   "cell_type": "code",
   "metadata": {
    "ExecuteTime": {
     "end_time": "2024-09-12T04:08:38.130722Z",
     "start_time": "2024-09-12T04:08:38.078546Z"
    }
   },
   "source": [
    "test_set_results = []\n",
    "\n",
    "for name, model in final_models.items():\n",
    "    # Evaluate model\n",
    "    predict_x = model.predict(test_x, verbose=False) \n",
    "    y_pred_class = np.argmax(predict_x, axis=1)\n",
    "    y_test_class = np.argmax(test_y_cat, axis=1)\n",
    "\n",
    "    cm = confusion_matrix(y_test_class, y_pred_class, labels=[0, 1, 2])\n",
    "    (p_score, r_score, f_score, _) = precision_recall_fscore_support(y_test_class, y_pred_class, labels=[0, 1, 2])\n",
    "    \n",
    "    test_set_results.append(( name, round_up_metric_results(p_score), round_up_metric_results(r_score), round_up_metric_results(f_score), cm ))\n",
    "\n",
    "test_set_results.sort(key=lambda k: sum(k[3]), reverse=True)\n",
    "pd.DataFrame(test_set_results, columns=[\"Model\", \"Precision Score\", \"Recall Score\", \"F1 score\", \"Confusion Matrix\"])"
   ],
   "outputs": [
    {
     "data": {
      "text/plain": [
       "                   Model      Precision Score         Recall Score  \\\n",
       "0  7_layers_with_dropout  [0.876, 1.0, 0.995]  [1.0, 0.975, 0.881]   \n",
       "\n",
       "                F1 score                          Confusion Matrix  \n",
       "0  [0.934, 0.987, 0.935]  [[234, 0, 0], [5, 235, 1], [28, 0, 207]]  "
      ],
      "text/html": [
       "<div>\n",
       "<style scoped>\n",
       "    .dataframe tbody tr th:only-of-type {\n",
       "        vertical-align: middle;\n",
       "    }\n",
       "\n",
       "    .dataframe tbody tr th {\n",
       "        vertical-align: top;\n",
       "    }\n",
       "\n",
       "    .dataframe thead th {\n",
       "        text-align: right;\n",
       "    }\n",
       "</style>\n",
       "<table border=\"1\" class=\"dataframe\">\n",
       "  <thead>\n",
       "    <tr style=\"text-align: right;\">\n",
       "      <th></th>\n",
       "      <th>Model</th>\n",
       "      <th>Precision Score</th>\n",
       "      <th>Recall Score</th>\n",
       "      <th>F1 score</th>\n",
       "      <th>Confusion Matrix</th>\n",
       "    </tr>\n",
       "  </thead>\n",
       "  <tbody>\n",
       "    <tr>\n",
       "      <th>0</th>\n",
       "      <td>7_layers_with_dropout</td>\n",
       "      <td>[0.876, 1.0, 0.995]</td>\n",
       "      <td>[1.0, 0.975, 0.881]</td>\n",
       "      <td>[0.934, 0.987, 0.935]</td>\n",
       "      <td>[[234, 0, 0], [5, 235, 1], [28, 0, 207]]</td>\n",
       "    </tr>\n",
       "  </tbody>\n",
       "</table>\n",
       "</div>"
      ]
     },
     "execution_count": 17,
     "metadata": {},
     "output_type": "execute_result"
    }
   ],
   "execution_count": 17
  },
  {
   "cell_type": "markdown",
   "metadata": {},
   "source": [
    "## 6. Conclusion & Dumped model\n",
    "\n",
    "Best model according to evaluation is model with 7 layers include some dropout layers"
   ]
  },
  {
   "cell_type": "code",
   "metadata": {
    "ExecuteTime": {
     "end_time": "2024-09-12T04:08:38.918343Z",
     "start_time": "2024-09-12T04:08:38.131603Z"
    }
   },
   "source": [
    "# Dump the best model to a pickle file\n",
    "with open(\"./model/plank_dp_jainil.pkl\", \"wb\") as f:\n",
    "    pickle.dump(final_models[\"7_layers_with_dropout\"], f)"
   ],
   "outputs": [
    {
     "name": "stdout",
     "output_type": "stream",
     "text": [
      "INFO:tensorflow:Assets written to: ram://ac832f10-3acb-4575-81bd-1ed7a7a2ffad/assets\n"
     ]
    }
   ],
   "execution_count": 18
  },
  {
   "cell_type": "code",
   "metadata": {
    "ExecuteTime": {
     "end_time": "2024-09-12T04:08:39.547308Z",
     "start_time": "2024-09-12T04:08:38.922513Z"
    }
   },
   "source": [
    "# Dump final results\n",
    "with open(\"./model/all_dp_jainil.pkl\", \"wb\") as f:\n",
    "    pickle.dump(final_models, f)"
   ],
   "outputs": [
    {
     "name": "stdout",
     "output_type": "stream",
     "text": [
      "INFO:tensorflow:Assets written to: ram://1903d978-07b9-4225-8ead-52dd6dc2b5f1/assets\n"
     ]
    }
   ],
   "execution_count": 19
  },
  {
   "cell_type": "code",
   "execution_count": null,
   "metadata": {},
   "outputs": [],
   "source": []
  }
 ],
 "metadata": {
  "kernelspec": {
   "display_name": "Python 3.8.13",
   "language": "python",
   "name": "python3"
  },
  "language_info": {
   "codemirror_mode": {
    "name": "ipython",
    "version": 3
   },
   "file_extension": ".py",
   "mimetype": "text/x-python",
   "name": "python",
   "nbconvert_exporter": "python",
   "pygments_lexer": "ipython3",
   "version": "3.8.13"
  },
  "orig_nbformat": 4,
  "vscode": {
   "interpreter": {
    "hash": "9260f401923fb5c4108c543a7d176de9733d378b3752e49535ad7c43c2271b65"
   }
  }
 },
 "nbformat": 4,
 "nbformat_minor": 2
}
