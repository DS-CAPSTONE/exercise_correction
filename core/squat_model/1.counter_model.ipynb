{
 "cells": [
  {
   "cell_type": "code",
   "metadata": {
    "ExecuteTime": {
     "end_time": "2024-12-04T00:27:49.825648Z",
     "start_time": "2024-12-04T00:27:43.445791Z"
    }
   },
   "source": [
    "import mediapipe as mp\n",
    "import cv2\n",
    "import pandas as pd\n",
    "import pickle\n",
    "import numpy as np\n",
    "import csv\n",
    "import seaborn as sns\n",
    "import matplotlib.pyplot as plt\n",
    "\n",
    "from sklearn.model_selection import train_test_split\n",
    "from sklearn.preprocessing import StandardScaler\n",
    "from sklearn.calibration import CalibratedClassifierCV\n",
    "from sklearn.linear_model import LogisticRegression, SGDClassifier\n",
    "from sklearn.svm import SVC\n",
    "from sklearn.neighbors import KNeighborsClassifier\n",
    "from sklearn.tree import DecisionTreeClassifier\n",
    "from sklearn.ensemble import RandomForestClassifier\n",
    "from sklearn.naive_bayes import GaussianNB\n",
    "\n",
    "from sklearn.metrics import precision_score, accuracy_score, f1_score, recall_score, confusion_matrix, roc_curve, auc\n",
    "\n",
    "import warnings\n",
    "warnings.filterwarnings('ignore')\n",
    "\n",
    "# Drawing helpers\n",
    "mp_drawing = mp.solutions.drawing_utils\n",
    "mp_pose = mp.solutions.pose"
   ],
   "outputs": [
    {
     "name": "stderr",
     "output_type": "stream",
     "text": [
      "/Users/jainilpatel/PycharmProjects/Exercise-Correction/.venv/lib/python3.9/site-packages/urllib3/__init__.py:35: NotOpenSSLWarning: urllib3 v2 only supports OpenSSL 1.1.1+, currently the 'ssl' module is compiled with 'LibreSSL 2.8.3'. See: https://github.com/urllib3/urllib3/issues/3020\n",
      "  warnings.warn(\n"
     ]
    }
   ],
   "execution_count": 1
  },
  {
   "cell_type": "markdown",
   "metadata": {},
   "source": [
    "### 1. Set up important landmarks and functions"
   ]
  },
  {
   "cell_type": "markdown",
   "metadata": {},
   "source": [
    "#### Generate Data Frame\n",
    "\n",
    "According to my research *the correct form* for a squat is analyzed through the position of:\n",
    "- Back\n",
    "- Hip\n",
    "- Legs\n",
    "\n",
    "Therefore, there will be *9 keypoints* which will be extract from mediapipe in order to train or detect a correct form of a squat:\n",
    "- \"NOSE\",\n",
    "- \"LEFT_SHOULDER\",\n",
    "- \"RIGHT_SHOULDER\",\n",
    "- \"LEFT_HIP\",\n",
    "- \"RIGHT_HIP\",\n",
    "- \"LEFT_KNEE\",\n",
    "- \"RIGHT_KNEE\",\n",
    "- \"LEFT_ANKLE\",\n",
    "- \"RIGHT_ANKLE\"\n",
    "\n",
    "The data frame will be saved in a .csv file.\n",
    "\n",
    "A data frame will contains a \"Label\" columns which represent the label of a data point.\n",
    "\n",
    "There are another 9 x 4 columns represent 9 features of a human pose that are important for a squat.\n",
    "In that each landmark's info will be flatten\n",
    "\n",
    "According to the [Mediapipe documentation](https://google.github.io/mediapipe/solutions/pose#python-solution-api),\n",
    "Each landmark consists of the following:\n",
    "- x and y: Landmark coordinates normalized to [0.0, 1.0] by the image width and height respectively.\n",
    "- z: Represents the landmark depth with the depth at the midpoint of hips being the origin, and the smaller the value the closer the landmark is to the camera. The magnitude of z uses roughly the same scale as x.\n",
    "- visibility: A value in [0.0, 1.0] indicating the likelihood of the landmark being visible (present and not occluded) in the image."
   ]
  },
  {
   "cell_type": "code",
   "metadata": {
    "ExecuteTime": {
     "end_time": "2024-12-04T00:28:30.234097Z",
     "start_time": "2024-12-04T00:28:30.230809Z"
    }
   },
   "source": [
    "# Determine important landmarks for squat\n",
    "IMPORTANT_LMS = [\n",
    "    \"NOSE\",\n",
    "    \"LEFT_SHOULDER\",\n",
    "    \"RIGHT_SHOULDER\",\n",
    "    \"LEFT_HIP\",\n",
    "    \"RIGHT_HIP\",\n",
    "    \"LEFT_KNEE\",\n",
    "    \"RIGHT_KNEE\",\n",
    "    \"LEFT_ANKLE\",\n",
    "    \"RIGHT_ANKLE\"\n",
    "]\n",
    "\n",
    "# Generate all columns of the data frame\n",
    "\n",
    "landmarks = [\"label\"] # Label column\n",
    "\n",
    "for lm in IMPORTANT_LMS:\n",
    "    landmarks += [f\"{lm.lower()}_x\", f\"{lm.lower()}_y\", f\"{lm.lower()}_z\", f\"{lm.lower()}_v\"]"
   ],
   "outputs": [],
   "execution_count": 4
  },
  {
   "cell_type": "code",
   "metadata": {
    "ExecuteTime": {
     "end_time": "2024-12-04T00:28:30.855950Z",
     "start_time": "2024-12-04T00:28:30.849842Z"
    }
   },
   "source": [
    "def rescale_frame(frame, percent=50):\n",
    "    '''\n",
    "    Rescale a frame to a certain percentage compare to its original frame\n",
    "    '''\n",
    "    width = int(frame.shape[1] * percent/ 100)\n",
    "    height = int(frame.shape[0] * percent/ 100)\n",
    "    dim = (width, height)\n",
    "    return cv2.resize(frame, dim, interpolation =cv2.INTER_AREA)\n",
    "    \n",
    "\n",
    "def init_csv(dataset_path: str):\n",
    "    '''\n",
    "    Create a blank csv file with just columns\n",
    "    '''\n",
    "\n",
    "    # Write all the columns to a file\n",
    "    with open(dataset_path, mode=\"w\", newline=\"\") as f:\n",
    "        csv_writer = csv.writer(f, delimiter=\",\", quotechar='\"', quoting=csv.QUOTE_MINIMAL)\n",
    "        csv_writer.writerow(landmarks)\n",
    "\n",
    "        \n",
    "def export_landmark_to_csv(dataset_path: str, results, action: str) -> None:\n",
    "    '''\n",
    "    Export Labeled Data from detected landmark to csv\n",
    "    '''\n",
    "    landmarks = results.pose_landmarks.landmark\n",
    "    keypoints = []\n",
    "\n",
    "    try:\n",
    "        # Extract coordinate of important landmarks\n",
    "        for lm in IMPORTANT_LMS:\n",
    "            keypoint = landmarks[mp_pose.PoseLandmark[lm].value]\n",
    "            keypoints.append([keypoint.x, keypoint.y, keypoint.z, keypoint.visibility])\n",
    "        \n",
    "        keypoints = list(np.array(keypoints).flatten())\n",
    "\n",
    "        # Insert action as the label (first column)\n",
    "        keypoints.insert(0, action)\n",
    "\n",
    "        # Append new row to .csv file\n",
    "        with open(dataset_path, mode=\"a\", newline=\"\") as f:\n",
    "            csv_writer = csv.writer(f, delimiter=\",\", quotechar='\"', quoting=csv.QUOTE_MINIMAL)\n",
    "            csv_writer.writerow(keypoints)\n",
    "        \n",
    "\n",
    "    except Exception as e:\n",
    "        print(e)\n",
    "        pass\n",
    "\n",
    "\n",
    "def concat_csv_files_with_same_headers(file_paths: list, saved_path: str):\n",
    "    '''\n",
    "    Concat different csv files\n",
    "    '''\n",
    "    all_df = []\n",
    "    for path in file_paths:\n",
    "        df = pd.read_csv(path, index_col=None, header=0)\n",
    "        all_df.append(df)\n",
    "    \n",
    "    results = pd.concat(all_df, axis=0, ignore_index=True)\n",
    "    results.to_csv(saved_path, sep=',', encoding='utf-8', index=False)\n",
    "\n",
    "\n",
    "def describe_dataset(dataset_path: str):\n",
    "    ''''''\n",
    "\n",
    "    data = pd.read_csv(dataset_path)\n",
    "    print(f\"Headers: {list(data.columns.values)}\")\n",
    "    print(f'Number of rows: {data.shape[0]} \\nNumber of columns: {data.shape[1]}\\n')\n",
    "    print(f\"Labels: \\n{data['label'].value_counts()}\\n\")\n",
    "    print(f\"Missing values: {data.isnull().values.any()}\\n\")\n",
    "    duplicate = data[data.duplicated()]\n",
    "    print(f\"Duplicate Rows : {duplicate.sum(axis=1)}\")\n",
    "\n",
    "    return data\n",
    "\n",
    "\n",
    "def round_up_metric_results(results) -> list:\n",
    "    '''Round up metrics results such as precision score, recall score, ...'''\n",
    "    return list(map(lambda el: round(el, 3), results))"
   ],
   "outputs": [],
   "execution_count": 5
  },
  {
   "cell_type": "markdown",
   "metadata": {},
   "source": [
    "### 2. Extract data for train set"
   ]
  },
  {
   "cell_type": "code",
   "metadata": {
    "ExecuteTime": {
     "end_time": "2024-12-04T00:28:37.731546Z",
     "start_time": "2024-12-04T00:28:32.224255Z"
    }
   },
   "source": [
    "DATASET_PATH = \"./train.csv\"\n",
    "VIDEO_PATH = \"../data/squat/squat_posture.mp4\"\n",
    "VIDEO_PATH = \"../../demo/squat_demo.mp4\"\n",
    "cap = cv2.VideoCapture(VIDEO_PATH)\n",
    "up_save_count = 0\n",
    "down_save_count = 0\n",
    "\n",
    "# init_csv(DATASET_PATH)\n",
    "\n",
    "with mp_pose.Pose(min_detection_confidence=0.5, min_tracking_confidence=0.5) as pose:\n",
    "    while cap.isOpened():\n",
    "        ret, image = cap.read()\n",
    "\n",
    "        if not ret:\n",
    "            break\n",
    "        \n",
    "        # Reduce size of a frame\n",
    "        image = rescale_frame(image, 60)\n",
    "        image = cv2.flip(image, 1)\n",
    "\n",
    "        # Recolor image from BGR to RGB for mediapipe\n",
    "        image = cv2.cvtColor(image, cv2.COLOR_BGR2RGB)\n",
    "        image.flags.writeable = False\n",
    "\n",
    "        results = pose.process(image)\n",
    "\n",
    "        # Recolor image from BGR to RGB for mediapipe\n",
    "        image.flags.writeable = True\n",
    "        image = cv2.cvtColor(image, cv2.COLOR_RGB2BGR)\n",
    "\n",
    "        # Draw landmarks and connections\n",
    "        mp_drawing.draw_landmarks(image, results.pose_landmarks, mp_pose.POSE_CONNECTIONS, mp_drawing.DrawingSpec(color=(244, 117, 66), thickness=2, circle_radius=4), mp_drawing.DrawingSpec(color=(245, 66, 230), thickness=2, circle_radius=2))\n",
    "\n",
    "        # Display the saved count\n",
    "        cv2.putText(image, f\"UP saved: {up_save_count}\", (50, 150), cv2.FONT_HERSHEY_COMPLEX, 2, (255, 255, 255), 1, cv2.LINE_AA)\n",
    "        cv2.putText(image, f\"DOWN saved: {down_save_count}\", (50, 200), cv2.FONT_HERSHEY_COMPLEX, 2, (255, 255, 255), 1, cv2.LINE_AA)\n",
    "\n",
    "        cv2.imshow(\"CV2\", image)\n",
    "\n",
    "         # Pressed key for action\n",
    "        k = cv2.waitKey(1) & 0xFF\n",
    "\n",
    "        if k == ord('d'): \n",
    "            export_landmark_to_csv(DATASET_PATH, results, \"down\")\n",
    "            down_save_count += 1\n",
    "        elif k == ord(\"u\"):\n",
    "            export_landmark_to_csv(DATASET_PATH, results, \"up\")\n",
    "            up_save_count += 1\n",
    "        # Press q to stop\n",
    "        elif k == ord(\"q\"):\n",
    "            break\n",
    "        else: continue\n",
    "\n",
    "    cap.release()\n",
    "    cv2.destroyAllWindows()\n",
    "\n",
    "    # (Optional)Fix bugs cannot close windows in MacOS (https://stackoverflow.com/questions/6116564/destroywindow-does-not-close-window-on-mac-using-python-and-opencv)\n",
    "    for i in range (1, 5):\n",
    "        cv2.waitKey(1)\n",
    "        "
   ],
   "outputs": [
    {
     "name": "stderr",
     "output_type": "stream",
     "text": [
      "INFO: Created TensorFlow Lite XNNPACK delegate for CPU.\n"
     ]
    },
    {
     "ename": "KeyboardInterrupt",
     "evalue": "",
     "output_type": "error",
     "traceback": [
      "\u001B[0;31m---------------------------------------------------------------------------\u001B[0m",
      "\u001B[0;31mKeyboardInterrupt\u001B[0m                         Traceback (most recent call last)",
      "Cell \u001B[0;32mIn[6], line 25\u001B[0m\n\u001B[1;32m     22\u001B[0m image \u001B[38;5;241m=\u001B[39m cv2\u001B[38;5;241m.\u001B[39mcvtColor(image, cv2\u001B[38;5;241m.\u001B[39mCOLOR_BGR2RGB)\n\u001B[1;32m     23\u001B[0m image\u001B[38;5;241m.\u001B[39mflags\u001B[38;5;241m.\u001B[39mwriteable \u001B[38;5;241m=\u001B[39m \u001B[38;5;28;01mFalse\u001B[39;00m\n\u001B[0;32m---> 25\u001B[0m results \u001B[38;5;241m=\u001B[39m \u001B[43mpose\u001B[49m\u001B[38;5;241;43m.\u001B[39;49m\u001B[43mprocess\u001B[49m\u001B[43m(\u001B[49m\u001B[43mimage\u001B[49m\u001B[43m)\u001B[49m\n\u001B[1;32m     27\u001B[0m \u001B[38;5;66;03m# Recolor image from BGR to RGB for mediapipe\u001B[39;00m\n\u001B[1;32m     28\u001B[0m image\u001B[38;5;241m.\u001B[39mflags\u001B[38;5;241m.\u001B[39mwriteable \u001B[38;5;241m=\u001B[39m \u001B[38;5;28;01mTrue\u001B[39;00m\n",
      "File \u001B[0;32m~/PycharmProjects/Exercise-Correction/.venv/lib/python3.9/site-packages/mediapipe/python/solutions/pose.py:185\u001B[0m, in \u001B[0;36mPose.process\u001B[0;34m(self, image)\u001B[0m\n\u001B[1;32m    164\u001B[0m \u001B[38;5;28;01mdef\u001B[39;00m \u001B[38;5;21mprocess\u001B[39m(\u001B[38;5;28mself\u001B[39m, image: np\u001B[38;5;241m.\u001B[39mndarray) \u001B[38;5;241m-\u001B[39m\u001B[38;5;241m>\u001B[39m NamedTuple:\n\u001B[1;32m    165\u001B[0m \u001B[38;5;250m  \u001B[39m\u001B[38;5;124;03m\"\"\"Processes an RGB image and returns the pose landmarks on the most prominent person detected.\u001B[39;00m\n\u001B[1;32m    166\u001B[0m \n\u001B[1;32m    167\u001B[0m \u001B[38;5;124;03m  Args:\u001B[39;00m\n\u001B[0;32m   (...)\u001B[0m\n\u001B[1;32m    182\u001B[0m \u001B[38;5;124;03m         \"enable_segmentation\" is set to true.\u001B[39;00m\n\u001B[1;32m    183\u001B[0m \u001B[38;5;124;03m  \"\"\"\u001B[39;00m\n\u001B[0;32m--> 185\u001B[0m   results \u001B[38;5;241m=\u001B[39m \u001B[38;5;28;43msuper\u001B[39;49m\u001B[43m(\u001B[49m\u001B[43m)\u001B[49m\u001B[38;5;241;43m.\u001B[39;49m\u001B[43mprocess\u001B[49m\u001B[43m(\u001B[49m\u001B[43minput_data\u001B[49m\u001B[38;5;241;43m=\u001B[39;49m\u001B[43m{\u001B[49m\u001B[38;5;124;43m'\u001B[39;49m\u001B[38;5;124;43mimage\u001B[39;49m\u001B[38;5;124;43m'\u001B[39;49m\u001B[43m:\u001B[49m\u001B[43m \u001B[49m\u001B[43mimage\u001B[49m\u001B[43m}\u001B[49m\u001B[43m)\u001B[49m\n\u001B[1;32m    186\u001B[0m   \u001B[38;5;28;01mif\u001B[39;00m results\u001B[38;5;241m.\u001B[39mpose_landmarks:  \u001B[38;5;66;03m# pytype: disable=attribute-error\u001B[39;00m\n\u001B[1;32m    187\u001B[0m     \u001B[38;5;28;01mfor\u001B[39;00m landmark \u001B[38;5;129;01min\u001B[39;00m results\u001B[38;5;241m.\u001B[39mpose_landmarks\u001B[38;5;241m.\u001B[39mlandmark:  \u001B[38;5;66;03m# pytype: disable=attribute-error\u001B[39;00m\n",
      "File \u001B[0;32m~/PycharmProjects/Exercise-Correction/.venv/lib/python3.9/site-packages/mediapipe/python/solution_base.py:365\u001B[0m, in \u001B[0;36mSolutionBase.process\u001B[0;34m(self, input_data)\u001B[0m\n\u001B[1;32m    359\u001B[0m   \u001B[38;5;28;01melse\u001B[39;00m:\n\u001B[1;32m    360\u001B[0m     \u001B[38;5;28mself\u001B[39m\u001B[38;5;241m.\u001B[39m_graph\u001B[38;5;241m.\u001B[39madd_packet_to_input_stream(\n\u001B[1;32m    361\u001B[0m         stream\u001B[38;5;241m=\u001B[39mstream_name,\n\u001B[1;32m    362\u001B[0m         packet\u001B[38;5;241m=\u001B[39m\u001B[38;5;28mself\u001B[39m\u001B[38;5;241m.\u001B[39m_make_packet(input_stream_type,\n\u001B[1;32m    363\u001B[0m                                  data)\u001B[38;5;241m.\u001B[39mat(\u001B[38;5;28mself\u001B[39m\u001B[38;5;241m.\u001B[39m_simulated_timestamp))\n\u001B[0;32m--> 365\u001B[0m \u001B[38;5;28;43mself\u001B[39;49m\u001B[38;5;241;43m.\u001B[39;49m\u001B[43m_graph\u001B[49m\u001B[38;5;241;43m.\u001B[39;49m\u001B[43mwait_until_idle\u001B[49m\u001B[43m(\u001B[49m\u001B[43m)\u001B[49m\n\u001B[1;32m    366\u001B[0m \u001B[38;5;66;03m# Create a NamedTuple object where the field names are mapping to the graph\u001B[39;00m\n\u001B[1;32m    367\u001B[0m \u001B[38;5;66;03m# output stream names.\u001B[39;00m\n\u001B[1;32m    368\u001B[0m solution_outputs \u001B[38;5;241m=\u001B[39m collections\u001B[38;5;241m.\u001B[39mnamedtuple(\n\u001B[1;32m    369\u001B[0m     \u001B[38;5;124m'\u001B[39m\u001B[38;5;124mSolutionOutputs\u001B[39m\u001B[38;5;124m'\u001B[39m, \u001B[38;5;28mself\u001B[39m\u001B[38;5;241m.\u001B[39m_output_stream_type_info\u001B[38;5;241m.\u001B[39mkeys())\n",
      "\u001B[0;31mKeyboardInterrupt\u001B[0m: "
     ]
    }
   ],
   "execution_count": 6
  },
  {
   "cell_type": "code",
   "metadata": {
    "ExecuteTime": {
     "end_time": "2024-12-04T00:28:40.759510Z",
     "start_time": "2024-12-04T00:28:40.723821Z"
    }
   },
   "source": [
    "df = describe_dataset(DATASET_PATH)"
   ],
   "outputs": [
    {
     "name": "stdout",
     "output_type": "stream",
     "text": [
      "Headers: ['label', 'nose_x', 'nose_y', 'nose_z', 'nose_v', 'left_shoulder_x', 'left_shoulder_y', 'left_shoulder_z', 'left_shoulder_v', 'right_shoulder_x', 'right_shoulder_y', 'right_shoulder_z', 'right_shoulder_v', 'left_hip_x', 'left_hip_y', 'left_hip_z', 'left_hip_v', 'right_hip_x', 'right_hip_y', 'right_hip_z', 'right_hip_v', 'left_knee_x', 'left_knee_y', 'left_knee_z', 'left_knee_v', 'right_knee_x', 'right_knee_y', 'right_knee_z', 'right_knee_v', 'left_ankle_x', 'left_ankle_y', 'left_ankle_z', 'left_ankle_v', 'right_ankle_x', 'right_ankle_y', 'right_ankle_z', 'right_ankle_v']\n",
      "Number of rows: 4160 \n",
      "Number of columns: 37\n",
      "\n",
      "Labels: \n",
      "down    2127\n",
      "up      2033\n",
      "Name: label, dtype: int64\n",
      "\n",
      "Missing values: False\n",
      "\n",
      "Duplicate Rows : Series([], dtype: float64)\n"
     ]
    }
   ],
   "execution_count": 7
  },
  {
   "cell_type": "markdown",
   "metadata": {},
   "source": [
    "### 3. Extract data for test set "
   ]
  },
  {
   "cell_type": "code",
   "metadata": {
    "ExecuteTime": {
     "end_time": "2024-09-12T04:29:39.060175Z",
     "start_time": "2024-09-12T04:29:34.031488Z"
    }
   },
   "source": [
    "TEST_DATASET_PATH = \"./test.csv\"\n",
    "VIDEO_PATH = \"../data/squat/squat_test_4.mp4\"\n",
    "VIDEO_PATH = \"../../demo/squat_demo.mp4\"\n",
    "cap = cv2.VideoCapture(VIDEO_PATH)\n",
    "up_save_count = 0\n",
    "down_save_count = 0\n",
    "\n",
    "# init_csv(TEST_DATASET_PATH)\n",
    "\n",
    "with mp_pose.Pose(min_detection_confidence=0.5, min_tracking_confidence=0.5) as pose:\n",
    "    while cap.isOpened():\n",
    "        ret, image = cap.read()\n",
    "\n",
    "        if not ret:\n",
    "            break\n",
    "            \n",
    "        # Reduce size of a frame\n",
    "        image = rescale_frame(image, 60)\n",
    "        # image = cv2.flip(image, 1)\n",
    "\n",
    "        # Recolor image from BGR to RGB for mediapipe\n",
    "        image = cv2.cvtColor(image, cv2.COLOR_BGR2RGB)\n",
    "        image.flags.writeable = False\n",
    "\n",
    "        results = pose.process(image)\n",
    "\n",
    "        # Recolor image from BGR to RGB for mediapipe\n",
    "        image.flags.writeable = True\n",
    "        image = cv2.cvtColor(image, cv2.COLOR_RGB2BGR)\n",
    "\n",
    "        # Draw landmarks and connections\n",
    "        mp_drawing.draw_landmarks(image, results.pose_landmarks, mp_pose.POSE_CONNECTIONS, mp_drawing.DrawingSpec(color=(244, 117, 66), thickness=2, circle_radius=4), mp_drawing.DrawingSpec(color=(245, 66, 230), thickness=2, circle_radius=2))\n",
    "\n",
    "        # Display the saved count\n",
    "        cv2.putText(image, f\"UP saved: {up_save_count}\", (50, 150), cv2.FONT_HERSHEY_COMPLEX, 2, (255, 255, 255), 1, cv2.LINE_AA)\n",
    "        cv2.putText(image, f\"DOWN saved: {down_save_count}\", (50, 200), cv2.FONT_HERSHEY_COMPLEX, 2, (255, 255, 255), 1, cv2.LINE_AA)\n",
    "\n",
    "        cv2.imshow(\"CV2\", image)\n",
    "\n",
    "         # Pressed key for action\n",
    "        k = cv2.waitKey(1) & 0xFF\n",
    "\n",
    "        if k == ord('d'): \n",
    "            export_landmark_to_csv(TEST_DATASET_PATH, results, \"down\")\n",
    "            down_save_count += 1\n",
    "        elif k == ord(\"u\"):\n",
    "            export_landmark_to_csv(TEST_DATASET_PATH, results, \"up\")\n",
    "            up_save_count += 1\n",
    "        # Press q to stop\n",
    "        elif k == ord(\"q\"):\n",
    "            break\n",
    "        else: continue\n",
    "\n",
    "    cap.release()\n",
    "    cv2.destroyAllWindows()\n",
    "\n",
    "    # (Optional)Fix bugs cannot close windows in MacOS (https://stackoverflow.com/questions/6116564/destroywindow-does-not-close-window-on-mac-using-python-and-opencv)\n",
    "    for i in range (1, 5):\n",
    "        cv2.waitKey(1)\n",
    "        "
   ],
   "outputs": [],
   "execution_count": 6
  },
  {
   "cell_type": "markdown",
   "metadata": {},
   "source": [
    "### 4. Train custom model using Scikit Learn"
   ]
  },
  {
   "cell_type": "markdown",
   "metadata": {},
   "source": [
    "#### 4.1 Read and describe data"
   ]
  },
  {
   "cell_type": "code",
   "metadata": {
    "ExecuteTime": {
     "end_time": "2024-12-04T00:29:08.865665Z",
     "start_time": "2024-12-04T00:29:08.699690Z"
    }
   },
   "source": [
    "# Brief describe of the dataset\n",
    "df = describe_dataset(\"./train.csv\")\n",
    "sns.countplot(x='label', data=df, palette=\"Set1\") \n",
    "df.loc[df[\"label\"] == \"down\", \"label\"] = 0\n",
    "df.loc[df[\"label\"] == \"up\", \"label\"] = 1"
   ],
   "outputs": [
    {
     "name": "stdout",
     "output_type": "stream",
     "text": [
      "Headers: ['label', 'nose_x', 'nose_y', 'nose_z', 'nose_v', 'left_shoulder_x', 'left_shoulder_y', 'left_shoulder_z', 'left_shoulder_v', 'right_shoulder_x', 'right_shoulder_y', 'right_shoulder_z', 'right_shoulder_v', 'left_hip_x', 'left_hip_y', 'left_hip_z', 'left_hip_v', 'right_hip_x', 'right_hip_y', 'right_hip_z', 'right_hip_v', 'left_knee_x', 'left_knee_y', 'left_knee_z', 'left_knee_v', 'right_knee_x', 'right_knee_y', 'right_knee_z', 'right_knee_v', 'left_ankle_x', 'left_ankle_y', 'left_ankle_z', 'left_ankle_v', 'right_ankle_x', 'right_ankle_y', 'right_ankle_z', 'right_ankle_v']\n",
      "Number of rows: 4160 \n",
      "Number of columns: 37\n",
      "\n",
      "Labels: \n",
      "down    2127\n",
      "up      2033\n",
      "Name: label, dtype: int64\n",
      "\n",
      "Missing values: False\n",
      "\n",
      "Duplicate Rows : Series([], dtype: float64)\n"
     ]
    },
    {
     "data": {
      "text/plain": [
       "<Figure size 640x480 with 1 Axes>"
      ],
      "image/png": "[encoded data removed]"
     },
     "metadata": {},
     "output_type": "display_data"
    }
   ],
   "execution_count": 8
  },
  {
   "cell_type": "code",
   "metadata": {
    "ExecuteTime": {
     "end_time": "2024-12-04T00:29:13.907588Z",
     "start_time": "2024-12-04T00:29:13.902510Z"
    }
   },
   "source": [
    "# Extract features and class\n",
    "X = df.drop(\"label\", axis=1) # features\n",
    "y = df[\"label\"].astype(\"int\")\n",
    "\n",
    "sc = StandardScaler()\n",
    "X = pd.DataFrame(sc.fit_transform(X))"
   ],
   "outputs": [],
   "execution_count": 9
  },
  {
   "cell_type": "code",
   "metadata": {
    "ExecuteTime": {
     "end_time": "2024-12-04T00:29:16.016383Z",
     "start_time": "2024-12-04T00:29:16.010034Z"
    }
   },
   "source": [
    "# Split train set and test set\n",
    "X_train, X_test, y_train, y_test = train_test_split(X, y, test_size=0.2, random_state=1234)\n",
    "y_test.head(3)"
   ],
   "outputs": [
    {
     "data": {
      "text/plain": [
       "3319    1\n",
       "2621    0\n",
       "3820    1\n",
       "Name: label, dtype: int64"
      ]
     },
     "execution_count": 10,
     "metadata": {},
     "output_type": "execute_result"
    }
   ],
   "execution_count": 10
  },
  {
   "cell_type": "markdown",
   "metadata": {},
   "source": [
    "#### 4.2 Train Machine learning model"
   ]
  },
  {
   "cell_type": "code",
   "metadata": {
    "ExecuteTime": {
     "end_time": "2024-12-04T00:34:59.678527Z",
     "start_time": "2024-12-04T00:34:58.009297Z"
    }
   },
   "source": [
    "from sklearn.ensemble import HistGradientBoostingClassifier\n",
    "\n",
    "\n",
    "\n",
    "algorithms =[(\"HistGradientBoosting\", HistGradientBoostingClassifier()),\n",
    "            (\"LR\", LogisticRegression()),\n",
    "         (\"SVC\", SVC(probability=True)),\n",
    "         ('KNN',KNeighborsClassifier()),\n",
    "         (\"DTC\", DecisionTreeClassifier()),\n",
    "         (\"SGDC\", CalibratedClassifierCV(SGDClassifier())),\n",
    "         (\"NB\", GaussianNB()),\n",
    "         ('RF', RandomForestClassifier()),]\n",
    "\n",
    "models = {}\n",
    "final_results = []\n",
    "\n",
    "for name, model in algorithms:\n",
    "    trained_model = model.fit(X_train, y_train)\n",
    "    models[name] = trained_model\n",
    "\n",
    "    # Evaluate model\n",
    "    model_results = model.predict(X_test)\n",
    "\n",
    "    p_score = precision_score(y_test, model_results, average=None, labels=[0, 1])\n",
    "    a_score = accuracy_score(y_test, model_results)\n",
    "    r_score = recall_score(y_test, model_results, average=None, labels=[0, 1])\n",
    "    f1_score_result = f1_score(y_test, model_results, average=None, labels=[0, 1])\n",
    "    cm = confusion_matrix(y_test, model_results, labels=[0, 1])\n",
    "    final_results.append(( name,  round_up_metric_results(p_score), a_score, round_up_metric_results(r_score), round_up_metric_results(f1_score_result), cm))\n",
    "\n",
    "# Sort results by F1 score\n",
    "final_results.sort(key=lambda k: sum(k[4]), reverse=True)\n",
    "pd.DataFrame(final_results, columns=[\"Model\", \"Precision Score\", \"Accuracy score\", \"Recall Score\", \"F1 score\", \"Confusion Matrix\"])\n"
   ],
   "outputs": [
    {
     "data": {
      "text/plain": [
       "                  Model Precision Score  Accuracy score    Recall Score  \\\n",
       "0  HistGradientBoosting    [0.998, 1.0]        0.998798    [1.0, 0.998]   \n",
       "1                    LR    [0.995, 1.0]        0.997596    [1.0, 0.995]   \n",
       "2                   SVC    [0.995, 1.0]        0.997596    [1.0, 0.995]   \n",
       "3                   KNN    [0.995, 1.0]        0.997596    [1.0, 0.995]   \n",
       "4                   DTC  [0.998, 0.998]        0.997596  [0.998, 0.998]   \n",
       "5                  SGDC    [0.995, 1.0]        0.997596    [1.0, 0.995]   \n",
       "6                    RF  [0.998, 0.998]        0.997596  [0.998, 0.998]   \n",
       "7                    NB    [0.986, 1.0]        0.992788    [1.0, 0.985]   \n",
       "\n",
       "         F1 score      Confusion Matrix  \n",
       "0  [0.999, 0.999]  [[427, 0], [1, 404]]  \n",
       "1  [0.998, 0.998]  [[427, 0], [2, 403]]  \n",
       "2  [0.998, 0.998]  [[427, 0], [2, 403]]  \n",
       "3  [0.998, 0.998]  [[427, 0], [2, 403]]  \n",
       "4  [0.998, 0.998]  [[426, 1], [1, 404]]  \n",
       "5  [0.998, 0.998]  [[427, 0], [2, 403]]  \n",
       "6  [0.998, 0.998]  [[426, 1], [1, 404]]  \n",
       "7  [0.993, 0.993]  [[427, 0], [6, 399]]  "
      ],
      "text/html": [
       "<div>\n",
       "<style scoped>\n",
       "    .dataframe tbody tr th:only-of-type {\n",
       "        vertical-align: middle;\n",
       "    }\n",
       "\n",
       "    .dataframe tbody tr th {\n",
       "        vertical-align: top;\n",
       "    }\n",
       "\n",
       "    .dataframe thead th {\n",
       "        text-align: right;\n",
       "    }\n",
       "</style>\n",
       "<table border=\"1\" class=\"dataframe\">\n",
       "  <thead>\n",
       "    <tr style=\"text-align: right;\">\n",
       "      <th></th>\n",
       "      <th>Model</th>\n",
       "      <th>Precision Score</th>\n",
       "      <th>Accuracy score</th>\n",
       "      <th>Recall Score</th>\n",
       "      <th>F1 score</th>\n",
       "      <th>Confusion Matrix</th>\n",
       "    </tr>\n",
       "  </thead>\n",
       "  <tbody>\n",
       "    <tr>\n",
       "      <th>0</th>\n",
       "      <td>HistGradientBoosting</td>\n",
       "      <td>[0.998, 1.0]</td>\n",
       "      <td>0.998798</td>\n",
       "      <td>[1.0, 0.998]</td>\n",
       "      <td>[0.999, 0.999]</td>\n",
       "      <td>[[427, 0], [1, 404]]</td>\n",
       "    </tr>\n",
       "    <tr>\n",
       "      <th>1</th>\n",
       "      <td>LR</td>\n",
       "      <td>[0.995, 1.0]</td>\n",
       "      <td>0.997596</td>\n",
       "      <td>[1.0, 0.995]</td>\n",
       "      <td>[0.998, 0.998]</td>\n",
       "      <td>[[427, 0], [2, 403]]</td>\n",
       "    </tr>\n",
       "    <tr>\n",
       "      <th>2</th>\n",
       "      <td>SVC</td>\n",
       "      <td>[0.995, 1.0]</td>\n",
       "      <td>0.997596</td>\n",
       "      <td>[1.0, 0.995]</td>\n",
       "      <td>[0.998, 0.998]</td>\n",
       "      <td>[[427, 0], [2, 403]]</td>\n",
       "    </tr>\n",
       "    <tr>\n",
       "      <th>3</th>\n",
       "      <td>KNN</td>\n",
       "      <td>[0.995, 1.0]</td>\n",
       "      <td>0.997596</td>\n",
       "      <td>[1.0, 0.995]</td>\n",
       "      <td>[0.998, 0.998]</td>\n",
       "      <td>[[427, 0], [2, 403]]</td>\n",
       "    </tr>\n",
       "    <tr>\n",
       "      <th>4</th>\n",
       "      <td>DTC</td>\n",
       "      <td>[0.998, 0.998]</td>\n",
       "      <td>0.997596</td>\n",
       "      <td>[0.998, 0.998]</td>\n",
       "      <td>[0.998, 0.998]</td>\n",
       "      <td>[[426, 1], [1, 404]]</td>\n",
       "    </tr>\n",
       "    <tr>\n",
       "      <th>5</th>\n",
       "      <td>SGDC</td>\n",
       "      <td>[0.995, 1.0]</td>\n",
       "      <td>0.997596</td>\n",
       "      <td>[1.0, 0.995]</td>\n",
       "      <td>[0.998, 0.998]</td>\n",
       "      <td>[[427, 0], [2, 403]]</td>\n",
       "    </tr>\n",
       "    <tr>\n",
       "      <th>6</th>\n",
       "      <td>RF</td>\n",
       "      <td>[0.998, 0.998]</td>\n",
       "      <td>0.997596</td>\n",
       "      <td>[0.998, 0.998]</td>\n",
       "      <td>[0.998, 0.998]</td>\n",
       "      <td>[[426, 1], [1, 404]]</td>\n",
       "    </tr>\n",
       "    <tr>\n",
       "      <th>7</th>\n",
       "      <td>NB</td>\n",
       "      <td>[0.986, 1.0]</td>\n",
       "      <td>0.992788</td>\n",
       "      <td>[1.0, 0.985]</td>\n",
       "      <td>[0.993, 0.993]</td>\n",
       "      <td>[[427, 0], [6, 399]]</td>\n",
       "    </tr>\n",
       "  </tbody>\n",
       "</table>\n",
       "</div>"
      ]
     },
     "execution_count": 11,
     "metadata": {},
     "output_type": "execute_result"
    }
   ],
   "execution_count": 11
  },
  {
   "cell_type": "markdown",
   "metadata": {},
   "source": [
    "#### 4.3 Test set evaluation"
   ]
  },
  {
   "cell_type": "code",
   "metadata": {
    "ExecuteTime": {
     "end_time": "2024-12-04T00:35:45.571871Z",
     "start_time": "2024-12-04T00:35:45.556529Z"
    }
   },
   "source": [
    "test_df = describe_dataset(\"./test.csv\")\n",
    "test_df.loc[test_df[\"label\"] == \"down\", \"label\"] = 0\n",
    "test_df.loc[test_df[\"label\"] == \"up\", \"label\"] = 1\n",
    "\n",
    "test_x = test_df.drop(\"label\", axis=1)\n",
    "test_y = test_df[\"label\"].astype(\"int\")"
   ],
   "outputs": [
    {
     "name": "stdout",
     "output_type": "stream",
     "text": [
      "Headers: ['label', 'nose_x', 'nose_y', 'nose_z', 'nose_v', 'left_shoulder_x', 'left_shoulder_y', 'left_shoulder_z', 'left_shoulder_v', 'right_shoulder_x', 'right_shoulder_y', 'right_shoulder_z', 'right_shoulder_v', 'left_hip_x', 'left_hip_y', 'left_hip_z', 'left_hip_v', 'right_hip_x', 'right_hip_y', 'right_hip_z', 'right_hip_v', 'left_knee_x', 'left_knee_y', 'left_knee_z', 'left_knee_v', 'right_knee_x', 'right_knee_y', 'right_knee_z', 'right_knee_v', 'left_ankle_x', 'left_ankle_y', 'left_ankle_z', 'left_ankle_v', 'right_ankle_x', 'right_ankle_y', 'right_ankle_z', 'right_ankle_v']\n",
      "Number of rows: 853 \n",
      "Number of columns: 37\n",
      "\n",
      "Labels: \n",
      "down    430\n",
      "up      423\n",
      "Name: label, dtype: int64\n",
      "\n",
      "Missing values: False\n",
      "\n",
      "Duplicate Rows : Series([], dtype: float64)\n"
     ]
    }
   ],
   "execution_count": 12
  },
  {
   "cell_type": "code",
   "metadata": {
    "ExecuteTime": {
     "end_time": "2024-12-04T00:35:53.539269Z",
     "start_time": "2024-12-04T00:35:53.227325Z"
    }
   },
   "source": [
    "testset_final_results = []\n",
    "\n",
    "for name, model in models.items():\n",
    "    # Evaluate model\n",
    "    model_results = model.predict(test_x)\n",
    "\n",
    "    p_score = precision_score(test_y, model_results, average=\"weighted\")\n",
    "    a_score = accuracy_score(test_y, model_results)\n",
    "    r_score = recall_score(test_y, model_results, average=\"weighted\")\n",
    "    f1_score_result = f1_score(test_y, model_results, average=\"weighted\")\n",
    "    cm = confusion_matrix(test_y, model_results, labels=[0, 1])\n",
    "    testset_final_results.append(( name,  (p_score), a_score, (r_score), (f1_score_result), cm ))\n",
    "\n",
    "\n",
    "testset_final_results.sort(key=lambda k: k[4], reverse=True)\n",
    "eval_df = pd.DataFrame(testset_final_results, columns=[\"Model\", \"Precision score\", \"Accuracy score\", \"Recall score\", \"F1 score\", \"Confusion Matrix\"])\n",
    "eval_df = eval_df.sort_values(by=['F1 score'], ascending=False).reset_index(drop=True)\n",
    "eval_df.to_csv(f\"evaluation.csv\", sep=',', encoding='utf-8', index=False)\n",
    "eval_df"
   ],
   "outputs": [
    {
     "data": {
      "text/plain": [
       "                  Model  Precision score  Accuracy score  Recall score  \\\n",
       "0                  SGDC         0.995321        0.995311      0.995311   \n",
       "1                    LR         0.994141        0.994138      0.994138   \n",
       "2  HistGradientBoosting         0.993063        0.992966      0.992966   \n",
       "3                   KNN         0.985207        0.984760      0.984760   \n",
       "4                   SVC         0.977595        0.976553      0.976553   \n",
       "5                   DTC         0.254120        0.504103      0.504103   \n",
       "6                    NB         0.254120        0.504103      0.504103   \n",
       "7                    RF         0.254120        0.504103      0.504103   \n",
       "\n",
       "   F1 score       Confusion Matrix  \n",
       "0  0.995311   [[429, 1], [3, 420]]  \n",
       "1  0.994138   [[428, 2], [3, 420]]  \n",
       "2  0.992965   [[430, 0], [6, 417]]  \n",
       "3  0.984754  [[430, 0], [13, 410]]  \n",
       "4  0.976536  [[430, 0], [20, 403]]  \n",
       "5  0.337902   [[430, 0], [423, 0]]  \n",
       "6  0.337902   [[430, 0], [423, 0]]  \n",
       "7  0.337902   [[430, 0], [423, 0]]  "
      ],
      "text/html": [
       "<div>\n",
       "<style scoped>\n",
       "    .dataframe tbody tr th:only-of-type {\n",
       "        vertical-align: middle;\n",
       "    }\n",
       "\n",
       "    .dataframe tbody tr th {\n",
       "        vertical-align: top;\n",
       "    }\n",
       "\n",
       "    .dataframe thead th {\n",
       "        text-align: right;\n",
       "    }\n",
       "</style>\n",
       "<table border=\"1\" class=\"dataframe\">\n",
       "  <thead>\n",
       "    <tr style=\"text-align: right;\">\n",
       "      <th></th>\n",
       "      <th>Model</th>\n",
       "      <th>Precision score</th>\n",
       "      <th>Accuracy score</th>\n",
       "      <th>Recall score</th>\n",
       "      <th>F1 score</th>\n",
       "      <th>Confusion Matrix</th>\n",
       "    </tr>\n",
       "  </thead>\n",
       "  <tbody>\n",
       "    <tr>\n",
       "      <th>0</th>\n",
       "      <td>SGDC</td>\n",
       "      <td>0.995321</td>\n",
       "      <td>0.995311</td>\n",
       "      <td>0.995311</td>\n",
       "      <td>0.995311</td>\n",
       "      <td>[[429, 1], [3, 420]]</td>\n",
       "    </tr>\n",
       "    <tr>\n",
       "      <th>1</th>\n",
       "      <td>LR</td>\n",
       "      <td>0.994141</td>\n",
       "      <td>0.994138</td>\n",
       "      <td>0.994138</td>\n",
       "      <td>0.994138</td>\n",
       "      <td>[[428, 2], [3, 420]]</td>\n",
       "    </tr>\n",
       "    <tr>\n",
       "      <th>2</th>\n",
       "      <td>HistGradientBoosting</td>\n",
       "      <td>0.993063</td>\n",
       "      <td>0.992966</td>\n",
       "      <td>0.992966</td>\n",
       "      <td>0.992965</td>\n",
       "      <td>[[430, 0], [6, 417]]</td>\n",
       "    </tr>\n",
       "    <tr>\n",
       "      <th>3</th>\n",
       "      <td>KNN</td>\n",
       "      <td>0.985207</td>\n",
       "      <td>0.984760</td>\n",
       "      <td>0.984760</td>\n",
       "      <td>0.984754</td>\n",
       "      <td>[[430, 0], [13, 410]]</td>\n",
       "    </tr>\n",
       "    <tr>\n",
       "      <th>4</th>\n",
       "      <td>SVC</td>\n",
       "      <td>0.977595</td>\n",
       "      <td>0.976553</td>\n",
       "      <td>0.976553</td>\n",
       "      <td>0.976536</td>\n",
       "      <td>[[430, 0], [20, 403]]</td>\n",
       "    </tr>\n",
       "    <tr>\n",
       "      <th>5</th>\n",
       "      <td>DTC</td>\n",
       "      <td>0.254120</td>\n",
       "      <td>0.504103</td>\n",
       "      <td>0.504103</td>\n",
       "      <td>0.337902</td>\n",
       "      <td>[[430, 0], [423, 0]]</td>\n",
       "    </tr>\n",
       "    <tr>\n",
       "      <th>6</th>\n",
       "      <td>NB</td>\n",
       "      <td>0.254120</td>\n",
       "      <td>0.504103</td>\n",
       "      <td>0.504103</td>\n",
       "      <td>0.337902</td>\n",
       "      <td>[[430, 0], [423, 0]]</td>\n",
       "    </tr>\n",
       "    <tr>\n",
       "      <th>7</th>\n",
       "      <td>RF</td>\n",
       "      <td>0.254120</td>\n",
       "      <td>0.504103</td>\n",
       "      <td>0.504103</td>\n",
       "      <td>0.337902</td>\n",
       "      <td>[[430, 0], [423, 0]]</td>\n",
       "    </tr>\n",
       "  </tbody>\n",
       "</table>\n",
       "</div>"
      ]
     },
     "execution_count": 13,
     "metadata": {},
     "output_type": "execute_result"
    }
   ],
   "execution_count": 13
  },
  {
   "cell_type": "markdown",
   "metadata": {},
   "source": [
    "#### 4.3. Dumped model using pickle\n",
    "\n",
    "According to the evaluations, there are multiple good models at the moment, therefore, I will pick the Random Forrest model to use."
   ]
  },
  {
   "cell_type": "code",
   "metadata": {
    "ExecuteTime": {
     "end_time": "2024-09-12T04:32:28.271022Z",
     "start_time": "2024-09-12T04:32:28.262493Z"
    }
   },
   "source": [
    "with open(\"./model/sklearn_models_jainil.pkl\", \"wb\") as f:\n",
    "    pickle.dump(models, f)"
   ],
   "outputs": [],
   "execution_count": 13
  },
  {
   "cell_type": "code",
   "metadata": {
    "ExecuteTime": {
     "end_time": "2024-09-12T04:32:29.145374Z",
     "start_time": "2024-09-12T04:32:29.140963Z"
    }
   },
   "source": [
    "with open(\"./model/LR_model_jainil.pkl\", \"wb\") as f:\n",
    "    pickle.dump(models[\"LR\"], f)"
   ],
   "outputs": [],
   "execution_count": 14
  },
  {
   "cell_type": "code",
   "metadata": {
    "ExecuteTime": {
     "end_time": "2024-09-12T04:32:29.454916Z",
     "start_time": "2024-09-12T04:32:29.450096Z"
    }
   },
   "source": [
    "with open(\"./model/SGDC_model_jainil.pkl\", \"wb\") as f:\n",
    "    pickle.dump(models[\"SGDC\"], f)"
   ],
   "outputs": [],
   "execution_count": 15
  },
  {
   "cell_type": "markdown",
   "metadata": {},
   "source": [
    "### 5. Evaluation"
   ]
  },
  {
   "cell_type": "code",
   "metadata": {
    "ExecuteTime": {
     "end_time": "2024-12-04T00:37:19.879147Z",
     "start_time": "2024-12-04T00:37:19.864832Z"
    }
   },
   "source": [
    "best_model = models[\"HistGradientBoosting\"]\n",
    "y_predictions = best_model.predict(test_x)\n",
    "\n",
    "p_score = precision_score(test_y, y_predictions, labels=[0, 1], average=None)\n",
    "r_score = recall_score(test_y, y_predictions, labels=[0, 1], average=None)\n",
    "f1_score_result = f1_score(test_y, y_predictions, labels=[0, 1], average=None)\n",
    "\n",
    "p_score, r_score, f1_score_result"
   ],
   "outputs": [
    {
     "data": {
      "text/plain": [
       "(array([0.98623853, 1.        ]),\n",
       " array([1.       , 0.9858156]),\n",
       " array([0.99307159, 0.99285714]))"
      ]
     },
     "execution_count": 14,
     "metadata": {},
     "output_type": "execute_result"
    }
   ],
   "execution_count": 14
  },
  {
   "cell_type": "code",
   "metadata": {
    "ExecuteTime": {
     "end_time": "2024-12-06T02:01:12.137994Z",
     "start_time": "2024-12-06T02:01:12.029391Z"
    }
   },
   "source": [
    "KNN_cm = eval_df[eval_df[\"Model\"] == 'HistGradientBoosting'][\"Confusion Matrix\"].values[0]\n",
    "\n",
    "cm_array_df = pd.DataFrame(KNN_cm, index=[\"down\", \"up\"], columns=[\"down\", \"up\"])\n",
    "\n",
    "fig, ax = plt.subplots(figsize=(8, 6)) \n",
    "sns.heatmap(cm_array_df, linewidths=1, annot=True, ax=ax, fmt='g', cmap=\"crest\")\n",
    "\n",
    "# Add title\n",
    "ax.set_title(\"HistGradientBoosting Model for Squat Pose Detection\")\n"
   ],
   "outputs": [
    {
     "data": {
      "text/plain": [
       "Text(0.5, 1.0, 'HistGradientBoosting Model for Squat Pose Detection')"
      ]
     },
     "execution_count": 25,
     "metadata": {},
     "output_type": "execute_result"
    },
    {
     "data": {
      "text/plain": [
       "<Figure size 800x600 with 2 Axes>"
      ],
      "image/png": "[encoded data removed]"
     },
     "metadata": {},
     "output_type": "display_data"
    }
   ],
   "execution_count": 25
  },
  {
   "cell_type": "code",
   "metadata": {
    "ExecuteTime": {
     "end_time": "2024-12-04T00:37:39.803613Z",
     "start_time": "2024-12-04T00:37:39.797887Z"
    }
   },
   "source": [
    "def to_labels(y_pred, y_pred_proba, threshold):\n",
    "    '''Return prediction taking confidence threshold into account'''\n",
    "    results = []\n",
    "\n",
    "    for index, predicted_class in enumerate(y_pred):\n",
    "        prediction_probabilities = y_pred_proba[index]\n",
    "        class_prediction_probability = round(prediction_probabilities[np.argmax(prediction_probabilities)], 2)\n",
    "\n",
    "        results.append(predicted_class if class_prediction_probability >= threshold else -1)\n",
    "    \n",
    "    return results\n",
    "\n",
    "\n",
    "def calculate_correlation_score_confidence(test_x, test_y):\n",
    "    '''Calculate correlation between Precision score/Recall score/F1 score and confidence threshold'''\n",
    "    y_predictions = best_model.predict(test_x)\n",
    "    y_predict_proba = best_model.predict_proba(test_x)\n",
    "\n",
    "    thresholds = list(np.arange(0, 1.05, 0.01))\n",
    "\n",
    "    f1_score_results = []\n",
    "\n",
    "    for threshold in thresholds:\n",
    "        true_predictions = to_labels(y_predictions, y_predict_proba, threshold)\n",
    "        f1_s = list(f1_score(test_y, true_predictions, labels=[0, 1], average=None))\n",
    "        all_class_f1 = f1_score(test_y, true_predictions, labels=[0, 1], average=\"weighted\")\n",
    "        f1_s.append(all_class_f1)\n",
    "        f1_score_results.append(f1_s)\n",
    "    \n",
    "    return thresholds, f1_score_results\n",
    "\n"
   ],
   "outputs": [],
   "execution_count": 16
  },
  {
   "cell_type": "code",
   "metadata": {
    "ExecuteTime": {
     "end_time": "2024-12-04T00:37:44.169267Z",
     "start_time": "2024-12-04T00:37:43.703855Z"
    }
   },
   "source": [
    "thresholds, f1_scores = calculate_correlation_score_confidence(test_x, test_y)\n",
    "\n",
    "first_class = [ el[0] for el in f1_scores ]\n",
    "second_class = [ el[1] for el in f1_scores ]\n",
    "all_classes = [ el[2] for el in f1_scores ]\n",
    "\n",
    "fig, ax = plt.subplots(figsize=(8,6))\n",
    "plt.plot(thresholds, first_class, label = \"F1 Score - Correct class\")\n",
    "plt.plot(thresholds, second_class, label = \"F1 Score - Incorrect class\")\n",
    "plt.plot(thresholds, all_classes, label = \"F1 Score - All classes\", linewidth=2.0, color=\"blue\")\n",
    "plt.legend(loc = 'lower left')\n",
    "plt.ylim([0, 1])\n",
    "plt.xlim([0.025, 1])\n",
    "plt.xlabel(\"Thresholds\", fontsize = 12)\n",
    "plt.ylabel(\"F1 Score\", fontsize = 12)\n",
    "# plt.axvline(thresholds[np.argmin(abs(precision-recall))], color=\"k\", ls = \"--\")\n",
    "# plt.title(label = F\"Threshold = {thresholds[np.argmin(abs(precision-recall))]:.3f}\", fontsize = 12)\n",
    "plt.show()"
   ],
   "outputs": [
    {
     "data": {
      "text/plain": [
       "<Figure size 800x600 with 1 Axes>"
      ],
      "image/png": "[encoded data removed]"
     },
     "metadata": {},
     "output_type": "display_data"
    }
   ],
   "execution_count": 17
  },
  {
   "cell_type": "code",
   "metadata": {
    "ExecuteTime": {
     "end_time": "2024-12-04T00:37:54.523087Z",
     "start_time": "2024-12-04T00:37:54.343668Z"
    }
   },
   "source": [
    "# calculate the fpr and tpr for all thresholds of the classification\n",
    "probs = best_model.predict_proba(test_x)\n",
    "preds = probs[:,1]\n",
    "fpr, tpr, threshold = roc_curve(test_y, preds)\n",
    "roc_auc = auc(fpr, tpr)\n",
    "\n",
    "optimal_idx = np.argmax(tpr - fpr)\n",
    "optimal_threshold = threshold[optimal_idx]\n",
    "print(f\"Optimal Threshold: {optimal_threshold}\")\n",
    "\n",
    "# method I: plt\n",
    "plt.plot(fpr, tpr, 'b', label = 'AUC = %0.2f' % roc_auc)\n",
    "plt.plot([0, 1], [0, 1],'r--', label=\"Random Guess\")\n",
    "plt.legend(loc=4)\n",
    "plt.ylabel('True Positive Rate')\n",
    "plt.xlabel('False Positive Rate')\n",
    "plt.show()"
   ],
   "outputs": [
    {
     "name": "stdout",
     "output_type": "stream",
     "text": [
      "Optimal Threshold: 0.9781849909699726\n"
     ]
    },
    {
     "data": {
      "text/plain": [
       "<Figure size 640x480 with 1 Axes>"
      ],
      "image/png": "[encoded data removed]"
     },
     "metadata": {},
     "output_type": "display_data"
    }
   ],
   "execution_count": 18
  },
  {
   "cell_type": "code",
   "execution_count": null,
   "metadata": {},
   "outputs": [],
   "source": []
  }
 ],
 "metadata": {
  "kernelspec": {
   "display_name": "Python 3.8.13 (conda)",
   "language": "python",
   "name": "python3"
  },
  "language_info": {
   "codemirror_mode": {
    "name": "ipython",
    "version": 3
   },
   "file_extension": ".py",
   "mimetype": "text/x-python",
   "name": "python",
   "nbconvert_exporter": "python",
   "pygments_lexer": "ipython3",
   "version": "3.8.13"
  },
  "orig_nbformat": 4,
  "vscode": {
   "interpreter": {
    "hash": "9260f401923fb5c4108c543a7d176de9733d378b3752e49535ad7c43c2271b65"
   }
  }
 },
 "nbformat": 4,
 "nbformat_minor": 2
}
