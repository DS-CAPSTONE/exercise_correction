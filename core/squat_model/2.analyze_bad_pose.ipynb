{
 "cells": [
  {
   "cell_type": "code",
   "metadata": {
    "ExecuteTime": {
     "end_time": "2024-09-12T04:32:58.348377Z",
     "start_time": "2024-09-12T04:32:58.166559Z"
    }
   },
   "source": [
    "import mediapipe as mp\n",
    "import cv2\n",
    "import numpy as np\n",
    "import pandas as pd\n",
    "import matplotlib.pyplot as plt\n",
    "import seaborn as sns\n",
    "\n",
    "import warnings\n",
    "warnings.filterwarnings('ignore')\n",
    "\n",
    "# Drawing helpers\n",
    "mp_drawing = mp.solutions.drawing_utils\n",
    "mp_pose = mp.solutions.pose"
   ],
   "outputs": [
    {
     "name": "stderr",
     "output_type": "stream",
     "text": [
      "objc[52158]: Class CaptureDelegate is implemented in both /Users/jainilpatel/PycharmProjects/Exercise-Correction/.venv/lib/python3.9/site-packages/mediapipe/.dylibs/libopencv_videoio.3.4.16.dylib (0x16b528860) and /Users/jainilpatel/PycharmProjects/Exercise-Correction/.venv/lib/python3.9/site-packages/cv2/cv2.abi3.so (0x31e696480). One of the two will be used. Which one is undefined.\n",
      "objc[52158]: Class CVWindow is implemented in both /Users/jainilpatel/PycharmProjects/Exercise-Correction/.venv/lib/python3.9/site-packages/mediapipe/.dylibs/libopencv_highgui.3.4.16.dylib (0x16b270a68) and /Users/jainilpatel/PycharmProjects/Exercise-Correction/.venv/lib/python3.9/site-packages/cv2/cv2.abi3.so (0x31e6964d0). One of the two will be used. Which one is undefined.\n",
      "objc[52158]: Class CVView is implemented in both /Users/jainilpatel/PycharmProjects/Exercise-Correction/.venv/lib/python3.9/site-packages/mediapipe/.dylibs/libopencv_highgui.3.4.16.dylib (0x16b270a90) and /Users/jainilpatel/PycharmProjects/Exercise-Correction/.venv/lib/python3.9/site-packages/cv2/cv2.abi3.so (0x31e6964f8). One of the two will be used. Which one is undefined.\n",
      "objc[52158]: Class CVSlider is implemented in both /Users/jainilpatel/PycharmProjects/Exercise-Correction/.venv/lib/python3.9/site-packages/mediapipe/.dylibs/libopencv_highgui.3.4.16.dylib (0x16b270ab8) and /Users/jainilpatel/PycharmProjects/Exercise-Correction/.venv/lib/python3.9/site-packages/cv2/cv2.abi3.so (0x31e696520). One of the two will be used. Which one is undefined.\n"
     ]
    }
   ],
   "execution_count": 1
  },
  {
   "cell_type": "markdown",
   "metadata": {},
   "source": [
    "### Analyze the width distance\n",
    "\n",
    "1. Extract keypoints of shoulder, foot and knee from the dataset\n",
    "1. Calculate shoulder width, 2 foot width and 2 knees width\n",
    "1. Calculate the ratio between those widths to figure out the correct feet placement and how much should the knee flare out during the workout"
   ]
  },
  {
   "cell_type": "code",
   "metadata": {
    "ExecuteTime": {
     "end_time": "2024-09-12T04:33:02.027990Z",
     "start_time": "2024-09-12T04:33:02.022356Z"
    }
   },
   "source": [
    "from math import sqrt\n",
    "\n",
    "\n",
    "def rescale_frame(frame, percent=50):\n",
    "    '''\n",
    "    Rescale a frame to a certain percentage compare to its original frame\n",
    "    '''\n",
    "    width = int(frame.shape[1] * percent/ 100)\n",
    "    height = int(frame.shape[0] * percent/ 100)\n",
    "    dim = (width, height)\n",
    "    return cv2.resize(frame, dim, interpolation =cv2.INTER_AREA)\n",
    "\n",
    "\n",
    "def calculate_distance(pointX, pointY) -> float:\n",
    "    '''\n",
    "    Calculate a distance between 2 points\n",
    "    '''\n",
    "\n",
    "    x1, y1 = pointX\n",
    "    x2, y2 = pointY\n",
    "\n",
    "    return sqrt((x2 - x1) ** 2 + (y2 - y1) ** 2)"
   ],
   "outputs": [],
   "execution_count": 2
  },
  {
   "cell_type": "code",
   "metadata": {
    "ExecuteTime": {
     "end_time": "2024-09-12T04:33:03.039933Z",
     "start_time": "2024-09-12T04:33:03.030761Z"
    }
   },
   "source": [
    "df = pd.DataFrame(columns=[\"video\", \"stage\", \"shoulder_width\", \"feet_width\", \"knee_width\"])\n",
    "\n",
    "df"
   ],
   "outputs": [
    {
     "data": {
      "text/plain": [
       "Empty DataFrame\n",
       "Columns: [video, stage, shoulder_width, feet_width, knee_width]\n",
       "Index: []"
      ],
      "text/html": [
       "<div>\n",
       "<style scoped>\n",
       "    .dataframe tbody tr th:only-of-type {\n",
       "        vertical-align: middle;\n",
       "    }\n",
       "\n",
       "    .dataframe tbody tr th {\n",
       "        vertical-align: top;\n",
       "    }\n",
       "\n",
       "    .dataframe thead th {\n",
       "        text-align: right;\n",
       "    }\n",
       "</style>\n",
       "<table border=\"1\" class=\"dataframe\">\n",
       "  <thead>\n",
       "    <tr style=\"text-align: right;\">\n",
       "      <th></th>\n",
       "      <th>video</th>\n",
       "      <th>stage</th>\n",
       "      <th>shoulder_width</th>\n",
       "      <th>feet_width</th>\n",
       "      <th>knee_width</th>\n",
       "    </tr>\n",
       "  </thead>\n",
       "  <tbody>\n",
       "  </tbody>\n",
       "</table>\n",
       "</div>"
      ]
     },
     "execution_count": 3,
     "metadata": {},
     "output_type": "execute_result"
    }
   ],
   "execution_count": 3
  },
  {
   "cell_type": "markdown",
   "metadata": {},
   "source": [
    "### 1. Extract data from video"
   ]
  },
  {
   "cell_type": "code",
   "metadata": {
    "ExecuteTime": {
     "end_time": "2024-09-12T04:33:17.214463Z",
     "start_time": "2024-09-12T04:33:17.109262Z"
    }
   },
   "source": [
    "# Load machine learning model\n",
    "import pickle\n",
    "\n",
    "with open(\"./model/LR_model.pkl\", \"rb\") as f:\n",
    "    trained_model = pickle.load(f)\n",
    "\n",
    "# Prepare for processing input\n",
    "IMPORTANT_LMS = [\n",
    "    \"NOSE\",\n",
    "    \"LEFT_SHOULDER\",\n",
    "    \"RIGHT_SHOULDER\",\n",
    "    \"LEFT_HIP\",\n",
    "    \"RIGHT_HIP\",\n",
    "    \"LEFT_KNEE\",\n",
    "    \"RIGHT_KNEE\",\n",
    "    \"LEFT_ANKLE\",\n",
    "    \"RIGHT_ANKLE\"\n",
    "]\n",
    "\n",
    "headers = [\"label\"] # Label column\n",
    "\n",
    "for lm in IMPORTANT_LMS:\n",
    "    headers += [f\"{lm.lower()}_x\", f\"{lm.lower()}_y\", f\"{lm.lower()}_z\", f\"{lm.lower()}_v\"]\n",
    "\n",
    "\n",
    "def extract_important_keypoints(results) -> list:\n",
    "    '''\n",
    "    Extract important keypoints from mediapipe pose detection\n",
    "    '''\n",
    "    landmarks = results.pose_landmarks.landmark\n",
    "\n",
    "    data = []\n",
    "    for lm in IMPORTANT_LMS:\n",
    "        keypoint = landmarks[mp_pose.PoseLandmark[lm].value]\n",
    "        data.append([keypoint.x, keypoint.y, keypoint.z, keypoint.visibility])\n",
    "    \n",
    "    return np.array(data).flatten().tolist()"
   ],
   "outputs": [],
   "execution_count": 5
  },
  {
   "cell_type": "code",
   "metadata": {
    "ExecuteTime": {
     "end_time": "2024-09-12T04:34:25.855423Z",
     "start_time": "2024-09-12T04:34:19.938078Z"
    }
   },
   "source": [
    "video = \"../data/squat/squat_right_4.mp4\"\n",
    "video = \"../../demo/squat_demo.mp4\"\n",
    "cap = cv2.VideoCapture(video)\n",
    "\n",
    "current_stage = \"\"\n",
    "prediction_probability_threshold = 0.8\n",
    "\n",
    "with mp_pose.Pose(min_detection_confidence=0.5, min_tracking_confidence=0.5) as pose:\n",
    "    while cap.isOpened():\n",
    "        ret, image = cap.read()\n",
    "\n",
    "        if not ret:\n",
    "            break\n",
    "\n",
    "        # Recolor image from BGR to RGB for mediapipe\n",
    "        image = cv2.cvtColor(image, cv2.COLOR_BGR2RGB)\n",
    "        image.flags.writeable = False\n",
    "\n",
    "        results = pose.process(image)\n",
    "        # Calculate and compare the distance of 2 ankle and shoulder width\n",
    "        if not results.pose_landmarks:\n",
    "            continue\n",
    "        \n",
    "        # Recolor image from BGR to RGB for mediapipe\n",
    "        image.flags.writeable = True\n",
    "        image = cv2.cvtColor(image, cv2.COLOR_RGB2BGR)\n",
    "\n",
    "        shoulder_width = feet_width = None\n",
    "\n",
    "        try:\n",
    "            # Extract keypoints from frame for the input\n",
    "            row = extract_important_keypoints(results)\n",
    "            X = pd.DataFrame([row], columns=headers[1:])\n",
    "\n",
    "            # Make prediction and its probability\n",
    "            predicted_class = trained_model.predict(X)[0]\n",
    "            prediction_probability = trained_model.predict_proba(X)[0]\n",
    "\n",
    "            # Evaluate model prediction for the current stage\n",
    "            if prediction_probability[prediction_probability.argmax()] >= prediction_probability_threshold:\n",
    "                if predicted_class == \"down\":\n",
    "                    current_stage = \"down\"\n",
    "                elif current_stage == \"middle\" and predicted_class == \"up\":\n",
    "                    current_stage = \"up\"\n",
    "            else:\n",
    "                current_stage = \"middle\"\n",
    "            \n",
    "            # Calculate and compare the distance of 2 ankle and shoulder width\n",
    "            landmarks = results.pose_landmarks.landmark\n",
    "\n",
    "            # * Calculate shoulder width\n",
    "            left_shoulder = [landmarks[mp_pose.PoseLandmark.LEFT_SHOULDER.value].x, landmarks[mp_pose.PoseLandmark.LEFT_SHOULDER.value].y]\n",
    "            right_shoulder = [landmarks[mp_pose.PoseLandmark.RIGHT_SHOULDER.value].x, landmarks[mp_pose.PoseLandmark.RIGHT_SHOULDER.value].y]\n",
    "\n",
    "            shoulder_width = calculate_distance(left_shoulder, right_shoulder)\n",
    "\n",
    "            # * Calculate 2-foot width\n",
    "            left_foot_index = [landmarks[mp_pose.PoseLandmark.LEFT_FOOT_INDEX.value].x, landmarks[mp_pose.PoseLandmark.LEFT_FOOT_INDEX.value].y]\n",
    "            right_foot_index = [landmarks[mp_pose.PoseLandmark.RIGHT_FOOT_INDEX.value].x, landmarks[mp_pose.PoseLandmark.RIGHT_FOOT_INDEX.value].y]\n",
    "\n",
    "            feet_width = calculate_distance(left_foot_index, right_foot_index)\n",
    "            \n",
    "            # * Calculate 2-knee width\n",
    "            left_knee = [landmarks[mp_pose.PoseLandmark.LEFT_KNEE.value].x, landmarks[mp_pose.PoseLandmark.LEFT_KNEE.value].y]\n",
    "            right_knee = [landmarks[mp_pose.PoseLandmark.RIGHT_KNEE.value].x, landmarks[mp_pose.PoseLandmark.RIGHT_KNEE.value].y]\n",
    "\n",
    "            knee_width = calculate_distance(left_knee, right_knee)\n",
    "\n",
    "            # Visualization\n",
    "            # Status box\n",
    "            cv2.rectangle(image, (0, 0), (500, 60), (245, 117, 16), -1)\n",
    "\n",
    "            # Display feet distance\n",
    "            cv2.putText(image, \"FEET\", (15, 12), cv2.FONT_HERSHEY_COMPLEX, 0.5, (0, 0, 0), 1, cv2.LINE_AA)\n",
    "            cv2.putText(image, str(round(feet_width, 2)), (10, 40), cv2.FONT_HERSHEY_COMPLEX, 1, (255, 255, 255), 2, cv2.LINE_AA)\n",
    "\n",
    "            # Display shoulder distance\n",
    "            cv2.putText(image, \"SHOULDER\", (95, 12), cv2.FONT_HERSHEY_COMPLEX, 0.5, (0, 0, 0), 1, cv2.LINE_AA)\n",
    "            cv2.putText(image, str(round(shoulder_width, 2)), (90, 40), cv2.FONT_HERSHEY_COMPLEX, 1, (255, 255, 255), 2, cv2.LINE_AA)\n",
    "\n",
    "            # Display knee distance\n",
    "            cv2.putText(image, \"KNEE\", (205, 12), cv2.FONT_HERSHEY_COMPLEX, 0.5, (0, 0, 0), 1, cv2.LINE_AA)\n",
    "            cv2.putText(image, str(round(knee_width, 2)), (200, 40), cv2.FONT_HERSHEY_COMPLEX, 1, (255, 255, 255), 2, cv2.LINE_AA)\n",
    "\n",
    "            # Display knee distance\n",
    "            cv2.putText(image, \"STAGE\", (305, 12), cv2.FONT_HERSHEY_COMPLEX, 0.5, (0, 0, 0), 1, cv2.LINE_AA)\n",
    "            cv2.putText(image, current_stage, (300, 40), cv2.FONT_HERSHEY_COMPLEX, 1, (255, 255, 255), 2, cv2.LINE_AA)\n",
    "        except Exception as e:\n",
    "            print(f\"Error: {e}\")\n",
    "\n",
    "        # Draw landmarks and connections\n",
    "        mp_drawing.draw_landmarks(image, results.pose_landmarks, mp_pose.POSE_CONNECTIONS, mp_drawing.DrawingSpec(color=(244, 117, 66), thickness=2, circle_radius=4), mp_drawing.DrawingSpec(color=(245, 66, 230), thickness=2, circle_radius=2))\n",
    "\n",
    "        cv2.imshow(\"CV2\", image)\n",
    "\n",
    "        # Pressed key for action\n",
    "        k = cv2.waitKey(1) & 0xFF\n",
    "\n",
    "        # Press C to add to df\n",
    "        if k == ord('c'): \n",
    "            df = df.append({ \"video\": video, \"stage\": current_stage, \"shoulder_width\": shoulder_width, \"feet_width\": feet_width, \"knee_width\": knee_width }, ignore_index=True)\n",
    "\n",
    "        # Press q to stop\n",
    "        elif k == ord(\"q\"):\n",
    "            break\n",
    "        else: continue\n",
    "\n",
    "    cap.release()\n",
    "    cv2.destroyAllWindows()\n",
    "\n",
    "    # (Optional)Fix bugs cannot close windows in MacOS (https://stackoverflow.com/questions/6116564/destroywindow-does-not-close-window-on-mac-using-python-and-opencv)\n",
    "    cv2.waitKey(1)"
   ],
   "outputs": [],
   "execution_count": 7
  },
  {
   "metadata": {
    "ExecuteTime": {
     "end_time": "2024-09-12T04:37:25.721641Z",
     "start_time": "2024-09-12T04:37:25.716698Z"
    }
   },
   "cell_type": "code",
   "source": [
    "if not len(df):\n",
    "    df = pd.read_csv(\"analyze_pose.csv\")  ## READ THE DF IF YOU ARE DOING IT SECOND TIME. "
   ],
   "outputs": [],
   "execution_count": 17
  },
  {
   "cell_type": "code",
   "metadata": {
    "ExecuteTime": {
     "end_time": "2024-09-12T04:37:26.705313Z",
     "start_time": "2024-09-12T04:37:26.696841Z"
    }
   },
   "source": "df",
   "outputs": [
    {
     "data": {
      "text/plain": [
       "                 video stage  shoulder_width  feet_width  knee_width  \\\n",
       "0    squat_right_1.mp4  down        0.079002    0.104884    0.099171   \n",
       "1    squat_right_1.mp4  down        0.079100    0.104516    0.102053   \n",
       "2    squat_right_1.mp4  down        0.079228    0.103585    0.104874   \n",
       "3    squat_right_1.mp4  down        0.079085    0.103278    0.109837   \n",
       "4    squat_right_1.mp4  down        0.079438    0.102361    0.110328   \n",
       "..                 ...   ...             ...         ...         ...   \n",
       "846  squat_right_4.mp4    up        0.087186    0.147464    0.112127   \n",
       "847  squat_right_4.mp4    up        0.089429    0.153139    0.109250   \n",
       "848  squat_right_4.mp4    up        0.090059    0.152665    0.104126   \n",
       "849  squat_right_4.mp4    up        0.089556    0.154600    0.097331   \n",
       "850  squat_right_4.mp4    up        0.089544    0.158117    0.094716   \n",
       "\n",
       "     ratio_feet_shoulder  ratio_knee_feet  \n",
       "0                    1.3              0.9  \n",
       "1                    1.3              1.0  \n",
       "2                    1.3              1.0  \n",
       "3                    1.3              1.1  \n",
       "4                    1.3              1.1  \n",
       "..                   ...              ...  \n",
       "846                  1.7              0.8  \n",
       "847                  1.7              0.7  \n",
       "848                  1.7              0.7  \n",
       "849                  1.7              0.6  \n",
       "850                  1.8              0.6  \n",
       "\n",
       "[851 rows x 7 columns]"
      ],
      "text/html": [
       "<div>\n",
       "<style scoped>\n",
       "    .dataframe tbody tr th:only-of-type {\n",
       "        vertical-align: middle;\n",
       "    }\n",
       "\n",
       "    .dataframe tbody tr th {\n",
       "        vertical-align: top;\n",
       "    }\n",
       "\n",
       "    .dataframe thead th {\n",
       "        text-align: right;\n",
       "    }\n",
       "</style>\n",
       "<table border=\"1\" class=\"dataframe\">\n",
       "  <thead>\n",
       "    <tr style=\"text-align: right;\">\n",
       "      <th></th>\n",
       "      <th>video</th>\n",
       "      <th>stage</th>\n",
       "      <th>shoulder_width</th>\n",
       "      <th>feet_width</th>\n",
       "      <th>knee_width</th>\n",
       "      <th>ratio_feet_shoulder</th>\n",
       "      <th>ratio_knee_feet</th>\n",
       "    </tr>\n",
       "  </thead>\n",
       "  <tbody>\n",
       "    <tr>\n",
       "      <th>0</th>\n",
       "      <td>squat_right_1.mp4</td>\n",
       "      <td>down</td>\n",
       "      <td>0.079002</td>\n",
       "      <td>0.104884</td>\n",
       "      <td>0.099171</td>\n",
       "      <td>1.3</td>\n",
       "      <td>0.9</td>\n",
       "    </tr>\n",
       "    <tr>\n",
       "      <th>1</th>\n",
       "      <td>squat_right_1.mp4</td>\n",
       "      <td>down</td>\n",
       "      <td>0.079100</td>\n",
       "      <td>0.104516</td>\n",
       "      <td>0.102053</td>\n",
       "      <td>1.3</td>\n",
       "      <td>1.0</td>\n",
       "    </tr>\n",
       "    <tr>\n",
       "      <th>2</th>\n",
       "      <td>squat_right_1.mp4</td>\n",
       "      <td>down</td>\n",
       "      <td>0.079228</td>\n",
       "      <td>0.103585</td>\n",
       "      <td>0.104874</td>\n",
       "      <td>1.3</td>\n",
       "      <td>1.0</td>\n",
       "    </tr>\n",
       "    <tr>\n",
       "      <th>3</th>\n",
       "      <td>squat_right_1.mp4</td>\n",
       "      <td>down</td>\n",
       "      <td>0.079085</td>\n",
       "      <td>0.103278</td>\n",
       "      <td>0.109837</td>\n",
       "      <td>1.3</td>\n",
       "      <td>1.1</td>\n",
       "    </tr>\n",
       "    <tr>\n",
       "      <th>4</th>\n",
       "      <td>squat_right_1.mp4</td>\n",
       "      <td>down</td>\n",
       "      <td>0.079438</td>\n",
       "      <td>0.102361</td>\n",
       "      <td>0.110328</td>\n",
       "      <td>1.3</td>\n",
       "      <td>1.1</td>\n",
       "    </tr>\n",
       "    <tr>\n",
       "      <th>...</th>\n",
       "      <td>...</td>\n",
       "      <td>...</td>\n",
       "      <td>...</td>\n",
       "      <td>...</td>\n",
       "      <td>...</td>\n",
       "      <td>...</td>\n",
       "      <td>...</td>\n",
       "    </tr>\n",
       "    <tr>\n",
       "      <th>846</th>\n",
       "      <td>squat_right_4.mp4</td>\n",
       "      <td>up</td>\n",
       "      <td>0.087186</td>\n",
       "      <td>0.147464</td>\n",
       "      <td>0.112127</td>\n",
       "      <td>1.7</td>\n",
       "      <td>0.8</td>\n",
       "    </tr>\n",
       "    <tr>\n",
       "      <th>847</th>\n",
       "      <td>squat_right_4.mp4</td>\n",
       "      <td>up</td>\n",
       "      <td>0.089429</td>\n",
       "      <td>0.153139</td>\n",
       "      <td>0.109250</td>\n",
       "      <td>1.7</td>\n",
       "      <td>0.7</td>\n",
       "    </tr>\n",
       "    <tr>\n",
       "      <th>848</th>\n",
       "      <td>squat_right_4.mp4</td>\n",
       "      <td>up</td>\n",
       "      <td>0.090059</td>\n",
       "      <td>0.152665</td>\n",
       "      <td>0.104126</td>\n",
       "      <td>1.7</td>\n",
       "      <td>0.7</td>\n",
       "    </tr>\n",
       "    <tr>\n",
       "      <th>849</th>\n",
       "      <td>squat_right_4.mp4</td>\n",
       "      <td>up</td>\n",
       "      <td>0.089556</td>\n",
       "      <td>0.154600</td>\n",
       "      <td>0.097331</td>\n",
       "      <td>1.7</td>\n",
       "      <td>0.6</td>\n",
       "    </tr>\n",
       "    <tr>\n",
       "      <th>850</th>\n",
       "      <td>squat_right_4.mp4</td>\n",
       "      <td>up</td>\n",
       "      <td>0.089544</td>\n",
       "      <td>0.158117</td>\n",
       "      <td>0.094716</td>\n",
       "      <td>1.8</td>\n",
       "      <td>0.6</td>\n",
       "    </tr>\n",
       "  </tbody>\n",
       "</table>\n",
       "<p>851 rows × 7 columns</p>\n",
       "</div>"
      ]
     },
     "execution_count": 18,
     "metadata": {},
     "output_type": "execute_result"
    }
   ],
   "execution_count": 18
  },
  {
   "cell_type": "markdown",
   "metadata": {},
   "source": [
    "### 2. Analyze the foot placement relate to the shoulder width"
   ]
  },
  {
   "cell_type": "code",
   "metadata": {
    "ExecuteTime": {
     "end_time": "2024-09-12T04:37:28.447350Z",
     "start_time": "2024-09-12T04:37:28.441682Z"
    }
   },
   "source": [
    "df[\"ratio_feet_shoulder\"] = df[\"feet_width\"] / df[\"shoulder_width\"]\n",
    "\n",
    "# Round up the value\n",
    "# df[\"ratio_feet_shoulder\"] = [round(row, 1) for row in df[\"ratio_feet_shoulder\"]]\n",
    "\n",
    "df.head(5)"
   ],
   "outputs": [
    {
     "data": {
      "text/plain": [
       "               video stage  shoulder_width  feet_width  knee_width  \\\n",
       "0  squat_right_1.mp4  down        0.079002    0.104884    0.099171   \n",
       "1  squat_right_1.mp4  down        0.079100    0.104516    0.102053   \n",
       "2  squat_right_1.mp4  down        0.079228    0.103585    0.104874   \n",
       "3  squat_right_1.mp4  down        0.079085    0.103278    0.109837   \n",
       "4  squat_right_1.mp4  down        0.079438    0.102361    0.110328   \n",
       "\n",
       "   ratio_feet_shoulder  ratio_knee_feet  \n",
       "0             1.327618              0.9  \n",
       "1             1.321318              1.0  \n",
       "2             1.307429              1.0  \n",
       "3             1.305912              1.1  \n",
       "4             1.288572              1.1  "
      ],
      "text/html": [
       "<div>\n",
       "<style scoped>\n",
       "    .dataframe tbody tr th:only-of-type {\n",
       "        vertical-align: middle;\n",
       "    }\n",
       "\n",
       "    .dataframe tbody tr th {\n",
       "        vertical-align: top;\n",
       "    }\n",
       "\n",
       "    .dataframe thead th {\n",
       "        text-align: right;\n",
       "    }\n",
       "</style>\n",
       "<table border=\"1\" class=\"dataframe\">\n",
       "  <thead>\n",
       "    <tr style=\"text-align: right;\">\n",
       "      <th></th>\n",
       "      <th>video</th>\n",
       "      <th>stage</th>\n",
       "      <th>shoulder_width</th>\n",
       "      <th>feet_width</th>\n",
       "      <th>knee_width</th>\n",
       "      <th>ratio_feet_shoulder</th>\n",
       "      <th>ratio_knee_feet</th>\n",
       "    </tr>\n",
       "  </thead>\n",
       "  <tbody>\n",
       "    <tr>\n",
       "      <th>0</th>\n",
       "      <td>squat_right_1.mp4</td>\n",
       "      <td>down</td>\n",
       "      <td>0.079002</td>\n",
       "      <td>0.104884</td>\n",
       "      <td>0.099171</td>\n",
       "      <td>1.327618</td>\n",
       "      <td>0.9</td>\n",
       "    </tr>\n",
       "    <tr>\n",
       "      <th>1</th>\n",
       "      <td>squat_right_1.mp4</td>\n",
       "      <td>down</td>\n",
       "      <td>0.079100</td>\n",
       "      <td>0.104516</td>\n",
       "      <td>0.102053</td>\n",
       "      <td>1.321318</td>\n",
       "      <td>1.0</td>\n",
       "    </tr>\n",
       "    <tr>\n",
       "      <th>2</th>\n",
       "      <td>squat_right_1.mp4</td>\n",
       "      <td>down</td>\n",
       "      <td>0.079228</td>\n",
       "      <td>0.103585</td>\n",
       "      <td>0.104874</td>\n",
       "      <td>1.307429</td>\n",
       "      <td>1.0</td>\n",
       "    </tr>\n",
       "    <tr>\n",
       "      <th>3</th>\n",
       "      <td>squat_right_1.mp4</td>\n",
       "      <td>down</td>\n",
       "      <td>0.079085</td>\n",
       "      <td>0.103278</td>\n",
       "      <td>0.109837</td>\n",
       "      <td>1.305912</td>\n",
       "      <td>1.1</td>\n",
       "    </tr>\n",
       "    <tr>\n",
       "      <th>4</th>\n",
       "      <td>squat_right_1.mp4</td>\n",
       "      <td>down</td>\n",
       "      <td>0.079438</td>\n",
       "      <td>0.102361</td>\n",
       "      <td>0.110328</td>\n",
       "      <td>1.288572</td>\n",
       "      <td>1.1</td>\n",
       "    </tr>\n",
       "  </tbody>\n",
       "</table>\n",
       "</div>"
      ]
     },
     "execution_count": 19,
     "metadata": {},
     "output_type": "execute_result"
    }
   ],
   "execution_count": 19
  },
  {
   "cell_type": "markdown",
   "metadata": {},
   "source": [
    "#### 2.1. Describe data"
   ]
  },
  {
   "cell_type": "code",
   "metadata": {
    "ExecuteTime": {
     "end_time": "2024-09-12T04:37:29.473442Z",
     "start_time": "2024-09-12T04:37:29.469777Z"
    }
   },
   "source": [
    "mean = df[\"ratio_feet_shoulder\"].mean(axis=0)\n",
    "min_val = df[\"ratio_feet_shoulder\"].min()\n",
    "max_val = df[\"ratio_feet_shoulder\"].max()\n",
    "\n",
    "print(\n",
    "f'''\n",
    "Mean value of the ratio between shoulder width and 2 foot: {mean}\n",
    "Max value of the ratio between shoulder width and 2 foot: {max_val}\n",
    "Min value of the ratio between shoulder width and 2 foot: {min_val}\n",
    "'''\n",
    ")\n"
   ],
   "outputs": [
    {
     "name": "stdout",
     "output_type": "stream",
     "text": [
      "\n",
      "Mean value of the ratio between shoulder width and 2 foot: 1.8049844895608123\n",
      "Max value of the ratio between shoulder width and 2 foot: 2.7799434836747396\n",
      "Min value of the ratio between shoulder width and 2 foot: 1.211346824357863\n",
      "\n"
     ]
    }
   ],
   "execution_count": 20
  },
  {
   "cell_type": "markdown",
   "metadata": {},
   "source": [
    "#### 2.2 Conclusion\n",
    "\n",
    "According to the analyzed data extracted from the dataset:\n",
    "\n",
    "1. Feet distance usually wider compare to shoulder distance\n",
    "1. The mean ratio between the 2 is 1.8\n",
    "1. **Conclusion**:\n",
    "    - Feet distance / shoulder width < 1.2 => **Foot placement is too tight**\n",
    "    - Feet distance / shoulder width > 2.8 => **Foot placement is too wide**\n",
    "    - Else: => **Correct form**"
   ]
  },
  {
   "cell_type": "markdown",
   "metadata": {},
   "source": [
    "### 3. Analyze knee position during the workout"
   ]
  },
  {
   "cell_type": "code",
   "metadata": {
    "ExecuteTime": {
     "end_time": "2024-09-12T04:37:30.866505Z",
     "start_time": "2024-09-12T04:37:30.857995Z"
    }
   },
   "source": [
    "df[\"ratio_knee_feet\"] = df[\"knee_width\"] / df[\"feet_width\"]\n",
    "# df[\"ratio_knee_feet\"] = [round(row, 1) for row in df[\"ratio_knee_feet\"]] # round up\n",
    "\n",
    "df.head(5)"
   ],
   "outputs": [
    {
     "data": {
      "text/plain": [
       "               video stage  shoulder_width  feet_width  knee_width  \\\n",
       "0  squat_right_1.mp4  down        0.079002    0.104884    0.099171   \n",
       "1  squat_right_1.mp4  down        0.079100    0.104516    0.102053   \n",
       "2  squat_right_1.mp4  down        0.079228    0.103585    0.104874   \n",
       "3  squat_right_1.mp4  down        0.079085    0.103278    0.109837   \n",
       "4  squat_right_1.mp4  down        0.079438    0.102361    0.110328   \n",
       "\n",
       "   ratio_feet_shoulder  ratio_knee_feet  \n",
       "0             1.327618         0.945534  \n",
       "1             1.321318         0.976432  \n",
       "2             1.307429         1.012446  \n",
       "3             1.305912         1.063504  \n",
       "4             1.288572         1.077832  "
      ],
      "text/html": [
       "<div>\n",
       "<style scoped>\n",
       "    .dataframe tbody tr th:only-of-type {\n",
       "        vertical-align: middle;\n",
       "    }\n",
       "\n",
       "    .dataframe tbody tr th {\n",
       "        vertical-align: top;\n",
       "    }\n",
       "\n",
       "    .dataframe thead th {\n",
       "        text-align: right;\n",
       "    }\n",
       "</style>\n",
       "<table border=\"1\" class=\"dataframe\">\n",
       "  <thead>\n",
       "    <tr style=\"text-align: right;\">\n",
       "      <th></th>\n",
       "      <th>video</th>\n",
       "      <th>stage</th>\n",
       "      <th>shoulder_width</th>\n",
       "      <th>feet_width</th>\n",
       "      <th>knee_width</th>\n",
       "      <th>ratio_feet_shoulder</th>\n",
       "      <th>ratio_knee_feet</th>\n",
       "    </tr>\n",
       "  </thead>\n",
       "  <tbody>\n",
       "    <tr>\n",
       "      <th>0</th>\n",
       "      <td>squat_right_1.mp4</td>\n",
       "      <td>down</td>\n",
       "      <td>0.079002</td>\n",
       "      <td>0.104884</td>\n",
       "      <td>0.099171</td>\n",
       "      <td>1.327618</td>\n",
       "      <td>0.945534</td>\n",
       "    </tr>\n",
       "    <tr>\n",
       "      <th>1</th>\n",
       "      <td>squat_right_1.mp4</td>\n",
       "      <td>down</td>\n",
       "      <td>0.079100</td>\n",
       "      <td>0.104516</td>\n",
       "      <td>0.102053</td>\n",
       "      <td>1.321318</td>\n",
       "      <td>0.976432</td>\n",
       "    </tr>\n",
       "    <tr>\n",
       "      <th>2</th>\n",
       "      <td>squat_right_1.mp4</td>\n",
       "      <td>down</td>\n",
       "      <td>0.079228</td>\n",
       "      <td>0.103585</td>\n",
       "      <td>0.104874</td>\n",
       "      <td>1.307429</td>\n",
       "      <td>1.012446</td>\n",
       "    </tr>\n",
       "    <tr>\n",
       "      <th>3</th>\n",
       "      <td>squat_right_1.mp4</td>\n",
       "      <td>down</td>\n",
       "      <td>0.079085</td>\n",
       "      <td>0.103278</td>\n",
       "      <td>0.109837</td>\n",
       "      <td>1.305912</td>\n",
       "      <td>1.063504</td>\n",
       "    </tr>\n",
       "    <tr>\n",
       "      <th>4</th>\n",
       "      <td>squat_right_1.mp4</td>\n",
       "      <td>down</td>\n",
       "      <td>0.079438</td>\n",
       "      <td>0.102361</td>\n",
       "      <td>0.110328</td>\n",
       "      <td>1.288572</td>\n",
       "      <td>1.077832</td>\n",
       "    </tr>\n",
       "  </tbody>\n",
       "</table>\n",
       "</div>"
      ]
     },
     "execution_count": 21,
     "metadata": {},
     "output_type": "execute_result"
    }
   ],
   "execution_count": 21
  },
  {
   "cell_type": "markdown",
   "metadata": {},
   "source": [
    "#### 3.1 Describe and analyze data\n",
    "\n",
    "There are 3 stages of a squat to analyze: UP, MIDDLE, DOWN"
   ]
  },
  {
   "cell_type": "code",
   "metadata": {
    "ExecuteTime": {
     "end_time": "2024-09-12T04:37:31.784510Z",
     "start_time": "2024-09-12T04:37:31.781804Z"
    }
   },
   "source": [
    "mean = df[\"ratio_knee_feet\"].mean(axis=0)\n",
    "min_val = df[\"ratio_knee_feet\"].min()\n",
    "max_val = df[\"ratio_knee_feet\"].max()\n",
    "\n",
    "print(\n",
    "f'''\n",
    "Mean value of the ratio between 2 knee width and 2 foot: {mean}\n",
    "Max value of the ratio between 2 knee width and 2 foot: {max_val}\n",
    "Min value of the ratio between 2 knee width and 2 foot: {min_val}\n",
    "'''\n",
    ")"
   ],
   "outputs": [
    {
     "name": "stdout",
     "output_type": "stream",
     "text": [
      "\n",
      "Mean value of the ratio between 2 knee width and 2 foot: 0.7126707683793196\n",
      "Max value of the ratio between 2 knee width and 2 foot: 1.1035749910255266\n",
      "Min value of the ratio between 2 knee width and 2 foot: 0.45962462473266275\n",
      "\n"
     ]
    }
   ],
   "execution_count": 22
  },
  {
   "cell_type": "markdown",
   "metadata": {},
   "source": [
    "**UP position**"
   ]
  },
  {
   "cell_type": "code",
   "metadata": {
    "ExecuteTime": {
     "end_time": "2024-09-12T04:37:32.567860Z",
     "start_time": "2024-09-12T04:37:32.562888Z"
    }
   },
   "source": [
    "df_ration_knee_feet = df[ df[\"stage\"] == \"up\" ][\"ratio_knee_feet\"]\n",
    "\n",
    "mean = df_ration_knee_feet.mean(axis=0)\n",
    "min_val = df_ration_knee_feet.min()\n",
    "max_val = df_ration_knee_feet.max()\n",
    "\n",
    "print(\n",
    "f'''\n",
    "Mean value of the ratio between 2 knee width and 2 foot in UP position: {mean}\n",
    "Max value of the ratio between 2 knee width and 2 foot in UP position: {max_val}\n",
    "Min value of the ratio between 2 knee width and 2 foot in UP position: {min_val}\n",
    "'''\n",
    ")"
   ],
   "outputs": [
    {
     "name": "stdout",
     "output_type": "stream",
     "text": [
      "\n",
      "Mean value of the ratio between 2 knee width and 2 foot in UP position: 0.6324040335468868\n",
      "Max value of the ratio between 2 knee width and 2 foot in UP position: 0.9671448867735778\n",
      "Min value of the ratio between 2 knee width and 2 foot in UP position: 0.45962462473266275\n",
      "\n"
     ]
    }
   ],
   "execution_count": 23
  },
  {
   "cell_type": "markdown",
   "metadata": {},
   "source": [
    "**MIDDLE position**"
   ]
  },
  {
   "cell_type": "code",
   "metadata": {
    "ExecuteTime": {
     "end_time": "2024-09-12T04:37:33.090475Z",
     "start_time": "2024-09-12T04:37:33.085643Z"
    }
   },
   "source": [
    "df_ration_knee_feet = df[ df[\"stage\"] == \"middle\" ][\"ratio_knee_feet\"]\n",
    "\n",
    "mean = df_ration_knee_feet.mean(axis=0)\n",
    "min_val = df_ration_knee_feet.min()\n",
    "max_val = df_ration_knee_feet.max()\n",
    "\n",
    "print(\n",
    "f'''\n",
    "Mean value of the ratio between 2 knee width and 2 foot in MIDDLE position: {mean}\n",
    "Max value of the ratio between 2 knee width and 2 foot in MIDDLE position: {max_val}\n",
    "Min value of the ratio between 2 knee width and 2 foot in MIDDLE position: {min_val}\n",
    "'''\n",
    ")"
   ],
   "outputs": [
    {
     "name": "stdout",
     "output_type": "stream",
     "text": [
      "\n",
      "Mean value of the ratio between 2 knee width and 2 foot in MIDDLE position: 0.7952972722557395\n",
      "Max value of the ratio between 2 knee width and 2 foot in MIDDLE position: 1.0155180754649262\n",
      "Min value of the ratio between 2 knee width and 2 foot in MIDDLE position: 0.6770016231073391\n",
      "\n"
     ]
    }
   ],
   "execution_count": 24
  },
  {
   "cell_type": "markdown",
   "metadata": {},
   "source": [
    "**DOWN position**"
   ]
  },
  {
   "cell_type": "code",
   "metadata": {
    "ExecuteTime": {
     "end_time": "2024-09-12T04:37:33.658211Z",
     "start_time": "2024-09-12T04:37:33.654966Z"
    }
   },
   "source": [
    "df_ration_knee_feet = df[ df[\"stage\"] == \"down\" ][\"ratio_knee_feet\"]\n",
    "\n",
    "mean = df_ration_knee_feet.mean(axis=0)\n",
    "min_val = df_ration_knee_feet.min()\n",
    "max_val = df_ration_knee_feet.max()\n",
    "\n",
    "print(\n",
    "f'''\n",
    "Mean value of the ratio between 2 knee width and 2 foot in DOWN position: {mean}\n",
    "Max value of the ratio between 2 knee width and 2 foot in DOWN position: {max_val}\n",
    "Min value of the ratio between 2 knee width and 2 foot in DOWN position: {min_val}\n",
    "'''\n",
    ")"
   ],
   "outputs": [
    {
     "name": "stdout",
     "output_type": "stream",
     "text": [
      "\n",
      "Mean value of the ratio between 2 knee width and 2 foot in DOWN position: 0.8486765252386749\n",
      "Max value of the ratio between 2 knee width and 2 foot in DOWN position: 1.1035749910255266\n",
      "Min value of the ratio between 2 knee width and 2 foot in DOWN position: 0.6907243261254806\n",
      "\n"
     ]
    }
   ],
   "execution_count": 25
  },
  {
   "cell_type": "code",
   "metadata": {
    "ExecuteTime": {
     "end_time": "2024-09-12T04:37:34.066073Z",
     "start_time": "2024-09-12T04:37:34.061921Z"
    }
   },
   "source": [
    "test = df[ (df[\"ratio_knee_feet\"] == 0.7) & (df[\"stage\"] == \"down\") ]\n",
    "test\n",
    "\n",
    "# df = df[ (df[\"ratio_knee_feet\"] != 0.4) ]"
   ],
   "outputs": [
    {
     "data": {
      "text/plain": [
       "Empty DataFrame\n",
       "Columns: [video, stage, shoulder_width, feet_width, knee_width, ratio_feet_shoulder, ratio_knee_feet]\n",
       "Index: []"
      ],
      "text/html": [
       "<div>\n",
       "<style scoped>\n",
       "    .dataframe tbody tr th:only-of-type {\n",
       "        vertical-align: middle;\n",
       "    }\n",
       "\n",
       "    .dataframe tbody tr th {\n",
       "        vertical-align: top;\n",
       "    }\n",
       "\n",
       "    .dataframe thead th {\n",
       "        text-align: right;\n",
       "    }\n",
       "</style>\n",
       "<table border=\"1\" class=\"dataframe\">\n",
       "  <thead>\n",
       "    <tr style=\"text-align: right;\">\n",
       "      <th></th>\n",
       "      <th>video</th>\n",
       "      <th>stage</th>\n",
       "      <th>shoulder_width</th>\n",
       "      <th>feet_width</th>\n",
       "      <th>knee_width</th>\n",
       "      <th>ratio_feet_shoulder</th>\n",
       "      <th>ratio_knee_feet</th>\n",
       "    </tr>\n",
       "  </thead>\n",
       "  <tbody>\n",
       "  </tbody>\n",
       "</table>\n",
       "</div>"
      ]
     },
     "execution_count": 26,
     "metadata": {},
     "output_type": "execute_result"
    }
   ],
   "execution_count": 26
  },
  {
   "cell_type": "markdown",
   "metadata": {},
   "source": [
    "#### 3.2 Conclusion\n",
    "\n",
    "According to the analyzed data extracted from the dataset:\n",
    "\n",
    "- In **UP** position:\n",
    "    1. Knee distance usually tighter compare to foot distance\n",
    "    1. The mean ratio between knee/foot is 0.63\n",
    "    1. **Conclusion**:\n",
    "        - Knee distance / foot width < 0.5 => **2 Knees are too tight**\n",
    "        - Knee distance / foot width > 1.0 => **2 Knees are too wide**\n",
    "        - Else: => **Correct form**\n",
    "\n",
    "- In **MIDDLE** position:\n",
    "    1. Knee distance usually equals compare to foot distance\n",
    "    1. The mean ratio between knee/foot is 0.8\n",
    "    1. **Conclusion**:\n",
    "        - Knee distance / foot width < 0.7 => **2 Knees are too tight**\n",
    "        - Knee distance / foot width > 1.0 => **2 Knees are too wide**\n",
    "        - Else: => **Correct form**\n",
    "\n",
    "- In **DOWN** position:\n",
    "    1. Knee distance usually equals or a little bit wider compare to foot distance\n",
    "    1. The mean ratio between knee/foot is 0.8\n",
    "    1. **Conclusion**:\n",
    "        - Knee distance / foot width < 0.7 => **2 Knees are too tight**\n",
    "        - Knee distance / foot width > 1.1 => **2 Knees are too wide**\n",
    "        - Else: => **Correct form**"
   ]
  },
  {
   "cell_type": "markdown",
   "metadata": {},
   "source": [
    "### 4. Save Analysis CSV"
   ]
  },
  {
   "cell_type": "code",
   "metadata": {
    "ExecuteTime": {
     "end_time": "2024-09-12T04:37:47.161590Z",
     "start_time": "2024-09-12T04:37:47.154459Z"
    }
   },
   "source": "df.to_csv(\"./analyze_pose_jainil.csv\", sep=',', encoding='utf-8', index=False)",
   "outputs": [],
   "execution_count": 27
  },
  {
   "cell_type": "code",
   "metadata": {
    "ExecuteTime": {
     "end_time": "2024-09-12T04:37:51.718628Z",
     "start_time": "2024-09-12T04:37:51.712058Z"
    }
   },
   "source": [
    "df = pd.read_csv(\"./analyze_pose.csv\")\n",
    "df = df.reset_index()"
   ],
   "outputs": [],
   "execution_count": 28
  },
  {
   "cell_type": "code",
   "metadata": {
    "ExecuteTime": {
     "end_time": "2024-09-12T04:37:52.019859Z",
     "start_time": "2024-09-12T04:37:52.006586Z"
    }
   },
   "source": [
    "df.head(10)\n",
    "df.describe()"
   ],
   "outputs": [
    {
     "data": {
      "text/plain": [
       "            index  shoulder_width  feet_width  knee_width  \\\n",
       "count  851.000000      851.000000  851.000000  851.000000   \n",
       "mean   425.000000        0.082446    0.148388    0.103947   \n",
       "std    245.806835        0.007008    0.026802    0.021360   \n",
       "min      0.000000        0.073848    0.098033    0.063072   \n",
       "25%    212.500000        0.077047    0.147486    0.087311   \n",
       "50%    425.000000        0.079676    0.151806    0.101141   \n",
       "75%    637.500000        0.089282    0.155863    0.115419   \n",
       "max    850.000000        0.099635    0.220649    0.158517   \n",
       "\n",
       "       ratio_feet_shoulder  ratio_knee_feet  \n",
       "count           851.000000       851.000000  \n",
       "mean              1.804465         0.713161  \n",
       "std               0.322933         0.148453  \n",
       "min               1.200000         0.500000  \n",
       "25%               1.600000         0.600000  \n",
       "50%               1.900000         0.700000  \n",
       "75%               2.000000         0.800000  \n",
       "max               2.800000         1.100000  "
      ],
      "text/html": [
       "<div>\n",
       "<style scoped>\n",
       "    .dataframe tbody tr th:only-of-type {\n",
       "        vertical-align: middle;\n",
       "    }\n",
       "\n",
       "    .dataframe tbody tr th {\n",
       "        vertical-align: top;\n",
       "    }\n",
       "\n",
       "    .dataframe thead th {\n",
       "        text-align: right;\n",
       "    }\n",
       "</style>\n",
       "<table border=\"1\" class=\"dataframe\">\n",
       "  <thead>\n",
       "    <tr style=\"text-align: right;\">\n",
       "      <th></th>\n",
       "      <th>index</th>\n",
       "      <th>shoulder_width</th>\n",
       "      <th>feet_width</th>\n",
       "      <th>knee_width</th>\n",
       "      <th>ratio_feet_shoulder</th>\n",
       "      <th>ratio_knee_feet</th>\n",
       "    </tr>\n",
       "  </thead>\n",
       "  <tbody>\n",
       "    <tr>\n",
       "      <th>count</th>\n",
       "      <td>851.000000</td>\n",
       "      <td>851.000000</td>\n",
       "      <td>851.000000</td>\n",
       "      <td>851.000000</td>\n",
       "      <td>851.000000</td>\n",
       "      <td>851.000000</td>\n",
       "    </tr>\n",
       "    <tr>\n",
       "      <th>mean</th>\n",
       "      <td>425.000000</td>\n",
       "      <td>0.082446</td>\n",
       "      <td>0.148388</td>\n",
       "      <td>0.103947</td>\n",
       "      <td>1.804465</td>\n",
       "      <td>0.713161</td>\n",
       "    </tr>\n",
       "    <tr>\n",
       "      <th>std</th>\n",
       "      <td>245.806835</td>\n",
       "      <td>0.007008</td>\n",
       "      <td>0.026802</td>\n",
       "      <td>0.021360</td>\n",
       "      <td>0.322933</td>\n",
       "      <td>0.148453</td>\n",
       "    </tr>\n",
       "    <tr>\n",
       "      <th>min</th>\n",
       "      <td>0.000000</td>\n",
       "      <td>0.073848</td>\n",
       "      <td>0.098033</td>\n",
       "      <td>0.063072</td>\n",
       "      <td>1.200000</td>\n",
       "      <td>0.500000</td>\n",
       "    </tr>\n",
       "    <tr>\n",
       "      <th>25%</th>\n",
       "      <td>212.500000</td>\n",
       "      <td>0.077047</td>\n",
       "      <td>0.147486</td>\n",
       "      <td>0.087311</td>\n",
       "      <td>1.600000</td>\n",
       "      <td>0.600000</td>\n",
       "    </tr>\n",
       "    <tr>\n",
       "      <th>50%</th>\n",
       "      <td>425.000000</td>\n",
       "      <td>0.079676</td>\n",
       "      <td>0.151806</td>\n",
       "      <td>0.101141</td>\n",
       "      <td>1.900000</td>\n",
       "      <td>0.700000</td>\n",
       "    </tr>\n",
       "    <tr>\n",
       "      <th>75%</th>\n",
       "      <td>637.500000</td>\n",
       "      <td>0.089282</td>\n",
       "      <td>0.155863</td>\n",
       "      <td>0.115419</td>\n",
       "      <td>2.000000</td>\n",
       "      <td>0.800000</td>\n",
       "    </tr>\n",
       "    <tr>\n",
       "      <th>max</th>\n",
       "      <td>850.000000</td>\n",
       "      <td>0.099635</td>\n",
       "      <td>0.220649</td>\n",
       "      <td>0.158517</td>\n",
       "      <td>2.800000</td>\n",
       "      <td>1.100000</td>\n",
       "    </tr>\n",
       "  </tbody>\n",
       "</table>\n",
       "</div>"
      ]
     },
     "execution_count": 29,
     "metadata": {},
     "output_type": "execute_result"
    }
   ],
   "execution_count": 29
  },
  {
   "cell_type": "code",
   "metadata": {
    "ExecuteTime": {
     "end_time": "2024-09-12T04:37:55.727815Z",
     "start_time": "2024-09-12T04:37:52.532381Z"
    }
   },
   "source": [
    "# Set Theme:\n",
    "sns.set_style('whitegrid')\n",
    "\n",
    "# Creating Strip plot for day-wise revenue:\n",
    "sns.swarmplot(y=\"ratio_feet_shoulder\", data=df, palette=\"viridis\")"
   ],
   "outputs": [
    {
     "data": {
      "text/plain": [
       "<AxesSubplot: ylabel='ratio_feet_shoulder'>"
      ]
     },
     "execution_count": 30,
     "metadata": {},
     "output_type": "execute_result"
    },
    {
     "data": {
      "text/plain": [
       "<Figure size 640x480 with 1 Axes>"
      ],
      "image/png": "[encoded data removed]"
     },
     "metadata": {},
     "output_type": "display_data"
    }
   ],
   "execution_count": 30
  },
  {
   "cell_type": "code",
   "metadata": {
    "ExecuteTime": {
     "end_time": "2024-09-12T04:37:58.551256Z",
     "start_time": "2024-09-12T04:37:55.728862Z"
    }
   },
   "source": [
    "# Set Theme:\n",
    "sns.set_style('whitegrid')\n",
    "\n",
    "# Creating Strip plot for day-wise revenue:\n",
    "sns.swarmplot(x='stage', y=\"ratio_knee_feet\", data=df, palette=\"viridis\")"
   ],
   "outputs": [
    {
     "data": {
      "text/plain": [
       "<AxesSubplot: xlabel='stage', ylabel='ratio_knee_feet'>"
      ]
     },
     "execution_count": 31,
     "metadata": {},
     "output_type": "execute_result"
    },
    {
     "data": {
      "text/plain": [
       "<Figure size 640x480 with 1 Axes>"
      ],
      "image/png": "[encoded data removed]"
     },
     "metadata": {},
     "output_type": "display_data"
    }
   ],
   "execution_count": 31
  },
  {
   "cell_type": "code",
   "execution_count": null,
   "metadata": {},
   "outputs": [],
   "source": []
  }
 ],
 "metadata": {
  "kernelspec": {
   "display_name": "Python 3.8.13 (conda)",
   "language": "python",
   "name": "python3"
  },
  "language_info": {
   "codemirror_mode": {
    "name": "ipython",
    "version": 3
   },
   "file_extension": ".py",
   "mimetype": "text/x-python",
   "name": "python",
   "nbconvert_exporter": "python",
   "pygments_lexer": "ipython3",
   "version": "3.8.13"
  },
  "orig_nbformat": 4,
  "vscode": {
   "interpreter": {
    "hash": "9260f401923fb5c4108c543a7d176de9733d378b3752e49535ad7c43c2271b65"
   }
  }
 },
 "nbformat": 4,
 "nbformat_minor": 2
}
