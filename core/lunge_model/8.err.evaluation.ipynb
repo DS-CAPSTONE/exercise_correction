{
 "cells": [
  {
   "cell_type": "code",
   "metadata": {
    "ExecuteTime": {
     "end_time": "2024-09-12T03:36:07.550156Z",
     "start_time": "2024-09-12T03:36:05.474324Z"
    }
   },
   "source": [
    "import numpy as np\n",
    "import pandas as pd\n",
    "import pickle\n",
    "import seaborn as sns\n",
    "import matplotlib.pyplot as plt\n",
    "\n",
    "from sklearn.metrics import precision_score, accuracy_score, f1_score, recall_score, confusion_matrix, roc_curve, auc\n",
    "\n",
    "from keras.utils.np_utils import to_categorical\n",
    "\n",
    "import warnings\n",
    "warnings.filterwarnings('ignore')"
   ],
   "outputs": [
    {
     "name": "stderr",
     "output_type": "stream",
     "text": [
      "/Users/jainilpatel/PycharmProjects/Exercise-Correction/.venv/lib/python3.9/site-packages/urllib3/__init__.py:35: NotOpenSSLWarning: urllib3 v2 only supports OpenSSL 1.1.1+, currently the 'ssl' module is compiled with 'LibreSSL 2.8.3'. See: https://github.com/urllib3/urllib3/issues/3020\n",
      "  warnings.warn(\n"
     ]
    }
   ],
   "execution_count": 1
  },
  {
   "cell_type": "markdown",
   "metadata": {},
   "source": [
    "## 1. Set ups"
   ]
  },
  {
   "cell_type": "markdown",
   "metadata": {},
   "source": [
    "### 1.1. Load models & scaler"
   ]
  },
  {
   "cell_type": "code",
   "metadata": {
    "ExecuteTime": {
     "end_time": "2024-09-12T03:36:11.096940Z",
     "start_time": "2024-09-12T03:36:09.540406Z"
    }
   },
   "source": [
    "# Load all sklearn models\n",
    "with open(\"./model/sklearn/err_all_sklearn.pkl\", \"rb\") as f:\n",
    "    sklearn_models = pickle.load(f)\n",
    "\n",
    "# Load all deep learning models\n",
    "with open(\"./model/dp/all_models.pkl\", \"rb\") as f:\n",
    "    dp_models = pickle.load(f)\n",
    "\n",
    "# Load input scaler\n",
    "with open(\"./model/input_scaler.pkl\", \"rb\") as f:\n",
    "    sc = pickle.load(f)"
   ],
   "outputs": [],
   "execution_count": 2
  },
  {
   "cell_type": "markdown",
   "metadata": {},
   "source": [
    "### 1.2. Important functions"
   ]
  },
  {
   "cell_type": "code",
   "metadata": {
    "ExecuteTime": {
     "end_time": "2024-09-12T03:36:15.465022Z",
     "start_time": "2024-09-12T03:36:15.461903Z"
    }
   },
   "source": [
    "def describe_dataset(dataset_path: str):\n",
    "    '''\n",
    "    Describe dataset\n",
    "    '''\n",
    "\n",
    "    data = pd.read_csv(dataset_path)\n",
    "    print(f\"Headers: {list(data.columns.values)}\")\n",
    "    print(f'Number of rows: {data.shape[0]} \\nNumber of columns: {data.shape[1]}\\n')\n",
    "    print(f\"Labels: \\n{data['label'].value_counts()}\\n\")\n",
    "    print(f\"Missing values: {data.isnull().values.any()}\\n\")\n",
    "    \n",
    "    duplicate = data[data.duplicated()]\n",
    "    print(f\"Duplicate Rows : {len(duplicate.sum(axis=1))}\")\n",
    "\n",
    "    return data\n",
    "\n",
    "\n",
    "def round_up_metric_results(results) -> list:\n",
    "    '''Round up metrics results such as precision score, recall score, ...'''\n",
    "    return list(map(lambda el: round(el, 3), results))"
   ],
   "outputs": [],
   "execution_count": 3
  },
  {
   "cell_type": "markdown",
   "metadata": {},
   "source": [
    "## 2. Process Test set"
   ]
  },
  {
   "cell_type": "code",
   "metadata": {
    "ExecuteTime": {
     "end_time": "2024-09-12T03:36:17.729765Z",
     "start_time": "2024-09-12T03:36:17.705160Z"
    }
   },
   "source": [
    "# load dataset\n",
    "test_df = describe_dataset(\"./err.test.csv\")\n",
    "\n",
    "# Categorizing label\n",
    "test_df.loc[test_df[\"label\"] == \"C\", \"label\"] = 1\n",
    "test_df.loc[test_df[\"label\"] == \"L\", \"label\"] = 0\n",
    "\n",
    "# Standard Scaling of features\n",
    "test_x = test_df.drop(\"label\", axis = 1)\n",
    "test_x = pd.DataFrame(sc.transform(test_x))\n",
    "\n",
    "test_y = test_df[\"label\"].astype('int')\n",
    "\n",
    "# # Converting prediction to categorical\n",
    "test_y_cat = to_categorical(test_y)"
   ],
   "outputs": [
    {
     "name": "stdout",
     "output_type": "stream",
     "text": [
      "Headers: ['label', 'nose_x', 'nose_y', 'nose_z', 'nose_v', 'left_shoulder_x', 'left_shoulder_y', 'left_shoulder_z', 'left_shoulder_v', 'right_shoulder_x', 'right_shoulder_y', 'right_shoulder_z', 'right_shoulder_v', 'left_hip_x', 'left_hip_y', 'left_hip_z', 'left_hip_v', 'right_hip_x', 'right_hip_y', 'right_hip_z', 'right_hip_v', 'left_knee_x', 'left_knee_y', 'left_knee_z', 'left_knee_v', 'right_knee_x', 'right_knee_y', 'right_knee_z', 'right_knee_v', 'left_ankle_x', 'left_ankle_y', 'left_ankle_z', 'left_ankle_v', 'right_ankle_x', 'right_ankle_y', 'right_ankle_z', 'right_ankle_v', 'left_heel_x', 'left_heel_y', 'left_heel_z', 'left_heel_v', 'right_heel_x', 'right_heel_y', 'right_heel_z', 'right_heel_v', 'left_foot_index_x', 'left_foot_index_y', 'left_foot_index_z', 'left_foot_index_v', 'right_foot_index_x', 'right_foot_index_y', 'right_foot_index_z', 'right_foot_index_v']\n",
      "Number of rows: 1107 \n",
      "Number of columns: 53\n",
      "\n",
      "Labels: \n",
      "L    561\n",
      "C    546\n",
      "Name: label, dtype: int64\n",
      "\n",
      "Missing values: False\n",
      "\n",
      "Duplicate Rows : 0\n"
     ]
    }
   ],
   "execution_count": 4
  },
  {
   "cell_type": "markdown",
   "metadata": {},
   "source": [
    "## 2. Test set evaluation for all models"
   ]
  },
  {
   "cell_type": "markdown",
   "metadata": {},
   "source": [
    "### 2.1. Sklearn models evaluation"
   ]
  },
  {
   "cell_type": "code",
   "metadata": {
    "ExecuteTime": {
     "end_time": "2024-09-12T03:36:19.728892Z",
     "start_time": "2024-09-12T03:36:19.394056Z"
    }
   },
   "source": [
    "testset_final_results = []\n",
    "\n",
    "for name, model in sklearn_models.items():\n",
    "    # Evaluate model\n",
    "    model_results = model.predict(test_x)\n",
    "\n",
    "    p_score = precision_score(test_y, model_results, average=\"weighted\")\n",
    "    a_score = accuracy_score(test_y, model_results)\n",
    "    r_score = recall_score(test_y, model_results, average=\"weighted\")\n",
    "    f1_score_result = f1_score(test_y, model_results, average=\"weighted\")\n",
    "    cm = confusion_matrix(test_y, model_results, labels=[1, 0])\n",
    "    testset_final_results.append(( name,  p_score, a_score, r_score, f1_score_result, cm ))\n",
    "\n",
    "\n",
    "sklearn_eval = pd.DataFrame(testset_final_results, columns=[\"Model\", \"Precision Score\", \"Accuracy Score\", \"Recall Score\", \"F1 Score\", \"Confusion Matrix\"])\n",
    "\n",
    "sklearn_eval"
   ],
   "outputs": [
    {
     "data": {
      "text/plain": [
       "  Model  Precision Score  Accuracy Score  Recall Score  F1 Score  \\\n",
       "0    LR         0.973314        0.971996      0.971996  0.971987   \n",
       "1   SVC         0.751947        0.719964      0.719964  0.711815   \n",
       "2   KNN         0.768403        0.765131      0.765131  0.764652   \n",
       "3   DTC         0.919226        0.916893      0.916893  0.916730   \n",
       "4  SGDC         0.960628        0.957543      0.957543  0.957496   \n",
       "5    NB         0.770355        0.768744      0.768744  0.768213   \n",
       "6    RF         0.854529        0.841915      0.841915  0.840738   \n",
       "\n",
       "           Confusion Matrix  \n",
       "0     [[545, 1], [30, 531]]  \n",
       "1   [[488, 58], [252, 309]]  \n",
       "2  [[445, 101], [159, 402]]  \n",
       "3    [[479, 67], [25, 536]]  \n",
       "4     [[545, 1], [46, 515]]  \n",
       "5  [[395, 151], [105, 456]]  \n",
       "6   [[510, 36], [139, 422]]  "
      ],
      "text/html": [
       "<div>\n",
       "<style scoped>\n",
       "    .dataframe tbody tr th:only-of-type {\n",
       "        vertical-align: middle;\n",
       "    }\n",
       "\n",
       "    .dataframe tbody tr th {\n",
       "        vertical-align: top;\n",
       "    }\n",
       "\n",
       "    .dataframe thead th {\n",
       "        text-align: right;\n",
       "    }\n",
       "</style>\n",
       "<table border=\"1\" class=\"dataframe\">\n",
       "  <thead>\n",
       "    <tr style=\"text-align: right;\">\n",
       "      <th></th>\n",
       "      <th>Model</th>\n",
       "      <th>Precision Score</th>\n",
       "      <th>Accuracy Score</th>\n",
       "      <th>Recall Score</th>\n",
       "      <th>F1 Score</th>\n",
       "      <th>Confusion Matrix</th>\n",
       "    </tr>\n",
       "  </thead>\n",
       "  <tbody>\n",
       "    <tr>\n",
       "      <th>0</th>\n",
       "      <td>LR</td>\n",
       "      <td>0.973314</td>\n",
       "      <td>0.971996</td>\n",
       "      <td>0.971996</td>\n",
       "      <td>0.971987</td>\n",
       "      <td>[[545, 1], [30, 531]]</td>\n",
       "    </tr>\n",
       "    <tr>\n",
       "      <th>1</th>\n",
       "      <td>SVC</td>\n",
       "      <td>0.751947</td>\n",
       "      <td>0.719964</td>\n",
       "      <td>0.719964</td>\n",
       "      <td>0.711815</td>\n",
       "      <td>[[488, 58], [252, 309]]</td>\n",
       "    </tr>\n",
       "    <tr>\n",
       "      <th>2</th>\n",
       "      <td>KNN</td>\n",
       "      <td>0.768403</td>\n",
       "      <td>0.765131</td>\n",
       "      <td>0.765131</td>\n",
       "      <td>0.764652</td>\n",
       "      <td>[[445, 101], [159, 402]]</td>\n",
       "    </tr>\n",
       "    <tr>\n",
       "      <th>3</th>\n",
       "      <td>DTC</td>\n",
       "      <td>0.919226</td>\n",
       "      <td>0.916893</td>\n",
       "      <td>0.916893</td>\n",
       "      <td>0.916730</td>\n",
       "      <td>[[479, 67], [25, 536]]</td>\n",
       "    </tr>\n",
       "    <tr>\n",
       "      <th>4</th>\n",
       "      <td>SGDC</td>\n",
       "      <td>0.960628</td>\n",
       "      <td>0.957543</td>\n",
       "      <td>0.957543</td>\n",
       "      <td>0.957496</td>\n",
       "      <td>[[545, 1], [46, 515]]</td>\n",
       "    </tr>\n",
       "    <tr>\n",
       "      <th>5</th>\n",
       "      <td>NB</td>\n",
       "      <td>0.770355</td>\n",
       "      <td>0.768744</td>\n",
       "      <td>0.768744</td>\n",
       "      <td>0.768213</td>\n",
       "      <td>[[395, 151], [105, 456]]</td>\n",
       "    </tr>\n",
       "    <tr>\n",
       "      <th>6</th>\n",
       "      <td>RF</td>\n",
       "      <td>0.854529</td>\n",
       "      <td>0.841915</td>\n",
       "      <td>0.841915</td>\n",
       "      <td>0.840738</td>\n",
       "      <td>[[510, 36], [139, 422]]</td>\n",
       "    </tr>\n",
       "  </tbody>\n",
       "</table>\n",
       "</div>"
      ]
     },
     "execution_count": 5,
     "metadata": {},
     "output_type": "execute_result"
    }
   ],
   "execution_count": 5
  },
  {
   "cell_type": "markdown",
   "metadata": {},
   "source": [
    "### 2.2. Deep learning models"
   ]
  },
  {
   "cell_type": "code",
   "metadata": {
    "ExecuteTime": {
     "end_time": "2024-09-12T03:36:21.655399Z",
     "start_time": "2024-09-12T03:36:21.410023Z"
    }
   },
   "source": [
    "test_set_results = []\n",
    "\n",
    "for name, model in dp_models.items():\n",
    "    # Evaluate model\n",
    "    predict_x = model.predict(test_x, verbose=False) \n",
    "    y_pred_class = np.argmax(predict_x, axis=1)\n",
    "    y_test_class = np.argmax(test_y_cat, axis=1)\n",
    "\n",
    "    cm = confusion_matrix(y_test_class, y_pred_class, labels=[1, 0])\n",
    "    p_score = precision_score(y_test_class, y_pred_class, average=\"weighted\")\n",
    "    a_score = accuracy_score(y_test_class, y_pred_class)\n",
    "    r_score = recall_score(y_test_class, y_pred_class, average=\"weighted\")\n",
    "    f1_score_result = f1_score(y_test_class, y_pred_class, average=\"weighted\")\n",
    "    \n",
    "    test_set_results.append(( name,  (p_score), a_score, (r_score), (f1_score_result), cm ))\n",
    "\n",
    "dp_eval = pd.DataFrame(test_set_results, columns=[\"Model\", \"Precision Score\", \"Accuracy Score\", \"Recall Score\", \"F1 Score\", \"Confusion Matrix\"])\n",
    "\n",
    "dp_eval"
   ],
   "outputs": [
    {
     "name": "stderr",
     "output_type": "stream",
     "text": [
      "2024-09-11 22:36:21.444271: W tensorflow/core/platform/profile_utils/cpu_utils.cc:128] Failed to get CPU frequency: 0 Hz\n"
     ]
    },
    {
     "data": {
      "text/plain": [
       "                   Model  Precision Score  Accuracy Score  Recall Score  \\\n",
       "0  7_layers_with_dropout         0.892070        0.864499      0.864499   \n",
       "1               5_layers         0.860509        0.831075      0.831075   \n",
       "2               3_layers         0.936507        0.927733      0.927733   \n",
       "3               7_layers         0.837910        0.773261      0.773261   \n",
       "\n",
       "   F1 Score         Confusion Matrix  \n",
       "0  0.862354   [[544, 2], [148, 413]]  \n",
       "1  0.827950  [[531, 15], [172, 389]]  \n",
       "2  0.927442    [[545, 1], [79, 482]]  \n",
       "3  0.762745   [[541, 5], [246, 315]]  "
      ],
      "text/html": [
       "<div>\n",
       "<style scoped>\n",
       "    .dataframe tbody tr th:only-of-type {\n",
       "        vertical-align: middle;\n",
       "    }\n",
       "\n",
       "    .dataframe tbody tr th {\n",
       "        vertical-align: top;\n",
       "    }\n",
       "\n",
       "    .dataframe thead th {\n",
       "        text-align: right;\n",
       "    }\n",
       "</style>\n",
       "<table border=\"1\" class=\"dataframe\">\n",
       "  <thead>\n",
       "    <tr style=\"text-align: right;\">\n",
       "      <th></th>\n",
       "      <th>Model</th>\n",
       "      <th>Precision Score</th>\n",
       "      <th>Accuracy Score</th>\n",
       "      <th>Recall Score</th>\n",
       "      <th>F1 Score</th>\n",
       "      <th>Confusion Matrix</th>\n",
       "    </tr>\n",
       "  </thead>\n",
       "  <tbody>\n",
       "    <tr>\n",
       "      <th>0</th>\n",
       "      <td>7_layers_with_dropout</td>\n",
       "      <td>0.892070</td>\n",
       "      <td>0.864499</td>\n",
       "      <td>0.864499</td>\n",
       "      <td>0.862354</td>\n",
       "      <td>[[544, 2], [148, 413]]</td>\n",
       "    </tr>\n",
       "    <tr>\n",
       "      <th>1</th>\n",
       "      <td>5_layers</td>\n",
       "      <td>0.860509</td>\n",
       "      <td>0.831075</td>\n",
       "      <td>0.831075</td>\n",
       "      <td>0.827950</td>\n",
       "      <td>[[531, 15], [172, 389]]</td>\n",
       "    </tr>\n",
       "    <tr>\n",
       "      <th>2</th>\n",
       "      <td>3_layers</td>\n",
       "      <td>0.936507</td>\n",
       "      <td>0.927733</td>\n",
       "      <td>0.927733</td>\n",
       "      <td>0.927442</td>\n",
       "      <td>[[545, 1], [79, 482]]</td>\n",
       "    </tr>\n",
       "    <tr>\n",
       "      <th>3</th>\n",
       "      <td>7_layers</td>\n",
       "      <td>0.837910</td>\n",
       "      <td>0.773261</td>\n",
       "      <td>0.773261</td>\n",
       "      <td>0.762745</td>\n",
       "      <td>[[541, 5], [246, 315]]</td>\n",
       "    </tr>\n",
       "  </tbody>\n",
       "</table>\n",
       "</div>"
      ]
     },
     "execution_count": 6,
     "metadata": {},
     "output_type": "execute_result"
    }
   ],
   "execution_count": 6
  },
  {
   "cell_type": "markdown",
   "metadata": {},
   "source": [
    "### 2.3. Final Results"
   ]
  },
  {
   "cell_type": "code",
   "metadata": {
    "ExecuteTime": {
     "end_time": "2024-09-12T03:36:23.512434Z",
     "start_time": "2024-09-12T03:36:23.493529Z"
    }
   },
   "source": [
    "eval_df = pd.concat([sklearn_eval, dp_eval])\n",
    "eval_df = eval_df.sort_values(by=['F1 Score'], ascending=False).reset_index(drop=True)\n",
    "eval_df.to_csv(f\"err.evaluation.csv\", sep=',', encoding='utf-8', index=False)\n",
    "eval_df"
   ],
   "outputs": [
    {
     "data": {
      "text/plain": [
       "                    Model  Precision Score  Accuracy Score  Recall Score  \\\n",
       "0                      LR         0.973314        0.971996      0.971996   \n",
       "1                    SGDC         0.960628        0.957543      0.957543   \n",
       "2                3_layers         0.936507        0.927733      0.927733   \n",
       "3                     DTC         0.919226        0.916893      0.916893   \n",
       "4   7_layers_with_dropout         0.892070        0.864499      0.864499   \n",
       "5                      RF         0.854529        0.841915      0.841915   \n",
       "6                5_layers         0.860509        0.831075      0.831075   \n",
       "7                      NB         0.770355        0.768744      0.768744   \n",
       "8                     KNN         0.768403        0.765131      0.765131   \n",
       "9                7_layers         0.837910        0.773261      0.773261   \n",
       "10                    SVC         0.751947        0.719964      0.719964   \n",
       "\n",
       "    F1 Score          Confusion Matrix  \n",
       "0   0.971987     [[545, 1], [30, 531]]  \n",
       "1   0.957496     [[545, 1], [46, 515]]  \n",
       "2   0.927442     [[545, 1], [79, 482]]  \n",
       "3   0.916730    [[479, 67], [25, 536]]  \n",
       "4   0.862354    [[544, 2], [148, 413]]  \n",
       "5   0.840738   [[510, 36], [139, 422]]  \n",
       "6   0.827950   [[531, 15], [172, 389]]  \n",
       "7   0.768213  [[395, 151], [105, 456]]  \n",
       "8   0.764652  [[445, 101], [159, 402]]  \n",
       "9   0.762745    [[541, 5], [246, 315]]  \n",
       "10  0.711815   [[488, 58], [252, 309]]  "
      ],
      "text/html": [
       "<div>\n",
       "<style scoped>\n",
       "    .dataframe tbody tr th:only-of-type {\n",
       "        vertical-align: middle;\n",
       "    }\n",
       "\n",
       "    .dataframe tbody tr th {\n",
       "        vertical-align: top;\n",
       "    }\n",
       "\n",
       "    .dataframe thead th {\n",
       "        text-align: right;\n",
       "    }\n",
       "</style>\n",
       "<table border=\"1\" class=\"dataframe\">\n",
       "  <thead>\n",
       "    <tr style=\"text-align: right;\">\n",
       "      <th></th>\n",
       "      <th>Model</th>\n",
       "      <th>Precision Score</th>\n",
       "      <th>Accuracy Score</th>\n",
       "      <th>Recall Score</th>\n",
       "      <th>F1 Score</th>\n",
       "      <th>Confusion Matrix</th>\n",
       "    </tr>\n",
       "  </thead>\n",
       "  <tbody>\n",
       "    <tr>\n",
       "      <th>0</th>\n",
       "      <td>LR</td>\n",
       "      <td>0.973314</td>\n",
       "      <td>0.971996</td>\n",
       "      <td>0.971996</td>\n",
       "      <td>0.971987</td>\n",
       "      <td>[[545, 1], [30, 531]]</td>\n",
       "    </tr>\n",
       "    <tr>\n",
       "      <th>1</th>\n",
       "      <td>SGDC</td>\n",
       "      <td>0.960628</td>\n",
       "      <td>0.957543</td>\n",
       "      <td>0.957543</td>\n",
       "      <td>0.957496</td>\n",
       "      <td>[[545, 1], [46, 515]]</td>\n",
       "    </tr>\n",
       "    <tr>\n",
       "      <th>2</th>\n",
       "      <td>3_layers</td>\n",
       "      <td>0.936507</td>\n",
       "      <td>0.927733</td>\n",
       "      <td>0.927733</td>\n",
       "      <td>0.927442</td>\n",
       "      <td>[[545, 1], [79, 482]]</td>\n",
       "    </tr>\n",
       "    <tr>\n",
       "      <th>3</th>\n",
       "      <td>DTC</td>\n",
       "      <td>0.919226</td>\n",
       "      <td>0.916893</td>\n",
       "      <td>0.916893</td>\n",
       "      <td>0.916730</td>\n",
       "      <td>[[479, 67], [25, 536]]</td>\n",
       "    </tr>\n",
       "    <tr>\n",
       "      <th>4</th>\n",
       "      <td>7_layers_with_dropout</td>\n",
       "      <td>0.892070</td>\n",
       "      <td>0.864499</td>\n",
       "      <td>0.864499</td>\n",
       "      <td>0.862354</td>\n",
       "      <td>[[544, 2], [148, 413]]</td>\n",
       "    </tr>\n",
       "    <tr>\n",
       "      <th>5</th>\n",
       "      <td>RF</td>\n",
       "      <td>0.854529</td>\n",
       "      <td>0.841915</td>\n",
       "      <td>0.841915</td>\n",
       "      <td>0.840738</td>\n",
       "      <td>[[510, 36], [139, 422]]</td>\n",
       "    </tr>\n",
       "    <tr>\n",
       "      <th>6</th>\n",
       "      <td>5_layers</td>\n",
       "      <td>0.860509</td>\n",
       "      <td>0.831075</td>\n",
       "      <td>0.831075</td>\n",
       "      <td>0.827950</td>\n",
       "      <td>[[531, 15], [172, 389]]</td>\n",
       "    </tr>\n",
       "    <tr>\n",
       "      <th>7</th>\n",
       "      <td>NB</td>\n",
       "      <td>0.770355</td>\n",
       "      <td>0.768744</td>\n",
       "      <td>0.768744</td>\n",
       "      <td>0.768213</td>\n",
       "      <td>[[395, 151], [105, 456]]</td>\n",
       "    </tr>\n",
       "    <tr>\n",
       "      <th>8</th>\n",
       "      <td>KNN</td>\n",
       "      <td>0.768403</td>\n",
       "      <td>0.765131</td>\n",
       "      <td>0.765131</td>\n",
       "      <td>0.764652</td>\n",
       "      <td>[[445, 101], [159, 402]]</td>\n",
       "    </tr>\n",
       "    <tr>\n",
       "      <th>9</th>\n",
       "      <td>7_layers</td>\n",
       "      <td>0.837910</td>\n",
       "      <td>0.773261</td>\n",
       "      <td>0.773261</td>\n",
       "      <td>0.762745</td>\n",
       "      <td>[[541, 5], [246, 315]]</td>\n",
       "    </tr>\n",
       "    <tr>\n",
       "      <th>10</th>\n",
       "      <td>SVC</td>\n",
       "      <td>0.751947</td>\n",
       "      <td>0.719964</td>\n",
       "      <td>0.719964</td>\n",
       "      <td>0.711815</td>\n",
       "      <td>[[488, 58], [252, 309]]</td>\n",
       "    </tr>\n",
       "  </tbody>\n",
       "</table>\n",
       "</div>"
      ]
     },
     "execution_count": 7,
     "metadata": {},
     "output_type": "execute_result"
    }
   ],
   "execution_count": 7
  },
  {
   "cell_type": "markdown",
   "metadata": {},
   "source": [
    "## 3. Best model - ROC - Confusion Matrix\n",
    "\n",
    "As we can see from the evaluation, the best model according to the F1 Score is the LR model."
   ]
  },
  {
   "cell_type": "code",
   "metadata": {
    "ExecuteTime": {
     "end_time": "2024-09-12T03:36:25.492329Z",
     "start_time": "2024-09-12T03:36:25.445041Z"
    }
   },
   "source": [
    "best_model = sklearn_models[\"LR\"]\n",
    "y_predictions = best_model.predict(test_x)\n",
    "\n",
    "p_score = precision_score(test_y, y_predictions, labels=[0, 1], average=None)\n",
    "r_score = recall_score(test_y, y_predictions, labels=[0, 1], average=None)\n",
    "f1_score_result = f1_score(test_y, y_predictions, labels=[0, 1], average=None)\n",
    "\n",
    "p_score, r_score, f1_score_result"
   ],
   "outputs": [
    {
     "data": {
      "text/plain": [
       "(array([0.9981203 , 0.94782609]),\n",
       " array([0.94652406, 0.9981685 ]),\n",
       " array([0.97163769, 0.97234612]))"
      ]
     },
     "execution_count": 8,
     "metadata": {},
     "output_type": "execute_result"
    }
   ],
   "execution_count": 8
  },
  {
   "cell_type": "markdown",
   "metadata": {},
   "source": [
    "### 3.1. Confusion Matrix"
   ]
  },
  {
   "cell_type": "code",
   "metadata": {
    "ExecuteTime": {
     "end_time": "2024-09-12T03:36:30.406082Z",
     "start_time": "2024-09-12T03:36:30.190652Z"
    }
   },
   "source": [
    "KNN_cm = eval_df[ eval_df[\"Model\"] == 'LR' ][\"Confusion Matrix\"].values[0]\n",
    "\n",
    "cm_array_df = pd.DataFrame(KNN_cm, index=[\"C\", \"L\"], columns=[\"C\", \"L\"])\n",
    "\n",
    "fig, ax = plt.subplots(figsize=(8,6)) \n",
    "sns.heatmap(cm_array_df, linewidths=1, annot=True, ax=ax, fmt='g', cmap=\"crest\")"
   ],
   "outputs": [
    {
     "data": {
      "text/plain": [
       "<AxesSubplot: >"
      ]
     },
     "execution_count": 10,
     "metadata": {},
     "output_type": "execute_result"
    },
    {
     "data": {
      "text/plain": [
       "<Figure size 800x600 with 2 Axes>"
      ],
      "image/png": "[encoded data removed]"
     },
     "metadata": {},
     "output_type": "display_data"
    }
   ],
   "execution_count": 10
  },
  {
   "cell_type": "markdown",
   "metadata": {},
   "source": [
    "### 3.3. F1 Score and Confidence correlation"
   ]
  },
  {
   "cell_type": "code",
   "metadata": {
    "ExecuteTime": {
     "end_time": "2024-09-12T03:36:31.736156Z",
     "start_time": "2024-09-12T03:36:31.732151Z"
    }
   },
   "source": [
    "def to_labels(y_pred, y_pred_proba, threshold):\n",
    "    '''Return prediction taking confidence threshold into account'''\n",
    "    results = []\n",
    "\n",
    "    for index, predicted_class in enumerate(y_pred):\n",
    "        prediction_probabilities = y_pred_proba[index]\n",
    "        class_prediction_probability = round(prediction_probabilities[np.argmax(prediction_probabilities)], 2)\n",
    "\n",
    "        results.append(predicted_class if class_prediction_probability >= threshold else -1)\n",
    "    \n",
    "    return results\n",
    "\n",
    "\n",
    "def calculate_correlation_score_confidence(test_x, test_y):\n",
    "    '''Calculate correlation between Precision score/Recall score/F1 score and confidence threshold'''\n",
    "    y_predictions = best_model.predict(test_x)\n",
    "    y_predict_proba = best_model.predict_proba(test_x)\n",
    "\n",
    "    thresholds = list(np.arange(0, 1.05, 0.01))\n",
    "\n",
    "    f1_score_results = []\n",
    "\n",
    "    for threshold in thresholds:\n",
    "        true_predictions = to_labels(y_predictions, y_predict_proba, threshold)\n",
    "        f1_s = list(f1_score(test_y, true_predictions, labels=[1, 0], average=None))\n",
    "        all_class_f1 = f1_score(test_y, true_predictions, labels=[0, 1, 2], average=\"weighted\")\n",
    "        f1_s.append(all_class_f1)\n",
    "        f1_score_results.append(f1_s)\n",
    "    \n",
    "    return thresholds, f1_score_results\n",
    "\n"
   ],
   "outputs": [],
   "execution_count": 11
  },
  {
   "cell_type": "code",
   "metadata": {
    "ExecuteTime": {
     "end_time": "2024-09-12T03:36:33.188325Z",
     "start_time": "2024-09-12T03:36:32.532331Z"
    }
   },
   "source": [
    "thresholds, f1_scores = calculate_correlation_score_confidence(test_x, test_y)\n",
    "\n",
    "first_class = [ el[0] for el in f1_scores ]\n",
    "second_class = [ el[1] for el in f1_scores ]\n",
    "all_classes = [ el[2] for el in f1_scores ]\n",
    "\n",
    "fig, ax = plt.subplots(figsize=(8,6))\n",
    "plt.plot(thresholds, first_class, label = \"F1 Score - Correct class\")\n",
    "plt.plot(thresholds, second_class, label = \"F1 Score - Incorrect class\")\n",
    "plt.plot(thresholds, all_classes, label = \"F1 Score - All classes\", linewidth=2.0, color=\"blue\")\n",
    "plt.legend(loc = 'lower left')\n",
    "plt.ylim([0.6, 1])\n",
    "plt.xlim([0.025, 1])\n",
    "plt.xlabel(\"Threshold\", fontsize = 12)\n",
    "plt.ylabel(\"F1 Score\", fontsize = 12)\n",
    "# plt.axvline(thresholds[np.argmin(abs(precision-recall))], color=\"k\", ls = \"--\")\n",
    "# plt.title(label = F\"Threshold = {thresholds[np.argmin(abs(precision-recall))]:.3f}\", fontsize = 12)\n",
    "plt.show()"
   ],
   "outputs": [
    {
     "data": {
      "text/plain": [
       "<Figure size 800x600 with 1 Axes>"
      ],
      "image/png": "[encoded data removed]"
     },
     "metadata": {},
     "output_type": "display_data"
    }
   ],
   "execution_count": 12
  },
  {
   "cell_type": "markdown",
   "metadata": {},
   "source": [
    "### 3.2. ROC curve"
   ]
  },
  {
   "cell_type": "code",
   "metadata": {
    "ExecuteTime": {
     "end_time": "2024-09-12T03:36:41.633096Z",
     "start_time": "2024-09-12T03:36:41.510805Z"
    }
   },
   "source": [
    "# calculate the fpr and tpr for all thresholds of the classification\n",
    "probs = best_model.predict_proba(test_x)\n",
    "preds = probs[:,1]\n",
    "fpr, tpr, threshold = roc_curve(test_y, preds)\n",
    "roc_auc = auc(fpr, tpr)\n",
    "\n",
    "optimal_idx = np.argmax(tpr - fpr)\n",
    "optimal_threshold = threshold[optimal_idx]\n",
    "print(f\"Optimal Threshold: {optimal_threshold}\")\n",
    "\n",
    "# method I: plt\n",
    "plt.plot(fpr, tpr, 'b', label = 'AUC = %0.2f' % roc_auc)\n",
    "plt.plot([0, 1], [0, 1],'r--', label=\"Random Guess\")\n",
    "plt.legend(loc=4)\n",
    "plt.ylabel('True Positive Rate')\n",
    "plt.xlabel('False Positive Rate')\n",
    "plt.show()"
   ],
   "outputs": [
    {
     "name": "stdout",
     "output_type": "stream",
     "text": [
      "Optimal Threshold: 0.6863927762156125\n"
     ]
    },
    {
     "data": {
      "text/plain": [
       "<Figure size 640x480 with 1 Axes>"
      ],
      "image/png": "[encoded data removed]"
     },
     "metadata": {},
     "output_type": "display_data"
    }
   ],
   "execution_count": 13
  },
  {
   "cell_type": "code",
   "execution_count": null,
   "metadata": {},
   "outputs": [],
   "source": []
  }
 ],
 "metadata": {
  "kernelspec": {
   "display_name": "Python 3.8.13 (conda)",
   "language": "python",
   "name": "python3"
  },
  "language_info": {
   "codemirror_mode": {
    "name": "ipython",
    "version": 3
   },
   "file_extension": ".py",
   "mimetype": "text/x-python",
   "name": "python",
   "nbconvert_exporter": "python",
   "pygments_lexer": "ipython3",
   "version": "3.8.13"
  },
  "orig_nbformat": 4,
  "vscode": {
   "interpreter": {
    "hash": "9260f401923fb5c4108c543a7d176de9733d378b3752e49535ad7c43c2271b65"
   }
  }
 },
 "nbformat": 4,
 "nbformat_minor": 2
}
