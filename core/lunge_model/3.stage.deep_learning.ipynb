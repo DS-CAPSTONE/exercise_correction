{
 "cells": [
  {
   "cell_type": "code",
   "metadata": {
    "ExecuteTime": {
     "end_time": "2024-09-12T03:08:31.661782Z",
     "start_time": "2024-09-12T03:08:29.389549Z"
    }
   },
   "source": [
    "# Data visualization\n",
    "import numpy as np\n",
    "import pandas as pd \n",
    "# Keras\n",
    "from keras.models import Sequential\n",
    "from keras.layers import Dense\n",
    "from keras.layers import Dropout\n",
    "from keras.optimizers import Adam\n",
    "from keras.utils.np_utils import to_categorical\n",
    "\n",
    "# Train-Test\n",
    "from sklearn.model_selection import train_test_split\n",
    "# Classification Report\n",
    "from sklearn.metrics import classification_report, confusion_matrix\n",
    "\n",
    "import pickle\n",
    "\n",
    "import warnings\n",
    "warnings.filterwarnings('ignore')"
   ],
   "outputs": [
    {
     "name": "stderr",
     "output_type": "stream",
     "text": [
      "/Users/jainilpatel/PycharmProjects/Exercise-Correction/.venv/lib/python3.9/site-packages/urllib3/__init__.py:35: NotOpenSSLWarning: urllib3 v2 only supports OpenSSL 1.1.1+, currently the 'ssl' module is compiled with 'LibreSSL 2.8.3'. See: https://github.com/urllib3/urllib3/issues/3020\n",
      "  warnings.warn(\n"
     ]
    }
   ],
   "execution_count": 1
  },
  {
   "cell_type": "markdown",
   "metadata": {},
   "source": [
    "## 1. Describe dataset and Train Model"
   ]
  },
  {
   "cell_type": "markdown",
   "metadata": {},
   "source": [
    "### 1.1. Describe dataset"
   ]
  },
  {
   "cell_type": "code",
   "metadata": {
    "ExecuteTime": {
     "end_time": "2024-09-12T03:08:33.589931Z",
     "start_time": "2024-09-12T03:08:33.584641Z"
    }
   },
   "source": [
    "# Determine important landmarks for lunge\n",
    "IMPORTANT_LMS = [\n",
    "    \"NOSE\",\n",
    "    \"LEFT_SHOULDER\",\n",
    "    \"RIGHT_SHOULDER\",\n",
    "    \"LEFT_HIP\",\n",
    "    \"RIGHT_HIP\",\n",
    "    \"LEFT_KNEE\",\n",
    "    \"RIGHT_KNEE\",\n",
    "    \"LEFT_ANKLE\",\n",
    "    \"RIGHT_ANKLE\",\n",
    "    \"LEFT_HEEL\",\n",
    "    \"RIGHT_HEEL\",\n",
    "    \"LEFT_FOOT_INDEX\",\n",
    "    \"RIGHT_FOOT_INDEX\",\n",
    "]\n",
    "\n",
    "# Generate all columns of the data frame\n",
    "\n",
    "HEADERS = [\"label\"] # Label column\n",
    "\n",
    "for lm in IMPORTANT_LMS:\n",
    "    HEADERS += [f\"{lm.lower()}_x\", f\"{lm.lower()}_y\", f\"{lm.lower()}_z\", f\"{lm.lower()}_v\"]"
   ],
   "outputs": [],
   "execution_count": 2
  },
  {
   "cell_type": "code",
   "metadata": {
    "ExecuteTime": {
     "end_time": "2024-09-12T03:08:57.704763Z",
     "start_time": "2024-09-12T03:08:57.538863Z"
    }
   },
   "source": [
    "def describe_dataset(dataset_path: str):\n",
    "    '''\n",
    "    Describe dataset\n",
    "    '''\n",
    "\n",
    "    data = pd.read_csv(dataset_path)\n",
    "    print(f\"Headers: {list(data.columns.values)}\")\n",
    "    print(f'Number of rows: {data.shape[0]} \\nNumber of columns: {data.shape[1]}\\n')\n",
    "    print(f\"Labels: \\n{data['label'].value_counts()}\\n\")\n",
    "    print(f\"Missing values: {data.isnull().values.any()}\\n\")\n",
    "    \n",
    "    duplicate = data[data.duplicated()]\n",
    "    print(f\"Duplicate Rows : {len(duplicate.sum(axis=1))}\")\n",
    "\n",
    "    return data\n",
    "\n",
    "\n",
    "# Remove duplicate rows (optional)\n",
    "def remove_duplicate_rows(dataset_path: str):\n",
    "    '''\n",
    "    Remove duplicated data from the dataset then save it to another files\n",
    "    '''\n",
    "    \n",
    "    df = pd.read_csv(dataset_path)\n",
    "    df.drop_duplicates(keep=\"first\", inplace=True)\n",
    "    df.to_csv(f\"cleaned_dataset.csv\", sep=',', encoding='utf-8', index=False)\n",
    "\n",
    "\n",
    "df = describe_dataset(\"./stage.train.csv\")"
   ],
   "outputs": [
    {
     "name": "stdout",
     "output_type": "stream",
     "text": [
      "Headers: ['label', 'nose_x', 'nose_y', 'nose_z', 'nose_v', 'left_shoulder_x', 'left_shoulder_y', 'left_shoulder_z', 'left_shoulder_v', 'right_shoulder_x', 'right_shoulder_y', 'right_shoulder_z', 'right_shoulder_v', 'left_hip_x', 'left_hip_y', 'left_hip_z', 'left_hip_v', 'right_hip_x', 'right_hip_y', 'right_hip_z', 'right_hip_v', 'left_knee_x', 'left_knee_y', 'left_knee_z', 'left_knee_v', 'right_knee_x', 'right_knee_y', 'right_knee_z', 'right_knee_v', 'left_ankle_x', 'left_ankle_y', 'left_ankle_z', 'left_ankle_v', 'right_ankle_x', 'right_ankle_y', 'right_ankle_z', 'right_ankle_v', 'left_heel_x', 'left_heel_y', 'left_heel_z', 'left_heel_v', 'right_heel_x', 'right_heel_y', 'right_heel_z', 'right_heel_v', 'left_foot_index_x', 'left_foot_index_y', 'left_foot_index_z', 'left_foot_index_v', 'right_foot_index_x', 'right_foot_index_y', 'right_foot_index_z', 'right_foot_index_v']\n",
      "Number of rows: 24244 \n",
      "Number of columns: 53\n",
      "\n",
      "Labels: \n",
      "D    8232\n",
      "M    8148\n",
      "I    7864\n",
      "Name: label, dtype: int64\n",
      "\n",
      "Missing values: False\n",
      "\n",
      "Duplicate Rows : 151\n"
     ]
    }
   ],
   "execution_count": 4
  },
  {
   "cell_type": "markdown",
   "metadata": {},
   "source": [
    "### 1.2. Preprocess data"
   ]
  },
  {
   "cell_type": "code",
   "metadata": {
    "ExecuteTime": {
     "end_time": "2024-09-12T03:09:16.130785Z",
     "start_time": "2024-09-12T03:09:16.001668Z"
    }
   },
   "source": [
    "# load dataset\n",
    "df = pd.read_csv(\"./stage.train.csv\")\n",
    "\n",
    "# Categorizing label\n",
    "df.loc[df[\"label\"] == \"I\", \"label\"] = 0\n",
    "df.loc[df[\"label\"] == \"M\", \"label\"] = 1\n",
    "df.loc[df[\"label\"] == \"D\", \"label\"] = 2\n",
    "\n",
    "print(f'Number of rows: {df.shape[0]} \\nNumber of columns: {df.shape[1]}\\n')\n",
    "print(f\"Labels: \\n{df['label'].value_counts()}\\n\")"
   ],
   "outputs": [
    {
     "name": "stdout",
     "output_type": "stream",
     "text": [
      "Number of rows: 24244 \n",
      "Number of columns: 53\n",
      "\n",
      "Labels: \n",
      "2    8232\n",
      "1    8148\n",
      "0    7864\n",
      "Name: label, dtype: int64\n",
      "\n"
     ]
    }
   ],
   "execution_count": 5
  },
  {
   "cell_type": "code",
   "metadata": {
    "ExecuteTime": {
     "end_time": "2024-09-12T03:09:20.349619Z",
     "start_time": "2024-09-12T03:09:20.342949Z"
    }
   },
   "source": [
    "# Standard Scaling of features\n",
    "with open(\"./model/input_scaler.pkl\", \"rb\") as f2:\n",
    "    input_scaler = pickle.load(f2)\n",
    "\n",
    "x = df.drop(\"label\", axis = 1)\n",
    "x = pd.DataFrame(input_scaler.transform(x))\n",
    "\n",
    "y = df[\"label\"]\n",
    "\n",
    "# # Converting prediction to categorical\n",
    "y_cat = to_categorical(y)"
   ],
   "outputs": [],
   "execution_count": 6
  },
  {
   "cell_type": "code",
   "metadata": {
    "ExecuteTime": {
     "end_time": "2024-09-12T03:09:21.628508Z",
     "start_time": "2024-09-12T03:09:21.619851Z"
    }
   },
   "source": [
    "x_train, x_test, y_train, y_test = train_test_split(x.values, y_cat, test_size=0.2)"
   ],
   "outputs": [],
   "execution_count": 7
  },
  {
   "cell_type": "markdown",
   "metadata": {},
   "source": [
    "### 1.3. Train model"
   ]
  },
  {
   "cell_type": "code",
   "metadata": {
    "ExecuteTime": {
     "end_time": "2024-09-12T03:09:23.011274Z",
     "start_time": "2024-09-12T03:09:22.970799Z"
    }
   },
   "source": [
    "model = Sequential()\n",
    "model.add(Dense(52, input_dim = 52, activation = \"relu\"))\n",
    "model.add(Dropout(0.5))\n",
    "model.add(Dense(52, activation = \"relu\"))\n",
    "model.add(Dropout(0.5))\n",
    "model.add(Dense(14, activation = \"relu\"))\n",
    "model.add(Dense(3, activation = \"softmax\"))\n",
    "model.compile(Adam(lr = 0.01), \"categorical_crossentropy\", metrics = [\"accuracy\"])\n",
    "model.summary()"
   ],
   "outputs": [
    {
     "name": "stdout",
     "output_type": "stream",
     "text": [
      "Model: \"sequential\"\n",
      "_________________________________________________________________\n",
      " Layer (type)                Output Shape              Param #   \n",
      "=================================================================\n",
      " dense (Dense)               (None, 52)                2756      \n",
      "                                                                 \n",
      " dropout (Dropout)           (None, 52)                0         \n",
      "                                                                 \n",
      " dense_1 (Dense)             (None, 52)                2756      \n",
      "                                                                 \n",
      " dropout_1 (Dropout)         (None, 52)                0         \n",
      "                                                                 \n",
      " dense_2 (Dense)             (None, 14)                742       \n",
      "                                                                 \n",
      " dense_3 (Dense)             (None, 3)                 45        \n",
      "                                                                 \n",
      "=================================================================\n",
      "Total params: 6,299\n",
      "Trainable params: 6,299\n",
      "Non-trainable params: 0\n",
      "_________________________________________________________________\n"
     ]
    }
   ],
   "execution_count": 8
  },
  {
   "cell_type": "code",
   "metadata": {
    "ExecuteTime": {
     "end_time": "2024-09-12T03:11:13.979981Z",
     "start_time": "2024-09-12T03:09:25.434759Z"
    }
   },
   "source": [
    "model.fit(x_train, y_train, epochs=100, batch_size=10, validation_data=(x_test, y_test))"
   ],
   "outputs": [
    {
     "name": "stdout",
     "output_type": "stream",
     "text": [
      "Epoch 1/100\n"
     ]
    },
    {
     "name": "stderr",
     "output_type": "stream",
     "text": [
      "2024-09-11 22:09:25.466853: W tensorflow/core/platform/profile_utils/cpu_utils.cc:128] Failed to get CPU frequency: 0 Hz\n"
     ]
    },
    {
     "name": "stdout",
     "output_type": "stream",
     "text": [
      "1940/1940 [==============================] - 1s 582us/step - loss: 0.1834 - accuracy: 0.9423 - val_loss: 0.0804 - val_accuracy: 0.9728\n",
      "Epoch 2/100\n",
      "1940/1940 [==============================] - 1s 540us/step - loss: 0.1156 - accuracy: 0.9704 - val_loss: 0.0573 - val_accuracy: 0.9860\n",
      "Epoch 3/100\n",
      "1940/1940 [==============================] - 1s 539us/step - loss: 0.1113 - accuracy: 0.9735 - val_loss: 0.0550 - val_accuracy: 0.9870\n",
      "Epoch 4/100\n",
      "1940/1940 [==============================] - 1s 535us/step - loss: 0.1016 - accuracy: 0.9752 - val_loss: 0.0563 - val_accuracy: 0.9897\n",
      "Epoch 5/100\n",
      "1940/1940 [==============================] - 1s 549us/step - loss: 0.1037 - accuracy: 0.9756 - val_loss: 0.0808 - val_accuracy: 0.9899\n",
      "Epoch 6/100\n",
      "1940/1940 [==============================] - 1s 544us/step - loss: 0.1191 - accuracy: 0.9760 - val_loss: 0.0768 - val_accuracy: 0.9887\n",
      "Epoch 7/100\n",
      "1940/1940 [==============================] - 1s 555us/step - loss: 0.0953 - accuracy: 0.9779 - val_loss: 0.0589 - val_accuracy: 0.9907\n",
      "Epoch 8/100\n",
      "1940/1940 [==============================] - 1s 556us/step - loss: 0.1140 - accuracy: 0.9762 - val_loss: 0.0593 - val_accuracy: 0.9887\n",
      "Epoch 9/100\n",
      "1940/1940 [==============================] - 1s 666us/step - loss: 0.1014 - accuracy: 0.9777 - val_loss: 0.0591 - val_accuracy: 0.9897\n",
      "Epoch 10/100\n",
      "1940/1940 [==============================] - 1s 566us/step - loss: 0.0853 - accuracy: 0.9804 - val_loss: 0.0524 - val_accuracy: 0.9915\n",
      "Epoch 11/100\n",
      "1940/1940 [==============================] - 1s 550us/step - loss: 0.1256 - accuracy: 0.9735 - val_loss: 0.0527 - val_accuracy: 0.9913\n",
      "Epoch 12/100\n",
      "1940/1940 [==============================] - 1s 548us/step - loss: 0.0736 - accuracy: 0.9824 - val_loss: 0.0445 - val_accuracy: 0.9907\n",
      "Epoch 13/100\n",
      "1940/1940 [==============================] - 1s 556us/step - loss: 0.0922 - accuracy: 0.9795 - val_loss: 0.0627 - val_accuracy: 0.9905\n",
      "Epoch 14/100\n",
      "1940/1940 [==============================] - 1s 555us/step - loss: 0.0783 - accuracy: 0.9822 - val_loss: 0.0533 - val_accuracy: 0.9903\n",
      "Epoch 15/100\n",
      "1940/1940 [==============================] - 1s 545us/step - loss: 0.0916 - accuracy: 0.9811 - val_loss: 0.0611 - val_accuracy: 0.9907\n",
      "Epoch 16/100\n",
      "1940/1940 [==============================] - 1s 551us/step - loss: 0.0932 - accuracy: 0.9790 - val_loss: 0.0929 - val_accuracy: 0.9897\n",
      "Epoch 17/100\n",
      "1940/1940 [==============================] - 1s 554us/step - loss: 0.1243 - accuracy: 0.9755 - val_loss: 0.0760 - val_accuracy: 0.9722\n",
      "Epoch 18/100\n",
      "1940/1940 [==============================] - 1s 550us/step - loss: 0.0921 - accuracy: 0.9819 - val_loss: 0.0608 - val_accuracy: 0.9911\n",
      "Epoch 19/100\n",
      "1940/1940 [==============================] - 1s 550us/step - loss: 0.0759 - accuracy: 0.9839 - val_loss: 0.0684 - val_accuracy: 0.9903\n",
      "Epoch 20/100\n",
      "1940/1940 [==============================] - 1s 548us/step - loss: 0.0893 - accuracy: 0.9828 - val_loss: 0.0688 - val_accuracy: 0.9903\n",
      "Epoch 21/100\n",
      "1940/1940 [==============================] - 1s 547us/step - loss: 0.1157 - accuracy: 0.9788 - val_loss: 0.0567 - val_accuracy: 0.9901\n",
      "Epoch 22/100\n",
      "1940/1940 [==============================] - 1s 552us/step - loss: 0.0845 - accuracy: 0.9827 - val_loss: 0.0558 - val_accuracy: 0.9907\n",
      "Epoch 23/100\n",
      "1940/1940 [==============================] - 1s 551us/step - loss: 0.0985 - accuracy: 0.9820 - val_loss: 0.0661 - val_accuracy: 0.9878\n",
      "Epoch 24/100\n",
      "1940/1940 [==============================] - 1s 551us/step - loss: 0.0895 - accuracy: 0.9839 - val_loss: 0.0624 - val_accuracy: 0.9895\n",
      "Epoch 25/100\n",
      "1940/1940 [==============================] - 1s 551us/step - loss: 0.0896 - accuracy: 0.9820 - val_loss: 0.0696 - val_accuracy: 0.9920\n",
      "Epoch 26/100\n",
      "1940/1940 [==============================] - 1s 548us/step - loss: 0.0835 - accuracy: 0.9831 - val_loss: 0.0669 - val_accuracy: 0.9901\n",
      "Epoch 27/100\n",
      "1940/1940 [==============================] - 1s 549us/step - loss: 0.0757 - accuracy: 0.9829 - val_loss: 0.0751 - val_accuracy: 0.9920\n",
      "Epoch 28/100\n",
      "1940/1940 [==============================] - 1s 546us/step - loss: 0.0994 - accuracy: 0.9829 - val_loss: 0.0773 - val_accuracy: 0.9882\n",
      "Epoch 29/100\n",
      "1940/1940 [==============================] - 1s 548us/step - loss: 0.0990 - accuracy: 0.9778 - val_loss: 0.0528 - val_accuracy: 0.9922\n",
      "Epoch 30/100\n",
      "1940/1940 [==============================] - 1s 548us/step - loss: 0.0880 - accuracy: 0.9832 - val_loss: 0.0771 - val_accuracy: 0.9874\n",
      "Epoch 31/100\n",
      "1940/1940 [==============================] - 1s 548us/step - loss: 0.0968 - accuracy: 0.9824 - val_loss: 0.0619 - val_accuracy: 0.9920\n",
      "Epoch 32/100\n",
      "1940/1940 [==============================] - 1s 543us/step - loss: 0.1078 - accuracy: 0.9829 - val_loss: 0.0814 - val_accuracy: 0.9924\n",
      "Epoch 33/100\n",
      "1940/1940 [==============================] - 1s 547us/step - loss: 0.0833 - accuracy: 0.9834 - val_loss: 0.0802 - val_accuracy: 0.9915\n",
      "Epoch 34/100\n",
      "1940/1940 [==============================] - 1s 554us/step - loss: 0.0769 - accuracy: 0.9854 - val_loss: 0.0943 - val_accuracy: 0.9911\n",
      "Epoch 35/100\n",
      "1940/1940 [==============================] - 1s 548us/step - loss: 0.0935 - accuracy: 0.9849 - val_loss: 0.1076 - val_accuracy: 0.9849\n",
      "Epoch 36/100\n",
      "1940/1940 [==============================] - 1s 565us/step - loss: 0.0910 - accuracy: 0.9828 - val_loss: 0.0841 - val_accuracy: 0.9918\n",
      "Epoch 37/100\n",
      "1940/1940 [==============================] - 1s 563us/step - loss: 0.1270 - accuracy: 0.9809 - val_loss: 0.0582 - val_accuracy: 0.9913\n",
      "Epoch 38/100\n",
      "1940/1940 [==============================] - 1s 546us/step - loss: 0.0897 - accuracy: 0.9817 - val_loss: 0.0627 - val_accuracy: 0.9895\n",
      "Epoch 39/100\n",
      "1940/1940 [==============================] - 1s 643us/step - loss: 0.0913 - accuracy: 0.9822 - val_loss: 0.1022 - val_accuracy: 0.9905\n",
      "Epoch 40/100\n",
      "1940/1940 [==============================] - 1s 570us/step - loss: 0.0730 - accuracy: 0.9829 - val_loss: 0.0953 - val_accuracy: 0.9891\n",
      "Epoch 41/100\n",
      "1940/1940 [==============================] - 1s 551us/step - loss: 0.0937 - accuracy: 0.9844 - val_loss: 0.0793 - val_accuracy: 0.9874\n",
      "Epoch 42/100\n",
      "1940/1940 [==============================] - 1s 546us/step - loss: 0.1034 - accuracy: 0.9808 - val_loss: 0.0528 - val_accuracy: 0.9920\n",
      "Epoch 43/100\n",
      "1940/1940 [==============================] - 1s 547us/step - loss: 0.1090 - accuracy: 0.9830 - val_loss: 0.0730 - val_accuracy: 0.9897\n",
      "Epoch 44/100\n",
      "1940/1940 [==============================] - 1s 549us/step - loss: 0.0709 - accuracy: 0.9841 - val_loss: 0.0619 - val_accuracy: 0.9915\n",
      "Epoch 45/100\n",
      "1940/1940 [==============================] - 1s 550us/step - loss: 0.0805 - accuracy: 0.9844 - val_loss: 0.0619 - val_accuracy: 0.9913\n",
      "Epoch 46/100\n",
      "1940/1940 [==============================] - 1s 551us/step - loss: 0.0769 - accuracy: 0.9836 - val_loss: 0.0807 - val_accuracy: 0.9928\n",
      "Epoch 47/100\n",
      "1940/1940 [==============================] - 1s 547us/step - loss: 0.0837 - accuracy: 0.9860 - val_loss: 0.1053 - val_accuracy: 0.9922\n",
      "Epoch 48/100\n",
      "1940/1940 [==============================] - 1s 548us/step - loss: 0.1083 - accuracy: 0.9807 - val_loss: 0.0880 - val_accuracy: 0.9918\n",
      "Epoch 49/100\n",
      "1940/1940 [==============================] - 1s 549us/step - loss: 0.0618 - accuracy: 0.9859 - val_loss: 0.0967 - val_accuracy: 0.9924\n",
      "Epoch 50/100\n",
      "1940/1940 [==============================] - 1s 553us/step - loss: 0.0785 - accuracy: 0.9836 - val_loss: 0.2519 - val_accuracy: 0.9911\n",
      "Epoch 51/100\n",
      "1940/1940 [==============================] - 1s 549us/step - loss: 0.1466 - accuracy: 0.9813 - val_loss: 0.1014 - val_accuracy: 0.9854\n",
      "Epoch 52/100\n",
      "1940/1940 [==============================] - 1s 547us/step - loss: 0.0731 - accuracy: 0.9844 - val_loss: 0.0941 - val_accuracy: 0.9920\n",
      "Epoch 53/100\n",
      "1940/1940 [==============================] - 1s 549us/step - loss: 0.0856 - accuracy: 0.9850 - val_loss: 0.1143 - val_accuracy: 0.9920\n",
      "Epoch 54/100\n",
      "1940/1940 [==============================] - 1s 553us/step - loss: 0.0807 - accuracy: 0.9853 - val_loss: 0.1700 - val_accuracy: 0.9899\n",
      "Epoch 55/100\n",
      "1940/1940 [==============================] - 1s 553us/step - loss: 0.1000 - accuracy: 0.9835 - val_loss: 0.0998 - val_accuracy: 0.9918\n",
      "Epoch 56/100\n",
      "1940/1940 [==============================] - 1s 555us/step - loss: 0.0814 - accuracy: 0.9830 - val_loss: 0.0934 - val_accuracy: 0.9926\n",
      "Epoch 57/100\n",
      "1940/1940 [==============================] - 1s 546us/step - loss: 0.0934 - accuracy: 0.9849 - val_loss: 0.0790 - val_accuracy: 0.9907\n",
      "Epoch 58/100\n",
      "1940/1940 [==============================] - 1s 550us/step - loss: 0.0627 - accuracy: 0.9866 - val_loss: 0.1176 - val_accuracy: 0.9901\n",
      "Epoch 59/100\n",
      "1940/1940 [==============================] - 1s 550us/step - loss: 0.1094 - accuracy: 0.9819 - val_loss: 0.1504 - val_accuracy: 0.9913\n",
      "Epoch 60/100\n",
      "1940/1940 [==============================] - 1s 549us/step - loss: 0.0916 - accuracy: 0.9850 - val_loss: 0.1216 - val_accuracy: 0.9926\n",
      "Epoch 61/100\n",
      "1940/1940 [==============================] - 1s 551us/step - loss: 0.1333 - accuracy: 0.9849 - val_loss: 0.1503 - val_accuracy: 0.9880\n",
      "Epoch 62/100\n",
      "1940/1940 [==============================] - 1s 568us/step - loss: 0.0952 - accuracy: 0.9852 - val_loss: 0.0788 - val_accuracy: 0.9909\n",
      "Epoch 63/100\n",
      "1940/1940 [==============================] - 1s 551us/step - loss: 0.0777 - accuracy: 0.9875 - val_loss: 0.1001 - val_accuracy: 0.9895\n",
      "Epoch 64/100\n",
      "1940/1940 [==============================] - 1s 558us/step - loss: 0.0864 - accuracy: 0.9855 - val_loss: 0.1216 - val_accuracy: 0.9928\n",
      "Epoch 65/100\n",
      "1940/1940 [==============================] - 1s 559us/step - loss: 0.1557 - accuracy: 0.9803 - val_loss: 0.1386 - val_accuracy: 0.9903\n",
      "Epoch 66/100\n",
      "1940/1940 [==============================] - 1s 556us/step - loss: 0.1567 - accuracy: 0.9846 - val_loss: 0.1115 - val_accuracy: 0.9913\n",
      "Epoch 67/100\n",
      "1940/1940 [==============================] - 1s 561us/step - loss: 0.0725 - accuracy: 0.9867 - val_loss: 0.0729 - val_accuracy: 0.9922\n",
      "Epoch 68/100\n",
      "1940/1940 [==============================] - 1s 605us/step - loss: 0.0832 - accuracy: 0.9862 - val_loss: 0.1299 - val_accuracy: 0.9922\n",
      "Epoch 69/100\n",
      "1940/1940 [==============================] - 1s 599us/step - loss: 0.0830 - accuracy: 0.9856 - val_loss: 0.1559 - val_accuracy: 0.9926\n",
      "Epoch 70/100\n",
      "1940/1940 [==============================] - 1s 582us/step - loss: 0.0754 - accuracy: 0.9864 - val_loss: 0.1045 - val_accuracy: 0.9909\n",
      "Epoch 71/100\n",
      "1940/1940 [==============================] - 1s 557us/step - loss: 0.1324 - accuracy: 0.9841 - val_loss: 0.1442 - val_accuracy: 0.9895\n",
      "Epoch 72/100\n",
      "1940/1940 [==============================] - 1s 555us/step - loss: 0.1307 - accuracy: 0.9780 - val_loss: 0.1078 - val_accuracy: 0.9831\n",
      "Epoch 73/100\n",
      "1940/1940 [==============================] - 1s 547us/step - loss: 0.1187 - accuracy: 0.9805 - val_loss: 0.0847 - val_accuracy: 0.9845\n",
      "Epoch 74/100\n",
      "1940/1940 [==============================] - 1s 545us/step - loss: 0.1275 - accuracy: 0.9813 - val_loss: 0.0791 - val_accuracy: 0.9901\n",
      "Epoch 75/100\n",
      "1940/1940 [==============================] - 1s 549us/step - loss: 0.1671 - accuracy: 0.9831 - val_loss: 0.1068 - val_accuracy: 0.9905\n",
      "Epoch 76/100\n",
      "1940/1940 [==============================] - 1s 556us/step - loss: 0.1430 - accuracy: 0.9807 - val_loss: 0.0600 - val_accuracy: 0.9866\n",
      "Epoch 77/100\n",
      "1940/1940 [==============================] - 1s 557us/step - loss: 0.1083 - accuracy: 0.9828 - val_loss: 0.0933 - val_accuracy: 0.9913\n",
      "Epoch 78/100\n",
      "1940/1940 [==============================] - 1s 566us/step - loss: 0.0936 - accuracy: 0.9797 - val_loss: 0.0929 - val_accuracy: 0.9901\n",
      "Epoch 79/100\n",
      "1940/1940 [==============================] - 1s 560us/step - loss: 0.0994 - accuracy: 0.9822 - val_loss: 0.0793 - val_accuracy: 0.9866\n",
      "Epoch 80/100\n",
      "1940/1940 [==============================] - 1s 560us/step - loss: 0.1066 - accuracy: 0.9795 - val_loss: 0.1114 - val_accuracy: 0.9864\n",
      "Epoch 81/100\n",
      "1940/1940 [==============================] - 1s 554us/step - loss: 0.1089 - accuracy: 0.9833 - val_loss: 0.1039 - val_accuracy: 0.9924\n",
      "Epoch 82/100\n",
      "1940/1940 [==============================] - 1s 554us/step - loss: 0.0718 - accuracy: 0.9871 - val_loss: 0.1027 - val_accuracy: 0.9928\n",
      "Epoch 83/100\n",
      "1940/1940 [==============================] - 1s 557us/step - loss: 0.1003 - accuracy: 0.9830 - val_loss: 0.1165 - val_accuracy: 0.9909\n",
      "Epoch 84/100\n",
      "1940/1940 [==============================] - 1s 556us/step - loss: 0.1187 - accuracy: 0.9827 - val_loss: 0.1112 - val_accuracy: 0.9897\n",
      "Epoch 85/100\n",
      "1940/1940 [==============================] - 1s 560us/step - loss: 0.1126 - accuracy: 0.9809 - val_loss: 0.0838 - val_accuracy: 0.9915\n",
      "Epoch 86/100\n",
      "1940/1940 [==============================] - 1s 554us/step - loss: 0.0605 - accuracy: 0.9876 - val_loss: 0.1648 - val_accuracy: 0.9913\n",
      "Epoch 87/100\n",
      "1940/1940 [==============================] - 1s 553us/step - loss: 0.0983 - accuracy: 0.9842 - val_loss: 0.2447 - val_accuracy: 0.9903\n",
      "Epoch 88/100\n",
      "1940/1940 [==============================] - 1s 553us/step - loss: 0.1758 - accuracy: 0.9789 - val_loss: 0.1438 - val_accuracy: 0.9918\n",
      "Epoch 89/100\n",
      "1940/1940 [==============================] - 1s 559us/step - loss: 0.0729 - accuracy: 0.9866 - val_loss: 0.1358 - val_accuracy: 0.9915\n",
      "Epoch 90/100\n",
      "1940/1940 [==============================] - 1s 557us/step - loss: 0.0604 - accuracy: 0.9875 - val_loss: 0.1455 - val_accuracy: 0.9893\n",
      "Epoch 91/100\n",
      "1940/1940 [==============================] - 1s 557us/step - loss: 0.0808 - accuracy: 0.9870 - val_loss: 0.1700 - val_accuracy: 0.9899\n",
      "Epoch 92/100\n",
      "1940/1940 [==============================] - 1s 561us/step - loss: 0.1458 - accuracy: 0.9815 - val_loss: 0.1259 - val_accuracy: 0.9901\n",
      "Epoch 93/100\n",
      "1940/1940 [==============================] - 1s 558us/step - loss: 0.0894 - accuracy: 0.9852 - val_loss: 0.1034 - val_accuracy: 0.9905\n",
      "Epoch 94/100\n",
      "1940/1940 [==============================] - 1s 556us/step - loss: 0.0695 - accuracy: 0.9860 - val_loss: 0.1609 - val_accuracy: 0.9909\n",
      "Epoch 95/100\n",
      "1940/1940 [==============================] - 1s 556us/step - loss: 0.0828 - accuracy: 0.9849 - val_loss: 0.1074 - val_accuracy: 0.9909\n",
      "Epoch 96/100\n",
      "1940/1940 [==============================] - 1s 568us/step - loss: 0.1370 - accuracy: 0.9844 - val_loss: 0.1587 - val_accuracy: 0.9909\n",
      "Epoch 97/100\n",
      "1940/1940 [==============================] - 1s 557us/step - loss: 0.1227 - accuracy: 0.9836 - val_loss: 0.1186 - val_accuracy: 0.9911\n",
      "Epoch 98/100\n",
      "1940/1940 [==============================] - 1s 676us/step - loss: 0.1033 - accuracy: 0.9831 - val_loss: 0.1353 - val_accuracy: 0.9918\n",
      "Epoch 99/100\n",
      "1940/1940 [==============================] - 1s 576us/step - loss: 0.1024 - accuracy: 0.9857 - val_loss: 0.2042 - val_accuracy: 0.9899\n",
      "Epoch 100/100\n",
      "1940/1940 [==============================] - 1s 557us/step - loss: 0.0895 - accuracy: 0.9852 - val_loss: 0.1498 - val_accuracy: 0.9920\n"
     ]
    },
    {
     "data": {
      "text/plain": [
       "<keras.callbacks.History at 0x35c1bb3a0>"
      ]
     },
     "execution_count": 9,
     "metadata": {},
     "output_type": "execute_result"
    }
   ],
   "execution_count": 9
  },
  {
   "cell_type": "markdown",
   "metadata": {},
   "source": [
    "## 2. Model Evaluation"
   ]
  },
  {
   "cell_type": "markdown",
   "metadata": {},
   "source": [
    "### 2.1. Train set evaluation"
   ]
  },
  {
   "cell_type": "code",
   "metadata": {
    "ExecuteTime": {
     "end_time": "2024-09-12T03:11:56.196024Z",
     "start_time": "2024-09-12T03:11:56.023032Z"
    }
   },
   "source": [
    "predict_x = model.predict(x_test) \n",
    "y_pred_class = np.argmax(predict_x, axis=1)\n",
    "\n",
    "y_pred = model.predict(x_test)\n",
    "y_test_class = np.argmax(y_test, axis=1)\n",
    "\n",
    "confusion_matrix(y_test_class, y_pred_class)"
   ],
   "outputs": [
    {
     "name": "stdout",
     "output_type": "stream",
     "text": [
      "152/152 [==============================] - 0s 263us/step\n",
      "152/152 [==============================] - 0s 230us/step\n"
     ]
    },
    {
     "data": {
      "text/plain": [
       "array([[1554,   11,    2],\n",
       "       [   5, 1637,   13],\n",
       "       [   0,    8, 1619]])"
      ]
     },
     "execution_count": 10,
     "metadata": {},
     "output_type": "execute_result"
    }
   ],
   "execution_count": 10
  },
  {
   "cell_type": "code",
   "metadata": {
    "ExecuteTime": {
     "end_time": "2024-09-12T03:12:00.705315Z",
     "start_time": "2024-09-12T03:12:00.693342Z"
    }
   },
   "source": [
    "print(classification_report(y_test_class, y_pred_class))"
   ],
   "outputs": [
    {
     "name": "stdout",
     "output_type": "stream",
     "text": [
      "              precision    recall  f1-score   support\n",
      "\n",
      "           0       1.00      0.99      0.99      1567\n",
      "           1       0.99      0.99      0.99      1655\n",
      "           2       0.99      1.00      0.99      1627\n",
      "\n",
      "    accuracy                           0.99      4849\n",
      "   macro avg       0.99      0.99      0.99      4849\n",
      "weighted avg       0.99      0.99      0.99      4849\n",
      "\n"
     ]
    }
   ],
   "execution_count": 11
  },
  {
   "cell_type": "markdown",
   "metadata": {},
   "source": [
    "### 2.2. Test set evaluation"
   ]
  },
  {
   "cell_type": "code",
   "metadata": {
    "ExecuteTime": {
     "end_time": "2024-09-12T03:12:14.067351Z",
     "start_time": "2024-09-12T03:12:14.051463Z"
    }
   },
   "source": [
    "test_df = pd.read_csv(\"./stage.test.csv\")\n",
    "\n",
    "# Categorizing label\n",
    "test_df.loc[test_df[\"label\"] == \"I\", \"label\"] = 0\n",
    "test_df.loc[test_df[\"label\"] == \"M\", \"label\"] = 1\n",
    "test_df.loc[test_df[\"label\"] == \"D\", \"label\"] = 2"
   ],
   "outputs": [],
   "execution_count": 13
  },
  {
   "cell_type": "code",
   "metadata": {
    "ExecuteTime": {
     "end_time": "2024-09-12T03:12:16.580303Z",
     "start_time": "2024-09-12T03:12:16.573819Z"
    }
   },
   "source": [
    "# Standard Scaling of features\n",
    "test_x = test_df.drop(\"label\", axis = 1)\n",
    "test_x = pd.DataFrame(input_scaler.transform(test_x))\n",
    "\n",
    "test_y = test_df[\"label\"]\n",
    "\n",
    "# # Converting prediction to categorical\n",
    "test_y_cat = to_categorical(test_y)"
   ],
   "outputs": [],
   "execution_count": 14
  },
  {
   "cell_type": "code",
   "metadata": {
    "ExecuteTime": {
     "end_time": "2024-09-12T03:12:17.639722Z",
     "start_time": "2024-09-12T03:12:17.568377Z"
    }
   },
   "source": [
    "predict_x = model.predict(test_x) \n",
    "y_pred_class = np.argmax(predict_x, axis=1)\n",
    "y_test_class = np.argmax(test_y_cat, axis=1)\n",
    "\n",
    "confusion_matrix(y_test_class, y_pred_class)"
   ],
   "outputs": [
    {
     "name": "stdout",
     "output_type": "stream",
     "text": [
      "38/38 [==============================] - 0s 330us/step\n"
     ]
    },
    {
     "data": {
      "text/plain": [
       "array([[400,   2,   0],\n",
       "       [ 54, 316,  17],\n",
       "       [  0,   2, 414]])"
      ]
     },
     "execution_count": 15,
     "metadata": {},
     "output_type": "execute_result"
    }
   ],
   "execution_count": 15
  },
  {
   "cell_type": "code",
   "metadata": {
    "ExecuteTime": {
     "end_time": "2024-09-12T03:12:18.449501Z",
     "start_time": "2024-09-12T03:12:18.445176Z"
    }
   },
   "source": [
    "print(classification_report(y_test_class, y_pred_class))"
   ],
   "outputs": [
    {
     "name": "stdout",
     "output_type": "stream",
     "text": [
      "              precision    recall  f1-score   support\n",
      "\n",
      "           0       0.88      1.00      0.93       402\n",
      "           1       0.99      0.82      0.89       387\n",
      "           2       0.96      1.00      0.98       416\n",
      "\n",
      "    accuracy                           0.94      1205\n",
      "   macro avg       0.94      0.94      0.94      1205\n",
      "weighted avg       0.94      0.94      0.94      1205\n",
      "\n"
     ]
    }
   ],
   "execution_count": 16
  },
  {
   "cell_type": "markdown",
   "metadata": {},
   "source": [
    "## 3. Dump Model"
   ]
  },
  {
   "cell_type": "code",
   "metadata": {
    "ExecuteTime": {
     "end_time": "2024-09-12T03:12:24.900366Z",
     "start_time": "2024-09-12T03:12:24.271806Z"
    }
   },
   "source": [
    "# Dump the best model to a pickle file\n",
    "with open(\"./model/lunge_model_deep_learning_jainil.pkl\", \"wb\") as f:\n",
    "    pickle.dump(model, f)"
   ],
   "outputs": [
    {
     "name": "stdout",
     "output_type": "stream",
     "text": [
      "INFO:tensorflow:Assets written to: ram://3bb40aee-d034-4a78-b36b-3aafc661dd1c/assets\n"
     ]
    }
   ],
   "execution_count": 17
  },
  {
   "cell_type": "code",
   "execution_count": null,
   "metadata": {},
   "outputs": [],
   "source": []
  }
 ],
 "metadata": {
  "kernelspec": {
   "display_name": "Python 3.8.13 (conda)",
   "language": "python",
   "name": "python3"
  },
  "language_info": {
   "codemirror_mode": {
    "name": "ipython",
    "version": 3
   },
   "file_extension": ".py",
   "mimetype": "text/x-python",
   "name": "python",
   "nbconvert_exporter": "python",
   "pygments_lexer": "ipython3",
   "version": "3.8.13"
  },
  "orig_nbformat": 4,
  "vscode": {
   "interpreter": {
    "hash": "9260f401923fb5c4108c543a7d176de9733d378b3752e49535ad7c43c2271b65"
   }
  }
 },
 "nbformat": 4,
 "nbformat_minor": 2
}
