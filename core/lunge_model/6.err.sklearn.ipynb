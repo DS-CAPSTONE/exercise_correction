{
 "cells": [
  {
   "cell_type": "code",
   "metadata": {
    "ExecuteTime": {
     "end_time": "2024-12-04T01:01:41.892887Z",
     "start_time": "2024-12-04T01:01:39.073890Z"
    }
   },
   "source": [
    "import mediapipe as mp\n",
    "import cv2\n",
    "import pandas as pd\n",
    "import pickle\n",
    "\n",
    "from sklearn.model_selection import train_test_split\n",
    "from sklearn.linear_model import LogisticRegression, SGDClassifier\n",
    "from sklearn.svm import SVC\n",
    "from sklearn.neighbors import KNeighborsClassifier\n",
    "from sklearn.tree import DecisionTreeClassifier\n",
    "from sklearn.ensemble import RandomForestClassifier\n",
    "from sklearn.naive_bayes import GaussianNB\n",
    "from sklearn.metrics import precision_score, accuracy_score, f1_score, recall_score, confusion_matrix\n",
    "from sklearn.calibration import CalibratedClassifierCV\n",
    "\n",
    "import warnings\n",
    "warnings.filterwarnings('ignore')\n",
    "\n",
    "# Drawing helpers\n",
    "mp_drawing = mp.solutions.drawing_utils\n",
    "mp_pose = mp.solutions.pose"
   ],
   "outputs": [
    {
     "name": "stderr",
     "output_type": "stream",
     "text": [
      "/Users/jainilpatel/PycharmProjects/Exercise-Correction/.venv/lib/python3.9/site-packages/urllib3/__init__.py:35: NotOpenSSLWarning: urllib3 v2 only supports OpenSSL 1.1.1+, currently the 'ssl' module is compiled with 'LibreSSL 2.8.3'. See: https://github.com/urllib3/urllib3/issues/3020\n",
      "  warnings.warn(\n"
     ]
    }
   ],
   "execution_count": 1
  },
  {
   "cell_type": "markdown",
   "metadata": {},
   "source": [
    "## 1. Set up important functions"
   ]
  },
  {
   "cell_type": "code",
   "metadata": {
    "ExecuteTime": {
     "end_time": "2024-12-04T01:01:41.899493Z",
     "start_time": "2024-12-04T01:01:41.896013Z"
    }
   },
   "source": [
    "def rescale_frame(frame, percent=50):\n",
    "    '''\n",
    "    Rescale a frame to a certain percentage compare to its original frame\n",
    "    '''\n",
    "    width = int(frame.shape[1] * percent/ 100)\n",
    "    height = int(frame.shape[0] * percent/ 100)\n",
    "    dim = (width, height)\n",
    "    return cv2.resize(frame, dim, interpolation = cv2.INTER_AREA)\n",
    "\n",
    "\n",
    "def describe_dataset(dataset_path: str):\n",
    "    '''\n",
    "    Describe dataset\n",
    "    '''\n",
    "\n",
    "    data = pd.read_csv(dataset_path)\n",
    "    print(f\"Headers: {list(data.columns.values)}\")\n",
    "    print(f'Number of rows: {data.shape[0]} \\nNumber of columns: {data.shape[1]}\\n')\n",
    "    print(f\"Labels: \\n{data['label'].value_counts()}\\n\")\n",
    "    print(f\"Missing values: {data.isnull().values.any()}\\n\")\n",
    "    \n",
    "    duplicate = data[data.duplicated()]\n",
    "    print(f\"Duplicate Rows : {len(duplicate.sum(axis=1))}\")\n",
    "\n",
    "    return data\n",
    "\n",
    "\n",
    "def round_up_metric_results(results) -> list:\n",
    "    '''Round up metrics results such as precision score, recall score, ...'''\n",
    "    return list(map(lambda el: round(el, 3), results))"
   ],
   "outputs": [],
   "execution_count": 2
  },
  {
   "cell_type": "markdown",
   "metadata": {},
   "source": [
    "## 2. Describe and process data"
   ]
  },
  {
   "cell_type": "code",
   "metadata": {
    "ExecuteTime": {
     "end_time": "2024-12-04T01:01:42.018194Z",
     "start_time": "2024-12-04T01:01:42.016434Z"
    }
   },
   "source": [
    "TRAIN_SET_PATH  = \"./err.train.csv\"\n",
    "TEST_SET_PATH  = \"./err.test.csv\""
   ],
   "outputs": [],
   "execution_count": 3
  },
  {
   "cell_type": "code",
   "metadata": {
    "ExecuteTime": {
     "end_time": "2024-12-04T01:01:42.281748Z",
     "start_time": "2024-12-04T01:01:42.158265Z"
    }
   },
   "source": [
    "df = describe_dataset(TRAIN_SET_PATH)\n",
    "# Categorizing label\n",
    "df.loc[df[\"label\"] == \"L\", \"label\"] = 0\n",
    "df.loc[df[\"label\"] == \"C\", \"label\"] = 1\n",
    "\n",
    "df.tail(3)"
   ],
   "outputs": [
    {
     "name": "stdout",
     "output_type": "stream",
     "text": [
      "Headers: ['label', 'nose_x', 'nose_y', 'nose_z', 'nose_v', 'left_shoulder_x', 'left_shoulder_y', 'left_shoulder_z', 'left_shoulder_v', 'right_shoulder_x', 'right_shoulder_y', 'right_shoulder_z', 'right_shoulder_v', 'left_hip_x', 'left_hip_y', 'left_hip_z', 'left_hip_v', 'right_hip_x', 'right_hip_y', 'right_hip_z', 'right_hip_v', 'left_knee_x', 'left_knee_y', 'left_knee_z', 'left_knee_v', 'right_knee_x', 'right_knee_y', 'right_knee_z', 'right_knee_v', 'left_ankle_x', 'left_ankle_y', 'left_ankle_z', 'left_ankle_v', 'right_ankle_x', 'right_ankle_y', 'right_ankle_z', 'right_ankle_v', 'left_heel_x', 'left_heel_y', 'left_heel_z', 'left_heel_v', 'right_heel_x', 'right_heel_y', 'right_heel_z', 'right_heel_v', 'left_foot_index_x', 'left_foot_index_y', 'left_foot_index_z', 'left_foot_index_v', 'right_foot_index_x', 'right_foot_index_y', 'right_foot_index_z', 'right_foot_index_v']\n",
      "Number of rows: 17907 \n",
      "Number of columns: 53\n",
      "\n",
      "Labels: \n",
      "L    9114\n",
      "C    8793\n",
      "Name: label, dtype: int64\n",
      "\n",
      "Missing values: False\n",
      "\n",
      "Duplicate Rows : 0\n"
     ]
    },
    {
     "data": {
      "text/plain": [
       "      label    nose_x    nose_y    nose_z    nose_v  left_shoulder_x  \\\n",
       "17904     1  0.647438  0.442268  0.004114  0.999985         0.615798   \n",
       "17905     1  0.649652  0.419057  0.008783  0.999983         0.617577   \n",
       "17906     1  0.653556  0.400394  0.014852  0.999980         0.620734   \n",
       "\n",
       "       left_shoulder_y  left_shoulder_z  left_shoulder_v  right_shoulder_x  \\\n",
       "17904         0.517170         0.151706         0.999579          0.631354   \n",
       "17905         0.503514         0.158545         0.999529          0.631972   \n",
       "17906         0.486522         0.169807         0.999556          0.631171   \n",
       "\n",
       "       ...  right_heel_z  right_heel_v  left_foot_index_x  left_foot_index_y  \\\n",
       "17904  ...     -0.034228      0.979719           0.701826           0.880516   \n",
       "17905  ...     -0.061176      0.980431           0.704606           0.880248   \n",
       "17906  ...     -0.138678      0.979078           0.705475           0.878981   \n",
       "\n",
       "       left_foot_index_z  left_foot_index_v  right_foot_index_x  \\\n",
       "17904           0.134222           0.979319            0.504880   \n",
       "17905           0.071476           0.979932            0.504513   \n",
       "17906           0.003690           0.979199            0.504067   \n",
       "\n",
       "       right_foot_index_y  right_foot_index_z  right_foot_index_v  \n",
       "17904            0.881748           -0.027911            0.986165  \n",
       "17905            0.881766           -0.088832            0.986975  \n",
       "17906            0.882642           -0.183304            0.986824  \n",
       "\n",
       "[3 rows x 53 columns]"
      ],
      "text/html": [
       "<div>\n",
       "<style scoped>\n",
       "    .dataframe tbody tr th:only-of-type {\n",
       "        vertical-align: middle;\n",
       "    }\n",
       "\n",
       "    .dataframe tbody tr th {\n",
       "        vertical-align: top;\n",
       "    }\n",
       "\n",
       "    .dataframe thead th {\n",
       "        text-align: right;\n",
       "    }\n",
       "</style>\n",
       "<table border=\"1\" class=\"dataframe\">\n",
       "  <thead>\n",
       "    <tr style=\"text-align: right;\">\n",
       "      <th></th>\n",
       "      <th>label</th>\n",
       "      <th>nose_x</th>\n",
       "      <th>nose_y</th>\n",
       "      <th>nose_z</th>\n",
       "      <th>nose_v</th>\n",
       "      <th>left_shoulder_x</th>\n",
       "      <th>left_shoulder_y</th>\n",
       "      <th>left_shoulder_z</th>\n",
       "      <th>left_shoulder_v</th>\n",
       "      <th>right_shoulder_x</th>\n",
       "      <th>...</th>\n",
       "      <th>right_heel_z</th>\n",
       "      <th>right_heel_v</th>\n",
       "      <th>left_foot_index_x</th>\n",
       "      <th>left_foot_index_y</th>\n",
       "      <th>left_foot_index_z</th>\n",
       "      <th>left_foot_index_v</th>\n",
       "      <th>right_foot_index_x</th>\n",
       "      <th>right_foot_index_y</th>\n",
       "      <th>right_foot_index_z</th>\n",
       "      <th>right_foot_index_v</th>\n",
       "    </tr>\n",
       "  </thead>\n",
       "  <tbody>\n",
       "    <tr>\n",
       "      <th>17904</th>\n",
       "      <td>1</td>\n",
       "      <td>0.647438</td>\n",
       "      <td>0.442268</td>\n",
       "      <td>0.004114</td>\n",
       "      <td>0.999985</td>\n",
       "      <td>0.615798</td>\n",
       "      <td>0.517170</td>\n",
       "      <td>0.151706</td>\n",
       "      <td>0.999579</td>\n",
       "      <td>0.631354</td>\n",
       "      <td>...</td>\n",
       "      <td>-0.034228</td>\n",
       "      <td>0.979719</td>\n",
       "      <td>0.701826</td>\n",
       "      <td>0.880516</td>\n",
       "      <td>0.134222</td>\n",
       "      <td>0.979319</td>\n",
       "      <td>0.504880</td>\n",
       "      <td>0.881748</td>\n",
       "      <td>-0.027911</td>\n",
       "      <td>0.986165</td>\n",
       "    </tr>\n",
       "    <tr>\n",
       "      <th>17905</th>\n",
       "      <td>1</td>\n",
       "      <td>0.649652</td>\n",
       "      <td>0.419057</td>\n",
       "      <td>0.008783</td>\n",
       "      <td>0.999983</td>\n",
       "      <td>0.617577</td>\n",
       "      <td>0.503514</td>\n",
       "      <td>0.158545</td>\n",
       "      <td>0.999529</td>\n",
       "      <td>0.631972</td>\n",
       "      <td>...</td>\n",
       "      <td>-0.061176</td>\n",
       "      <td>0.980431</td>\n",
       "      <td>0.704606</td>\n",
       "      <td>0.880248</td>\n",
       "      <td>0.071476</td>\n",
       "      <td>0.979932</td>\n",
       "      <td>0.504513</td>\n",
       "      <td>0.881766</td>\n",
       "      <td>-0.088832</td>\n",
       "      <td>0.986975</td>\n",
       "    </tr>\n",
       "    <tr>\n",
       "      <th>17906</th>\n",
       "      <td>1</td>\n",
       "      <td>0.653556</td>\n",
       "      <td>0.400394</td>\n",
       "      <td>0.014852</td>\n",
       "      <td>0.999980</td>\n",
       "      <td>0.620734</td>\n",
       "      <td>0.486522</td>\n",
       "      <td>0.169807</td>\n",
       "      <td>0.999556</td>\n",
       "      <td>0.631171</td>\n",
       "      <td>...</td>\n",
       "      <td>-0.138678</td>\n",
       "      <td>0.979078</td>\n",
       "      <td>0.705475</td>\n",
       "      <td>0.878981</td>\n",
       "      <td>0.003690</td>\n",
       "      <td>0.979199</td>\n",
       "      <td>0.504067</td>\n",
       "      <td>0.882642</td>\n",
       "      <td>-0.183304</td>\n",
       "      <td>0.986824</td>\n",
       "    </tr>\n",
       "  </tbody>\n",
       "</table>\n",
       "<p>3 rows × 53 columns</p>\n",
       "</div>"
      ]
     },
     "execution_count": 4,
     "metadata": {},
     "output_type": "execute_result"
    }
   ],
   "execution_count": 4
  },
  {
   "cell_type": "code",
   "metadata": {
    "ExecuteTime": {
     "end_time": "2024-12-04T01:01:43.330237Z",
     "start_time": "2024-12-04T01:01:43.327068Z"
    }
   },
   "source": [
    "with open(\"./model/input_scaler.pkl\", \"rb\") as f:\n",
    "    sc = pickle.load(f)"
   ],
   "outputs": [],
   "execution_count": 5
  },
  {
   "cell_type": "code",
   "metadata": {
    "ExecuteTime": {
     "end_time": "2024-12-04T01:01:44.004934Z",
     "start_time": "2024-12-04T01:01:43.995958Z"
    }
   },
   "source": [
    "# Extract features and class\n",
    "X = df.drop(\"label\", axis=1)\n",
    "y = df[\"label\"].astype(\"int\")\n",
    "\n",
    "X = pd.DataFrame(sc.transform(X))"
   ],
   "outputs": [],
   "execution_count": 6
  },
  {
   "cell_type": "code",
   "metadata": {
    "ExecuteTime": {
     "end_time": "2024-12-04T01:01:44.676457Z",
     "start_time": "2024-12-04T01:01:44.668352Z"
    }
   },
   "source": [
    "X_train, X_test, y_train, y_test = train_test_split(X, y, test_size=0.2, random_state=1234)\n",
    "y_test.head(3)"
   ],
   "outputs": [
    {
     "data": {
      "text/plain": [
       "10827    0\n",
       "11395    0\n",
       "3742     1\n",
       "Name: label, dtype: int64"
      ]
     },
     "execution_count": 7,
     "metadata": {},
     "output_type": "execute_result"
    }
   ],
   "execution_count": 7
  },
  {
   "cell_type": "markdown",
   "metadata": {},
   "source": [
    "## 3. Train & Evaluate Model"
   ]
  },
  {
   "cell_type": "markdown",
   "metadata": {},
   "source": "### 3.1. Train and evaluate model with train set"
  },
  {
   "cell_type": "code",
   "metadata": {
    "ExecuteTime": {
     "end_time": "2024-12-04T01:02:25.621942Z",
     "start_time": "2024-12-04T01:02:19.001299Z"
    }
   },
   "source": [
    "from sklearn.ensemble import HistGradientBoostingClassifier\n",
    "\n",
    "algorithms =[(\"HistGradientBoosting\", HistGradientBoostingClassifier()),\n",
    "             (\"LR\", LogisticRegression()),\n",
    "         (\"SVC\", SVC(probability=True)),\n",
    "         ('KNN',KNeighborsClassifier()),\n",
    "         (\"DTC\", DecisionTreeClassifier()),\n",
    "         (\"SGDC\", CalibratedClassifierCV(SGDClassifier())),\n",
    "         (\"NB\", GaussianNB()),\n",
    "         ('RF', RandomForestClassifier()),]\n",
    "\n",
    "models = {}\n",
    "final_results = []\n",
    "\n",
    "for name, model in algorithms:\n",
    "    trained_model = model.fit(X_train, y_train)\n",
    "    models[name] = trained_model\n",
    "\n",
    "    # Evaluate model\n",
    "    model_results = model.predict(X_test)\n",
    "\n",
    "    p_score = precision_score(y_test, model_results, average=None, labels=[1, 0])\n",
    "    a_score = accuracy_score(y_test, model_results)\n",
    "    r_score = recall_score(y_test, model_results, average=None, labels=[1, 0])\n",
    "    f1_score_result = f1_score(y_test, model_results, average=None, labels=[1, 0])\n",
    "    cm = confusion_matrix(y_test, model_results, labels=[1, 0])\n",
    "    final_results.append(( name,  round_up_metric_results(p_score), a_score, round_up_metric_results(r_score), round_up_metric_results(f1_score_result), cm))\n",
    "\n",
    "# Sort results by F1 score\n",
    "final_results.sort(key=lambda k: sum(k[4]), reverse=True)\n",
    "pd.DataFrame(final_results, columns=[\"Model\", \"Precision Score\", \"Accuracy score\", \"Recall Score\", \"F1 score\", \"Confusion Matrix\"])"
   ],
   "outputs": [
    {
     "data": {
      "text/plain": [
       "                  Model Precision Score  Accuracy score    Recall Score  \\\n",
       "0                   SVC    [1.0, 0.999]        0.999721    [0.999, 1.0]   \n",
       "1                   KNN    [1.0, 0.998]        0.999162    [0.998, 1.0]   \n",
       "2                    RF    [1.0, 0.998]        0.999162    [0.998, 1.0]   \n",
       "3  HistGradientBoosting  [0.999, 0.997]        0.998325  [0.997, 0.999]   \n",
       "4                   DTC  [0.994, 0.997]        0.995812  [0.997, 0.995]   \n",
       "5                  SGDC  [0.992, 0.991]        0.991904  [0.991, 0.993]   \n",
       "6                    LR  [0.992, 0.987]        0.989391  [0.986, 0.993]   \n",
       "7                    NB  [0.963, 0.952]        0.957286  [0.947, 0.967]   \n",
       "\n",
       "         F1 score          Confusion Matrix  \n",
       "0      [1.0, 1.0]    [[1713, 1], [0, 1868]]  \n",
       "1  [0.999, 0.999]    [[1711, 3], [0, 1868]]  \n",
       "2  [0.999, 0.999]    [[1711, 3], [0, 1868]]  \n",
       "3  [0.998, 0.998]    [[1709, 5], [1, 1867]]  \n",
       "4  [0.996, 0.996]   [[1709, 5], [10, 1858]]  \n",
       "5  [0.992, 0.992]  [[1698, 16], [13, 1855]]  \n",
       "6   [0.989, 0.99]  [[1690, 24], [14, 1854]]  \n",
       "7  [0.955, 0.959]  [[1623, 91], [62, 1806]]  "
      ],
      "text/html": [
       "<div>\n",
       "<style scoped>\n",
       "    .dataframe tbody tr th:only-of-type {\n",
       "        vertical-align: middle;\n",
       "    }\n",
       "\n",
       "    .dataframe tbody tr th {\n",
       "        vertical-align: top;\n",
       "    }\n",
       "\n",
       "    .dataframe thead th {\n",
       "        text-align: right;\n",
       "    }\n",
       "</style>\n",
       "<table border=\"1\" class=\"dataframe\">\n",
       "  <thead>\n",
       "    <tr style=\"text-align: right;\">\n",
       "      <th></th>\n",
       "      <th>Model</th>\n",
       "      <th>Precision Score</th>\n",
       "      <th>Accuracy score</th>\n",
       "      <th>Recall Score</th>\n",
       "      <th>F1 score</th>\n",
       "      <th>Confusion Matrix</th>\n",
       "    </tr>\n",
       "  </thead>\n",
       "  <tbody>\n",
       "    <tr>\n",
       "      <th>0</th>\n",
       "      <td>SVC</td>\n",
       "      <td>[1.0, 0.999]</td>\n",
       "      <td>0.999721</td>\n",
       "      <td>[0.999, 1.0]</td>\n",
       "      <td>[1.0, 1.0]</td>\n",
       "      <td>[[1713, 1], [0, 1868]]</td>\n",
       "    </tr>\n",
       "    <tr>\n",
       "      <th>1</th>\n",
       "      <td>KNN</td>\n",
       "      <td>[1.0, 0.998]</td>\n",
       "      <td>0.999162</td>\n",
       "      <td>[0.998, 1.0]</td>\n",
       "      <td>[0.999, 0.999]</td>\n",
       "      <td>[[1711, 3], [0, 1868]]</td>\n",
       "    </tr>\n",
       "    <tr>\n",
       "      <th>2</th>\n",
       "      <td>RF</td>\n",
       "      <td>[1.0, 0.998]</td>\n",
       "      <td>0.999162</td>\n",
       "      <td>[0.998, 1.0]</td>\n",
       "      <td>[0.999, 0.999]</td>\n",
       "      <td>[[1711, 3], [0, 1868]]</td>\n",
       "    </tr>\n",
       "    <tr>\n",
       "      <th>3</th>\n",
       "      <td>HistGradientBoosting</td>\n",
       "      <td>[0.999, 0.997]</td>\n",
       "      <td>0.998325</td>\n",
       "      <td>[0.997, 0.999]</td>\n",
       "      <td>[0.998, 0.998]</td>\n",
       "      <td>[[1709, 5], [1, 1867]]</td>\n",
       "    </tr>\n",
       "    <tr>\n",
       "      <th>4</th>\n",
       "      <td>DTC</td>\n",
       "      <td>[0.994, 0.997]</td>\n",
       "      <td>0.995812</td>\n",
       "      <td>[0.997, 0.995]</td>\n",
       "      <td>[0.996, 0.996]</td>\n",
       "      <td>[[1709, 5], [10, 1858]]</td>\n",
       "    </tr>\n",
       "    <tr>\n",
       "      <th>5</th>\n",
       "      <td>SGDC</td>\n",
       "      <td>[0.992, 0.991]</td>\n",
       "      <td>0.991904</td>\n",
       "      <td>[0.991, 0.993]</td>\n",
       "      <td>[0.992, 0.992]</td>\n",
       "      <td>[[1698, 16], [13, 1855]]</td>\n",
       "    </tr>\n",
       "    <tr>\n",
       "      <th>6</th>\n",
       "      <td>LR</td>\n",
       "      <td>[0.992, 0.987]</td>\n",
       "      <td>0.989391</td>\n",
       "      <td>[0.986, 0.993]</td>\n",
       "      <td>[0.989, 0.99]</td>\n",
       "      <td>[[1690, 24], [14, 1854]]</td>\n",
       "    </tr>\n",
       "    <tr>\n",
       "      <th>7</th>\n",
       "      <td>NB</td>\n",
       "      <td>[0.963, 0.952]</td>\n",
       "      <td>0.957286</td>\n",
       "      <td>[0.947, 0.967]</td>\n",
       "      <td>[0.955, 0.959]</td>\n",
       "      <td>[[1623, 91], [62, 1806]]</td>\n",
       "    </tr>\n",
       "  </tbody>\n",
       "</table>\n",
       "</div>"
      ]
     },
     "execution_count": 8,
     "metadata": {},
     "output_type": "execute_result"
    }
   ],
   "execution_count": 8
  },
  {
   "cell_type": "markdown",
   "metadata": {},
   "source": [
    "### 3.2. Test set evaluation"
   ]
  },
  {
   "cell_type": "code",
   "metadata": {
    "ExecuteTime": {
     "end_time": "2024-12-04T01:02:46.329243Z",
     "start_time": "2024-12-04T01:02:46.305706Z"
    }
   },
   "source": [
    "test_df = describe_dataset(TEST_SET_PATH)\n",
    "test_df = test_df.sample(frac=1).reset_index(drop=True)\n",
    "\n",
    "# Categorizing label\n",
    "test_df.loc[test_df[\"label\"] == \"L\", \"label\"] = 0\n",
    "test_df.loc[test_df[\"label\"] == \"C\", \"label\"] = 1\n",
    "\n",
    "test_x = test_df.drop(\"label\", axis=1)\n",
    "test_y = test_df[\"label\"].astype(\"int\")\n",
    "\n",
    "test_x = pd.DataFrame(sc.transform(test_x))"
   ],
   "outputs": [
    {
     "name": "stdout",
     "output_type": "stream",
     "text": [
      "Headers: ['label', 'nose_x', 'nose_y', 'nose_z', 'nose_v', 'left_shoulder_x', 'left_shoulder_y', 'left_shoulder_z', 'left_shoulder_v', 'right_shoulder_x', 'right_shoulder_y', 'right_shoulder_z', 'right_shoulder_v', 'left_hip_x', 'left_hip_y', 'left_hip_z', 'left_hip_v', 'right_hip_x', 'right_hip_y', 'right_hip_z', 'right_hip_v', 'left_knee_x', 'left_knee_y', 'left_knee_z', 'left_knee_v', 'right_knee_x', 'right_knee_y', 'right_knee_z', 'right_knee_v', 'left_ankle_x', 'left_ankle_y', 'left_ankle_z', 'left_ankle_v', 'right_ankle_x', 'right_ankle_y', 'right_ankle_z', 'right_ankle_v', 'left_heel_x', 'left_heel_y', 'left_heel_z', 'left_heel_v', 'right_heel_x', 'right_heel_y', 'right_heel_z', 'right_heel_v', 'left_foot_index_x', 'left_foot_index_y', 'left_foot_index_z', 'left_foot_index_v', 'right_foot_index_x', 'right_foot_index_y', 'right_foot_index_z', 'right_foot_index_v']\n",
      "Number of rows: 1107 \n",
      "Number of columns: 53\n",
      "\n",
      "Labels: \n",
      "L    561\n",
      "C    546\n",
      "Name: label, dtype: int64\n",
      "\n",
      "Missing values: False\n",
      "\n",
      "Duplicate Rows : 0\n"
     ]
    }
   ],
   "execution_count": 9
  },
  {
   "cell_type": "code",
   "metadata": {
    "ExecuteTime": {
     "end_time": "2024-12-04T01:02:46.735136Z",
     "start_time": "2024-12-04T01:02:46.430926Z"
    }
   },
   "source": [
    "testset_final_results = []\n",
    "\n",
    "for name, model in models.items():\n",
    "    # Evaluate model\n",
    "    model_results = model.predict(test_x)\n",
    "\n",
    "    p_score = precision_score(test_y, model_results, average=None, labels=[1, 0])\n",
    "    a_score = accuracy_score(test_y, model_results)\n",
    "    r_score = recall_score(test_y, model_results, average=None, labels=[1, 0])\n",
    "    f1_score_result = f1_score(test_y, model_results, average=None, labels=[1, 0])\n",
    "    cm = confusion_matrix(test_y, model_results, labels=[1, 0])\n",
    "    testset_final_results.append(( name,  round_up_metric_results(p_score), a_score, round_up_metric_results(r_score), round_up_metric_results(f1_score_result), cm ))\n",
    "\n",
    "\n",
    "testset_final_results.sort(key=lambda k: sum(k[4]), reverse=True)\n",
    "pd.DataFrame(testset_final_results, columns=[\"Model\", \"Precision Score\", \"Accuracy score\", \"Recall Score\", \"F1 score\", \"Confusion Matrix\"])"
   ],
   "outputs": [
    {
     "data": {
      "text/plain": [
       "                  Model Precision Score  Accuracy score    Recall Score  \\\n",
       "0                    LR  [0.948, 0.998]        0.971996  [0.998, 0.947]   \n",
       "1                  SGDC  [0.933, 0.998]        0.963866   [0.998, 0.93]   \n",
       "2  HistGradientBoosting  [0.958, 0.961]        0.959350   [0.96, 0.959]   \n",
       "3                   DTC  [0.921, 0.906]        0.913279  [0.901, 0.925]   \n",
       "4                    RF   [0.78, 0.899]        0.830172  [0.914, 0.749]   \n",
       "5                    NB   [0.79, 0.751]        0.768744  [0.723, 0.813]   \n",
       "6                   KNN  [0.737, 0.799]        0.765131  [0.815, 0.717]   \n",
       "7                   SVC  [0.659, 0.842]        0.719964  [0.894, 0.551]   \n",
       "\n",
       "         F1 score          Confusion Matrix  \n",
       "0  [0.972, 0.972]     [[545, 1], [30, 531]]  \n",
       "1  [0.965, 0.963]     [[545, 1], [39, 522]]  \n",
       "2   [0.959, 0.96]    [[524, 22], [23, 538]]  \n",
       "3  [0.911, 0.915]    [[492, 54], [42, 519]]  \n",
       "4  [0.841, 0.817]   [[499, 47], [141, 420]]  \n",
       "5  [0.755, 0.781]  [[395, 151], [105, 456]]  \n",
       "6  [0.774, 0.756]  [[445, 101], [159, 402]]  \n",
       "7  [0.759, 0.666]   [[488, 58], [252, 309]]  "
      ],
      "text/html": [
       "<div>\n",
       "<style scoped>\n",
       "    .dataframe tbody tr th:only-of-type {\n",
       "        vertical-align: middle;\n",
       "    }\n",
       "\n",
       "    .dataframe tbody tr th {\n",
       "        vertical-align: top;\n",
       "    }\n",
       "\n",
       "    .dataframe thead th {\n",
       "        text-align: right;\n",
       "    }\n",
       "</style>\n",
       "<table border=\"1\" class=\"dataframe\">\n",
       "  <thead>\n",
       "    <tr style=\"text-align: right;\">\n",
       "      <th></th>\n",
       "      <th>Model</th>\n",
       "      <th>Precision Score</th>\n",
       "      <th>Accuracy score</th>\n",
       "      <th>Recall Score</th>\n",
       "      <th>F1 score</th>\n",
       "      <th>Confusion Matrix</th>\n",
       "    </tr>\n",
       "  </thead>\n",
       "  <tbody>\n",
       "    <tr>\n",
       "      <th>0</th>\n",
       "      <td>LR</td>\n",
       "      <td>[0.948, 0.998]</td>\n",
       "      <td>0.971996</td>\n",
       "      <td>[0.998, 0.947]</td>\n",
       "      <td>[0.972, 0.972]</td>\n",
       "      <td>[[545, 1], [30, 531]]</td>\n",
       "    </tr>\n",
       "    <tr>\n",
       "      <th>1</th>\n",
       "      <td>SGDC</td>\n",
       "      <td>[0.933, 0.998]</td>\n",
       "      <td>0.963866</td>\n",
       "      <td>[0.998, 0.93]</td>\n",
       "      <td>[0.965, 0.963]</td>\n",
       "      <td>[[545, 1], [39, 522]]</td>\n",
       "    </tr>\n",
       "    <tr>\n",
       "      <th>2</th>\n",
       "      <td>HistGradientBoosting</td>\n",
       "      <td>[0.958, 0.961]</td>\n",
       "      <td>0.959350</td>\n",
       "      <td>[0.96, 0.959]</td>\n",
       "      <td>[0.959, 0.96]</td>\n",
       "      <td>[[524, 22], [23, 538]]</td>\n",
       "    </tr>\n",
       "    <tr>\n",
       "      <th>3</th>\n",
       "      <td>DTC</td>\n",
       "      <td>[0.921, 0.906]</td>\n",
       "      <td>0.913279</td>\n",
       "      <td>[0.901, 0.925]</td>\n",
       "      <td>[0.911, 0.915]</td>\n",
       "      <td>[[492, 54], [42, 519]]</td>\n",
       "    </tr>\n",
       "    <tr>\n",
       "      <th>4</th>\n",
       "      <td>RF</td>\n",
       "      <td>[0.78, 0.899]</td>\n",
       "      <td>0.830172</td>\n",
       "      <td>[0.914, 0.749]</td>\n",
       "      <td>[0.841, 0.817]</td>\n",
       "      <td>[[499, 47], [141, 420]]</td>\n",
       "    </tr>\n",
       "    <tr>\n",
       "      <th>5</th>\n",
       "      <td>NB</td>\n",
       "      <td>[0.79, 0.751]</td>\n",
       "      <td>0.768744</td>\n",
       "      <td>[0.723, 0.813]</td>\n",
       "      <td>[0.755, 0.781]</td>\n",
       "      <td>[[395, 151], [105, 456]]</td>\n",
       "    </tr>\n",
       "    <tr>\n",
       "      <th>6</th>\n",
       "      <td>KNN</td>\n",
       "      <td>[0.737, 0.799]</td>\n",
       "      <td>0.765131</td>\n",
       "      <td>[0.815, 0.717]</td>\n",
       "      <td>[0.774, 0.756]</td>\n",
       "      <td>[[445, 101], [159, 402]]</td>\n",
       "    </tr>\n",
       "    <tr>\n",
       "      <th>7</th>\n",
       "      <td>SVC</td>\n",
       "      <td>[0.659, 0.842]</td>\n",
       "      <td>0.719964</td>\n",
       "      <td>[0.894, 0.551]</td>\n",
       "      <td>[0.759, 0.666]</td>\n",
       "      <td>[[488, 58], [252, 309]]</td>\n",
       "    </tr>\n",
       "  </tbody>\n",
       "</table>\n",
       "</div>"
      ]
     },
     "execution_count": 10,
     "metadata": {},
     "output_type": "execute_result"
    }
   ],
   "execution_count": 10
  },
  {
   "metadata": {
    "ExecuteTime": {
     "end_time": "2024-12-06T02:16:27.745729Z",
     "start_time": "2024-12-06T02:16:27.619771Z"
    }
   },
   "cell_type": "code",
   "source": [
    "import pandas as pd\n",
    "import seaborn as sns\n",
    "import matplotlib.pyplot as plt\n",
    "from sklearn.metrics import confusion_matrix\n",
    "\n",
    "# Extract the confusion matrix for the best lunges model from testset_final_results\n",
    "lunges_cm = next(item[5] for item in testset_final_results if item[0] == \"HistGradientBoosting\")  # Replace \"Best Lunges Model\" with the actual model name\n",
    "\n",
    "# Create a DataFrame for the confusion matrix with appropriate labels\n",
    "cm_df = pd.DataFrame(lunges_cm, \n",
    "                     index=[\"Knee Over Toe (L)\", \"Correct Form (C)\"], \n",
    "                     columns=[\"Knee Over Toe (L)\", \"Correct Form (C)\"])\n",
    "\n",
    "# Plot the confusion matrix heatmap\n",
    "fig, ax = plt.subplots(figsize=(8, 6))\n",
    "sns.heatmap(cm_df, annot=True, fmt='g', cmap=\"crest\", linewidths=1, ax=ax)\n",
    "\n",
    "# Add title\n",
    "ax.set_title(\"Confusion Matrix for Lunges Model: HistGradientBoosting Model\")\n",
    "\n",
    "# Display the plot\n",
    "plt.show()\n"
   ],
   "outputs": [
    {
     "data": {
      "text/plain": [
       "<Figure size 800x600 with 2 Axes>"
      ],
      "image/png": "[encoded data removed]"
     },
     "metadata": {},
     "output_type": "display_data"
    }
   ],
   "execution_count": 14
  },
  {
   "cell_type": "markdown",
   "metadata": {},
   "source": [
    "## 4. Dump Models \n",
    "\n",
    "According to the evaluation above, LR and KNN SGDC would be chosen for more eval."
   ]
  },
  {
   "cell_type": "code",
   "metadata": {
    "ExecuteTime": {
     "end_time": "2024-09-12T03:40:02.259830Z",
     "start_time": "2024-09-12T03:40:02.228286Z"
    }
   },
   "source": [
    "with open(\"./model/sklearn/err_all_sklearn_jainil.pkl\", \"wb\") as f:\n",
    "    pickle.dump(models, f)"
   ],
   "outputs": [],
   "execution_count": 24
  },
  {
   "cell_type": "code",
   "metadata": {
    "ExecuteTime": {
     "end_time": "2024-09-12T03:40:02.289110Z",
     "start_time": "2024-09-12T03:40:02.281052Z"
    }
   },
   "source": [
    "with open(\"./model/sklearn/err_SGDC_model_jainil.pkl\", \"wb\") as f:\n",
    "    pickle.dump(models[\"SGDC\"], f)"
   ],
   "outputs": [],
   "execution_count": 25
  },
  {
   "cell_type": "code",
   "metadata": {
    "ExecuteTime": {
     "end_time": "2024-09-12T03:40:02.299564Z",
     "start_time": "2024-09-12T03:40:02.292361Z"
    }
   },
   "source": [
    "with open(\"./model/sklearn/err_LR_model_jainil.pkl\", \"wb\") as f:\n",
    "    pickle.dump(models[\"LR\"], f)"
   ],
   "outputs": [],
   "execution_count": 26
  },
  {
   "cell_type": "code",
   "metadata": {
    "ExecuteTime": {
     "end_time": "2024-09-12T03:40:30.590077Z",
     "start_time": "2024-09-12T03:40:30.584480Z"
    }
   },
   "source": [
    "with open(\"./model/sklearn/err_KNN_model_jainil.pkl\", \"wb\") as f:\n",
    "    pickle.dump(models[\"KNN\"], f)"
   ],
   "outputs": [],
   "execution_count": 27
  },
  {
   "metadata": {},
   "cell_type": "code",
   "outputs": [],
   "execution_count": null,
   "source": ""
  }
 ],
 "metadata": {
  "kernelspec": {
   "display_name": "Python 3.8.13 (conda)",
   "language": "python",
   "name": "python3"
  },
  "language_info": {
   "codemirror_mode": {
    "name": "ipython",
    "version": 3
   },
   "file_extension": ".py",
   "mimetype": "text/x-python",
   "name": "python",
   "nbconvert_exporter": "python",
   "pygments_lexer": "ipython3",
   "version": "3.8.13"
  },
  "orig_nbformat": 4,
  "vscode": {
   "interpreter": {
    "hash": "9260f401923fb5c4108c543a7d176de9733d378b3752e49535ad7c43c2271b65"
   }
  }
 },
 "nbformat": 4,
 "nbformat_minor": 2
}
