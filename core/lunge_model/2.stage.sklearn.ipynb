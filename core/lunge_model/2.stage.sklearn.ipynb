{
 "cells": [
  {
   "cell_type": "code",
   "metadata": {
    "ExecuteTime": {
     "end_time": "2024-09-12T02:44:58.034772Z",
     "start_time": "2024-09-12T02:44:57.797042Z"
    }
   },
   "source": [
    "import mediapipe as mp\n",
    "import cv2\n",
    "import pandas as pd\n",
    "import pickle\n",
    "\n",
    "from sklearn.model_selection import train_test_split\n",
    "from sklearn.preprocessing import StandardScaler\n",
    "\n",
    "import warnings\n",
    "warnings.filterwarnings('ignore')\n",
    "\n",
    "# Drawing helpers\n",
    "mp_drawing = mp.solutions.drawing_utils\n",
    "mp_pose = mp.solutions.pose"
   ],
   "outputs": [
    {
     "name": "stderr",
     "output_type": "stream",
     "text": [
      "objc[28023]: Class CaptureDelegate is implemented in both /Users/jainilpatel/PycharmProjects/Exercise-Correction/.venv/lib/python3.9/site-packages/mediapipe/.dylibs/libopencv_videoio.3.4.16.dylib (0x30c248860) and /Users/jainilpatel/PycharmProjects/Exercise-Correction/.venv/lib/python3.9/site-packages/cv2/cv2.abi3.so (0x336602480). One of the two will be used. Which one is undefined.\n",
      "objc[28023]: Class CVWindow is implemented in both /Users/jainilpatel/PycharmProjects/Exercise-Correction/.venv/lib/python3.9/site-packages/mediapipe/.dylibs/libopencv_highgui.3.4.16.dylib (0x16e05ca68) and /Users/jainilpatel/PycharmProjects/Exercise-Correction/.venv/lib/python3.9/site-packages/cv2/cv2.abi3.so (0x3366024d0). One of the two will be used. Which one is undefined.\n",
      "objc[28023]: Class CVView is implemented in both /Users/jainilpatel/PycharmProjects/Exercise-Correction/.venv/lib/python3.9/site-packages/mediapipe/.dylibs/libopencv_highgui.3.4.16.dylib (0x16e05ca90) and /Users/jainilpatel/PycharmProjects/Exercise-Correction/.venv/lib/python3.9/site-packages/cv2/cv2.abi3.so (0x3366024f8). One of the two will be used. Which one is undefined.\n",
      "objc[28023]: Class CVSlider is implemented in both /Users/jainilpatel/PycharmProjects/Exercise-Correction/.venv/lib/python3.9/site-packages/mediapipe/.dylibs/libopencv_highgui.3.4.16.dylib (0x16e05cab8) and /Users/jainilpatel/PycharmProjects/Exercise-Correction/.venv/lib/python3.9/site-packages/cv2/cv2.abi3.so (0x336602520). One of the two will be used. Which one is undefined.\n"
     ]
    }
   ],
   "execution_count": 1
  },
  {
   "cell_type": "markdown",
   "metadata": {},
   "source": [
    "## 1. Train Model"
   ]
  },
  {
   "cell_type": "markdown",
   "metadata": {},
   "source": [
    "### 1.1. Describe data"
   ]
  },
  {
   "cell_type": "code",
   "metadata": {
    "ExecuteTime": {
     "end_time": "2024-09-12T02:44:59.861630Z",
     "start_time": "2024-09-12T02:44:59.855404Z"
    }
   },
   "source": [
    "def rescale_frame(frame, percent=50):\n",
    "    '''\n",
    "    Rescale a frame to a certain percentage compare to its original frame\n",
    "    '''\n",
    "    width = int(frame.shape[1] * percent/ 100)\n",
    "    height = int(frame.shape[0] * percent/ 100)\n",
    "    dim = (width, height)\n",
    "    return cv2.resize(frame, dim, interpolation = cv2.INTER_AREA)\n",
    "\n",
    "\n",
    "def describe_dataset(dataset_path: str):\n",
    "    '''\n",
    "    Describe dataset\n",
    "    '''\n",
    "\n",
    "    data = pd.read_csv(dataset_path)\n",
    "    print(f\"Headers: {list(data.columns.values)}\")\n",
    "    print(f'Number of rows: {data.shape[0]} \\nNumber of columns: {data.shape[1]}\\n')\n",
    "    print(f\"Labels: \\n{data['label'].value_counts()}\\n\")\n",
    "    print(f\"Missing values: {data.isnull().values.any()}\\n\")\n",
    "    \n",
    "    duplicate = data[data.duplicated()]\n",
    "    print(f\"Duplicate Rows : {len(duplicate.sum(axis=1))}\")\n",
    "\n",
    "    return data"
   ],
   "outputs": [],
   "execution_count": 2
  },
  {
   "cell_type": "code",
   "metadata": {
    "ExecuteTime": {
     "end_time": "2024-09-12T02:45:02.389137Z",
     "start_time": "2024-09-12T02:45:02.222349Z"
    }
   },
   "source": [
    "df = describe_dataset(\"./stage.train.csv\")\n",
    "df.head(3)"
   ],
   "outputs": [
    {
     "name": "stdout",
     "output_type": "stream",
     "text": [
      "Headers: ['label', 'nose_x', 'nose_y', 'nose_z', 'nose_v', 'left_shoulder_x', 'left_shoulder_y', 'left_shoulder_z', 'left_shoulder_v', 'right_shoulder_x', 'right_shoulder_y', 'right_shoulder_z', 'right_shoulder_v', 'left_hip_x', 'left_hip_y', 'left_hip_z', 'left_hip_v', 'right_hip_x', 'right_hip_y', 'right_hip_z', 'right_hip_v', 'left_knee_x', 'left_knee_y', 'left_knee_z', 'left_knee_v', 'right_knee_x', 'right_knee_y', 'right_knee_z', 'right_knee_v', 'left_ankle_x', 'left_ankle_y', 'left_ankle_z', 'left_ankle_v', 'right_ankle_x', 'right_ankle_y', 'right_ankle_z', 'right_ankle_v', 'left_heel_x', 'left_heel_y', 'left_heel_z', 'left_heel_v', 'right_heel_x', 'right_heel_y', 'right_heel_z', 'right_heel_v', 'left_foot_index_x', 'left_foot_index_y', 'left_foot_index_z', 'left_foot_index_v', 'right_foot_index_x', 'right_foot_index_y', 'right_foot_index_z', 'right_foot_index_v']\n",
      "Number of rows: 24244 \n",
      "Number of columns: 53\n",
      "\n",
      "Labels: \n",
      "D    8232\n",
      "M    8148\n",
      "I    7864\n",
      "Name: label, dtype: int64\n",
      "\n",
      "Missing values: False\n",
      "\n",
      "Duplicate Rows : 151\n"
     ]
    },
    {
     "data": {
      "text/plain": [
       "  label    nose_x    nose_y    nose_z    nose_v  left_shoulder_x  \\\n",
       "0     M  0.496085  0.286904 -0.219098  0.999996         0.500287   \n",
       "1     M  0.496126  0.286918 -0.217849  0.999996         0.500281   \n",
       "2     M  0.496144  0.286921 -0.217039  0.999996         0.500279   \n",
       "\n",
       "   left_shoulder_y  left_shoulder_z  left_shoulder_v  right_shoulder_x  ...  \\\n",
       "0         0.360987         0.019479         0.999978          0.436462  ...   \n",
       "1         0.360954         0.019995         0.999977          0.436466  ...   \n",
       "2         0.360923         0.020068         0.999977          0.436469  ...   \n",
       "\n",
       "   right_heel_z  right_heel_v  left_foot_index_x  left_foot_index_y  \\\n",
       "0     -0.268695      0.996758           0.370391           0.893386   \n",
       "1     -0.271191      0.996724           0.370344           0.893290   \n",
       "2     -0.271365      0.996699           0.370316           0.893275   \n",
       "\n",
       "   left_foot_index_z  left_foot_index_v  right_foot_index_x  \\\n",
       "0           0.505172           0.931761            0.566927   \n",
       "1           0.505325           0.931969            0.567040   \n",
       "2           0.504931           0.931633            0.567040   \n",
       "\n",
       "   right_foot_index_y  right_foot_index_z  right_foot_index_v  \n",
       "0            1.005949           -0.382462            0.998906  \n",
       "1            1.005795           -0.384848            0.998902  \n",
       "2            1.005774           -0.384872            0.998894  \n",
       "\n",
       "[3 rows x 53 columns]"
      ],
      "text/html": [
       "<div>\n",
       "<style scoped>\n",
       "    .dataframe tbody tr th:only-of-type {\n",
       "        vertical-align: middle;\n",
       "    }\n",
       "\n",
       "    .dataframe tbody tr th {\n",
       "        vertical-align: top;\n",
       "    }\n",
       "\n",
       "    .dataframe thead th {\n",
       "        text-align: right;\n",
       "    }\n",
       "</style>\n",
       "<table border=\"1\" class=\"dataframe\">\n",
       "  <thead>\n",
       "    <tr style=\"text-align: right;\">\n",
       "      <th></th>\n",
       "      <th>label</th>\n",
       "      <th>nose_x</th>\n",
       "      <th>nose_y</th>\n",
       "      <th>nose_z</th>\n",
       "      <th>nose_v</th>\n",
       "      <th>left_shoulder_x</th>\n",
       "      <th>left_shoulder_y</th>\n",
       "      <th>left_shoulder_z</th>\n",
       "      <th>left_shoulder_v</th>\n",
       "      <th>right_shoulder_x</th>\n",
       "      <th>...</th>\n",
       "      <th>right_heel_z</th>\n",
       "      <th>right_heel_v</th>\n",
       "      <th>left_foot_index_x</th>\n",
       "      <th>left_foot_index_y</th>\n",
       "      <th>left_foot_index_z</th>\n",
       "      <th>left_foot_index_v</th>\n",
       "      <th>right_foot_index_x</th>\n",
       "      <th>right_foot_index_y</th>\n",
       "      <th>right_foot_index_z</th>\n",
       "      <th>right_foot_index_v</th>\n",
       "    </tr>\n",
       "  </thead>\n",
       "  <tbody>\n",
       "    <tr>\n",
       "      <th>0</th>\n",
       "      <td>M</td>\n",
       "      <td>0.496085</td>\n",
       "      <td>0.286904</td>\n",
       "      <td>-0.219098</td>\n",
       "      <td>0.999996</td>\n",
       "      <td>0.500287</td>\n",
       "      <td>0.360987</td>\n",
       "      <td>0.019479</td>\n",
       "      <td>0.999978</td>\n",
       "      <td>0.436462</td>\n",
       "      <td>...</td>\n",
       "      <td>-0.268695</td>\n",
       "      <td>0.996758</td>\n",
       "      <td>0.370391</td>\n",
       "      <td>0.893386</td>\n",
       "      <td>0.505172</td>\n",
       "      <td>0.931761</td>\n",
       "      <td>0.566927</td>\n",
       "      <td>1.005949</td>\n",
       "      <td>-0.382462</td>\n",
       "      <td>0.998906</td>\n",
       "    </tr>\n",
       "    <tr>\n",
       "      <th>1</th>\n",
       "      <td>M</td>\n",
       "      <td>0.496126</td>\n",
       "      <td>0.286918</td>\n",
       "      <td>-0.217849</td>\n",
       "      <td>0.999996</td>\n",
       "      <td>0.500281</td>\n",
       "      <td>0.360954</td>\n",
       "      <td>0.019995</td>\n",
       "      <td>0.999977</td>\n",
       "      <td>0.436466</td>\n",
       "      <td>...</td>\n",
       "      <td>-0.271191</td>\n",
       "      <td>0.996724</td>\n",
       "      <td>0.370344</td>\n",
       "      <td>0.893290</td>\n",
       "      <td>0.505325</td>\n",
       "      <td>0.931969</td>\n",
       "      <td>0.567040</td>\n",
       "      <td>1.005795</td>\n",
       "      <td>-0.384848</td>\n",
       "      <td>0.998902</td>\n",
       "    </tr>\n",
       "    <tr>\n",
       "      <th>2</th>\n",
       "      <td>M</td>\n",
       "      <td>0.496144</td>\n",
       "      <td>0.286921</td>\n",
       "      <td>-0.217039</td>\n",
       "      <td>0.999996</td>\n",
       "      <td>0.500279</td>\n",
       "      <td>0.360923</td>\n",
       "      <td>0.020068</td>\n",
       "      <td>0.999977</td>\n",
       "      <td>0.436469</td>\n",
       "      <td>...</td>\n",
       "      <td>-0.271365</td>\n",
       "      <td>0.996699</td>\n",
       "      <td>0.370316</td>\n",
       "      <td>0.893275</td>\n",
       "      <td>0.504931</td>\n",
       "      <td>0.931633</td>\n",
       "      <td>0.567040</td>\n",
       "      <td>1.005774</td>\n",
       "      <td>-0.384872</td>\n",
       "      <td>0.998894</td>\n",
       "    </tr>\n",
       "  </tbody>\n",
       "</table>\n",
       "<p>3 rows × 53 columns</p>\n",
       "</div>"
      ]
     },
     "execution_count": 3,
     "metadata": {},
     "output_type": "execute_result"
    }
   ],
   "execution_count": 3
  },
  {
   "cell_type": "markdown",
   "metadata": {},
   "source": [
    "### 1.2. Train and evaluate model with train set"
   ]
  },
  {
   "cell_type": "code",
   "metadata": {
    "ExecuteTime": {
     "end_time": "2024-09-12T02:45:04.311744Z",
     "start_time": "2024-09-12T02:45:04.204800Z"
    }
   },
   "source": [
    "from sklearn.linear_model import LogisticRegression, RidgeClassifier, SGDClassifier\n",
    "from sklearn.svm import SVC\n",
    "from sklearn.neighbors import KNeighborsClassifier\n",
    "from sklearn.tree import DecisionTreeClassifier\n",
    "from sklearn.ensemble import RandomForestClassifier\n",
    "\n",
    "from sklearn.metrics import precision_score, accuracy_score, f1_score, recall_score"
   ],
   "outputs": [],
   "execution_count": 4
  },
  {
   "cell_type": "code",
   "metadata": {
    "ExecuteTime": {
     "end_time": "2024-09-12T02:45:04.945180Z",
     "start_time": "2024-09-12T02:45:04.931258Z"
    }
   },
   "source": [
    "# Extract features and class\n",
    "X = df.drop(\"label\", axis=1) # features\n",
    "y = df[\"label\"]\n",
    "\n",
    "# Standard Scaler\n",
    "sc = StandardScaler()\n",
    "X = pd.DataFrame(sc.fit_transform(X))"
   ],
   "outputs": [],
   "execution_count": 5
  },
  {
   "cell_type": "code",
   "metadata": {
    "ExecuteTime": {
     "end_time": "2024-09-12T02:45:14.188996Z",
     "start_time": "2024-09-12T02:45:14.178736Z"
    }
   },
   "source": [
    "X_train, X_test, y_train, y_test = train_test_split(X, y, test_size=0.2, random_state=1235)\n",
    "\n",
    "y_train.head(3)"
   ],
   "outputs": [
    {
     "data": {
      "text/plain": [
       "5169    M\n",
       "3121    D\n",
       "7004    D\n",
       "Name: label, dtype: object"
      ]
     },
     "execution_count": 6,
     "metadata": {},
     "output_type": "execute_result"
    }
   ],
   "execution_count": 6
  },
  {
   "cell_type": "code",
   "metadata": {
    "ExecuteTime": {
     "end_time": "2024-09-12T02:45:32.645529Z",
     "start_time": "2024-09-12T02:45:19.580569Z"
    }
   },
   "source": [
    "algorithms =[(\"LR\", LogisticRegression()),\n",
    "         (\"SVC\", SVC(probability=True)),\n",
    "         ('KNN',KNeighborsClassifier()),\n",
    "         (\"DTC\", DecisionTreeClassifier()),\n",
    "         (\"SGDC\", SGDClassifier()),\n",
    "         (\"Ridge\", RidgeClassifier()),\n",
    "         ('RF', RandomForestClassifier()),]\n",
    "\n",
    "models = {}\n",
    "final_results = []\n",
    "\n",
    "for name, model in algorithms:\n",
    "    trained_model = model.fit(X_train, y_train)\n",
    "    models[name] = trained_model\n",
    "\n",
    "    # Evaluate model\n",
    "    model_results = model.predict(X_test)\n",
    "\n",
    "    p_score = precision_score(y_test, model_results, average=\"macro\")\n",
    "    a_score = accuracy_score(y_test, model_results)\n",
    "    r_score = recall_score(y_test, model_results, average=\"macro\")\n",
    "    f1_score_result = f1_score(y_test, model_results, average=None, labels=[\"I\", \"M\", \"D\"])\n",
    "    final_results.append(( name, p_score, a_score, r_score, f1_score_result ))\n",
    "\n",
    "\n",
    "final_results.sort(key=lambda k: k[4][0] + k[4][1], reverse=True)"
   ],
   "outputs": [],
   "execution_count": 7
  },
  {
   "cell_type": "code",
   "metadata": {
    "ExecuteTime": {
     "end_time": "2024-09-12T02:45:47.242390Z",
     "start_time": "2024-09-12T02:45:47.233531Z"
    }
   },
   "source": [
    "pd.DataFrame(final_results, columns=[\"Model\", \"Precision Score\", \"Accuracy score\", \"Recall Score\", \"F1 score\"])"
   ],
   "outputs": [
    {
     "data": {
      "text/plain": [
       "   Model  Precision Score  Accuracy score  Recall Score  \\\n",
       "0    KNN         0.996312        0.996288      0.996302   \n",
       "1     RF         0.996488        0.996494      0.996517   \n",
       "2    SVC         0.994693        0.994638      0.994672   \n",
       "3     LR         0.992848        0.992782      0.992831   \n",
       "4    DTC         0.991769        0.991751      0.991767   \n",
       "5   SGDC         0.988961        0.988864      0.988826   \n",
       "6  Ridge         0.970894        0.970097      0.969834   \n",
       "\n",
       "                                            F1 score  \n",
       "0  [0.9987373737373737, 0.9944168734491315, 0.995...  \n",
       "1  [0.998108448928121, 0.9947286821705426, 0.9966...  \n",
       "2  [0.9993686868686869, 0.9919304779639975, 0.992...  \n",
       "3  [0.9990539262062441, 0.9891202984146721, 0.990...  \n",
       "4  [0.995263656457215, 0.9876084262701363, 0.9924...  \n",
       "5  [0.9930247305009511, 0.98328173374613, 0.99034...  \n",
       "6  [0.9725363489499192, 0.9557792009759073, 0.981...  "
      ],
      "text/html": [
       "<div>\n",
       "<style scoped>\n",
       "    .dataframe tbody tr th:only-of-type {\n",
       "        vertical-align: middle;\n",
       "    }\n",
       "\n",
       "    .dataframe tbody tr th {\n",
       "        vertical-align: top;\n",
       "    }\n",
       "\n",
       "    .dataframe thead th {\n",
       "        text-align: right;\n",
       "    }\n",
       "</style>\n",
       "<table border=\"1\" class=\"dataframe\">\n",
       "  <thead>\n",
       "    <tr style=\"text-align: right;\">\n",
       "      <th></th>\n",
       "      <th>Model</th>\n",
       "      <th>Precision Score</th>\n",
       "      <th>Accuracy score</th>\n",
       "      <th>Recall Score</th>\n",
       "      <th>F1 score</th>\n",
       "    </tr>\n",
       "  </thead>\n",
       "  <tbody>\n",
       "    <tr>\n",
       "      <th>0</th>\n",
       "      <td>KNN</td>\n",
       "      <td>0.996312</td>\n",
       "      <td>0.996288</td>\n",
       "      <td>0.996302</td>\n",
       "      <td>[0.9987373737373737, 0.9944168734491315, 0.995...</td>\n",
       "    </tr>\n",
       "    <tr>\n",
       "      <th>1</th>\n",
       "      <td>RF</td>\n",
       "      <td>0.996488</td>\n",
       "      <td>0.996494</td>\n",
       "      <td>0.996517</td>\n",
       "      <td>[0.998108448928121, 0.9947286821705426, 0.9966...</td>\n",
       "    </tr>\n",
       "    <tr>\n",
       "      <th>2</th>\n",
       "      <td>SVC</td>\n",
       "      <td>0.994693</td>\n",
       "      <td>0.994638</td>\n",
       "      <td>0.994672</td>\n",
       "      <td>[0.9993686868686869, 0.9919304779639975, 0.992...</td>\n",
       "    </tr>\n",
       "    <tr>\n",
       "      <th>3</th>\n",
       "      <td>LR</td>\n",
       "      <td>0.992848</td>\n",
       "      <td>0.992782</td>\n",
       "      <td>0.992831</td>\n",
       "      <td>[0.9990539262062441, 0.9891202984146721, 0.990...</td>\n",
       "    </tr>\n",
       "    <tr>\n",
       "      <th>4</th>\n",
       "      <td>DTC</td>\n",
       "      <td>0.991769</td>\n",
       "      <td>0.991751</td>\n",
       "      <td>0.991767</td>\n",
       "      <td>[0.995263656457215, 0.9876084262701363, 0.9924...</td>\n",
       "    </tr>\n",
       "    <tr>\n",
       "      <th>5</th>\n",
       "      <td>SGDC</td>\n",
       "      <td>0.988961</td>\n",
       "      <td>0.988864</td>\n",
       "      <td>0.988826</td>\n",
       "      <td>[0.9930247305009511, 0.98328173374613, 0.99034...</td>\n",
       "    </tr>\n",
       "    <tr>\n",
       "      <th>6</th>\n",
       "      <td>Ridge</td>\n",
       "      <td>0.970894</td>\n",
       "      <td>0.970097</td>\n",
       "      <td>0.969834</td>\n",
       "      <td>[0.9725363489499192, 0.9557792009759073, 0.981...</td>\n",
       "    </tr>\n",
       "  </tbody>\n",
       "</table>\n",
       "</div>"
      ]
     },
     "execution_count": 8,
     "metadata": {},
     "output_type": "execute_result"
    }
   ],
   "execution_count": 8
  },
  {
   "cell_type": "markdown",
   "metadata": {},
   "source": [
    "### 1.3. Evaluate models with test set"
   ]
  },
  {
   "cell_type": "code",
   "metadata": {
    "ExecuteTime": {
     "end_time": "2024-09-12T02:46:18.696972Z",
     "start_time": "2024-09-12T02:46:18.670603Z"
    }
   },
   "source": [
    "test_df = describe_dataset(\"./stage.test.csv\")\n",
    "test_df = test_df.sample(frac=1).reset_index(drop=True)\n",
    "\n",
    "test_x = test_df.drop(\"label\", axis=1)\n",
    "test_y = test_df[\"label\"]\n",
    "\n",
    "test_x = pd.DataFrame(sc.transform(test_x))"
   ],
   "outputs": [
    {
     "name": "stdout",
     "output_type": "stream",
     "text": [
      "Headers: ['label', 'nose_x', 'nose_y', 'nose_z', 'nose_v', 'left_shoulder_x', 'left_shoulder_y', 'left_shoulder_z', 'left_shoulder_v', 'right_shoulder_x', 'right_shoulder_y', 'right_shoulder_z', 'right_shoulder_v', 'left_hip_x', 'left_hip_y', 'left_hip_z', 'left_hip_v', 'right_hip_x', 'right_hip_y', 'right_hip_z', 'right_hip_v', 'left_knee_x', 'left_knee_y', 'left_knee_z', 'left_knee_v', 'right_knee_x', 'right_knee_y', 'right_knee_z', 'right_knee_v', 'left_ankle_x', 'left_ankle_y', 'left_ankle_z', 'left_ankle_v', 'right_ankle_x', 'right_ankle_y', 'right_ankle_z', 'right_ankle_v', 'left_heel_x', 'left_heel_y', 'left_heel_z', 'left_heel_v', 'right_heel_x', 'right_heel_y', 'right_heel_z', 'right_heel_v', 'left_foot_index_x', 'left_foot_index_y', 'left_foot_index_z', 'left_foot_index_v', 'right_foot_index_x', 'right_foot_index_y', 'right_foot_index_z', 'right_foot_index_v']\n",
      "Number of rows: 1205 \n",
      "Number of columns: 53\n",
      "\n",
      "Labels: \n",
      "D    416\n",
      "I    402\n",
      "M    387\n",
      "Name: label, dtype: int64\n",
      "\n",
      "Missing values: False\n",
      "\n",
      "Duplicate Rows : 20\n"
     ]
    }
   ],
   "execution_count": 9
  },
  {
   "cell_type": "code",
   "metadata": {
    "ExecuteTime": {
     "end_time": "2024-09-12T02:46:20.020331Z",
     "start_time": "2024-09-12T02:46:19.811009Z"
    }
   },
   "source": [
    "testset_final_results = []\n",
    "\n",
    "for name, model in models.items():\n",
    "    # Evaluate model\n",
    "    model_results = model.predict(test_x)\n",
    "\n",
    "    p_score = precision_score(test_y, model_results, average=\"macro\")\n",
    "    a_score = accuracy_score(test_y, model_results)\n",
    "    r_score = recall_score(test_y, model_results, average=\"macro\")\n",
    "    f1_score_result = f1_score(test_y, model_results, average=None, labels=[\"I\", \"M\", \"D\"])\n",
    "    testset_final_results.append(( name, p_score, a_score, r_score, f1_score_result ))\n",
    "\n",
    "\n",
    "testset_final_results.sort(key=lambda k: k[4][0] + k[4][1], reverse=True)\n",
    "pd.DataFrame(testset_final_results, columns=[\"Model\", \"Precision Score\", \"Accuracy score\", \"Recall Score\", \"F1 score\"])"
   ],
   "outputs": [
    {
     "data": {
      "text/plain": [
       "   Model  Precision Score  Accuracy score  Recall Score  \\\n",
       "0  Ridge         0.953748        0.951867      0.950457   \n",
       "1     LR         0.957094        0.953527      0.951826   \n",
       "2    SVC         0.954879        0.951037      0.949302   \n",
       "3    KNN         0.916763        0.912033      0.913323   \n",
       "4   SGDC         0.945660        0.939419      0.937428   \n",
       "5     RF         0.903172        0.897095      0.895417   \n",
       "6    DTC         0.790083        0.776763      0.776289   \n",
       "\n",
       "                                            F1 score  \n",
       "0  [0.9738480697384807, 0.9216216216216216, 0.957...  \n",
       "1  [0.9548693586698338, 0.9222222222222222, 0.978...  \n",
       "2  [0.9492325855962219, 0.9179415855354659, 0.981...  \n",
       "3  [0.9745454545454546, 0.8710462287104622, 0.888...  \n",
       "4  [0.922722029988466, 0.8976157082748948, 0.9927...  \n",
       "5  [0.9054054054054054, 0.8287292817679558, 0.949...  \n",
       "6  [0.8701298701298702, 0.6511024643320362, 0.791...  "
      ],
      "text/html": [
       "<div>\n",
       "<style scoped>\n",
       "    .dataframe tbody tr th:only-of-type {\n",
       "        vertical-align: middle;\n",
       "    }\n",
       "\n",
       "    .dataframe tbody tr th {\n",
       "        vertical-align: top;\n",
       "    }\n",
       "\n",
       "    .dataframe thead th {\n",
       "        text-align: right;\n",
       "    }\n",
       "</style>\n",
       "<table border=\"1\" class=\"dataframe\">\n",
       "  <thead>\n",
       "    <tr style=\"text-align: right;\">\n",
       "      <th></th>\n",
       "      <th>Model</th>\n",
       "      <th>Precision Score</th>\n",
       "      <th>Accuracy score</th>\n",
       "      <th>Recall Score</th>\n",
       "      <th>F1 score</th>\n",
       "    </tr>\n",
       "  </thead>\n",
       "  <tbody>\n",
       "    <tr>\n",
       "      <th>0</th>\n",
       "      <td>Ridge</td>\n",
       "      <td>0.953748</td>\n",
       "      <td>0.951867</td>\n",
       "      <td>0.950457</td>\n",
       "      <td>[0.9738480697384807, 0.9216216216216216, 0.957...</td>\n",
       "    </tr>\n",
       "    <tr>\n",
       "      <th>1</th>\n",
       "      <td>LR</td>\n",
       "      <td>0.957094</td>\n",
       "      <td>0.953527</td>\n",
       "      <td>0.951826</td>\n",
       "      <td>[0.9548693586698338, 0.9222222222222222, 0.978...</td>\n",
       "    </tr>\n",
       "    <tr>\n",
       "      <th>2</th>\n",
       "      <td>SVC</td>\n",
       "      <td>0.954879</td>\n",
       "      <td>0.951037</td>\n",
       "      <td>0.949302</td>\n",
       "      <td>[0.9492325855962219, 0.9179415855354659, 0.981...</td>\n",
       "    </tr>\n",
       "    <tr>\n",
       "      <th>3</th>\n",
       "      <td>KNN</td>\n",
       "      <td>0.916763</td>\n",
       "      <td>0.912033</td>\n",
       "      <td>0.913323</td>\n",
       "      <td>[0.9745454545454546, 0.8710462287104622, 0.888...</td>\n",
       "    </tr>\n",
       "    <tr>\n",
       "      <th>4</th>\n",
       "      <td>SGDC</td>\n",
       "      <td>0.945660</td>\n",
       "      <td>0.939419</td>\n",
       "      <td>0.937428</td>\n",
       "      <td>[0.922722029988466, 0.8976157082748948, 0.9927...</td>\n",
       "    </tr>\n",
       "    <tr>\n",
       "      <th>5</th>\n",
       "      <td>RF</td>\n",
       "      <td>0.903172</td>\n",
       "      <td>0.897095</td>\n",
       "      <td>0.895417</td>\n",
       "      <td>[0.9054054054054054, 0.8287292817679558, 0.949...</td>\n",
       "    </tr>\n",
       "    <tr>\n",
       "      <th>6</th>\n",
       "      <td>DTC</td>\n",
       "      <td>0.790083</td>\n",
       "      <td>0.776763</td>\n",
       "      <td>0.776289</td>\n",
       "      <td>[0.8701298701298702, 0.6511024643320362, 0.791...</td>\n",
       "    </tr>\n",
       "  </tbody>\n",
       "</table>\n",
       "</div>"
      ]
     },
     "execution_count": 10,
     "metadata": {},
     "output_type": "execute_result"
    }
   ],
   "execution_count": 10
  },
  {
   "cell_type": "markdown",
   "metadata": {},
   "source": [
    "## 2. Dumped Model\n",
    "\n",
    "The best models are in order:\n",
    "- Ridge\n",
    "- SVC\n",
    "- LR"
   ]
  },
  {
   "cell_type": "code",
   "metadata": {
    "ExecuteTime": {
     "end_time": "2024-09-12T02:46:40.458755Z",
     "start_time": "2024-09-12T02:46:40.453999Z"
    }
   },
   "source": [
    "with open(\"./model/sklearn/stage_LR_model_jainil.pkl\", \"wb\") as f:\n",
    "    pickle.dump(models[\"LR\"], f)"
   ],
   "outputs": [],
   "execution_count": 11
  },
  {
   "cell_type": "code",
   "metadata": {
    "ExecuteTime": {
     "end_time": "2024-09-12T02:46:40.788309Z",
     "start_time": "2024-09-12T02:46:40.784707Z"
    }
   },
   "source": [
    "with open(\"./model/sklearn/stage_SVC_model_jainil.pkl\", \"wb\") as f:\n",
    "    pickle.dump(models[\"SVC\"], f)"
   ],
   "outputs": [],
   "execution_count": 12
  },
  {
   "cell_type": "code",
   "metadata": {
    "ExecuteTime": {
     "end_time": "2024-09-12T02:46:41.158627Z",
     "start_time": "2024-09-12T02:46:41.156459Z"
    }
   },
   "source": [
    "with open(\"./model/sklearn/stage_Ridge_model_jainil.pkl\", \"wb\") as f:\n",
    "    pickle.dump(models[\"Ridge\"], f)"
   ],
   "outputs": [],
   "execution_count": 13
  },
  {
   "metadata": {
    "ExecuteTime": {
     "end_time": "2024-09-12T03:17:41.497319Z",
     "start_time": "2024-09-12T03:17:41.492102Z"
    }
   },
   "cell_type": "code",
   "source": [
    "with open(\"./model/sklearn/stage_KNN_model_jainil.pkl\", \"wb\") as f:\n",
    "    pickle.dump(models[\"KNN\"], f)"
   ],
   "outputs": [],
   "execution_count": 15
  },
  {
   "cell_type": "code",
   "metadata": {
    "ExecuteTime": {
     "end_time": "2024-09-12T02:46:41.982377Z",
     "start_time": "2024-09-12T02:46:41.978843Z"
    }
   },
   "source": [
    "with open(\"./model/input_scaler_jainil.pkl\", \"wb\") as f:\n",
    "    pickle.dump(sc, f)"
   ],
   "outputs": [],
   "execution_count": 14
  },
  {
   "cell_type": "code",
   "execution_count": null,
   "metadata": {},
   "outputs": [],
   "source": []
  }
 ],
 "metadata": {
  "kernelspec": {
   "display_name": "Python 3.8.13 (conda)",
   "language": "python",
   "name": "python3"
  },
  "language_info": {
   "codemirror_mode": {
    "name": "ipython",
    "version": 3
   },
   "file_extension": ".py",
   "mimetype": "text/x-python",
   "name": "python",
   "nbconvert_exporter": "python",
   "pygments_lexer": "ipython3",
   "version": "3.8.13"
  },
  "orig_nbformat": 4,
  "vscode": {
   "interpreter": {
    "hash": "9260f401923fb5c4108c543a7d176de9733d378b3752e49535ad7c43c2271b65"
   }
  }
 },
 "nbformat": 4,
 "nbformat_minor": 2
}
