{
 "cells": [
  {
   "cell_type": "code",
   "metadata": {
    "ExecuteTime": {
     "end_time": "2024-09-11T23:33:31.898088Z",
     "start_time": "2024-09-11T23:33:27.913231Z"
    }
   },
   "source": [
    "# Data visualization\n",
    "import numpy as np\n",
    "import pandas as pd \n",
    "\n",
    "# Keras\n",
    "from keras.models import Sequential\n",
    "from keras.layers import Dense\n",
    "from keras.layers import Dropout\n",
    "from keras.optimizers import Adam\n",
    "from keras.utils.np_utils import to_categorical\n",
    "from keras.callbacks import EarlyStopping, TensorBoard\n",
    "import keras_tuner as kt\n",
    "\n",
    "# Train-Test\n",
    "from sklearn.model_selection import train_test_split\n",
    "# Classification Report\n",
    "from sklearn.metrics import confusion_matrix, precision_recall_fscore_support\n",
    "\n",
    "import pickle\n",
    "\n",
    "import warnings\n",
    "warnings.filterwarnings('ignore')"
   ],
   "outputs": [
    {
     "name": "stderr",
     "output_type": "stream",
     "text": [
      "/Users/jainilpatel/PycharmProjects/Exercise-Correction/.venv/lib/python3.9/site-packages/urllib3/__init__.py:35: NotOpenSSLWarning: urllib3 v2 only supports OpenSSL 1.1.1+, currently the 'ssl' module is compiled with 'LibreSSL 2.8.3'. See: https://github.com/urllib3/urllib3/issues/3020\n",
      "  warnings.warn(\n"
     ]
    }
   ],
   "execution_count": 1
  },
  {
   "cell_type": "markdown",
   "metadata": {},
   "source": [
    "## 1. Important Landmarks and Important functions"
   ]
  },
  {
   "cell_type": "code",
   "metadata": {
    "ExecuteTime": {
     "end_time": "2024-09-11T23:35:07.056329Z",
     "start_time": "2024-09-11T23:35:07.052077Z"
    }
   },
   "source": [
    "# Determine important landmarks for plank\n",
    "IMPORTANT_LMS = [\n",
    "    \"NOSE\",\n",
    "    \"LEFT_SHOULDER\",\n",
    "    \"RIGHT_SHOULDER\",\n",
    "    \"RIGHT_ELBOW\",\n",
    "    \"LEFT_ELBOW\",\n",
    "    \"RIGHT_WRIST\",\n",
    "    \"LEFT_WRIST\",\n",
    "    \"LEFT_HIP\",\n",
    "    \"RIGHT_HIP\",\n",
    "]\n",
    "\n",
    "# Generate all columns of the data frame\n",
    "\n",
    "HEADERS = [\"label\"] # Label column\n",
    "\n",
    "for lm in IMPORTANT_LMS:\n",
    "    HEADERS += [f\"{lm.lower()}_x\", f\"{lm.lower()}_y\", f\"{lm.lower()}_z\", f\"{lm.lower()}_v\"]"
   ],
   "outputs": [],
   "execution_count": 3
  },
  {
   "cell_type": "code",
   "metadata": {
    "ExecuteTime": {
     "end_time": "2024-09-11T23:35:07.520925Z",
     "start_time": "2024-09-11T23:35:07.517174Z"
    }
   },
   "source": [
    "def describe_dataset(dataset_path: str):\n",
    "    '''\n",
    "    Describe dataset\n",
    "    '''\n",
    "\n",
    "    data = pd.read_csv(dataset_path)\n",
    "    print(f\"Headers: {list(data.columns.values)}\")\n",
    "    print(f'Number of rows: {data.shape[0]} \\nNumber of columns: {data.shape[1]}\\n')\n",
    "    print(f\"Labels: \\n{data['label'].value_counts()}\\n\")\n",
    "    print(f\"Missing values: {data.isnull().values.any()}\\n\")\n",
    "    \n",
    "    duplicate = data[data.duplicated()]\n",
    "    print(f\"Duplicate Rows : {len(duplicate.sum(axis=1))}\")\n",
    "\n",
    "    return data\n",
    "\n",
    "\n",
    "# Remove duplicate rows (optional)\n",
    "def remove_duplicate_rows(dataset_path: str):\n",
    "    '''\n",
    "    Remove duplicated data from the dataset then save it to another files\n",
    "    '''\n",
    "    \n",
    "    df = pd.read_csv(dataset_path)\n",
    "    df.drop_duplicates(keep=\"first\", inplace=True)\n",
    "    df.to_csv(f\"cleaned_train.csv\", sep=',', encoding='utf-8', index=False)\n",
    "\n",
    "\n",
    "def round_up_metric_results(results) -> list:\n",
    "    '''Round up metrics results such as precision score, recall score, ...'''\n",
    "    return list(map(lambda el: round(el, 3), results))"
   ],
   "outputs": [],
   "execution_count": 4
  },
  {
   "cell_type": "markdown",
   "metadata": {},
   "source": [
    "## 2. Describe Dataset & Split Data"
   ]
  },
  {
   "cell_type": "code",
   "metadata": {
    "ExecuteTime": {
     "end_time": "2024-09-11T23:35:09.001488Z",
     "start_time": "2024-09-11T23:35:08.926203Z"
    }
   },
   "source": [
    "# load dataset\n",
    "df = describe_dataset(\"./train.csv\")\n",
    "\n",
    "# Categorizing label\n",
    "df.loc[df[\"label\"] == \"C\", \"label\"] = 0\n",
    "df.loc[df[\"label\"] == \"L\", \"label\"] = 1"
   ],
   "outputs": [
    {
     "name": "stdout",
     "output_type": "stream",
     "text": [
      "Headers: ['label', 'nose_x', 'nose_y', 'nose_z', 'nose_v', 'left_shoulder_x', 'left_shoulder_y', 'left_shoulder_z', 'left_shoulder_v', 'right_shoulder_x', 'right_shoulder_y', 'right_shoulder_z', 'right_shoulder_v', 'right_elbow_x', 'right_elbow_y', 'right_elbow_z', 'right_elbow_v', 'left_elbow_x', 'left_elbow_y', 'left_elbow_z', 'left_elbow_v', 'right_wrist_x', 'right_wrist_y', 'right_wrist_z', 'right_wrist_v', 'left_wrist_x', 'left_wrist_y', 'left_wrist_z', 'left_wrist_v', 'left_hip_x', 'left_hip_y', 'left_hip_z', 'left_hip_v', 'right_hip_x', 'right_hip_y', 'right_hip_z', 'right_hip_v']\n",
      "Number of rows: 15372 \n",
      "Number of columns: 37\n",
      "\n",
      "Labels: \n",
      "C    8238\n",
      "L    7134\n",
      "Name: label, dtype: int64\n",
      "\n",
      "Missing values: False\n",
      "\n",
      "Duplicate Rows : 0\n"
     ]
    }
   ],
   "execution_count": 5
  },
  {
   "cell_type": "code",
   "metadata": {
    "ExecuteTime": {
     "end_time": "2024-09-11T23:35:10.645761Z",
     "start_time": "2024-09-11T23:35:10.641824Z"
    }
   },
   "source": [
    "with open(\"./model/input_scaler.pkl\", \"rb\") as f:\n",
    "    sc = pickle.load(f)"
   ],
   "outputs": [],
   "execution_count": 6
  },
  {
   "cell_type": "code",
   "metadata": {
    "ExecuteTime": {
     "end_time": "2024-09-11T23:35:12.141967Z",
     "start_time": "2024-09-11T23:35:12.134635Z"
    }
   },
   "source": [
    "# Standard Scaling of features\n",
    "x = df.drop(\"label\", axis = 1)\n",
    "x = pd.DataFrame(sc.transform(x))\n",
    "\n",
    "y = df[\"label\"]\n",
    "\n",
    "# # Converting prediction to categorical\n",
    "y_cat = to_categorical(y)"
   ],
   "outputs": [],
   "execution_count": 7
  },
  {
   "cell_type": "code",
   "metadata": {
    "ExecuteTime": {
     "end_time": "2024-09-11T23:35:13.010454Z",
     "start_time": "2024-09-11T23:35:13.006397Z"
    }
   },
   "source": [
    "x_train, x_test, y_train, y_test = train_test_split(x.values, y_cat, test_size=0.2, random_state=1234)"
   ],
   "outputs": [],
   "execution_count": 8
  },
  {
   "cell_type": "markdown",
   "metadata": {},
   "source": [
    "## 3. Build Model"
   ]
  },
  {
   "metadata": {},
   "cell_type": "markdown",
   "source": "### 3.1. Set up"
  },
  {
   "metadata": {
    "ExecuteTime": {
     "end_time": "2024-09-11T23:37:42.305256Z",
     "start_time": "2024-09-11T23:37:42.302565Z"
    }
   },
   "cell_type": "code",
   "source": [
    "stop_early = EarlyStopping(monitor='val_loss', patience=3)\n",
    "\n",
    "# Final Results\n",
    "final_models = {}"
   ],
   "outputs": [],
   "execution_count": 13
  },
  {
   "metadata": {
    "ExecuteTime": {
     "end_time": "2024-09-11T23:37:53.151573Z",
     "start_time": "2024-09-11T23:37:53.146889Z"
    }
   },
   "cell_type": "code",
   "source": [
    "def describe_model(model):\n",
    "    '''\n",
    "    Describe Model architecture\n",
    "    '''\n",
    "    print(f\"Describe models architecture\")\n",
    "    for i, layer in enumerate(model.layers):\n",
    "        number_of_units = layer.units if hasattr(layer, 'units') else 0\n",
    "\n",
    "        if hasattr(layer, \"activation\"):\n",
    "            print(f\"Layer-{i + 1}: {number_of_units} units, func: \", layer.activation)\n",
    "        else:\n",
    "            print(f\"Layer-{i + 1}: {number_of_units} units, func: None\")\n",
    "\n",
    "\n",
    "def get_best_model(tuner):\n",
    "    '''\n",
    "    Describe and return the best model found from keras tuner\n",
    "    '''\n",
    "    best_hps = tuner.get_best_hyperparameters(num_trials=1)[0]\n",
    "    best_model = tuner.hypermodel.build(best_hps)\n",
    "\n",
    "    describe_model(best_model)\n",
    "\n",
    "    print(\"\\nOther params:\")\n",
    "    ignore_params = [\"tuner\", \"activation\", \"layer\", \"epoch\"]\n",
    "    for param, value in best_hps.values.items():\n",
    "        if not any(word in param for word in ignore_params):\n",
    "            print(f\"{param}: {value}\")\n",
    "\n",
    "    return best_model"
   ],
   "outputs": [],
   "execution_count": 14
  },
  {
   "metadata": {},
   "cell_type": "markdown",
   "source": "### 3.4. Model with 7 layers include Dropout"
  },
  {
   "metadata": {
    "ExecuteTime": {
     "end_time": "2024-09-11T23:49:35.616693Z",
     "start_time": "2024-09-11T23:49:35.612758Z"
    }
   },
   "cell_type": "code",
   "source": [
    "def model_7lD_builder(hp):\n",
    "    # Here the hp are the hyperparameter grid search that is performed to get the best result from the \n",
    "    model = Sequential()\n",
    "    model.add(Dense(36, input_dim = 36, activation = \"relu\"))\n",
    "\n",
    "    hp_activation = hp.Choice('activation', values=['relu', 'tanh'])\n",
    "    hp_layer_1 = hp.Int('layer_1', min_value=32, max_value=512, step=32)\n",
    "    hp_layer_2 = hp.Int('layer_2', min_value=32, max_value=512, step=32)\n",
    "    hp_layer_3 = hp.Int('layer_3', min_value=32, max_value=512, step=32)\n",
    "    hp_dropout_1 = hp.Float('dropout_1', min_value=0.1, max_value=0.5, step=0.1)\n",
    "    hp_dropout_2 = hp.Float('dropout_2', min_value=0.1, max_value=0.5, step=0.1)\n",
    "    hp_learning_rate = hp.Choice('learning_rate', values=[1e-2, 1e-3, 1e-4])\n",
    "\n",
    "    model.add(Dense(units=hp_layer_1, activation=hp_activation))\n",
    "    model.add(Dropout(rate=hp_dropout_1))\n",
    "    model.add(Dense(units=hp_layer_2, activation=hp_activation))\n",
    "    model.add(Dropout(rate=hp_dropout_2))\n",
    "    model.add(Dense(units=hp_layer_3, activation=hp_activation))\n",
    "    model.add(Dense(2, activation = \"softmax\"))\n",
    "\n",
    "    model.compile(optimizer=Adam(learning_rate=hp_learning_rate), loss=\"categorical_crossentropy\", metrics = [\"accuracy\"])\n",
    "\n",
    "    return model"
   ],
   "outputs": [],
   "execution_count": 30
  },
  {
   "metadata": {
    "ExecuteTime": {
     "end_time": "2024-09-11T23:47:16.017022Z",
     "start_time": "2024-09-11T23:47:16.009878Z"
    }
   },
   "cell_type": "code",
   "source": [
    "# def model_7lD_with_max_values():\n",
    "#     # Build the model with predefined maximum hyperparameters\n",
    "#     model = Sequential()\n",
    "#     model.add(Dense(36, input_dim=36, activation=\"relu\"))\n",
    "#     \n",
    "#     # Use maximum values directly\n",
    "#     activation = 'relu'  # Maximum value choice for activation\n",
    "#     layer_1 = 512  # Maximum value for layer_1 units\n",
    "#     layer_2 = 512  # Maximum value for layer_2 units\n",
    "#     layer_3 = 512  # Maximum value for layer_3 units\n",
    "#     dropout_1 = 0.5  # Maximum value for dropout_1 rate\n",
    "#     dropout_2 = 0.5  # Maximum value for dropout_2 rate\n",
    "#     learning_rate = 1e-2  # Maximum value for learning rate\n",
    "#     \n",
    "#     model.add(Dense(units=layer_1, activation=activation))\n",
    "#     model.add(Dropout(rate=dropout_1))\n",
    "#     model.add(Dense(units=layer_2, activation=activation))\n",
    "#     model.add(Dropout(rate=dropout_2))\n",
    "#     model.add(Dense(units=layer_3, activation=activation))\n",
    "#     model.add(Dense(2, activation=\"softmax\"))\n",
    "# \n",
    "#     # Compile the model\n",
    "#     model.compile(optimizer=Adam(learning_rate=learning_rate), \n",
    "#                   loss=\"categorical_crossentropy\", \n",
    "#                   metrics=[\"accuracy\"])\n",
    "#     \n",
    "#     return model"
   ],
   "outputs": [],
   "execution_count": 24
  },
  {
   "metadata": {
    "ExecuteTime": {
     "end_time": "2024-09-11T23:47:16.099238Z",
     "start_time": "2024-09-11T23:47:16.097270Z"
    }
   },
   "cell_type": "code",
   "source": "# Here instead of doing the grid search, we are doing the hyperband search, but in general it is kind of ",
   "outputs": [],
   "execution_count": 25
  },
  {
   "metadata": {},
   "cell_type": "code",
   "source": [
    "tuner_7lD = kt.Hyperband(\n",
    "    model_7lD_builder,\n",
    "    objective='accuracy',\n",
    "    max_epochs=10,\n",
    "    directory='keras_tuner_dir',\n",
    "    project_name='keras_tuner_demo_7'\n",
    ")\n",
    "tuner_7lD.search(x_train, y_train, validation_data=(x_test, y_test), epochs=10, callbacks=[stop_early, TensorBoard(\"./keras_tuner_dir/logs\")])"
   ],
   "execution_count": 32,
   "outputs": [
    {
     "name": "stdout",
     "output_type": "stream",
     "text": [
      "Trial 30 Complete [00h 00m 04s]\n",
      "accuracy: 0.9934130311012268\n",
      "\n",
      "Best accuracy So Far: 0.9969097971916199\n",
      "Total elapsed time: 00h 01m 37s\n",
      "INFO:tensorflow:Oracle triggered exit\n"
     ]
    }
   ]
  },
  {
   "metadata": {
    "ExecuteTime": {
     "end_time": "2024-09-11T23:53:48.458273Z",
     "start_time": "2024-09-11T23:52:09.741279Z"
    }
   },
   "cell_type": "code",
   "source": [
    "model_7lD = get_best_model(tuner_7lD)\n",
    "model_7lD.fit(x_train, y_train, epochs=100, batch_size=10, validation_data=(x_test, y_test))"
   ],
   "outputs": [
    {
     "name": "stdout",
     "output_type": "stream",
     "text": [
      "Describe models architecture\n",
      "Layer-1: 36 units, func:  <function relu at 0x3529541f0>\n",
      "Layer-2: 224 units, func:  <function relu at 0x3529541f0>\n",
      "Layer-3: 0 units, func: None\n",
      "Layer-4: 64 units, func:  <function relu at 0x3529541f0>\n",
      "Layer-5: 0 units, func: None\n",
      "Layer-6: 416 units, func:  <function relu at 0x3529541f0>\n",
      "Layer-7: 2 units, func:  <function softmax at 0x352950790>\n",
      "\n",
      "Other params:\n",
      "dropout_1: 0.4\n",
      "dropout_2: 0.5\n",
      "learning_rate: 0.001\n",
      "Epoch 1/100\n",
      "1230/1230 [==============================] - 1s 832us/step - loss: 0.0805 - accuracy: 0.9694 - val_loss: 0.0181 - val_accuracy: 0.9961\n",
      "Epoch 2/100\n",
      "1230/1230 [==============================] - 1s 793us/step - loss: 0.0301 - accuracy: 0.9927 - val_loss: 0.0199 - val_accuracy: 0.9945\n",
      "Epoch 3/100\n",
      "1230/1230 [==============================] - 1s 794us/step - loss: 0.0226 - accuracy: 0.9938 - val_loss: 0.0129 - val_accuracy: 0.9961\n",
      "Epoch 4/100\n",
      "1230/1230 [==============================] - 1s 796us/step - loss: 0.0188 - accuracy: 0.9942 - val_loss: 0.0269 - val_accuracy: 0.9919\n",
      "Epoch 5/100\n",
      "1230/1230 [==============================] - 1s 797us/step - loss: 0.0178 - accuracy: 0.9948 - val_loss: 0.0148 - val_accuracy: 0.9954\n",
      "Epoch 6/100\n",
      "1230/1230 [==============================] - 1s 796us/step - loss: 0.0175 - accuracy: 0.9951 - val_loss: 0.0113 - val_accuracy: 0.9971\n",
      "Epoch 7/100\n",
      "1230/1230 [==============================] - 1s 794us/step - loss: 0.0166 - accuracy: 0.9959 - val_loss: 0.0122 - val_accuracy: 0.9971\n",
      "Epoch 8/100\n",
      "1230/1230 [==============================] - 1s 796us/step - loss: 0.0159 - accuracy: 0.9958 - val_loss: 0.0111 - val_accuracy: 0.9984\n",
      "Epoch 9/100\n",
      "1230/1230 [==============================] - 1s 792us/step - loss: 0.0141 - accuracy: 0.9957 - val_loss: 0.0110 - val_accuracy: 0.9977\n",
      "Epoch 10/100\n",
      "1230/1230 [==============================] - 1s 799us/step - loss: 0.0150 - accuracy: 0.9959 - val_loss: 0.0120 - val_accuracy: 0.9977\n",
      "Epoch 11/100\n",
      "1230/1230 [==============================] - 1s 803us/step - loss: 0.0125 - accuracy: 0.9967 - val_loss: 0.0098 - val_accuracy: 0.9984\n",
      "Epoch 12/100\n",
      "1230/1230 [==============================] - 1s 814us/step - loss: 0.0146 - accuracy: 0.9964 - val_loss: 0.0255 - val_accuracy: 0.9932\n",
      "Epoch 13/100\n",
      "1230/1230 [==============================] - 1s 828us/step - loss: 0.0120 - accuracy: 0.9971 - val_loss: 0.0149 - val_accuracy: 0.9967\n",
      "Epoch 14/100\n",
      "1230/1230 [==============================] - 1s 953us/step - loss: 0.0126 - accuracy: 0.9967 - val_loss: 0.0102 - val_accuracy: 0.9984\n",
      "Epoch 15/100\n",
      "1230/1230 [==============================] - 1s 836us/step - loss: 0.0133 - accuracy: 0.9966 - val_loss: 0.0127 - val_accuracy: 0.9984\n",
      "Epoch 16/100\n",
      "1230/1230 [==============================] - 1s 805us/step - loss: 0.0106 - accuracy: 0.9968 - val_loss: 0.0139 - val_accuracy: 0.9984\n",
      "Epoch 17/100\n",
      "1230/1230 [==============================] - 1s 824us/step - loss: 0.0107 - accuracy: 0.9967 - val_loss: 0.0192 - val_accuracy: 0.9977\n",
      "Epoch 18/100\n",
      "1230/1230 [==============================] - 1s 796us/step - loss: 0.0192 - accuracy: 0.9959 - val_loss: 0.0119 - val_accuracy: 0.9974\n",
      "Epoch 19/100\n",
      "1230/1230 [==============================] - 1s 792us/step - loss: 0.0117 - accuracy: 0.9975 - val_loss: 0.0177 - val_accuracy: 0.9977\n",
      "Epoch 20/100\n",
      "1230/1230 [==============================] - 1s 785us/step - loss: 0.0070 - accuracy: 0.9975 - val_loss: 0.0182 - val_accuracy: 0.9980\n",
      "Epoch 21/100\n",
      "1230/1230 [==============================] - 1s 790us/step - loss: 0.0093 - accuracy: 0.9972 - val_loss: 0.0182 - val_accuracy: 0.9964\n",
      "Epoch 22/100\n",
      "1230/1230 [==============================] - 1s 787us/step - loss: 0.0117 - accuracy: 0.9970 - val_loss: 0.0188 - val_accuracy: 0.9977\n",
      "Epoch 23/100\n",
      "1230/1230 [==============================] - 1s 790us/step - loss: 0.0163 - accuracy: 0.9967 - val_loss: 0.0158 - val_accuracy: 0.9977\n",
      "Epoch 24/100\n",
      "1230/1230 [==============================] - 1s 788us/step - loss: 0.0088 - accuracy: 0.9983 - val_loss: 0.0176 - val_accuracy: 0.9984\n",
      "Epoch 25/100\n",
      "1230/1230 [==============================] - 1s 790us/step - loss: 0.0089 - accuracy: 0.9976 - val_loss: 0.0085 - val_accuracy: 0.9980\n",
      "Epoch 26/100\n",
      "1230/1230 [==============================] - 1s 791us/step - loss: 0.0093 - accuracy: 0.9979 - val_loss: 0.0190 - val_accuracy: 0.9974\n",
      "Epoch 27/100\n",
      "1230/1230 [==============================] - 1s 792us/step - loss: 0.0145 - accuracy: 0.9972 - val_loss: 0.0159 - val_accuracy: 0.9977\n",
      "Epoch 28/100\n",
      "1230/1230 [==============================] - 1s 784us/step - loss: 0.0162 - accuracy: 0.9969 - val_loss: 0.0189 - val_accuracy: 0.9977\n",
      "Epoch 29/100\n",
      "1230/1230 [==============================] - 1s 789us/step - loss: 0.0103 - accuracy: 0.9979 - val_loss: 0.0288 - val_accuracy: 0.9977\n",
      "Epoch 30/100\n",
      "1230/1230 [==============================] - 1s 786us/step - loss: 0.0098 - accuracy: 0.9976 - val_loss: 0.0148 - val_accuracy: 0.9974\n",
      "Epoch 31/100\n",
      "1230/1230 [==============================] - 1s 792us/step - loss: 0.0077 - accuracy: 0.9980 - val_loss: 0.0195 - val_accuracy: 0.9951\n",
      "Epoch 32/100\n",
      "1230/1230 [==============================] - 1s 791us/step - loss: 0.0085 - accuracy: 0.9978 - val_loss: 0.0122 - val_accuracy: 0.9974\n",
      "Epoch 33/100\n",
      "1230/1230 [==============================] - 1s 791us/step - loss: 0.0117 - accuracy: 0.9975 - val_loss: 0.0185 - val_accuracy: 0.9964\n",
      "Epoch 34/100\n",
      "1230/1230 [==============================] - 1s 788us/step - loss: 0.0084 - accuracy: 0.9974 - val_loss: 0.0142 - val_accuracy: 0.9984\n",
      "Epoch 35/100\n",
      "1230/1230 [==============================] - 1s 786us/step - loss: 0.0059 - accuracy: 0.9990 - val_loss: 0.0174 - val_accuracy: 0.9987\n",
      "Epoch 36/100\n",
      "1230/1230 [==============================] - 1s 791us/step - loss: 0.0085 - accuracy: 0.9976 - val_loss: 0.0270 - val_accuracy: 0.9980\n",
      "Epoch 37/100\n",
      "1230/1230 [==============================] - 1s 803us/step - loss: 0.0143 - accuracy: 0.9976 - val_loss: 0.0268 - val_accuracy: 0.9980\n",
      "Epoch 38/100\n",
      "1230/1230 [==============================] - 1s 812us/step - loss: 0.0077 - accuracy: 0.9983 - val_loss: 0.0454 - val_accuracy: 0.9984\n",
      "Epoch 39/100\n",
      "1230/1230 [==============================] - 1s 814us/step - loss: 0.0193 - accuracy: 0.9978 - val_loss: 0.0125 - val_accuracy: 0.9984\n",
      "Epoch 40/100\n",
      "1230/1230 [==============================] - 1s 797us/step - loss: 0.0060 - accuracy: 0.9983 - val_loss: 0.0134 - val_accuracy: 0.9987\n",
      "Epoch 41/100\n",
      "1230/1230 [==============================] - 1s 800us/step - loss: 0.0062 - accuracy: 0.9984 - val_loss: 0.0153 - val_accuracy: 0.9984\n",
      "Epoch 42/100\n",
      "1230/1230 [==============================] - 1s 793us/step - loss: 0.0133 - accuracy: 0.9982 - val_loss: 0.0568 - val_accuracy: 0.9876\n",
      "Epoch 43/100\n",
      "1230/1230 [==============================] - 1s 831us/step - loss: 0.0089 - accuracy: 0.9974 - val_loss: 0.0523 - val_accuracy: 0.9971\n",
      "Epoch 44/100\n",
      "1230/1230 [==============================] - 1s 824us/step - loss: 0.0068 - accuracy: 0.9985 - val_loss: 0.0473 - val_accuracy: 0.9974\n",
      "Epoch 45/100\n",
      "1230/1230 [==============================] - 1s 805us/step - loss: 0.0079 - accuracy: 0.9980 - val_loss: 0.0180 - val_accuracy: 0.9977\n",
      "Epoch 46/100\n",
      "1230/1230 [==============================] - 1s 951us/step - loss: 0.0105 - accuracy: 0.9980 - val_loss: 0.0294 - val_accuracy: 0.9958\n",
      "Epoch 47/100\n",
      "1230/1230 [==============================] - 1s 836us/step - loss: 0.0094 - accuracy: 0.9978 - val_loss: 0.0206 - val_accuracy: 0.9977\n",
      "Epoch 48/100\n",
      "1230/1230 [==============================] - 1s 805us/step - loss: 0.0051 - accuracy: 0.9980 - val_loss: 0.0142 - val_accuracy: 0.9984\n",
      "Epoch 49/100\n",
      "1230/1230 [==============================] - 1s 785us/step - loss: 0.0086 - accuracy: 0.9985 - val_loss: 0.0165 - val_accuracy: 0.9990\n",
      "Epoch 50/100\n",
      "1230/1230 [==============================] - 1s 791us/step - loss: 0.0037 - accuracy: 0.9985 - val_loss: 0.0188 - val_accuracy: 0.9987\n",
      "Epoch 51/100\n",
      "1230/1230 [==============================] - 1s 811us/step - loss: 0.0074 - accuracy: 0.9983 - val_loss: 0.0272 - val_accuracy: 0.9974\n",
      "Epoch 52/100\n",
      "1230/1230 [==============================] - 1s 805us/step - loss: 0.0063 - accuracy: 0.9988 - val_loss: 0.0207 - val_accuracy: 0.9977\n",
      "Epoch 53/100\n",
      "1230/1230 [==============================] - 1s 806us/step - loss: 0.0057 - accuracy: 0.9985 - val_loss: 0.0276 - val_accuracy: 0.9974\n",
      "Epoch 54/100\n",
      "1230/1230 [==============================] - 1s 805us/step - loss: 0.0105 - accuracy: 0.9976 - val_loss: 0.0196 - val_accuracy: 0.9984\n",
      "Epoch 55/100\n",
      "1230/1230 [==============================] - 1s 826us/step - loss: 0.0081 - accuracy: 0.9982 - val_loss: 0.0260 - val_accuracy: 0.9958\n",
      "Epoch 56/100\n",
      "1230/1230 [==============================] - 1s 809us/step - loss: 0.0132 - accuracy: 0.9983 - val_loss: 0.0198 - val_accuracy: 0.9977\n",
      "Epoch 57/100\n",
      "1230/1230 [==============================] - 1s 806us/step - loss: 0.0040 - accuracy: 0.9985 - val_loss: 0.0252 - val_accuracy: 0.9977\n",
      "Epoch 58/100\n",
      "1230/1230 [==============================] - 1s 803us/step - loss: 0.0026 - accuracy: 0.9993 - val_loss: 0.0228 - val_accuracy: 0.9980\n",
      "Epoch 59/100\n",
      "1230/1230 [==============================] - 1s 804us/step - loss: 0.0076 - accuracy: 0.9984 - val_loss: 0.0242 - val_accuracy: 0.9974\n",
      "Epoch 60/100\n",
      "1230/1230 [==============================] - 1s 781us/step - loss: 0.0067 - accuracy: 0.9990 - val_loss: 0.0251 - val_accuracy: 0.9980\n",
      "Epoch 61/100\n",
      "1230/1230 [==============================] - 1s 789us/step - loss: 0.0125 - accuracy: 0.9979 - val_loss: 0.0277 - val_accuracy: 0.9971\n",
      "Epoch 62/100\n",
      "1230/1230 [==============================] - 1s 785us/step - loss: 0.0063 - accuracy: 0.9986 - val_loss: 0.0487 - val_accuracy: 0.9977\n",
      "Epoch 63/100\n",
      "1230/1230 [==============================] - 1s 785us/step - loss: 0.0088 - accuracy: 0.9986 - val_loss: 0.0217 - val_accuracy: 0.9958\n",
      "Epoch 64/100\n",
      "1230/1230 [==============================] - 1s 783us/step - loss: 0.0103 - accuracy: 0.9982 - val_loss: 0.0246 - val_accuracy: 0.9974\n",
      "Epoch 65/100\n",
      "1230/1230 [==============================] - 1s 774us/step - loss: 0.0051 - accuracy: 0.9984 - val_loss: 0.0350 - val_accuracy: 0.9980\n",
      "Epoch 66/100\n",
      "1230/1230 [==============================] - 1s 781us/step - loss: 0.0057 - accuracy: 0.9985 - val_loss: 0.0284 - val_accuracy: 0.9977\n",
      "Epoch 67/100\n",
      "1230/1230 [==============================] - 1s 785us/step - loss: 0.0059 - accuracy: 0.9982 - val_loss: 0.0519 - val_accuracy: 0.9980\n",
      "Epoch 68/100\n",
      "1230/1230 [==============================] - 1s 787us/step - loss: 0.0086 - accuracy: 0.9985 - val_loss: 0.0252 - val_accuracy: 0.9977\n",
      "Epoch 69/100\n",
      "1230/1230 [==============================] - 1s 777us/step - loss: 0.0054 - accuracy: 0.9984 - val_loss: 0.0267 - val_accuracy: 0.9990\n",
      "Epoch 70/100\n",
      "1230/1230 [==============================] - 1s 786us/step - loss: 0.0048 - accuracy: 0.9989 - val_loss: 0.0393 - val_accuracy: 0.9974\n",
      "Epoch 71/100\n",
      "1230/1230 [==============================] - 1s 782us/step - loss: 0.0106 - accuracy: 0.9985 - val_loss: 0.0164 - val_accuracy: 0.9990\n",
      "Epoch 72/100\n",
      "1230/1230 [==============================] - 1s 770us/step - loss: 0.0070 - accuracy: 0.9982 - val_loss: 0.0325 - val_accuracy: 0.9987\n",
      "Epoch 73/100\n",
      "1230/1230 [==============================] - 1s 784us/step - loss: 0.0082 - accuracy: 0.9986 - val_loss: 0.0242 - val_accuracy: 0.9977\n",
      "Epoch 74/100\n",
      "1230/1230 [==============================] - 1s 785us/step - loss: 0.0020 - accuracy: 0.9991 - val_loss: 0.0436 - val_accuracy: 0.9980\n",
      "Epoch 75/100\n",
      "1230/1230 [==============================] - 1s 788us/step - loss: 0.0076 - accuracy: 0.9992 - val_loss: 0.0518 - val_accuracy: 0.9984\n",
      "Epoch 76/100\n",
      "1230/1230 [==============================] - 1s 805us/step - loss: 0.0036 - accuracy: 0.9991 - val_loss: 0.0529 - val_accuracy: 0.9980\n",
      "Epoch 77/100\n",
      "1230/1230 [==============================] - 1s 788us/step - loss: 0.0079 - accuracy: 0.9989 - val_loss: 0.0518 - val_accuracy: 0.9977\n",
      "Epoch 78/100\n",
      "1230/1230 [==============================] - 1s 852us/step - loss: 0.0174 - accuracy: 0.9978 - val_loss: 0.0211 - val_accuracy: 0.9987\n",
      "Epoch 79/100\n",
      "1230/1230 [==============================] - 1s 870us/step - loss: 0.0037 - accuracy: 0.9989 - val_loss: 0.0324 - val_accuracy: 0.9990\n",
      "Epoch 80/100\n",
      "1230/1230 [==============================] - 1s 819us/step - loss: 0.0132 - accuracy: 0.9987 - val_loss: 0.0406 - val_accuracy: 0.9980\n",
      "Epoch 81/100\n",
      "1230/1230 [==============================] - 1s 774us/step - loss: 0.0066 - accuracy: 0.9987 - val_loss: 0.0385 - val_accuracy: 0.9980\n",
      "Epoch 82/100\n",
      "1230/1230 [==============================] - 1s 784us/step - loss: 0.0069 - accuracy: 0.9987 - val_loss: 0.0281 - val_accuracy: 0.9980\n",
      "Epoch 83/100\n",
      "1230/1230 [==============================] - 1s 767us/step - loss: 0.0019 - accuracy: 0.9992 - val_loss: 0.0363 - val_accuracy: 0.9993\n",
      "Epoch 84/100\n",
      "1230/1230 [==============================] - 1s 800us/step - loss: 0.0200 - accuracy: 0.9985 - val_loss: 0.0114 - val_accuracy: 0.9987\n",
      "Epoch 85/100\n",
      "1230/1230 [==============================] - 1s 801us/step - loss: 0.0066 - accuracy: 0.9989 - val_loss: 0.0107 - val_accuracy: 0.9990\n",
      "Epoch 86/100\n",
      "1230/1230 [==============================] - 1s 799us/step - loss: 0.0013 - accuracy: 0.9993 - val_loss: 0.0607 - val_accuracy: 0.9984\n",
      "Epoch 87/100\n",
      "1230/1230 [==============================] - 1s 800us/step - loss: 0.0112 - accuracy: 0.9970 - val_loss: 0.0595 - val_accuracy: 0.9980\n",
      "Epoch 88/100\n",
      "1230/1230 [==============================] - 1s 793us/step - loss: 0.0199 - accuracy: 0.9971 - val_loss: 0.0351 - val_accuracy: 0.9987\n",
      "Epoch 89/100\n",
      "1230/1230 [==============================] - 1s 792us/step - loss: 0.0055 - accuracy: 0.9989 - val_loss: 0.0386 - val_accuracy: 0.9971\n",
      "Epoch 90/100\n",
      "1230/1230 [==============================] - 1s 799us/step - loss: 0.0045 - accuracy: 0.9993 - val_loss: 0.0568 - val_accuracy: 0.9948\n",
      "Epoch 91/100\n",
      "1230/1230 [==============================] - 1s 796us/step - loss: 0.0025 - accuracy: 0.9993 - val_loss: 0.0487 - val_accuracy: 0.9984\n",
      "Epoch 92/100\n",
      "1230/1230 [==============================] - 1s 797us/step - loss: 0.0105 - accuracy: 0.9981 - val_loss: 0.0795 - val_accuracy: 0.9971\n",
      "Epoch 93/100\n",
      "1230/1230 [==============================] - 1s 793us/step - loss: 0.0035 - accuracy: 0.9989 - val_loss: 0.0692 - val_accuracy: 0.9987\n",
      "Epoch 94/100\n",
      "1230/1230 [==============================] - 1s 809us/step - loss: 0.0233 - accuracy: 0.9985 - val_loss: 0.0290 - val_accuracy: 0.9971\n",
      "Epoch 95/100\n",
      "1230/1230 [==============================] - 1s 783us/step - loss: 0.0098 - accuracy: 0.9986 - val_loss: 0.0621 - val_accuracy: 0.9964\n",
      "Epoch 96/100\n",
      "1230/1230 [==============================] - 1s 771us/step - loss: 0.0058 - accuracy: 0.9985 - val_loss: 0.0479 - val_accuracy: 0.9984\n",
      "Epoch 97/100\n",
      "1230/1230 [==============================] - 1s 782us/step - loss: 0.0022 - accuracy: 0.9989 - val_loss: 0.0592 - val_accuracy: 0.9984\n",
      "Epoch 98/100\n",
      "1230/1230 [==============================] - 1s 769us/step - loss: 0.0069 - accuracy: 0.9991 - val_loss: 0.0288 - val_accuracy: 0.9984\n",
      "Epoch 99/100\n",
      "1230/1230 [==============================] - 1s 772us/step - loss: 0.0043 - accuracy: 0.9990 - val_loss: 0.0430 - val_accuracy: 0.9987\n",
      "Epoch 100/100\n",
      "1230/1230 [==============================] - 1s 778us/step - loss: 0.0047 - accuracy: 0.9993 - val_loss: 0.0308 - val_accuracy: 0.9990\n"
     ]
    },
    {
     "data": {
      "text/plain": [
       "<keras.callbacks.History at 0x366ea1df0>"
      ]
     },
     "execution_count": 33,
     "metadata": {},
     "output_type": "execute_result"
    }
   ],
   "execution_count": 33
  },
  {
   "metadata": {
    "ExecuteTime": {
     "end_time": "2024-09-11T23:54:13.932612Z",
     "start_time": "2024-09-11T23:54:13.929406Z"
    }
   },
   "cell_type": "code",
   "source": "final_models[\"7_layers_with_dropout\"] = model_7lD",
   "outputs": [],
   "execution_count": 36
  },
  {
   "cell_type": "markdown",
   "metadata": {},
   "source": [
    "### 3.6. Describe final models"
   ]
  },
  {
   "cell_type": "code",
   "metadata": {
    "ExecuteTime": {
     "end_time": "2024-09-11T23:54:14.919351Z",
     "start_time": "2024-09-11T23:54:14.917256Z"
    }
   },
   "source": [
    "for name, model in final_models.items():\n",
    "    print(f\"{name}: \", end=\"\")\n",
    "    describe_model(model)\n",
    "    print()"
   ],
   "outputs": [
    {
     "name": "stdout",
     "output_type": "stream",
     "text": [
      "7_layers_with_dropout: Describe models architecture\n",
      "Layer-1: 36 units, func:  <function relu at 0x3529541f0>\n",
      "Layer-2: 224 units, func:  <function relu at 0x3529541f0>\n",
      "Layer-3: 0 units, func: None\n",
      "Layer-4: 64 units, func:  <function relu at 0x3529541f0>\n",
      "Layer-5: 0 units, func: None\n",
      "Layer-6: 416 units, func:  <function relu at 0x3529541f0>\n",
      "Layer-7: 2 units, func:  <function softmax at 0x352950790>\n",
      "\n"
     ]
    }
   ],
   "execution_count": 37
  },
  {
   "cell_type": "markdown",
   "metadata": {},
   "source": [
    "## 4. Model Evaluation"
   ]
  },
  {
   "cell_type": "markdown",
   "metadata": {},
   "source": [
    "### 4.1. Train set evaluation"
   ]
  },
  {
   "cell_type": "code",
   "metadata": {
    "ExecuteTime": {
     "end_time": "2024-09-11T23:54:16.600260Z",
     "start_time": "2024-09-11T23:54:16.511821Z"
    }
   },
   "source": [
    "train_set_results = []\n",
    "\n",
    "for name, model in final_models.items():\n",
    "    # Evaluate model\n",
    "    predict_x = model.predict(x_test, verbose=False) \n",
    "    y_pred_class = np.argmax(predict_x, axis=1)\n",
    "    y_test_class = np.argmax(y_test, axis=1)\n",
    "\n",
    "    cm = confusion_matrix(y_test_class, y_pred_class, labels=[0, 1])\n",
    "    (p_score, r_score, f_score, _) = precision_recall_fscore_support(y_test_class, y_pred_class, labels=[0, 1])\n",
    "    \n",
    "    train_set_results.append(( name, round_up_metric_results(p_score), round_up_metric_results(r_score), round_up_metric_results(f_score), cm ))\n",
    "\n",
    "train_set_results.sort(key=lambda k: sum(k[3]), reverse=True)\n",
    "pd.DataFrame(train_set_results, columns=[\"Model\", \"Precision Score\", \"Recall Score\", \"F1 score\", \"Confusion Matrix\"])"
   ],
   "outputs": [
    {
     "data": {
      "text/plain": [
       "                   Model Precision Score    Recall Score        F1 score  \\\n",
       "0  7_layers_with_dropout  [0.999, 0.999]  [0.999, 0.999]  [0.999, 0.999]   \n",
       "\n",
       "         Confusion Matrix  \n",
       "0  [[1678, 1], [2, 1394]]  "
      ],
      "text/html": [
       "<div>\n",
       "<style scoped>\n",
       "    .dataframe tbody tr th:only-of-type {\n",
       "        vertical-align: middle;\n",
       "    }\n",
       "\n",
       "    .dataframe tbody tr th {\n",
       "        vertical-align: top;\n",
       "    }\n",
       "\n",
       "    .dataframe thead th {\n",
       "        text-align: right;\n",
       "    }\n",
       "</style>\n",
       "<table border=\"1\" class=\"dataframe\">\n",
       "  <thead>\n",
       "    <tr style=\"text-align: right;\">\n",
       "      <th></th>\n",
       "      <th>Model</th>\n",
       "      <th>Precision Score</th>\n",
       "      <th>Recall Score</th>\n",
       "      <th>F1 score</th>\n",
       "      <th>Confusion Matrix</th>\n",
       "    </tr>\n",
       "  </thead>\n",
       "  <tbody>\n",
       "    <tr>\n",
       "      <th>0</th>\n",
       "      <td>7_layers_with_dropout</td>\n",
       "      <td>[0.999, 0.999]</td>\n",
       "      <td>[0.999, 0.999]</td>\n",
       "      <td>[0.999, 0.999]</td>\n",
       "      <td>[[1678, 1], [2, 1394]]</td>\n",
       "    </tr>\n",
       "  </tbody>\n",
       "</table>\n",
       "</div>"
      ]
     },
     "execution_count": 38,
     "metadata": {},
     "output_type": "execute_result"
    }
   ],
   "execution_count": 38
  },
  {
   "cell_type": "markdown",
   "metadata": {},
   "source": [
    "### 4.2. Test set evaluation"
   ]
  },
  {
   "cell_type": "code",
   "metadata": {
    "ExecuteTime": {
     "end_time": "2024-09-11T23:54:19.025447Z",
     "start_time": "2024-09-11T23:54:19.009198Z"
    }
   },
   "source": [
    "# load dataset\n",
    "test_df = describe_dataset(\"./test.csv\")\n",
    "\n",
    "# Categorizing label\n",
    "test_df.loc[test_df[\"label\"] == \"C\", \"label\"] = 0\n",
    "test_df.loc[test_df[\"label\"] == \"L\", \"label\"] = 1"
   ],
   "outputs": [
    {
     "name": "stdout",
     "output_type": "stream",
     "text": [
      "Headers: ['label', 'nose_x', 'nose_y', 'nose_z', 'nose_v', 'left_shoulder_x', 'left_shoulder_y', 'left_shoulder_z', 'left_shoulder_v', 'right_shoulder_x', 'right_shoulder_y', 'right_shoulder_z', 'right_shoulder_v', 'right_elbow_x', 'right_elbow_y', 'right_elbow_z', 'right_elbow_v', 'left_elbow_x', 'left_elbow_y', 'left_elbow_z', 'left_elbow_v', 'right_wrist_x', 'right_wrist_y', 'right_wrist_z', 'right_wrist_v', 'left_wrist_x', 'left_wrist_y', 'left_wrist_z', 'left_wrist_v', 'left_hip_x', 'left_hip_y', 'left_hip_z', 'left_hip_v', 'right_hip_x', 'right_hip_y', 'right_hip_z', 'right_hip_v']\n",
      "Number of rows: 604 \n",
      "Number of columns: 37\n",
      "\n",
      "Labels: \n",
      "C    339\n",
      "L    265\n",
      "Name: label, dtype: int64\n",
      "\n",
      "Missing values: False\n",
      "\n",
      "Duplicate Rows : 0\n"
     ]
    }
   ],
   "execution_count": 39
  },
  {
   "cell_type": "code",
   "metadata": {
    "ExecuteTime": {
     "end_time": "2024-09-11T23:54:19.853440Z",
     "start_time": "2024-09-11T23:54:19.847166Z"
    }
   },
   "source": [
    "# Standard Scaling of features\n",
    "test_x = test_df.drop(\"label\", axis = 1)\n",
    "test_x = pd.DataFrame(sc.transform(test_x))\n",
    "\n",
    "test_y = test_df[\"label\"]\n",
    "\n",
    "# # Converting prediction to categorical\n",
    "test_y_cat = to_categorical(test_y)"
   ],
   "outputs": [],
   "execution_count": 40
  },
  {
   "cell_type": "code",
   "metadata": {
    "ExecuteTime": {
     "end_time": "2024-09-11T23:54:20.584672Z",
     "start_time": "2024-09-11T23:54:20.524518Z"
    }
   },
   "source": [
    "test_set_results = []\n",
    "\n",
    "for name, model in final_models.items():\n",
    "    # Evaluate model\n",
    "    predict_x = model.predict(test_x, verbose=False) \n",
    "    y_pred_class = np.argmax(predict_x, axis=1)\n",
    "    y_test_class = np.argmax(test_y_cat, axis=1)\n",
    "\n",
    "    cm = confusion_matrix(y_test_class, y_pred_class, labels=[0, 1])\n",
    "    (p_score, r_score, f_score, _) = precision_recall_fscore_support(y_test_class, y_pred_class, labels=[0, 1])\n",
    "    \n",
    "    test_set_results.append(( name, round_up_metric_results(p_score), round_up_metric_results(r_score), round_up_metric_results(f_score), cm ))\n",
    "\n",
    "test_set_results.sort(key=lambda k: k[1] + k[2] + k[3], reverse=True)\n",
    "pd.DataFrame(test_set_results, columns=[\"Model\", \"Precision Score\", \"Recall Score\", \"F1 score\", \"Confusion Matrix\"])"
   ],
   "outputs": [
    {
     "data": {
      "text/plain": [
       "                   Model Precision Score  Recall Score        F1 score  \\\n",
       "0  7_layers_with_dropout    [0.765, 1.0]  [1.0, 0.608]  [0.867, 0.756]   \n",
       "\n",
       "         Confusion Matrix  \n",
       "0  [[339, 0], [104, 161]]  "
      ],
      "text/html": [
       "<div>\n",
       "<style scoped>\n",
       "    .dataframe tbody tr th:only-of-type {\n",
       "        vertical-align: middle;\n",
       "    }\n",
       "\n",
       "    .dataframe tbody tr th {\n",
       "        vertical-align: top;\n",
       "    }\n",
       "\n",
       "    .dataframe thead th {\n",
       "        text-align: right;\n",
       "    }\n",
       "</style>\n",
       "<table border=\"1\" class=\"dataframe\">\n",
       "  <thead>\n",
       "    <tr style=\"text-align: right;\">\n",
       "      <th></th>\n",
       "      <th>Model</th>\n",
       "      <th>Precision Score</th>\n",
       "      <th>Recall Score</th>\n",
       "      <th>F1 score</th>\n",
       "      <th>Confusion Matrix</th>\n",
       "    </tr>\n",
       "  </thead>\n",
       "  <tbody>\n",
       "    <tr>\n",
       "      <th>0</th>\n",
       "      <td>7_layers_with_dropout</td>\n",
       "      <td>[0.765, 1.0]</td>\n",
       "      <td>[1.0, 0.608]</td>\n",
       "      <td>[0.867, 0.756]</td>\n",
       "      <td>[[339, 0], [104, 161]]</td>\n",
       "    </tr>\n",
       "  </tbody>\n",
       "</table>\n",
       "</div>"
      ]
     },
     "execution_count": 41,
     "metadata": {},
     "output_type": "execute_result"
    }
   ],
   "execution_count": 41
  },
  {
   "cell_type": "markdown",
   "metadata": {},
   "source": [
    "## 5. Dumped Model"
   ]
  },
  {
   "cell_type": "code",
   "metadata": {
    "ExecuteTime": {
     "end_time": "2024-09-11T23:54:40.256278Z",
     "start_time": "2024-09-11T23:54:39.700708Z"
    }
   },
   "source": [
    "# Dump the best model to a pickle file\n",
    "with open(\"./model/bicep_dp_jainil.pkl\", \"wb\") as f:\n",
    "    pickle.dump(final_models[\"7_layers_with_dropout\"], f)"
   ],
   "outputs": [
    {
     "name": "stdout",
     "output_type": "stream",
     "text": [
      "INFO:tensorflow:Assets written to: ram://d110cc89-f31f-45a8-8c97-5c24c571421c/assets\n"
     ]
    }
   ],
   "execution_count": 44
  },
  {
   "cell_type": "code",
   "metadata": {
    "ExecuteTime": {
     "end_time": "2024-09-11T23:54:47.181023Z",
     "start_time": "2024-09-11T23:54:46.452812Z"
    }
   },
   "source": [
    "# Dump final results\n",
    "with open(\"./model/all_models_jainil.pkl\", \"wb\") as f:\n",
    "    pickle.dump(final_models, f)"
   ],
   "outputs": [
    {
     "name": "stdout",
     "output_type": "stream",
     "text": [
      "INFO:tensorflow:Assets written to: ram://e52de510-44fc-4e2d-b169-4c5d9550eef3/assets\n"
     ]
    }
   ],
   "execution_count": 45
  },
  {
   "cell_type": "code",
   "execution_count": null,
   "metadata": {},
   "outputs": [],
   "source": []
  }
 ],
 "metadata": {
  "kernelspec": {
   "display_name": "Python 3.8.13 (conda)",
   "language": "python",
   "name": "python3"
  },
  "language_info": {
   "codemirror_mode": {
    "name": "ipython",
    "version": 3
   },
   "file_extension": ".py",
   "mimetype": "text/x-python",
   "name": "python",
   "nbconvert_exporter": "python",
   "pygments_lexer": "ipython3",
   "version": "3.8.13"
  },
  "orig_nbformat": 4,
  "vscode": {
   "interpreter": {
    "hash": "9260f401923fb5c4108c543a7d176de9733d378b3752e49535ad7c43c2271b65"
   }
  }
 },
 "nbformat": 4,
 "nbformat_minor": 2
}
