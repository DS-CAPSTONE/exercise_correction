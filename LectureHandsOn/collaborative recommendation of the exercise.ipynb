{
 "cells": [
  {
   "cell_type": "code",
   "id": "initial_id",
   "metadata": {
    "collapsed": true,
    "ExecuteTime": {
     "end_time": "2024-10-22T00:18:51.961531Z",
     "start_time": "2024-10-22T00:18:50.448610Z"
    }
   },
   "source": "!pip install faker pandas numpy\n",
   "outputs": [
    {
     "name": "stdout",
     "output_type": "stream",
     "text": [
      "Requirement already satisfied: faker in /Users/jainilpatel/PycharmProjects/Exercise-Correction/.venv/lib/python3.9/site-packages (30.8.0)\r\n",
      "Requirement already satisfied: pandas in /Users/jainilpatel/PycharmProjects/Exercise-Correction/.venv/lib/python3.9/site-packages (1.4.3)\r\n",
      "Requirement already satisfied: numpy in /Users/jainilpatel/PycharmProjects/Exercise-Correction/.venv/lib/python3.9/site-packages (2.0.2)\r\n",
      "Requirement already satisfied: python-dateutil>=2.4 in /Users/jainilpatel/PycharmProjects/Exercise-Correction/.venv/lib/python3.9/site-packages (from faker) (2.9.0.post0)\r\n",
      "Requirement already satisfied: typing-extensions in /Users/jainilpatel/PycharmProjects/Exercise-Correction/.venv/lib/python3.9/site-packages (from faker) (4.12.2)\r\n",
      "Requirement already satisfied: pytz>=2020.1 in /Users/jainilpatel/PycharmProjects/Exercise-Correction/.venv/lib/python3.9/site-packages (from pandas) (2024.1)\r\n",
      "Requirement already satisfied: six>=1.5 in /Users/jainilpatel/PycharmProjects/Exercise-Correction/.venv/lib/python3.9/site-packages (from python-dateutil>=2.4->faker) (1.16.0)\r\n",
      "\r\n",
      "\u001B[1m[\u001B[0m\u001B[34;49mnotice\u001B[0m\u001B[1;39;49m]\u001B[0m\u001B[39;49m A new release of pip is available: \u001B[0m\u001B[31;49m23.2.1\u001B[0m\u001B[39;49m -> \u001B[0m\u001B[32;49m24.2\u001B[0m\r\n",
      "\u001B[1m[\u001B[0m\u001B[34;49mnotice\u001B[0m\u001B[1;39;49m]\u001B[0m\u001B[39;49m To update, run: \u001B[0m\u001B[32;49mpip install --upgrade pip\u001B[0m\r\n"
     ]
    }
   ],
   "execution_count": 1
  },
  {
   "metadata": {
    "ExecuteTime": {
     "end_time": "2024-10-22T00:33:15.810047Z",
     "start_time": "2024-10-22T00:33:15.643394Z"
    }
   },
   "cell_type": "code",
   "source": [
    "import pandas as pd\n",
    "import numpy as np\n",
    "from faker import Faker\n",
    "import random\n",
    "\n",
    "# Initialize the Faker generator\n",
    "fake = Faker()\n",
    "\n",
    "# Define parameters\n",
    "num_users = 10000  # Number of users\n",
    "num_exercises = 100  # Number of exercises\n",
    "\n",
    "# Define exercises\n",
    "exercises = ['Squats', 'Push-Ups', 'Lunges', 'Deadlifts', 'Bench Press', \n",
    "             'Shoulder Press', 'Bicep Curls', 'Tricep Dips', 'Leg Press', \n",
    "             'Plank']\n",
    "\n",
    "# Create a DataFrame to hold the exercise data\n",
    "data = []\n",
    "\n",
    "for user in range(num_users):\n",
    "    # Randomly select a sequence of exercises for each user\n",
    "    exercise_sequence = random.choices(exercises, k=num_ratings_per_user)\n",
    "    \n",
    "    for exercise in exercise_sequence:\n",
    "        # Randomly generate reps and sets\n",
    "        reps = random.randint(5, 15)  # Random number of repetitions\n",
    "        sets = random.randint(2, 5)  # Random number of sets\n",
    "        \n",
    "        data.append({\n",
    "            'user': f'User_{user}',\n",
    "            'exercise': exercise,\n",
    "            'reps': reps,\n",
    "            'sets': sets,\n",
    "        })\n",
    "\n",
    "# Create the DataFrame\n",
    "df = pd.DataFrame(data)\n",
    "\n",
    "# Save the dataset to a CSV file\n",
    "df.to_csv('fake_gym_exercise_data_collab.csv', index=False)\n",
    "print(\"Dataset saved as 'fake_gym_exercise_data_collab.csv'\")\n"
   ],
   "id": "412e9bf0dbc195d5",
   "outputs": [
    {
     "name": "stdout",
     "output_type": "stream",
     "text": [
      "Dataset saved as 'fake_gym_exercise_data_collab.csv'\n"
     ]
    }
   ],
   "execution_count": 19
  },
  {
   "metadata": {
    "ExecuteTime": {
     "end_time": "2024-10-22T00:33:17.679125Z",
     "start_time": "2024-10-22T00:33:17.674628Z"
    }
   },
   "cell_type": "code",
   "source": "df.shape",
   "id": "2b6b58e8a42af572",
   "outputs": [
    {
     "data": {
      "text/plain": [
       "(50000, 4)"
      ]
     },
     "execution_count": 20,
     "metadata": {},
     "output_type": "execute_result"
    }
   ],
   "execution_count": 20
  },
  {
   "metadata": {
    "ExecuteTime": {
     "end_time": "2024-10-22T00:33:19.812997Z",
     "start_time": "2024-10-22T00:33:19.785494Z"
    }
   },
   "cell_type": "code",
   "source": [
    "from sklearn.metrics.pairwise import cosine_similarity\n",
    "\n",
    "# Load the dataset\n",
    "df = pd.read_csv('fake_gym_exercise_data_collab.csv')\n",
    "\n",
    "\n",
    "# Create a user-item matrix to hold reps and sets for each exercise\n",
    "exercise_matrix = df.pivot_table(index='exercise', values=['reps', 'sets'], aggfunc='mean').fillna(0)\n",
    "\n",
    "# Function to get recommendations based on exercise name, reps, and sets\n",
    "def get_exercise_recommendations(exercise_name, reps, sets, n_recommendations=3):\n",
    "    # Calculate similarity based on reps and sets\n",
    "    exercise_features = exercise_matrix.loc[exercise_name].values.reshape(1, -1)\n",
    "    \n",
    "    # Compute similarity between the input exercise and all others\n",
    "    similarity_scores = cosine_similarity(exercise_features, exercise_matrix).flatten()\n",
    "    \n",
    "    # Create a DataFrame for exercises with their similarity scores\n",
    "    exercise_similarity = pd.DataFrame({\n",
    "        'exercise': exercise_matrix.index,\n",
    "        'similarity': similarity_scores\n",
    "    })\n",
    "    \n",
    "    # Filter out the exercise itself\n",
    "    exercise_similarity = exercise_similarity[exercise_similarity['exercise'] != exercise_name]\n",
    "    \n",
    "    # Sort by similarity score\n",
    "    recommended_exercises = exercise_similarity.sort_values(by='similarity', ascending=False)\n",
    "\n",
    "    # Return the top N recommendations\n",
    "    return recommended_exercises['exercise'].head(n_recommendations).tolist()\n",
    "\n",
    "# Example usage\n",
    "exercise_name = 'Squats'\n",
    "reps = 10\n",
    "sets = 3\n",
    "recommended_exercises = get_exercise_recommendations(exercise_name, reps, sets, n_recommendations=3)\n",
    "print(f\"Recommended exercises based on '{exercise_name}' with {reps} reps and {sets} sets: {recommended_exercises}\")\n"
   ],
   "id": "a4e5160be425794f",
   "outputs": [
    {
     "name": "stdout",
     "output_type": "stream",
     "text": [
      "Recommended exercises based on 'Squats' with 10 reps and 3 sets: ['Bicep Curls', 'Bench Press', 'Deadlifts']\n"
     ]
    }
   ],
   "execution_count": 21
  },
  {
   "metadata": {},
   "cell_type": "code",
   "outputs": [],
   "execution_count": null,
   "source": "",
   "id": "7a06b2b2192eb949"
  }
 ],
 "metadata": {
  "kernelspec": {
   "display_name": "Python 3",
   "language": "python",
   "name": "python3"
  },
  "language_info": {
   "codemirror_mode": {
    "name": "ipython",
    "version": 2
   },
   "file_extension": ".py",
   "mimetype": "text/x-python",
   "name": "python",
   "nbconvert_exporter": "python",
   "pygments_lexer": "ipython2",
   "version": "2.7.6"
  }
 },
 "nbformat": 4,
 "nbformat_minor": 5
}
