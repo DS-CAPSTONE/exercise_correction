{
 "cells": [
  {
   "cell_type": "markdown",
   "id": "eb8937d0",
   "metadata": {
    "id": "eb8937d0"
   },
   "source": [
    "# Knowledge Graph Generation and LLM Integration"
   ]
  },
  {
   "cell_type": "code",
   "id": "5MBC4562p-2Q",
   "metadata": {
    "colab": {
     "base_uri": "https://localhost:8080/"
    },
    "id": "5MBC4562p-2Q",
    "outputId": "78f83f20-a252-4c71-dd13-2f11dcc8f1c4",
    "ExecuteTime": {
     "end_time": "2024-10-21T23:47:54.245264Z",
     "start_time": "2024-10-21T23:47:54.243653Z"
    }
   },
   "source": [
    "print(\"we are starting up. Knowledge graph. \")"
   ],
   "outputs": [
    {
     "name": "stdout",
     "output_type": "stream",
     "text": [
      "we are starting up. Knowledge graph. \n"
     ]
    }
   ],
   "execution_count": 1
  },
  {
   "cell_type": "code",
   "id": "gA3H7ZGMYA2M",
   "metadata": {
    "colab": {
     "base_uri": "https://localhost:8080/"
    },
    "id": "gA3H7ZGMYA2M",
    "outputId": "1d28bf1b-b9d1-4dca-bc11-46c39c742ef1",
    "ExecuteTime": {
     "end_time": "2024-10-21T23:48:41.121944Z",
     "start_time": "2024-10-21T23:48:10.193067Z"
    }
   },
   "source": [
    "!pip install flask networkx matplotlib\n",
    "!pip install faker\n",
    "!pip install openai==0.28\n",
    "!pip install transformers rdflib spacy\n",
    "!python -m spacy download en_core_web_sm"
   ],
   "outputs": [
    {
     "name": "stdout",
     "output_type": "stream",
     "text": [
      "Collecting flask\r\n",
      "  Obtaining dependency information for flask from https://files.pythonhosted.org/packages/61/80/ffe1da13ad9300f87c93af113edd0638c75138c42a0994becfacac078c06/flask-3.0.3-py3-none-any.whl.metadata\r\n",
      "  Downloading flask-3.0.3-py3-none-any.whl.metadata (3.2 kB)\r\n",
      "Requirement already satisfied: networkx in /Users/jainilpatel/PycharmProjects/Exercise-Correction/.venv/lib/python3.9/site-packages (3.2.1)\r\n",
      "Requirement already satisfied: matplotlib in /Users/jainilpatel/PycharmProjects/Exercise-Correction/.venv/lib/python3.9/site-packages (3.6.0)\r\n",
      "Requirement already satisfied: Werkzeug>=3.0.0 in /Users/jainilpatel/PycharmProjects/Exercise-Correction/.venv/lib/python3.9/site-packages (from flask) (3.0.4)\r\n",
      "Requirement already satisfied: Jinja2>=3.1.2 in /Users/jainilpatel/PycharmProjects/Exercise-Correction/.venv/lib/python3.9/site-packages (from flask) (3.1.4)\r\n",
      "Collecting itsdangerous>=2.1.2 (from flask)\r\n",
      "  Obtaining dependency information for itsdangerous>=2.1.2 from https://files.pythonhosted.org/packages/04/96/92447566d16df59b2a776c0fb82dbc4d9e07cd95062562af01e408583fc4/itsdangerous-2.2.0-py3-none-any.whl.metadata\r\n",
      "  Downloading itsdangerous-2.2.0-py3-none-any.whl.metadata (1.9 kB)\r\n",
      "Collecting click>=8.1.3 (from flask)\r\n",
      "  Obtaining dependency information for click>=8.1.3 from https://files.pythonhosted.org/packages/00/2e/d53fa4befbf2cfa713304affc7ca780ce4fc1fd8710527771b58311a3229/click-8.1.7-py3-none-any.whl.metadata\r\n",
      "  Using cached click-8.1.7-py3-none-any.whl.metadata (3.0 kB)\r\n",
      "Collecting blinker>=1.6.2 (from flask)\r\n",
      "  Obtaining dependency information for blinker>=1.6.2 from https://files.pythonhosted.org/packages/bb/2a/10164ed1f31196a2f7f3799368a821765c62851ead0e630ab52b8e14b4d0/blinker-1.8.2-py3-none-any.whl.metadata\r\n",
      "  Downloading blinker-1.8.2-py3-none-any.whl.metadata (1.6 kB)\r\n",
      "Requirement already satisfied: importlib-metadata>=3.6.0 in /Users/jainilpatel/PycharmProjects/Exercise-Correction/.venv/lib/python3.9/site-packages (from flask) (8.4.0)\r\n",
      "Requirement already satisfied: contourpy>=1.0.1 in /Users/jainilpatel/PycharmProjects/Exercise-Correction/.venv/lib/python3.9/site-packages (from matplotlib) (1.3.0)\r\n",
      "Requirement already satisfied: cycler>=0.10 in /Users/jainilpatel/PycharmProjects/Exercise-Correction/.venv/lib/python3.9/site-packages (from matplotlib) (0.12.1)\r\n",
      "Requirement already satisfied: fonttools>=4.22.0 in /Users/jainilpatel/PycharmProjects/Exercise-Correction/.venv/lib/python3.9/site-packages (from matplotlib) (4.53.1)\r\n",
      "Requirement already satisfied: kiwisolver>=1.0.1 in /Users/jainilpatel/PycharmProjects/Exercise-Correction/.venv/lib/python3.9/site-packages (from matplotlib) (1.4.7)\r\n",
      "Requirement already satisfied: numpy>=1.19 in /Users/jainilpatel/PycharmProjects/Exercise-Correction/.venv/lib/python3.9/site-packages (from matplotlib) (1.23.3)\r\n",
      "Requirement already satisfied: packaging>=20.0 in /Users/jainilpatel/PycharmProjects/Exercise-Correction/.venv/lib/python3.9/site-packages (from matplotlib) (24.1)\r\n",
      "Requirement already satisfied: pillow>=6.2.0 in /Users/jainilpatel/PycharmProjects/Exercise-Correction/.venv/lib/python3.9/site-packages (from matplotlib) (10.4.0)\r\n",
      "Requirement already satisfied: pyparsing>=2.2.1 in /Users/jainilpatel/PycharmProjects/Exercise-Correction/.venv/lib/python3.9/site-packages (from matplotlib) (3.1.4)\r\n",
      "Requirement already satisfied: python-dateutil>=2.7 in /Users/jainilpatel/PycharmProjects/Exercise-Correction/.venv/lib/python3.9/site-packages (from matplotlib) (2.9.0.post0)\r\n",
      "Requirement already satisfied: zipp>=0.5 in /Users/jainilpatel/PycharmProjects/Exercise-Correction/.venv/lib/python3.9/site-packages (from importlib-metadata>=3.6.0->flask) (3.20.1)\r\n",
      "Requirement already satisfied: MarkupSafe>=2.0 in /Users/jainilpatel/PycharmProjects/Exercise-Correction/.venv/lib/python3.9/site-packages (from Jinja2>=3.1.2->flask) (2.1.5)\r\n",
      "Requirement already satisfied: six>=1.5 in /Users/jainilpatel/PycharmProjects/Exercise-Correction/.venv/lib/python3.9/site-packages (from python-dateutil>=2.7->matplotlib) (1.16.0)\r\n",
      "Downloading flask-3.0.3-py3-none-any.whl (101 kB)\r\n",
      "\u001B[2K   \u001B[90m━━━━━━━━━━━━━━━━━━━━━━━━━━━━━━━━━━━━━━━━\u001B[0m \u001B[32m101.7/101.7 kB\u001B[0m \u001B[31m2.7 MB/s\u001B[0m eta \u001B[36m0:00:00\u001B[0m\r\n",
      "\u001B[?25hDownloading blinker-1.8.2-py3-none-any.whl (9.5 kB)\r\n",
      "Using cached click-8.1.7-py3-none-any.whl (97 kB)\r\n",
      "Downloading itsdangerous-2.2.0-py3-none-any.whl (16 kB)\r\n",
      "Installing collected packages: itsdangerous, click, blinker, flask\r\n",
      "Successfully installed blinker-1.8.2 click-8.1.7 flask-3.0.3 itsdangerous-2.2.0\r\n",
      "\r\n",
      "\u001B[1m[\u001B[0m\u001B[34;49mnotice\u001B[0m\u001B[1;39;49m]\u001B[0m\u001B[39;49m A new release of pip is available: \u001B[0m\u001B[31;49m23.2.1\u001B[0m\u001B[39;49m -> \u001B[0m\u001B[32;49m24.2\u001B[0m\r\n",
      "\u001B[1m[\u001B[0m\u001B[34;49mnotice\u001B[0m\u001B[1;39;49m]\u001B[0m\u001B[39;49m To update, run: \u001B[0m\u001B[32;49mpip install --upgrade pip\u001B[0m\r\n",
      "Collecting faker\r\n",
      "  Obtaining dependency information for faker from https://files.pythonhosted.org/packages/4f/ca/f7a812229555391b0630982c0522b643cc530e7a7feabef8f8caec10ba9a/Faker-30.8.0-py3-none-any.whl.metadata\r\n",
      "  Downloading Faker-30.8.0-py3-none-any.whl.metadata (15 kB)\r\n",
      "Requirement already satisfied: python-dateutil>=2.4 in /Users/jainilpatel/PycharmProjects/Exercise-Correction/.venv/lib/python3.9/site-packages (from faker) (2.9.0.post0)\r\n",
      "Requirement already satisfied: typing-extensions in /Users/jainilpatel/PycharmProjects/Exercise-Correction/.venv/lib/python3.9/site-packages (from faker) (4.12.2)\r\n",
      "Requirement already satisfied: six>=1.5 in /Users/jainilpatel/PycharmProjects/Exercise-Correction/.venv/lib/python3.9/site-packages (from python-dateutil>=2.4->faker) (1.16.0)\r\n",
      "Downloading Faker-30.8.0-py3-none-any.whl (1.8 MB)\r\n",
      "\u001B[2K   \u001B[90m━━━━━━━━━━━━━━━━━━━━━━━━━━━━━━━━━━━━━━━━\u001B[0m \u001B[32m1.8/1.8 MB\u001B[0m \u001B[31m13.2 MB/s\u001B[0m eta \u001B[36m0:00:00\u001B[0ma \u001B[36m0:00:01\u001B[0m\r\n",
      "\u001B[?25hInstalling collected packages: faker\r\n",
      "Successfully installed faker-30.8.0\r\n",
      "\r\n",
      "\u001B[1m[\u001B[0m\u001B[34;49mnotice\u001B[0m\u001B[1;39;49m]\u001B[0m\u001B[39;49m A new release of pip is available: \u001B[0m\u001B[31;49m23.2.1\u001B[0m\u001B[39;49m -> \u001B[0m\u001B[32;49m24.2\u001B[0m\r\n",
      "\u001B[1m[\u001B[0m\u001B[34;49mnotice\u001B[0m\u001B[1;39;49m]\u001B[0m\u001B[39;49m To update, run: \u001B[0m\u001B[32;49mpip install --upgrade pip\u001B[0m\r\n",
      "Collecting openai==0.28\r\n",
      "  Obtaining dependency information for openai==0.28 from https://files.pythonhosted.org/packages/ae/59/911d6e5f1d7514d79c527067643376cddcf4cb8d1728e599b3b03ab51c69/openai-0.28.0-py3-none-any.whl.metadata\r\n",
      "  Downloading openai-0.28.0-py3-none-any.whl.metadata (13 kB)\r\n",
      "Requirement already satisfied: requests>=2.20 in /Users/jainilpatel/PycharmProjects/Exercise-Correction/.venv/lib/python3.9/site-packages (from openai==0.28) (2.32.3)\r\n",
      "Requirement already satisfied: tqdm in /Users/jainilpatel/PycharmProjects/Exercise-Correction/.venv/lib/python3.9/site-packages (from openai==0.28) (4.66.5)\r\n",
      "Requirement already satisfied: aiohttp in /Users/jainilpatel/PycharmProjects/Exercise-Correction/.venv/lib/python3.9/site-packages (from openai==0.28) (3.10.10)\r\n",
      "Requirement already satisfied: charset-normalizer<4,>=2 in /Users/jainilpatel/PycharmProjects/Exercise-Correction/.venv/lib/python3.9/site-packages (from requests>=2.20->openai==0.28) (3.3.2)\r\n",
      "Requirement already satisfied: idna<4,>=2.5 in /Users/jainilpatel/PycharmProjects/Exercise-Correction/.venv/lib/python3.9/site-packages (from requests>=2.20->openai==0.28) (3.8)\r\n",
      "Requirement already satisfied: urllib3<3,>=1.21.1 in /Users/jainilpatel/PycharmProjects/Exercise-Correction/.venv/lib/python3.9/site-packages (from requests>=2.20->openai==0.28) (2.2.2)\r\n",
      "Requirement already satisfied: certifi>=2017.4.17 in /Users/jainilpatel/PycharmProjects/Exercise-Correction/.venv/lib/python3.9/site-packages (from requests>=2.20->openai==0.28) (2024.8.30)\r\n",
      "Requirement already satisfied: aiohappyeyeballs>=2.3.0 in /Users/jainilpatel/PycharmProjects/Exercise-Correction/.venv/lib/python3.9/site-packages (from aiohttp->openai==0.28) (2.4.3)\r\n",
      "Requirement already satisfied: aiosignal>=1.1.2 in /Users/jainilpatel/PycharmProjects/Exercise-Correction/.venv/lib/python3.9/site-packages (from aiohttp->openai==0.28) (1.3.1)\r\n",
      "Requirement already satisfied: attrs>=17.3.0 in /Users/jainilpatel/PycharmProjects/Exercise-Correction/.venv/lib/python3.9/site-packages (from aiohttp->openai==0.28) (24.2.0)\r\n",
      "Requirement already satisfied: frozenlist>=1.1.1 in /Users/jainilpatel/PycharmProjects/Exercise-Correction/.venv/lib/python3.9/site-packages (from aiohttp->openai==0.28) (1.4.1)\r\n",
      "Requirement already satisfied: multidict<7.0,>=4.5 in /Users/jainilpatel/PycharmProjects/Exercise-Correction/.venv/lib/python3.9/site-packages (from aiohttp->openai==0.28) (6.1.0)\r\n",
      "Requirement already satisfied: yarl<2.0,>=1.12.0 in /Users/jainilpatel/PycharmProjects/Exercise-Correction/.venv/lib/python3.9/site-packages (from aiohttp->openai==0.28) (1.16.0)\r\n",
      "Requirement already satisfied: async-timeout<5.0,>=4.0 in /Users/jainilpatel/PycharmProjects/Exercise-Correction/.venv/lib/python3.9/site-packages (from aiohttp->openai==0.28) (4.0.3)\r\n",
      "Requirement already satisfied: typing-extensions>=4.1.0 in /Users/jainilpatel/PycharmProjects/Exercise-Correction/.venv/lib/python3.9/site-packages (from multidict<7.0,>=4.5->aiohttp->openai==0.28) (4.12.2)\r\n",
      "Requirement already satisfied: propcache>=0.2.0 in /Users/jainilpatel/PycharmProjects/Exercise-Correction/.venv/lib/python3.9/site-packages (from yarl<2.0,>=1.12.0->aiohttp->openai==0.28) (0.2.0)\r\n",
      "Downloading openai-0.28.0-py3-none-any.whl (76 kB)\r\n",
      "\u001B[2K   \u001B[90m━━━━━━━━━━━━━━━━━━━━━━━━━━━━━━━━━━━━━━━━\u001B[0m \u001B[32m76.5/76.5 kB\u001B[0m \u001B[31m1.6 MB/s\u001B[0m eta \u001B[36m0:00:00\u001B[0ma \u001B[36m0:00:01\u001B[0m\r\n",
      "\u001B[?25hInstalling collected packages: openai\r\n",
      "Successfully installed openai-0.28.0\r\n",
      "\r\n",
      "\u001B[1m[\u001B[0m\u001B[34;49mnotice\u001B[0m\u001B[1;39;49m]\u001B[0m\u001B[39;49m A new release of pip is available: \u001B[0m\u001B[31;49m23.2.1\u001B[0m\u001B[39;49m -> \u001B[0m\u001B[32;49m24.2\u001B[0m\r\n",
      "\u001B[1m[\u001B[0m\u001B[34;49mnotice\u001B[0m\u001B[1;39;49m]\u001B[0m\u001B[39;49m To update, run: \u001B[0m\u001B[32;49mpip install --upgrade pip\u001B[0m\r\n",
      "Requirement already satisfied: transformers in /Users/jainilpatel/PycharmProjects/Exercise-Correction/.venv/lib/python3.9/site-packages (4.45.2)\r\n",
      "Collecting rdflib\r\n",
      "  Obtaining dependency information for rdflib from https://files.pythonhosted.org/packages/6b/50/206e30a1093289d6fe456c9491774004d9d84d7ed823ed9dd13a3e0caeee/rdflib-7.1.0-py3-none-any.whl.metadata\r\n",
      "  Downloading rdflib-7.1.0-py3-none-any.whl.metadata (11 kB)\r\n",
      "Collecting spacy\r\n",
      "  Obtaining dependency information for spacy from https://files.pythonhosted.org/packages/35/d6/dbc693d52d6ba7206ec8d0005476e429aa7f9d22402f8f078af013e43fa0/spacy-3.8.2-cp39-cp39-macosx_11_0_arm64.whl.metadata\r\n",
      "  Downloading spacy-3.8.2-cp39-cp39-macosx_11_0_arm64.whl.metadata (27 kB)\r\n",
      "Requirement already satisfied: filelock in /Users/jainilpatel/PycharmProjects/Exercise-Correction/.venv/lib/python3.9/site-packages (from transformers) (3.16.1)\r\n",
      "Requirement already satisfied: huggingface-hub<1.0,>=0.23.2 in /Users/jainilpatel/PycharmProjects/Exercise-Correction/.venv/lib/python3.9/site-packages (from transformers) (0.26.1)\r\n",
      "Requirement already satisfied: numpy>=1.17 in /Users/jainilpatel/PycharmProjects/Exercise-Correction/.venv/lib/python3.9/site-packages (from transformers) (1.23.3)\r\n",
      "Requirement already satisfied: packaging>=20.0 in /Users/jainilpatel/PycharmProjects/Exercise-Correction/.venv/lib/python3.9/site-packages (from transformers) (24.1)\r\n",
      "Requirement already satisfied: pyyaml>=5.1 in /Users/jainilpatel/PycharmProjects/Exercise-Correction/.venv/lib/python3.9/site-packages (from transformers) (6.0.2)\r\n",
      "Requirement already satisfied: regex!=2019.12.17 in /Users/jainilpatel/PycharmProjects/Exercise-Correction/.venv/lib/python3.9/site-packages (from transformers) (2024.9.11)\r\n",
      "Requirement already satisfied: requests in /Users/jainilpatel/PycharmProjects/Exercise-Correction/.venv/lib/python3.9/site-packages (from transformers) (2.32.3)\r\n",
      "Requirement already satisfied: safetensors>=0.4.1 in /Users/jainilpatel/PycharmProjects/Exercise-Correction/.venv/lib/python3.9/site-packages (from transformers) (0.4.5)\r\n",
      "Requirement already satisfied: tokenizers<0.21,>=0.20 in /Users/jainilpatel/PycharmProjects/Exercise-Correction/.venv/lib/python3.9/site-packages (from transformers) (0.20.1)\r\n",
      "Requirement already satisfied: tqdm>=4.27 in /Users/jainilpatel/PycharmProjects/Exercise-Correction/.venv/lib/python3.9/site-packages (from transformers) (4.66.5)\r\n",
      "Collecting html5lib-modern<2.0,>=1.2 (from rdflib)\r\n",
      "  Obtaining dependency information for html5lib-modern<2.0,>=1.2 from https://files.pythonhosted.org/packages/b1/cd/ddf0baebab2dfac62a90af9d7a1c2504d697f1411f2529b928e02b4e9cd0/html5lib_modern-1.2-py2.py3-none-any.whl.metadata\r\n",
      "  Downloading html5lib_modern-1.2-py2.py3-none-any.whl.metadata (7.8 kB)\r\n",
      "Collecting isodate<1.0.0,>=0.7.2 (from rdflib)\r\n",
      "  Obtaining dependency information for isodate<1.0.0,>=0.7.2 from https://files.pythonhosted.org/packages/15/aa/0aca39a37d3c7eb941ba736ede56d689e7be91cab5d9ca846bde3999eba6/isodate-0.7.2-py3-none-any.whl.metadata\r\n",
      "  Downloading isodate-0.7.2-py3-none-any.whl.metadata (11 kB)\r\n",
      "Requirement already satisfied: pyparsing<4,>=2.1.0 in /Users/jainilpatel/PycharmProjects/Exercise-Correction/.venv/lib/python3.9/site-packages (from rdflib) (3.1.4)\r\n",
      "Collecting spacy-legacy<3.1.0,>=3.0.11 (from spacy)\r\n",
      "  Obtaining dependency information for spacy-legacy<3.1.0,>=3.0.11 from https://files.pythonhosted.org/packages/c3/55/12e842c70ff8828e34e543a2c7176dac4da006ca6901c9e8b43efab8bc6b/spacy_legacy-3.0.12-py2.py3-none-any.whl.metadata\r\n",
      "  Downloading spacy_legacy-3.0.12-py2.py3-none-any.whl.metadata (2.8 kB)\r\n",
      "Collecting spacy-loggers<2.0.0,>=1.0.0 (from spacy)\r\n",
      "  Obtaining dependency information for spacy-loggers<2.0.0,>=1.0.0 from https://files.pythonhosted.org/packages/33/78/d1a1a026ef3af911159398c939b1509d5c36fe524c7b644f34a5146c4e16/spacy_loggers-1.0.5-py3-none-any.whl.metadata\r\n",
      "  Downloading spacy_loggers-1.0.5-py3-none-any.whl.metadata (23 kB)\r\n",
      "Collecting murmurhash<1.1.0,>=0.28.0 (from spacy)\r\n",
      "  Obtaining dependency information for murmurhash<1.1.0,>=0.28.0 from https://files.pythonhosted.org/packages/f4/1e/a4f069b97ad8654e07b9e92063376bf7b9ae43e00cffcd14cc932f28cc7f/murmurhash-1.0.10-cp39-cp39-macosx_11_0_arm64.whl.metadata\r\n",
      "  Downloading murmurhash-1.0.10-cp39-cp39-macosx_11_0_arm64.whl.metadata (2.0 kB)\r\n",
      "Collecting cymem<2.1.0,>=2.0.2 (from spacy)\r\n",
      "  Obtaining dependency information for cymem<2.1.0,>=2.0.2 from https://files.pythonhosted.org/packages/0f/e7/79e579f629588ace669d3c06b987189b6013ee554723b9aca71975d15088/cymem-2.0.8-cp39-cp39-macosx_11_0_arm64.whl.metadata\r\n",
      "  Downloading cymem-2.0.8-cp39-cp39-macosx_11_0_arm64.whl.metadata (8.4 kB)\r\n",
      "Collecting preshed<3.1.0,>=3.0.2 (from spacy)\r\n",
      "  Obtaining dependency information for preshed<3.1.0,>=3.0.2 from https://files.pythonhosted.org/packages/e3/e2/fa3986b6ddbdf05f1a86094c3dfaccdcf424c8f358ac9a5b643d07d09b44/preshed-3.0.9-cp39-cp39-macosx_11_0_arm64.whl.metadata\r\n",
      "  Downloading preshed-3.0.9-cp39-cp39-macosx_11_0_arm64.whl.metadata (2.2 kB)\r\n",
      "Collecting thinc<8.4.0,>=8.3.0 (from spacy)\r\n",
      "  Obtaining dependency information for thinc<8.4.0,>=8.3.0 from https://files.pythonhosted.org/packages/9b/53/5a83d3bbe9dbea2198f3b13edadba5a0f7552ba14e8d81bfc432e288e996/thinc-8.3.2-cp39-cp39-macosx_11_0_arm64.whl.metadata\r\n",
      "  Downloading thinc-8.3.2-cp39-cp39-macosx_11_0_arm64.whl.metadata (15 kB)\r\n",
      "Collecting wasabi<1.2.0,>=0.9.1 (from spacy)\r\n",
      "  Obtaining dependency information for wasabi<1.2.0,>=0.9.1 from https://files.pythonhosted.org/packages/06/7c/34330a89da55610daa5f245ddce5aab81244321101614751e7537f125133/wasabi-1.1.3-py3-none-any.whl.metadata\r\n",
      "  Downloading wasabi-1.1.3-py3-none-any.whl.metadata (28 kB)\r\n",
      "Collecting srsly<3.0.0,>=2.4.3 (from spacy)\r\n",
      "  Obtaining dependency information for srsly<3.0.0,>=2.4.3 from https://files.pythonhosted.org/packages/23/87/f6dc2625010feb7f647b0dc3b0bcb12643d0b0895fa4f265bbefbb801a99/srsly-2.4.8-cp39-cp39-macosx_11_0_arm64.whl.metadata\r\n",
      "  Downloading srsly-2.4.8-cp39-cp39-macosx_11_0_arm64.whl.metadata (20 kB)\r\n",
      "Collecting catalogue<2.1.0,>=2.0.6 (from spacy)\r\n",
      "  Obtaining dependency information for catalogue<2.1.0,>=2.0.6 from https://files.pythonhosted.org/packages/9e/96/d32b941a501ab566a16358d68b6eb4e4acc373fab3c3c4d7d9e649f7b4bb/catalogue-2.0.10-py3-none-any.whl.metadata\r\n",
      "  Downloading catalogue-2.0.10-py3-none-any.whl.metadata (14 kB)\r\n",
      "Collecting weasel<0.5.0,>=0.1.0 (from spacy)\r\n",
      "  Obtaining dependency information for weasel<0.5.0,>=0.1.0 from https://files.pythonhosted.org/packages/2a/87/abd57374044e1f627f0a905ac33c1a7daab35a3a815abfea4e1bafd3fdb1/weasel-0.4.1-py3-none-any.whl.metadata\r\n",
      "  Downloading weasel-0.4.1-py3-none-any.whl.metadata (4.6 kB)\r\n",
      "Collecting typer<1.0.0,>=0.3.0 (from spacy)\r\n",
      "  Obtaining dependency information for typer<1.0.0,>=0.3.0 from https://files.pythonhosted.org/packages/a8/2b/886d13e742e514f704c33c4caa7df0f3b89e5a25ef8db02aa9ca3d9535d5/typer-0.12.5-py3-none-any.whl.metadata\r\n",
      "  Downloading typer-0.12.5-py3-none-any.whl.metadata (15 kB)\r\n",
      "Collecting pydantic!=1.8,!=1.8.1,<3.0.0,>=1.7.4 (from spacy)\r\n",
      "  Obtaining dependency information for pydantic!=1.8,!=1.8.1,<3.0.0,>=1.7.4 from https://files.pythonhosted.org/packages/df/e4/ba44652d562cbf0bf320e0f3810206149c8a4e99cdbf66da82e97ab53a15/pydantic-2.9.2-py3-none-any.whl.metadata\r\n",
      "  Downloading pydantic-2.9.2-py3-none-any.whl.metadata (149 kB)\r\n",
      "\u001B[2K     \u001B[90m━━━━━━━━━━━━━━━━━━━━━━━━━━━━━━━━━━━━━━━\u001B[0m \u001B[32m149.4/149.4 kB\u001B[0m \u001B[31m3.4 MB/s\u001B[0m eta \u001B[36m0:00:00\u001B[0ma \u001B[36m0:00:01\u001B[0m\r\n",
      "\u001B[?25hRequirement already satisfied: jinja2 in /Users/jainilpatel/PycharmProjects/Exercise-Correction/.venv/lib/python3.9/site-packages (from spacy) (3.1.4)\r\n",
      "Requirement already satisfied: setuptools in /Users/jainilpatel/PycharmProjects/Exercise-Correction/.venv/lib/python3.9/site-packages (from spacy) (68.2.0)\r\n",
      "Collecting langcodes<4.0.0,>=3.2.0 (from spacy)\r\n",
      "  Obtaining dependency information for langcodes<4.0.0,>=3.2.0 from https://files.pythonhosted.org/packages/e8/fc/79a44f4bc84b8e669dad3ca5652263477c7ecfc830d09777a214317915f9/langcodes-3.4.1-py3-none-any.whl.metadata\r\n",
      "  Downloading langcodes-3.4.1-py3-none-any.whl.metadata (29 kB)\r\n",
      "Requirement already satisfied: fsspec>=2023.5.0 in /Users/jainilpatel/PycharmProjects/Exercise-Correction/.venv/lib/python3.9/site-packages (from huggingface-hub<1.0,>=0.23.2->transformers) (2024.6.1)\r\n",
      "Requirement already satisfied: typing-extensions>=3.7.4.3 in /Users/jainilpatel/PycharmProjects/Exercise-Correction/.venv/lib/python3.9/site-packages (from huggingface-hub<1.0,>=0.23.2->transformers) (4.12.2)\r\n",
      "Collecting language-data>=1.2 (from langcodes<4.0.0,>=3.2.0->spacy)\r\n",
      "  Obtaining dependency information for language-data>=1.2 from https://files.pythonhosted.org/packages/12/5f/139464da89c49afcc8bb97ebad48818a535220ce01b1f24c61fb80dbe4d0/language_data-1.2.0-py3-none-any.whl.metadata\r\n",
      "  Downloading language_data-1.2.0-py3-none-any.whl.metadata (4.3 kB)\r\n",
      "Collecting annotated-types>=0.6.0 (from pydantic!=1.8,!=1.8.1,<3.0.0,>=1.7.4->spacy)\r\n",
      "  Obtaining dependency information for annotated-types>=0.6.0 from https://files.pythonhosted.org/packages/78/b6/6307fbef88d9b5ee7421e68d78a9f162e0da4900bc5f5793f6d3d0e34fb8/annotated_types-0.7.0-py3-none-any.whl.metadata\r\n",
      "  Using cached annotated_types-0.7.0-py3-none-any.whl.metadata (15 kB)\r\n",
      "Collecting pydantic-core==2.23.4 (from pydantic!=1.8,!=1.8.1,<3.0.0,>=1.7.4->spacy)\r\n",
      "  Obtaining dependency information for pydantic-core==2.23.4 from https://files.pythonhosted.org/packages/39/6e/e311bd0751505350f0cdcee3077841eb1f9253c5a1ddbad048cd9fbf7c6e/pydantic_core-2.23.4-cp39-cp39-macosx_11_0_arm64.whl.metadata\r\n",
      "  Downloading pydantic_core-2.23.4-cp39-cp39-macosx_11_0_arm64.whl.metadata (6.6 kB)\r\n",
      "Requirement already satisfied: charset-normalizer<4,>=2 in /Users/jainilpatel/PycharmProjects/Exercise-Correction/.venv/lib/python3.9/site-packages (from requests->transformers) (3.3.2)\r\n",
      "Requirement already satisfied: idna<4,>=2.5 in /Users/jainilpatel/PycharmProjects/Exercise-Correction/.venv/lib/python3.9/site-packages (from requests->transformers) (3.8)\r\n",
      "Requirement already satisfied: urllib3<3,>=1.21.1 in /Users/jainilpatel/PycharmProjects/Exercise-Correction/.venv/lib/python3.9/site-packages (from requests->transformers) (2.2.2)\r\n",
      "Requirement already satisfied: certifi>=2017.4.17 in /Users/jainilpatel/PycharmProjects/Exercise-Correction/.venv/lib/python3.9/site-packages (from requests->transformers) (2024.8.30)\r\n",
      "Collecting blis<1.1.0,>=1.0.0 (from thinc<8.4.0,>=8.3.0->spacy)\r\n",
      "  Obtaining dependency information for blis<1.1.0,>=1.0.0 from https://files.pythonhosted.org/packages/ba/44/9a3194a055fc50f095f77748fa7c13ec274db7bd7c1c0751df2e3180dcf4/blis-1.0.1-cp39-cp39-macosx_11_0_arm64.whl.metadata\r\n",
      "  Downloading blis-1.0.1-cp39-cp39-macosx_11_0_arm64.whl.metadata (7.6 kB)\r\n",
      "Collecting confection<1.0.0,>=0.0.1 (from thinc<8.4.0,>=8.3.0->spacy)\r\n",
      "  Obtaining dependency information for confection<1.0.0,>=0.0.1 from https://files.pythonhosted.org/packages/0c/00/3106b1854b45bd0474ced037dfe6b73b90fe68a68968cef47c23de3d43d2/confection-0.1.5-py3-none-any.whl.metadata\r\n",
      "  Downloading confection-0.1.5-py3-none-any.whl.metadata (19 kB)\r\n",
      "Collecting numpy>=1.17 (from transformers)\r\n",
      "  Obtaining dependency information for numpy>=1.17 from https://files.pythonhosted.org/packages/96/ff/06d1aa3eeb1c614eda245c1ba4fb88c483bee6520d361641331872ac4b82/numpy-2.0.2-cp39-cp39-macosx_14_0_arm64.whl.metadata\r\n",
      "  Using cached numpy-2.0.2-cp39-cp39-macosx_14_0_arm64.whl.metadata (60 kB)\r\n",
      "Requirement already satisfied: click>=8.0.0 in /Users/jainilpatel/PycharmProjects/Exercise-Correction/.venv/lib/python3.9/site-packages (from typer<1.0.0,>=0.3.0->spacy) (8.1.7)\r\n",
      "Collecting shellingham>=1.3.0 (from typer<1.0.0,>=0.3.0->spacy)\r\n",
      "  Obtaining dependency information for shellingham>=1.3.0 from https://files.pythonhosted.org/packages/e0/f9/0595336914c5619e5f28a1fb793285925a8cd4b432c9da0a987836c7f822/shellingham-1.5.4-py2.py3-none-any.whl.metadata\r\n",
      "  Using cached shellingham-1.5.4-py2.py3-none-any.whl.metadata (3.5 kB)\r\n",
      "Requirement already satisfied: rich>=10.11.0 in /Users/jainilpatel/PycharmProjects/Exercise-Correction/.venv/lib/python3.9/site-packages (from typer<1.0.0,>=0.3.0->spacy) (13.8.1)\r\n",
      "Collecting cloudpathlib<1.0.0,>=0.7.0 (from weasel<0.5.0,>=0.1.0->spacy)\r\n",
      "  Obtaining dependency information for cloudpathlib<1.0.0,>=0.7.0 from https://files.pythonhosted.org/packages/1f/6e/b64600156934dab14cc8b403095a9ea8bd722aad2e775673c68346b76220/cloudpathlib-0.20.0-py3-none-any.whl.metadata\r\n",
      "  Downloading cloudpathlib-0.20.0-py3-none-any.whl.metadata (14 kB)\r\n",
      "Collecting smart-open<8.0.0,>=5.2.1 (from weasel<0.5.0,>=0.1.0->spacy)\r\n",
      "  Obtaining dependency information for smart-open<8.0.0,>=5.2.1 from https://files.pythonhosted.org/packages/06/bc/706838af28a542458bffe74a5d0772ca7f207b5495cd9fccfce61ef71f2a/smart_open-7.0.5-py3-none-any.whl.metadata\r\n",
      "  Downloading smart_open-7.0.5-py3-none-any.whl.metadata (24 kB)\r\n",
      "Requirement already satisfied: MarkupSafe>=2.0 in /Users/jainilpatel/PycharmProjects/Exercise-Correction/.venv/lib/python3.9/site-packages (from jinja2->spacy) (2.1.5)\r\n",
      "Collecting marisa-trie>=0.7.7 (from language-data>=1.2->langcodes<4.0.0,>=3.2.0->spacy)\r\n",
      "  Obtaining dependency information for marisa-trie>=0.7.7 from https://files.pythonhosted.org/packages/0d/3d/1981088acb417aa22d08ccff6bc8a2040f5dcd72b316004cf03857158996/marisa_trie-1.2.1-cp39-cp39-macosx_11_0_arm64.whl.metadata\r\n",
      "  Downloading marisa_trie-1.2.1-cp39-cp39-macosx_11_0_arm64.whl.metadata (9.0 kB)\r\n",
      "Requirement already satisfied: markdown-it-py>=2.2.0 in /Users/jainilpatel/PycharmProjects/Exercise-Correction/.venv/lib/python3.9/site-packages (from rich>=10.11.0->typer<1.0.0,>=0.3.0->spacy) (3.0.0)\r\n",
      "Requirement already satisfied: pygments<3.0.0,>=2.13.0 in /Users/jainilpatel/PycharmProjects/Exercise-Correction/.venv/lib/python3.9/site-packages (from rich>=10.11.0->typer<1.0.0,>=0.3.0->spacy) (2.18.0)\r\n",
      "Requirement already satisfied: wrapt in /Users/jainilpatel/PycharmProjects/Exercise-Correction/.venv/lib/python3.9/site-packages (from smart-open<8.0.0,>=5.2.1->weasel<0.5.0,>=0.1.0->spacy) (1.16.0)\r\n",
      "Requirement already satisfied: mdurl~=0.1 in /Users/jainilpatel/PycharmProjects/Exercise-Correction/.venv/lib/python3.9/site-packages (from markdown-it-py>=2.2.0->rich>=10.11.0->typer<1.0.0,>=0.3.0->spacy) (0.1.2)\r\n",
      "Downloading rdflib-7.1.0-py3-none-any.whl (562 kB)\r\n",
      "\u001B[2K   \u001B[90m━━━━━━━━━━━━━━━━━━━━━━━━━━━━━━━━━━━━━━━━\u001B[0m \u001B[32m562.1/562.1 kB\u001B[0m \u001B[31m11.5 MB/s\u001B[0m eta \u001B[36m0:00:00\u001B[0ma \u001B[36m0:00:01\u001B[0m\r\n",
      "\u001B[?25hDownloading spacy-3.8.2-cp39-cp39-macosx_11_0_arm64.whl (6.3 MB)\r\n",
      "\u001B[2K   \u001B[90m━━━━━━━━━━━━━━━━━━━━━━━━━━━━━━━━━━━━━━━━\u001B[0m \u001B[32m6.3/6.3 MB\u001B[0m \u001B[31m36.2 MB/s\u001B[0m eta \u001B[36m0:00:00\u001B[0ma \u001B[36m0:00:01\u001B[0m\r\n",
      "\u001B[?25hDownloading catalogue-2.0.10-py3-none-any.whl (17 kB)\r\n",
      "Downloading cymem-2.0.8-cp39-cp39-macosx_11_0_arm64.whl (41 kB)\r\n",
      "\u001B[2K   \u001B[90m━━━━━━━━━━━━━━━━━━━━━━━━━━━━━━━━━━━━━━━━\u001B[0m \u001B[32m41.6/41.6 kB\u001B[0m \u001B[31m4.7 MB/s\u001B[0m eta \u001B[36m0:00:00\u001B[0m\r\n",
      "\u001B[?25hDownloading html5lib_modern-1.2-py2.py3-none-any.whl (116 kB)\r\n",
      "\u001B[2K   \u001B[90m━━━━━━━━━━━━━━━━━━━━━━━━━━━━━━━━━━━━━━━━\u001B[0m \u001B[32m116.2/116.2 kB\u001B[0m \u001B[31m14.5 MB/s\u001B[0m eta \u001B[36m0:00:00\u001B[0m\r\n",
      "\u001B[?25hDownloading isodate-0.7.2-py3-none-any.whl (22 kB)\r\n",
      "Downloading langcodes-3.4.1-py3-none-any.whl (182 kB)\r\n",
      "\u001B[2K   \u001B[90m━━━━━━━━━━━━━━━━━━━━━━━━━━━━━━━━━━━━━━━━\u001B[0m \u001B[32m182.4/182.4 kB\u001B[0m \u001B[31m23.5 MB/s\u001B[0m eta \u001B[36m0:00:00\u001B[0m\r\n",
      "\u001B[?25hDownloading murmurhash-1.0.10-cp39-cp39-macosx_11_0_arm64.whl (26 kB)\r\n",
      "Downloading preshed-3.0.9-cp39-cp39-macosx_11_0_arm64.whl (129 kB)\r\n",
      "\u001B[2K   \u001B[90m━━━━━━━━━━━━━━━━━━━━━━━━━━━━━━━━━━━━━━━━\u001B[0m \u001B[32m129.1/129.1 kB\u001B[0m \u001B[31m18.7 MB/s\u001B[0m eta \u001B[36m0:00:00\u001B[0m\r\n",
      "\u001B[?25hDownloading pydantic-2.9.2-py3-none-any.whl (434 kB)\r\n",
      "\u001B[2K   \u001B[90m━━━━━━━━━━━━━━━━━━━━━━━━━━━━━━━━━━━━━━━━\u001B[0m \u001B[32m434.9/434.9 kB\u001B[0m \u001B[31m41.5 MB/s\u001B[0m eta \u001B[36m0:00:00\u001B[0m\r\n",
      "\u001B[?25hDownloading pydantic_core-2.23.4-cp39-cp39-macosx_11_0_arm64.whl (1.7 MB)\r\n",
      "\u001B[2K   \u001B[90m━━━━━━━━━━━━━━━━━━━━━━━━━━━━━━━━━━━━━━━━\u001B[0m \u001B[32m1.7/1.7 MB\u001B[0m \u001B[31m32.3 MB/s\u001B[0m eta \u001B[36m0:00:00\u001B[0ma \u001B[36m0:00:01\u001B[0m\r\n",
      "\u001B[?25hDownloading spacy_legacy-3.0.12-py2.py3-none-any.whl (29 kB)\r\n",
      "Downloading spacy_loggers-1.0.5-py3-none-any.whl (22 kB)\r\n",
      "Downloading srsly-2.4.8-cp39-cp39-macosx_11_0_arm64.whl (491 kB)\r\n",
      "\u001B[2K   \u001B[90m━━━━━━━━━━━━━━━━━━━━━━━━━━━━━━━━━━━━━━━━\u001B[0m \u001B[32m491.5/491.5 kB\u001B[0m \u001B[31m38.8 MB/s\u001B[0m eta \u001B[36m0:00:00\u001B[0m\r\n",
      "\u001B[?25hDownloading thinc-8.3.2-cp39-cp39-macosx_11_0_arm64.whl (780 kB)\r\n",
      "\u001B[2K   \u001B[90m━━━━━━━━━━━━━━━━━━━━━━━━━━━━━━━━━━━━━━━━\u001B[0m \u001B[32m780.8/780.8 kB\u001B[0m \u001B[31m44.2 MB/s\u001B[0m eta \u001B[36m0:00:00\u001B[0m\r\n",
      "\u001B[?25hUsing cached numpy-2.0.2-cp39-cp39-macosx_14_0_arm64.whl (5.3 MB)\r\n",
      "Downloading typer-0.12.5-py3-none-any.whl (47 kB)\r\n",
      "\u001B[2K   \u001B[90m━━━━━━━━━━━━━━━━━━━━━━━━━━━━━━━━━━━━━━━━\u001B[0m \u001B[32m47.3/47.3 kB\u001B[0m \u001B[31m7.4 MB/s\u001B[0m eta \u001B[36m0:00:00\u001B[0m\r\n",
      "\u001B[?25hDownloading wasabi-1.1.3-py3-none-any.whl (27 kB)\r\n",
      "Downloading weasel-0.4.1-py3-none-any.whl (50 kB)\r\n",
      "\u001B[2K   \u001B[90m━━━━━━━━━━━━━━━━━━━━━━━━━━━━━━━━━━━━━━━━\u001B[0m \u001B[32m50.3/50.3 kB\u001B[0m \u001B[31m9.4 MB/s\u001B[0m eta \u001B[36m0:00:00\u001B[0m\r\n",
      "\u001B[?25hUsing cached annotated_types-0.7.0-py3-none-any.whl (13 kB)\r\n",
      "Downloading blis-1.0.1-cp39-cp39-macosx_11_0_arm64.whl (1.1 MB)\r\n",
      "\u001B[2K   \u001B[90m━━━━━━━━━━━━━━━━━━━━━━━━━━━━━━━━━━━━━━━━\u001B[0m \u001B[32m1.1/1.1 MB\u001B[0m \u001B[31m47.5 MB/s\u001B[0m eta \u001B[36m0:00:00\u001B[0m\r\n",
      "\u001B[?25hDownloading cloudpathlib-0.20.0-py3-none-any.whl (52 kB)\r\n",
      "\u001B[2K   \u001B[90m━━━━━━━━━━━━━━━━━━━━━━━━━━━━━━━━━━━━━━━━\u001B[0m \u001B[32m52.5/52.5 kB\u001B[0m \u001B[31m7.8 MB/s\u001B[0m eta \u001B[36m0:00:00\u001B[0m\r\n",
      "\u001B[?25hDownloading confection-0.1.5-py3-none-any.whl (35 kB)\r\n",
      "Downloading language_data-1.2.0-py3-none-any.whl (5.4 MB)\r\n",
      "\u001B[2K   \u001B[90m━━━━━━━━━━━━━━━━━━━━━━━━━━━━━━━━━━━━━━━━\u001B[0m \u001B[32m5.4/5.4 MB\u001B[0m \u001B[31m42.3 MB/s\u001B[0m eta \u001B[36m0:00:00\u001B[0ma \u001B[36m0:00:01\u001B[0m\r\n",
      "\u001B[?25hUsing cached shellingham-1.5.4-py2.py3-none-any.whl (9.8 kB)\r\n",
      "Downloading smart_open-7.0.5-py3-none-any.whl (61 kB)\r\n",
      "\u001B[2K   \u001B[90m━━━━━━━━━━━━━━━━━━━━━━━━━━━━━━━━━━━━━━━━\u001B[0m \u001B[32m61.4/61.4 kB\u001B[0m \u001B[31m9.1 MB/s\u001B[0m eta \u001B[36m0:00:00\u001B[0m\r\n",
      "\u001B[?25hDownloading marisa_trie-1.2.1-cp39-cp39-macosx_11_0_arm64.whl (175 kB)\r\n",
      "\u001B[2K   \u001B[90m━━━━━━━━━━━━━━━━━━━━━━━━━━━━━━━━━━━━━━━━\u001B[0m \u001B[32m175.1/175.1 kB\u001B[0m \u001B[31m24.6 MB/s\u001B[0m eta \u001B[36m0:00:00\u001B[0m\r\n",
      "\u001B[?25hInstalling collected packages: cymem, wasabi, spacy-loggers, spacy-legacy, smart-open, shellingham, pydantic-core, numpy, murmurhash, marisa-trie, isodate, html5lib-modern, cloudpathlib, catalogue, annotated-types, srsly, rdflib, pydantic, preshed, language-data, blis, typer, langcodes, confection, weasel, thinc, spacy\r\n",
      "  Attempting uninstall: numpy\r\n",
      "    Found existing installation: numpy 1.23.3\r\n",
      "    Uninstalling numpy-1.23.3:\r\n",
      "      Successfully uninstalled numpy-1.23.3\r\n",
      "\u001B[31mERROR: pip's dependency resolver does not currently take into account all the packages that are installed. This behaviour is the source of the following dependency conflicts.\r\n",
      "mediapipe 0.9.3.0 requires flatbuffers>=2.0, but you have flatbuffers 1.12 which is incompatible.\r\n",
      "tensorboard 2.9.1 requires protobuf<3.20,>=3.9.2, but you have protobuf 3.20.3 which is incompatible.\r\n",
      "tensorflow 2.17.0 requires flatbuffers>=24.3.25, but you have flatbuffers 1.12 which is incompatible.\r\n",
      "tensorflow 2.17.0 requires keras>=3.2.0, but you have keras 2.9.0 which is incompatible.\r\n",
      "tensorflow 2.17.0 requires numpy<2.0.0,>=1.23.5; python_version <= \"3.11\", but you have numpy 2.0.2 which is incompatible.\r\n",
      "tensorflow 2.17.0 requires tensorboard<2.18,>=2.17, but you have tensorboard 2.9.1 which is incompatible.\r\n",
      "tensorflow-macos 2.9.2 requires protobuf<3.20,>=3.9.2, but you have protobuf 3.20.3 which is incompatible.\u001B[0m\u001B[31m\r\n",
      "\u001B[0mSuccessfully installed annotated-types-0.7.0 blis-1.0.1 catalogue-2.0.10 cloudpathlib-0.20.0 confection-0.1.5 cymem-2.0.8 html5lib-modern-1.2 isodate-0.7.2 langcodes-3.4.1 language-data-1.2.0 marisa-trie-1.2.1 murmurhash-1.0.10 numpy-2.0.2 preshed-3.0.9 pydantic-2.9.2 pydantic-core-2.23.4 rdflib-7.1.0 shellingham-1.5.4 smart-open-7.0.5 spacy-3.8.2 spacy-legacy-3.0.12 spacy-loggers-1.0.5 srsly-2.4.8 thinc-8.3.2 typer-0.12.5 wasabi-1.1.3 weasel-0.4.1\r\n",
      "\r\n",
      "\u001B[1m[\u001B[0m\u001B[34;49mnotice\u001B[0m\u001B[1;39;49m]\u001B[0m\u001B[39;49m A new release of pip is available: \u001B[0m\u001B[31;49m23.2.1\u001B[0m\u001B[39;49m -> \u001B[0m\u001B[32;49m24.2\u001B[0m\r\n",
      "\u001B[1m[\u001B[0m\u001B[34;49mnotice\u001B[0m\u001B[1;39;49m]\u001B[0m\u001B[39;49m To update, run: \u001B[0m\u001B[32;49mpip install --upgrade pip\u001B[0m\r\n",
      "/Users/jainilpatel/PycharmProjects/Exercise-Correction/.venv/lib/python3.9/site-packages/urllib3/__init__.py:35: NotOpenSSLWarning: urllib3 v2 only supports OpenSSL 1.1.1+, currently the 'ssl' module is compiled with 'LibreSSL 2.8.3'. See: https://github.com/urllib3/urllib3/issues/3020\r\n",
      "  warnings.warn(\r\n",
      "Collecting en-core-web-sm==3.8.0\r\n",
      "  Downloading https://github.com/explosion/spacy-models/releases/download/en_core_web_sm-3.8.0/en_core_web_sm-3.8.0-py3-none-any.whl (12.8 MB)\r\n",
      "\u001B[2K     \u001B[90m━━━━━━━━━━━━━━━━━━━━━━━━━━━━━━━━━━━━━━━━\u001B[0m \u001B[32m12.8/12.8 MB\u001B[0m \u001B[31m44.9 MB/s\u001B[0m eta \u001B[36m0:00:00\u001B[0m00:01\u001B[0m00:01\u001B[0m\r\n",
      "\u001B[?25hInstalling collected packages: en-core-web-sm\r\n",
      "Successfully installed en-core-web-sm-3.8.0\r\n",
      "\r\n",
      "\u001B[1m[\u001B[0m\u001B[34;49mnotice\u001B[0m\u001B[1;39;49m]\u001B[0m\u001B[39;49m A new release of pip is available: \u001B[0m\u001B[31;49m23.2.1\u001B[0m\u001B[39;49m -> \u001B[0m\u001B[32;49m24.2\u001B[0m\r\n",
      "\u001B[1m[\u001B[0m\u001B[34;49mnotice\u001B[0m\u001B[1;39;49m]\u001B[0m\u001B[39;49m To update, run: \u001B[0m\u001B[32;49mpip install --upgrade pip\u001B[0m\r\n",
      "\u001B[38;5;2m✔ Download and installation successful\u001B[0m\r\n",
      "You can now load the package via spacy.load('en_core_web_sm')\r\n"
     ]
    }
   ],
   "execution_count": 2
  },
  {
   "cell_type": "code",
   "id": "Dsh5-9DhqC-_",
   "metadata": {
    "id": "Dsh5-9DhqC-_",
    "ExecuteTime": {
     "end_time": "2024-10-21T23:48:46.226493Z",
     "start_time": "2024-10-21T23:48:41.127364Z"
    }
   },
   "source": [
    "from transformers import pipeline\n",
    "from rdflib import Graph, URIRef, Literal, Namespace\n",
    "import spacy"
   ],
   "outputs": [
    {
     "name": "stderr",
     "output_type": "stream",
     "text": [
      "/Users/jainilpatel/PycharmProjects/Exercise-Correction/.venv/lib/python3.9/site-packages/urllib3/__init__.py:35: NotOpenSSLWarning: urllib3 v2 only supports OpenSSL 1.1.1+, currently the 'ssl' module is compiled with 'LibreSSL 2.8.3'. See: https://github.com/urllib3/urllib3/issues/3020\n",
      "  warnings.warn(\n"
     ]
    }
   ],
   "execution_count": 3
  },
  {
   "cell_type": "code",
   "id": "DiauuVilcuBW",
   "metadata": {
    "id": "DiauuVilcuBW",
    "ExecuteTime": {
     "end_time": "2024-10-21T23:48:55.540143Z",
     "start_time": "2024-10-21T23:48:55.472666Z"
    }
   },
   "source": [
    "from rdflib import Graph, Namespace, URIRef, Literal\n",
    "from faker import Faker\n",
    "import random\n",
    "\n",
    "# Initialize the Faker generator\n",
    "fake = Faker()\n",
    "\n",
    "# Initialize RDF graph and define namespaces\n",
    "g = Graph()\n",
    "pain_mesh = Namespace(\"pain\")\n",
    "exercise = Namespace(\"exercise\")\n",
    "person_name = Namespace(\"name\")\n",
    "reps = Namespace(\"reps\")\n",
    "sets = Namespace(\"sets\")\n"
   ],
   "outputs": [],
   "execution_count": 4
  },
  {
   "cell_type": "code",
   "id": "A3IpN-zyv46N",
   "metadata": {
    "colab": {
     "base_uri": "https://localhost:8080/"
    },
    "id": "A3IpN-zyv46N",
    "outputId": "53812bed-6101-4031-c70f-faaf7a131dec",
    "ExecuteTime": {
     "end_time": "2024-10-21T23:49:00.675176Z",
     "start_time": "2024-10-21T23:49:00.666181Z"
    }
   },
   "source": [
    "# Cardio exercises\n",
    "cardio_exercises = [\n",
    "    \"Running\", \"Treadmill workouts\", \"Cycling (stationary bike)\", \"Jump rope\", \"Rowing machine\",\n",
    "    \"Elliptical machine workouts\", \"Stair climbing\", \"High-Intensity Interval Training (HIIT)\",\n",
    "    \"Aerobics\", \"Swimming\", \"Spinning\", \"Mountain climbers\", \"Burpees\", \"Sprints\", \"Jumping jacks\",\n",
    "    \"Battle ropes\", \"Shadowboxing\"\n",
    "]\n",
    "\n",
    "# Strength training exercises (Weight lifting)\n",
    "strength_training_exercises = [\n",
    "    \"Bench press\", \"Barbell squats\", \"Deadlifts\", \"Overhead press\", \"Dumbbell curls\", \"Tricep dips\",\n",
    "    \"Dumbbell rows\", \"Chest fly\", \"Lat pulldowns\", \"Leg press\", \"Bicep curls\", \"Arnold press\",\n",
    "    \"Incline bench press\", \"Hammer curls\", \"Lateral raises\", \"Shrugs\", \"Cable crossovers\",\n",
    "    \"Romanian deadlift\", \"Kettlebell swings\", \"Clean and press\", \"Trap bar deadlifts\", \"Seated rows\",\n",
    "    \"Sumo deadlifts\", \"Front squats\", \"Glute bridges\", \"Reverse lunges\", \"Bulgarian split squats\",\n",
    "    \"Hex bar deadlifts\"\n",
    "]\n",
    "\n",
    "# Bodyweight exercises\n",
    "bodyweight_exercises = [\n",
    "    \"Push-ups\", \"Pull-ups\", \"Chin-ups\", \"Bodyweight squats\", \"Lunges\", \"Planks\", \"Side planks\",\n",
    "    \"Burpees\", \"Dips\", \"Jump squats\", \"Mountain climbers\", \"Russian twists\", \"Jump lunges\",\n",
    "    \"Box jumps\", \"Step-ups\", \"Inchworms\", \"Superman exercise\", \"Wall sits\", \"Bear crawls\",\n",
    "    \"Crab walks\"\n",
    "]\n",
    "\n",
    "# Core exercises (Abdominal/Obliques)\n",
    "core_exercises = [\n",
    "    \"Sit-ups\", \"Crunches\", \"Leg raises\", \"Bicycle crunches\", \"Russian twists\", \"Hanging leg raises\",\n",
    "    \"Flutter kicks\", \"Side planks with leg raises\", \"Mountain climbers\", \"Ab wheel rollouts\",\n",
    "    \"Reverse crunches\", \"V-ups\", \"Hollow body hold\", \"Cable crunches\", \"Medicine ball twists\",\n",
    "    \"Toe touches\", \"Hanging knee raises\", \"Plank to push-up\", \"L-sits\"\n",
    "]\n",
    "\n",
    "# Lower body exercises\n",
    "lower_body_exercises = [\n",
    "    \"Squats\", \"Deadlifts\", \"Lunges\", \"Leg press\", \"Calf raises\", \"Bulgarian split squats\",\n",
    "    \"Glute bridges\", \"Step-ups\", \"Hamstring curls\", \"Hip thrusts\", \"Lateral lunges\",\n",
    "    \"Donkey kicks\", \"Single-leg deadlifts\", \"Sissy squats\", \"Cable kickbacks\", \"Pistol squats\",\n",
    "    \"Box step-ups\", \"Frog jumps\"\n",
    "]\n",
    "\n",
    "# Upper body exercises\n",
    "upper_body_exercises = [\n",
    "    \"Bench press\", \"Push-ups\", \"Overhead press\", \"Dumbbell rows\", \"Pull-ups\", \"Chin-ups\",\n",
    "    \"Dips\", \"Chest fly\", \"Tricep extensions\", \"Bicep curls\", \"Cable rows\", \"Lateral raises\",\n",
    "    \"Shrugs\", \"Pec deck machine\", \"Arnold press\", \"Chest dips\", \"Hammer curls\", \"Bent-over rows\",\n",
    "    \"Face pulls\"\n",
    "]\n",
    "\n",
    "# Flexibility and mobility exercises\n",
    "flexibility_mobility_exercises = [\n",
    "    \"Yoga poses\", \"Stretching exercises\", \"Dynamic stretches\", \"Foam rolling\", \"Hip flexor stretches\",\n",
    "    \"Thoracic spine mobility drills\", \"Ankle mobility drills\", \"Pigeon pose\", \"Cat-cow stretch\",\n",
    "    \"Shoulder dislocates\"\n",
    "]\n",
    "\n",
    "# Plyometric exercises (Explosive movements)\n",
    "plyometric_exercises = [\n",
    "    \"Box jumps\", \"Jump squats\", \"Plyo push-ups\", \"Jump lunges\", \"Depth jumps\", \"Burpees\",\n",
    "    \"Lateral jumps\", \"Tuck jumps\", \"Clap push-ups\", \"Broad jumps\", \"Skater jumps\", \"Single-leg hops\"\n",
    "]\n",
    "\n",
    "# Kettlebell exercises\n",
    "kettlebell_exercises = [\n",
    "    \"Kettlebell swings\", \"Kettlebell clean and press\", \"Kettlebell snatches\", \"Kettlebell goblet squats\",\n",
    "    \"Turkish get-ups\", \"Kettlebell deadlifts\", \"Kettlebell thrusters\", \"Kettlebell lunges\",\n",
    "    \"Kettlebell Russian twists\", \"Kettlebell figure-8\"\n",
    "]\n",
    "\n",
    "# Functional training exercises\n",
    "functional_training_exercises = [\n",
    "    \"Farmer's carry\", \"Medicine ball slams\", \"Sandbag training\", \"Tire flips\", \"Sledgehammer slams\",\n",
    "    \"Battle rope exercises\", \"Bear hug squats\", \"Medicine ball wall throws\"\n",
    "]\n",
    "\n",
    "# Combining all the exercises into a master list\n",
    "all_exercises = (cardio_exercises + strength_training_exercises + bodyweight_exercises + core_exercises +\n",
    "                 lower_body_exercises + upper_body_exercises + flexibility_mobility_exercises +\n",
    "                 plyometric_exercises + kettlebell_exercises + functional_training_exercises)\n",
    "\n",
    "# Print the total number of exercises\n",
    "print(f\"Total exercises listed: {len(all_exercises)}\")\n"
   ],
   "outputs": [
    {
     "name": "stdout",
     "output_type": "stream",
     "text": [
      "Total exercises listed: 161\n"
     ]
    }
   ],
   "execution_count": 5
  },
  {
   "cell_type": "code",
   "id": "0I3V5yo3qDJO",
   "metadata": {
    "id": "0I3V5yo3qDJO",
    "ExecuteTime": {
     "end_time": "2024-10-21T23:49:08.472841Z",
     "start_time": "2024-10-21T23:49:02.390627Z"
    }
   },
   "source": [
    "# Example arrays for exercises\n",
    "before_exercises = all_exercises\n",
    "\n",
    "after_exercises = all_exercises\n",
    "\n",
    "# Generate random entries\n",
    "num_entries = 50000  # Specify how many entries you want\n",
    "for _ in range(num_entries):\n",
    "    person_name_variable = fake.name()\n",
    "    body_pain_area = random.choice([\"Lower back\", \"Upper back\", \"Knees\", \"Shoulders\", \"Neck\"])\n",
    "    john = URIRef(person_name[person_name_variable.replace(\" \", \"_\")])  # Replace spaces in name with underscores\n",
    "    g.add((john, pain_mesh['Pain'], Literal(body_pain_area + \" pain\")))\n",
    "    g.add((john, exercise['PreviousExercise'], Literal(random.choice(before_exercises))))\n",
    "    g.add((john, exercise['RecommendedExercise'], Literal(random.choice(after_exercises))))\n",
    "    g.add((john, sets['Sets'], Literal(random.randint(1, 15))))\n",
    "    g.add((john, reps['Reps'], Literal(random.randint(1, 15))))\n",
    "\n"
   ],
   "outputs": [],
   "execution_count": 6
  },
  {
   "cell_type": "code",
   "execution_count": null,
   "id": "o4yX2rAQzgbM",
   "metadata": {
    "colab": {
     "base_uri": "https://localhost:8080/",
     "height": 516
    },
    "id": "o4yX2rAQzgbM",
    "outputId": "0089b908-7f70-412b-ba78-edb68ab927fa"
   },
   "outputs": [
    {
     "data": {
      "image/png": "[encoded data removed]",
      "text/plain": [
       "<Figure size 640x480 with 1 Axes>"
      ]
     },
     "metadata": {},
     "output_type": "display_data"
    }
   ],
   "source": [
    "import networkx as nx\n",
    "import matplotlib.pyplot as plt\n",
    "from rdflib import Graph\n",
    "\n",
    "# Add your RDF data here...\n",
    "\n",
    "# Create a NetworkX graph\n",
    "G = nx.Graph()\n",
    "\n",
    "# Add nodes and edges from the RDF graph\n",
    "for s, p, o in g:\n",
    "    G.add_node(str(s))\n",
    "    G.add_node(str(o))\n",
    "    G.add_edge(str(s), str(o), label=str(p))\n",
    "\n",
    "# Draw the graph\n",
    "pos = nx.spring_layout(G)\n",
    "nx.draw(G, pos, with_labels=True, node_size=2000, node_color='lightblue')\n",
    "labels = nx.get_edge_attributes(G, 'label')\n",
    "nx.draw_networkx_edge_labels(G, pos, edge_labels=labels)\n",
    "plt.show()\n"
   ]
  },
  {
   "cell_type": "code",
   "id": "MyOm9Okbaght",
   "metadata": {
    "id": "MyOm9Okbaght",
    "ExecuteTime": {
     "end_time": "2024-10-21T23:49:18.908700Z",
     "start_time": "2024-10-21T23:49:18.811287Z"
    }
   },
   "source": [
    "from rdflib import Graph, Namespace, URIRef, Literal\n",
    "from faker import Faker\n",
    "import random\n",
    "import pandas as pd\n",
    "from sklearn.tree import DecisionTreeClassifier\n",
    "from sklearn.model_selection import train_test_split\n",
    "from sklearn import preprocessing\n"
   ],
   "outputs": [],
   "execution_count": 7
  },
  {
   "cell_type": "code",
   "id": "Eff1iNwCatov",
   "metadata": {
    "id": "Eff1iNwCatov",
    "ExecuteTime": {
     "end_time": "2024-10-21T23:49:19.610807Z",
     "start_time": "2024-10-21T23:49:19.171283Z"
    }
   },
   "source": [
    "# Extract data from the knowledge graph and convert it to a usable format\n",
    "data = []\n",
    "previous_ex = None\n",
    "pain_area = None\n",
    "recommended_ex = None\n",
    "sets_sample = None\n",
    "reps_sample = None\n",
    "for subj, pred, obj in g:\n",
    "    # Subject is predicate of object.\n",
    "    # Extract data for each person\n",
    "    if 'Pain' in pred:\n",
    "        person = str(subj).split(\"/\")[-1].replace(\"_\", \" \")\n",
    "        pain_area = str(obj)\n",
    "        previous_ex = None\n",
    "        recommended_ex = None\n",
    "    if 'PreviousExercise' in pred:\n",
    "        previous_ex = str(obj)\n",
    "    if 'RecommendedExercise' in pred:\n",
    "        recommended_ex = str(obj)\n",
    "    if 'Sets' in pred:\n",
    "        sets_sample = str(obj)\n",
    "    if \"Reps\" in pred:\n",
    "        reps_sample = str(obj)\n",
    "\n",
    "    if previous_ex and pain_area and recommended_ex and sets_sample and reps_sample:\n",
    "        data.append([pain_area, previous_ex, recommended_ex, sets_sample, reps_sample])\n",
    "\n",
    "\n",
    "\n",
    "# Convert the data to a DataFrame for machine learning\n",
    "df = pd.DataFrame(data, columns=['Pain Area', 'Previous Exercise', 'Recommended Exercise', \"Sets\", \"Reps\"])\n",
    "\n",
    "# Drop duplicates based on 'Pain Area', 'Previous Exercise', and 'Recommended Exercise'\n",
    "df = df.drop_duplicates(subset=['Pain Area', 'Previous Exercise', 'Recommended Exercise'])\n"
   ],
   "outputs": [],
   "execution_count": 8
  },
  {
   "cell_type": "code",
   "id": "iz7rUQR7d_d2",
   "metadata": {
    "colab": {
     "base_uri": "https://localhost:8080/"
    },
    "id": "iz7rUQR7d_d2",
    "outputId": "2ef85118-8f7d-481e-f49e-60d30b9d051f",
    "ExecuteTime": {
     "end_time": "2024-10-21T23:49:20.975519Z",
     "start_time": "2024-10-21T23:49:20.970623Z"
    }
   },
   "source": [
    "df.shape"
   ],
   "outputs": [
    {
     "data": {
      "text/plain": [
       "(36613, 5)"
      ]
     },
     "execution_count": 9,
     "metadata": {},
     "output_type": "execute_result"
    }
   ],
   "execution_count": 9
  },
  {
   "cell_type": "code",
   "id": "ezFfh0zSnF4A",
   "metadata": {
    "colab": {
     "base_uri": "https://localhost:8080/",
     "height": 419
    },
    "id": "ezFfh0zSnF4A",
    "outputId": "f513e1d4-2259-4d0e-99d9-19995e121e55",
    "ExecuteTime": {
     "end_time": "2024-10-21T23:49:23.381541Z",
     "start_time": "2024-10-21T23:49:23.374991Z"
    }
   },
   "source": [
    "df"
   ],
   "outputs": [
    {
     "data": {
      "text/plain": [
       "             Pain Area    Previous Exercise Recommended Exercise Sets Reps\n",
       "0      Upper back pain    Kettlebell lunges         Sissy squats   11    5\n",
       "1      Upper back pain       Stair climbing         Sissy squats   11    5\n",
       "2      Upper back pain       Stair climbing       Lateral lunges   11    5\n",
       "4      Upper back pain        Jumping jacks       Lateral lunges    1    5\n",
       "5      Upper back pain          Hip thrusts       Lateral lunges    1    5\n",
       "...                ...                  ...                  ...  ...  ...\n",
       "85213       Knees pain    Mountain climbers          Seated rows    6    8\n",
       "85218       Knees pain    Mountain climbers        Plyo push-ups   10    2\n",
       "85226  Lower back pain       Reverse lunges     Pec deck machine   12    7\n",
       "85229  Upper back pain  Kettlebell snatches               Shrugs    9    4\n",
       "85235  Upper back pain           Frog jumps              Sit-ups   12    4\n",
       "\n",
       "[36613 rows x 5 columns]"
      ],
      "text/html": [
       "<div>\n",
       "<style scoped>\n",
       "    .dataframe tbody tr th:only-of-type {\n",
       "        vertical-align: middle;\n",
       "    }\n",
       "\n",
       "    .dataframe tbody tr th {\n",
       "        vertical-align: top;\n",
       "    }\n",
       "\n",
       "    .dataframe thead th {\n",
       "        text-align: right;\n",
       "    }\n",
       "</style>\n",
       "<table border=\"1\" class=\"dataframe\">\n",
       "  <thead>\n",
       "    <tr style=\"text-align: right;\">\n",
       "      <th></th>\n",
       "      <th>Pain Area</th>\n",
       "      <th>Previous Exercise</th>\n",
       "      <th>Recommended Exercise</th>\n",
       "      <th>Sets</th>\n",
       "      <th>Reps</th>\n",
       "    </tr>\n",
       "  </thead>\n",
       "  <tbody>\n",
       "    <tr>\n",
       "      <th>0</th>\n",
       "      <td>Upper back pain</td>\n",
       "      <td>Kettlebell lunges</td>\n",
       "      <td>Sissy squats</td>\n",
       "      <td>11</td>\n",
       "      <td>5</td>\n",
       "    </tr>\n",
       "    <tr>\n",
       "      <th>1</th>\n",
       "      <td>Upper back pain</td>\n",
       "      <td>Stair climbing</td>\n",
       "      <td>Sissy squats</td>\n",
       "      <td>11</td>\n",
       "      <td>5</td>\n",
       "    </tr>\n",
       "    <tr>\n",
       "      <th>2</th>\n",
       "      <td>Upper back pain</td>\n",
       "      <td>Stair climbing</td>\n",
       "      <td>Lateral lunges</td>\n",
       "      <td>11</td>\n",
       "      <td>5</td>\n",
       "    </tr>\n",
       "    <tr>\n",
       "      <th>4</th>\n",
       "      <td>Upper back pain</td>\n",
       "      <td>Jumping jacks</td>\n",
       "      <td>Lateral lunges</td>\n",
       "      <td>1</td>\n",
       "      <td>5</td>\n",
       "    </tr>\n",
       "    <tr>\n",
       "      <th>5</th>\n",
       "      <td>Upper back pain</td>\n",
       "      <td>Hip thrusts</td>\n",
       "      <td>Lateral lunges</td>\n",
       "      <td>1</td>\n",
       "      <td>5</td>\n",
       "    </tr>\n",
       "    <tr>\n",
       "      <th>...</th>\n",
       "      <td>...</td>\n",
       "      <td>...</td>\n",
       "      <td>...</td>\n",
       "      <td>...</td>\n",
       "      <td>...</td>\n",
       "    </tr>\n",
       "    <tr>\n",
       "      <th>85213</th>\n",
       "      <td>Knees pain</td>\n",
       "      <td>Mountain climbers</td>\n",
       "      <td>Seated rows</td>\n",
       "      <td>6</td>\n",
       "      <td>8</td>\n",
       "    </tr>\n",
       "    <tr>\n",
       "      <th>85218</th>\n",
       "      <td>Knees pain</td>\n",
       "      <td>Mountain climbers</td>\n",
       "      <td>Plyo push-ups</td>\n",
       "      <td>10</td>\n",
       "      <td>2</td>\n",
       "    </tr>\n",
       "    <tr>\n",
       "      <th>85226</th>\n",
       "      <td>Lower back pain</td>\n",
       "      <td>Reverse lunges</td>\n",
       "      <td>Pec deck machine</td>\n",
       "      <td>12</td>\n",
       "      <td>7</td>\n",
       "    </tr>\n",
       "    <tr>\n",
       "      <th>85229</th>\n",
       "      <td>Upper back pain</td>\n",
       "      <td>Kettlebell snatches</td>\n",
       "      <td>Shrugs</td>\n",
       "      <td>9</td>\n",
       "      <td>4</td>\n",
       "    </tr>\n",
       "    <tr>\n",
       "      <th>85235</th>\n",
       "      <td>Upper back pain</td>\n",
       "      <td>Frog jumps</td>\n",
       "      <td>Sit-ups</td>\n",
       "      <td>12</td>\n",
       "      <td>4</td>\n",
       "    </tr>\n",
       "  </tbody>\n",
       "</table>\n",
       "<p>36613 rows × 5 columns</p>\n",
       "</div>"
      ]
     },
     "execution_count": 10,
     "metadata": {},
     "output_type": "execute_result"
    }
   ],
   "execution_count": 10
  },
  {
   "cell_type": "code",
   "id": "y1tH_CU6bW6j",
   "metadata": {
    "colab": {
     "base_uri": "https://localhost:8080/"
    },
    "id": "y1tH_CU6bW6j",
    "outputId": "655e1a08-b603-45dc-a4a4-84a9c76d6ce7",
    "ExecuteTime": {
     "end_time": "2024-10-21T23:49:38.730876Z",
     "start_time": "2024-10-21T23:49:38.588325Z"
    }
   },
   "source": [
    "# Encode categorical data for decision tree\n",
    "le = preprocessing.LabelEncoder()\n",
    "df['Pain Area'] = le.fit_transform(df['Pain Area'])\n",
    "df['Previous Exercise'] = le.fit_transform(df['Previous Exercise'])\n",
    "df['Recommended Exercise'] = le.fit_transform(df['Recommended Exercise'])\n",
    "\n",
    "\n",
    "# Split the data into features and target variable\n",
    "X = df[['Pain Area', 'Previous Exercise', \"Sets\", \"Reps\"]]\n",
    "y = df['Recommended Exercise']\n",
    "\n",
    "# Split the dataset into training and test sets\n",
    "X_train, X_test, y_train, y_test = train_test_split(X, y, test_size=0.1)\n",
    "\n",
    "# Initialize and train the decision tree classifier\n",
    "clf = DecisionTreeClassifier()\n",
    "clf.fit(X_train, y_train)\n",
    "print(\"We created the model. \")"
   ],
   "outputs": [
    {
     "name": "stdout",
     "output_type": "stream",
     "text": [
      "We created the model. \n"
     ]
    }
   ],
   "execution_count": 11
  },
  {
   "cell_type": "code",
   "id": "-sqHD1kObhdH",
   "metadata": {
    "colab": {
     "base_uri": "https://localhost:8080/"
    },
    "id": "-sqHD1kObhdH",
    "outputId": "da2457e6-0798-4b23-a3c2-c2b6c9de130b",
    "ExecuteTime": {
     "end_time": "2024-10-21T23:49:43.968731Z",
     "start_time": "2024-10-21T23:49:43.942444Z"
    }
   },
   "source": [
    "# Test the model\n",
    "accuracy = clf.score(X_test, y_test)\n",
    "print(f\"Model Accuracy: {accuracy * 100:.2f}%\")\n",
    "\n",
    "# Predicting a recommended exercise for new data\n",
    "new_data = [[0, 1, 3, 4]]  # Example: 0 = 'Lower back pain', 1 = 'Stretching exercises'\n",
    "predicted_exercise = clf.predict(new_data)\n",
    "predicted_exercise_decoded = le.inverse_transform([predicted_exercise[0]])\n",
    "print(f\"Predicted Recommended Exercise: {predicted_exercise_decoded[0]}\")"
   ],
   "outputs": [
    {
     "name": "stdout",
     "output_type": "stream",
     "text": [
      "Model Accuracy: 1.28%\n",
      "Predicted Recommended Exercise: Sumo deadlifts\n"
     ]
    },
    {
     "name": "stderr",
     "output_type": "stream",
     "text": [
      "/Users/jainilpatel/PycharmProjects/Exercise-Correction/.venv/lib/python3.9/site-packages/sklearn/base.py:450: UserWarning: X does not have valid feature names, but DecisionTreeClassifier was fitted with feature names\n",
      "  warnings.warn(\n"
     ]
    }
   ],
   "execution_count": 12
  },
  {
   "metadata": {
    "ExecuteTime": {
     "end_time": "2024-10-22T00:08:30.258367Z",
     "start_time": "2024-10-22T00:08:30.175596Z"
    }
   },
   "cell_type": "code",
   "source": [
    "import joblib\n",
    "\n",
    "# Save the trained model\n",
    "joblib.dump(clf, './decision_model/exercise_model.pkl')\n",
    "\n",
    "# Save the label encoder\n",
    "joblib.dump(le, './decision_model/label_encoder.pkl')\n",
    "\n",
    "print(\"Model and label encoder saved successfully.\")\n"
   ],
   "id": "2758aa2a77d1a827",
   "outputs": [
    {
     "name": "stdout",
     "output_type": "stream",
     "text": [
      "Model and label encoder saved successfully.\n"
     ]
    }
   ],
   "execution_count": 15
  },
  {
   "metadata": {},
   "cell_type": "code",
   "outputs": [],
   "execution_count": null,
   "source": "",
   "id": "8b2c0c7bd90ebb21"
  }
 ],
 "metadata": {
  "colab": {
   "provenance": []
  },
  "kernelspec": {
   "display_name": "Python 3 (ipykernel)",
   "name": "python3",
   "language": "python"
  },
  "language_info": {
   "name": "python"
  }
 },
 "nbformat": 4,
 "nbformat_minor": 5
}
